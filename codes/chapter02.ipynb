{
 "cells": [
  {
   "cell_type": "markdown",
   "id": "69999cd8",
   "metadata": {},
   "source": [
    "## Numerical Analysis - Fall semester 2024\n",
    "# Chapter 2 - Scripts"
   ]
  },
  {
   "cell_type": "markdown",
   "id": "512f2c8d",
   "metadata": {},
   "source": [
    "`ch2_viscosity.py`"
   ]
  },
  {
   "cell_type": "code",
   "execution_count": null,
   "id": "59d7245f-1316-4610-ad10-ee08ddc9f3cc",
   "metadata": {},
   "outputs": [],
   "source": [
    "import numpy as np\n",
    "\n",
    "T = [10, 20, 30, 40, 50, 60, 70, 80, 90, 100]\n",
    "nu = [1.308, 1.002, 0.7978, 0.6531, 0.5471, 0.4658, 0.4044,\n",
    "      0.3550, 0.3150, 0.2822]\n",
    "p_coef = np.polyfit(T, nu, 9)\n",
    "print(\"p_coef:\", p_coef)"
   ]
  },
  {
   "cell_type": "markdown",
   "id": "1039cc51",
   "metadata": {},
   "source": [
    "`ch2_viscosity2.py`"
   ]
  },
  {
   "cell_type": "code",
   "execution_count": null,
   "id": "6c10c609-768e-44c0-8a65-74dda9480c27",
   "metadata": {},
   "outputs": [],
   "source": [
    "import matplotlib.pyplot as plt\n",
    "\n",
    "T_fine = np.arange(10, 100.1, 0.1)  # fine grid for visualization\n",
    "p = np.polyval(p_coef, T_fine)  # evaluation of polynomial in T_fine\n",
    "plt.plot(T_fine, p, \"b\")\n",
    "plt.plot(T, nu, \"r*\")"
   ]
  },
  {
   "cell_type": "markdown",
   "id": "cf9c37c9",
   "metadata": {},
   "source": [
    "`ch2_interp_lin_ex.py`"
   ]
  },
  {
   "cell_type": "code",
   "execution_count": null,
   "id": "3ed4f16d-4ad3-471c-b600-b8f86ed4df48",
   "metadata": {},
   "outputs": [],
   "source": [
    "import numpy as np\n",
    "import matplotlib.pyplot as plt\n",
    "\n",
    "f = lambda x: 1.0 / (1 + (5 * x) ** 2)\n",
    "n = 8\n",
    "x = np.linspace(-1, 1, n + 1)  # interpolation nodes\n",
    "y = f(x)\n",
    "# measures\n",
    "xfine = np.linspace(-1, 1, 201)  # fine grid\n",
    "p1h = np.interp(xfine, x, y)  # evaluation of p1h on fine grid\n",
    "plt.plot(xfine, p1h, \"b\")\n",
    "plt.plot(xfine, f(xfine), \"k--\")\n",
    "plt.legend([\"p1h, n=8\", \"f(x)\", \"data\"])"
   ]
  },
  {
   "cell_type": "markdown",
   "id": "bacb08d8",
   "metadata": {},
   "source": [
    "`ch2_interp_lin.py`"
   ]
  },
  {
   "cell_type": "code",
   "execution_count": null,
   "id": "0e27ddbf-a5d3-4df3-9798-7a569eb9ce4c",
   "metadata": {},
   "outputs": [],
   "source": [
    "import numpy as np\n",
    "\n",
    "f = lambda x: 1.0 / (1 + (5 * x) ** 2)\n",
    "xfine = np.linspace(-1, 1, 201)  # fine grid\n",
    "err = np.array([])\n",
    "h = np.array([])\n",
    "for n in 2 ** np.arange(4, 9):\n",
    "    h = np.append(h, 2.0 / n)\n",
    "    x = np.linspace(-1, 1, n + 1)  # interpolation nodes\n",
    "    y = f(x)  # measures\n",
    "    p1h = np.interp(xfine, x, y)  # evaluation of p1h on fine grid\n",
    "    err = np.append(err, max(abs(f(xfine) - p1h)))\n",
    "print(\"h: \", h)\n",
    "print(\"err: \", err)"
   ]
  },
  {
   "cell_type": "markdown",
   "id": "a99671f1",
   "metadata": {},
   "source": [
    "`ch2_interp_lin2.py`"
   ]
  },
  {
   "cell_type": "code",
   "execution_count": null,
   "id": "4953d21c-bf24-48cc-b1eb-7a18627eaa1d",
   "metadata": {},
   "outputs": [],
   "source": [
    "import matplotlib.pyplot as plt\n",
    "\n",
    "plt.loglog(h, err, \"b\")\n",
    "plt.loglog(h, h, \"k--\")\n",
    "plt.loglog(h, h**2, \"k-.\")\n",
    "plt.grid(True)\n",
    "plt.legend([\"err_h\", \"slope 1\", \"slope 2\"])"
   ]
  },
  {
   "cell_type": "markdown",
   "id": "c5a8d236",
   "metadata": {},
   "source": [
    "`ch2_spline.py`"
   ]
  },
  {
   "cell_type": "code",
   "execution_count": null,
   "id": "dafdf2c4-9c2e-4577-b30b-f1e6f71b9e0a",
   "metadata": {},
   "outputs": [],
   "source": [
    "import numpy as np\n",
    "from scipy.interpolate import CubicSpline\n",
    "\n",
    "f = lambda x: 1.0 / (1 + (5 * x) ** 2)\n",
    "xfine = np.linspace(-1, 1, 201)  # fine grid\n",
    "err = np.array([])\n",
    "h = np.array([])\n",
    "for n in 2 ** np.arange(4, 9):\n",
    "    h = np.append(h, 2.0 / n)\n",
    "    x = np.linspace(-1, 1, n + 1)  # interpolation nodes\n",
    "    y = f(x)  # measurements\n",
    "    s3h = CubicSpline(x, y)  # defines cubic spline s3h\n",
    "    err = np.append(err, max(abs(f(xfine) - s3h(xfine))))\n",
    "\n",
    "print(\"h: \", h)\n",
    "print(\"err: \", err)"
   ]
  },
  {
   "cell_type": "markdown",
   "id": "2c9ffacc",
   "metadata": {},
   "source": [
    "`ch2_spline2.py`"
   ]
  },
  {
   "cell_type": "code",
   "execution_count": null,
   "id": "1dca3a4a",
   "metadata": {},
   "outputs": [],
   "source": [
    "import matplotlib.pyplot as plt\n",
    "\n",
    "plt.loglog(h, err, \"b\")\n",
    "plt.loglog(h, h**4, \"k--\")\n",
    "plt.grid(True)\n",
    "plt.legend([\"err_h\", \"slope 4\"])"
   ]
  },
  {
   "cell_type": "markdown",
   "id": "b0aa58c2",
   "metadata": {},
   "source": [
    "`ch2_least_squares.py`"
   ]
  },
  {
   "cell_type": "code",
   "execution_count": null,
   "id": "0cc422f5",
   "metadata": {},
   "outputs": [],
   "source": [
    "import numpy as np\n",
    "import matplotlib.pyplot as plt\n",
    "\n",
    "x = np.linspace(0, 35.7, 21)\n",
    "y = [0, 0.0292, 0.0609, 0.0950, 0.1327, 0.1449, 0.2062, 0.2692,\n",
    "     0.2823, 0.3613, 0.4014, 0.4454, 0.5043, 0.5122, 0.6111,\n",
    "     0.7277, 0.7392, 0.8010, 0.8329, 0.9302, 1.0116]\n",
    "xfine = np.arange(0, 35.8, 0.1)\n",
    "pcoef = np.polyfit(x, y, 15)\n",
    "p = np.polyval(pcoef, xfine)\n",
    "plt.plot(xfine, p, \"b-\")\n",
    "plt.plot(x, y, \"r.\", linewidth=2, markersize=15)\n",
    "plt.legend([\"pol. least squares m=15\", \"data\"])"
   ]
  }
 ],
 "metadata": {
  "kernelspec": {
   "display_name": "Python 3 (ipykernel)",
   "language": "python",
   "name": "python3"
  },
  "language_info": {
   "codemirror_mode": {
    "name": "ipython",
    "version": 3
   },
   "file_extension": ".py",
   "mimetype": "text/x-python",
   "name": "python",
   "nbconvert_exporter": "python",
   "pygments_lexer": "ipython3",
   "version": "3.9.6"
  }
 },
 "nbformat": 4,
 "nbformat_minor": 5
}
