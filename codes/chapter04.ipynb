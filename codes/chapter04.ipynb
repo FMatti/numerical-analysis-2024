{
 "cells": [
  {
   "cell_type": "markdown",
   "id": "05d9d5c9",
   "metadata": {},
   "source": [
    "## Numerical Analysis - Fall semester 2024\n",
    "# Chapter 4 - Scripts"
   ]
  },
  {
   "cell_type": "markdown",
   "id": "f2a85522",
   "metadata": {},
   "source": [
    "`ch4_1.py`"
   ]
  },
  {
   "cell_type": "code",
   "execution_count": null,
   "id": "d6422940",
   "metadata": {},
   "outputs": [],
   "source": [
    "import numpy as np\n",
    "import scipy.linalg as sc\n",
    "\n",
    "A = np.array([[1, 2, 3], [2, 4, 5], [7, 8, 9]])\n",
    "P, L, U = sc.lu(A)\n",
    "\n",
    "print(\"L: \", L)\n",
    "print(\"U: \", U)\n",
    "print(\"P: \", P)"
   ]
  },
  {
   "cell_type": "markdown",
   "id": "f9ea4137",
   "metadata": {},
   "source": [
    "`ch4_2.py`"
   ]
  },
  {
   "cell_type": "code",
   "execution_count": null,
   "id": "26292c8f",
   "metadata": {},
   "outputs": [],
   "source": [
    "print(\"L*U: \", np.dot(L, U))"
   ]
  },
  {
   "cell_type": "markdown",
   "id": "ebe2da5e",
   "metadata": {},
   "source": [
    "`ch4_3.py`"
   ]
  },
  {
   "cell_type": "code",
   "execution_count": null,
   "id": "210d91b4",
   "metadata": {},
   "outputs": [],
   "source": [
    "import scipy.sparse as sp\n",
    "import numpy as np\n",
    "\n",
    "A = np.array([[1, 0, 0, 5],\n",
    "              [-1, 0, 1, 0],\n",
    "              [0, 0, 3, 0], \n",
    "              [0, 1, 0, -1]])\n",
    "A = sp.csr_matrix(A)\n",
    "print(A)"
   ]
  }
 ],
 "metadata": {
  "kernelspec": {
   "display_name": "Python 3 (ipykernel)",
   "language": "python",
   "name": "python3"
  },
  "language_info": {
   "codemirror_mode": {
    "name": "ipython",
    "version": 3
   },
   "file_extension": ".py",
   "mimetype": "text/x-python",
   "name": "python",
   "nbconvert_exporter": "python",
   "pygments_lexer": "ipython3",
   "version": "3.9.6"
  }
 },
 "nbformat": 4,
 "nbformat_minor": 5
}
