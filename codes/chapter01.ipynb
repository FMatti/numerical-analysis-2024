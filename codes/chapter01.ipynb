{
 "cells": [
  {
   "cell_type": "markdown",
   "metadata": {},
   "source": [
    "## Numerical Analysis - Fall semester 2024\n",
    "# Chapter 1 - Scripts"
   ]
  },
  {
   "cell_type": "code",
   "execution_count": null,
   "metadata": {},
   "outputs": [],
   "source": [
    "import numpy as np\n",
    "import matplotlib.pyplot as plt\n",
    "\n",
    "i0 = 1\n",
    "v0 = 0.1\n",
    "R = 1\n",
    "V = 1\n",
    "f = lambda x: R * i0 * (np.exp(x / v0) - 1) + x - V\n",
    "x = np.linspace(-0.2, 0.2, 40)\n",
    "plt.plot(x, f(x), color=\"b\", linewidth=2)\n",
    "plt.plot(x, 0 * x, \"--k\", linewidth=2)\n",
    "plt.grid(True)"
   ]
  },
  {
   "cell_type": "code",
   "execution_count": null,
   "metadata": {},
   "outputs": [],
   "source": [
    "import numpy as np\n",
    "from functions import bisection\n",
    "\n",
    "i0 = 1\n",
    "v0 = 0.1\n",
    "R = 1\n",
    "V = 1\n",
    "f = lambda x: R * i0 * (np.exp(x / v0) - 1) + x - V\n",
    "zero, res, niter, inc, err = bisection(f, -0.2, 0.2, 1e-8, 10000)\n",
    "print(\"zero \" + str(zero))\n",
    "print(\"res \" + str(res))\n",
    "print(\"iterations \" + str(niter))"
   ]
  },
  {
   "cell_type": "code",
   "execution_count": null,
   "metadata": {},
   "outputs": [],
   "source": [
    "import numpy as np\n",
    "\n",
    "i0 = 1\n",
    "v0 = 0.1\n",
    "R = 1\n",
    "V = 1\n",
    "vD = 0\n",
    "for i in range(10):\n",
    "    vD = v0 * np.log((V - vD) / (R * i0) + 1)\n",
    "    # formats to 15 decimal places\n",
    "    formatted_string = \"{:.15f}\".format(vD)\n",
    "    vD = float(formatted_string)\n",
    "    print(\"vD = \" + str(vD))"
   ]
  },
  {
   "cell_type": "code",
   "execution_count": null,
   "metadata": {},
   "outputs": [],
   "source": [
    "import numpy as np\n",
    "\n",
    "i0 = 1\n",
    "v0 = 0.1\n",
    "R = 1\n",
    "V = 1\n",
    "vD = 0\n",
    "for i in range(10):\n",
    "    vD = V - R * i0 * (np.exp(vD / v0) - 1)\n",
    "    # formats to 15 decimal places\n",
    "    formatted_string = \"{:.15f}\".format(vD)\n",
    "    vD = float(formatted_string)\n",
    "    print(\"vD = \" + str(vD))"
   ]
  },
  {
   "cell_type": "code",
   "execution_count": null,
   "metadata": {},
   "outputs": [],
   "source": [
    "import numpy as np\n",
    "from functions import fixed_point\n",
    "\n",
    "phi = lambda x: x - 0.5 * (np.log(x + 1) + x - 2)\n",
    "x0 = 4\n",
    "tol = 1e-3\n",
    "nmax = 1000\n",
    "x, res, niter = fixed_point(phi, x0, tol, nmax)\n",
    "print(\"x \")\n",
    "print(x)\n",
    "print(\"res\")\n",
    "print(res)\n",
    "print(\"Number of iterations\")\n",
    "print(niter)\n",
    "# Prints ratio of res:\n",
    "print(\"Ratio of RES\")\n",
    "print(res[1:] / (res[:-1] ** 2))"
   ]
  },
  {
   "cell_type": "code",
   "execution_count": null,
   "metadata": {},
   "outputs": [],
   "source": [
    "import numpy as np\n",
    "from functions import newton\n",
    "\n",
    "i0 = 1\n",
    "v0 = 0.1\n",
    "R = 1\n",
    "V = 1\n",
    "f = lambda x: R * i0 * (np.exp(x / v0) - 1) + x - V\n",
    "df = lambda x: R * i0 * np.exp(x / v0) / v0 + 1\n",
    "x0 = 0\n",
    "zero, res, niter, inc = newton(f, df, x0, 1e-8, 100000)\n",
    "print(\"Results\")\n",
    "print(\"zero = \" + str(zero))\n",
    "print(\"residual = \" + str(res))\n",
    "print(\"number of iterations = \" + str(niter))"
   ]
  },
  {
   "cell_type": "code",
   "execution_count": null,
   "metadata": {},
   "outputs": [],
   "source": [
    "import numpy as np\n",
    "from functions import newton\n",
    "\n",
    "i0 = 1\n",
    "v0 = 0.1\n",
    "R = 1\n",
    "V = 1\n",
    "f = lambda x: R * i0 * (np.exp(x / v0) - 1) + x - V\n",
    "df = lambda x: R * i0 * np.exp(x / v0) / v0 + 1\n",
    "x0 = 0\n",
    "zero, res, niter, inc = newton(f, df, x0, 1e-8, 100000)\n",
    "print(\"convergence\")\n",
    "print(\"--------------------------------\")\n",
    "for i in range(1, 5):\n",
    "    print(\"order \" + str(i))\n",
    "    print(inc[1:] / inc[:-1] ** i)"
   ]
  },
  {
   "cell_type": "code",
   "execution_count": null,
   "metadata": {},
   "outputs": [],
   "source": [
    "import numpy as np\n",
    "import matplotlib.pyplot as plt\n",
    "\n",
    "g1 = lambda x1: (10 - x1**2) / x1\n",
    "g2 = lambda x2: (57 - x2) / (3 * x2**2)\n",
    "# plot de x2=g1(x1)\n",
    "x1 = np.linspace(1, 3, 50)\n",
    "plt.plot(x1, g1(x1), \"b\", linewidth=2)\n",
    "# plot de x1=g2(x2)\n",
    "x2 = np.linspace(1, 4.5, 50)\n",
    "plt.plot(g2(x2), x2, \"r\", linewidth=2)\n",
    "plt.legend([r\"$f_1(x_1,x_2)$\", r\"$f_2(x_1,x_2)$\"])\n",
    "plt.grid(True)\n",
    "plt.xlim([1, 4.5])"
   ]
  },
  {
   "cell_type": "code",
   "execution_count": null,
   "metadata": {},
   "outputs": [],
   "source": [
    "import numpy as np\n",
    "from functions import newtonsys\n",
    "\n",
    "f = lambda x: np.array([x[0] ** 2 + x[0] * x[1] - 10, x[1] + 3 * x[0] * x[1] ** 2 - 57])\n",
    "df = lambda x: np.array([[2 * x[0] + x[1], x[0]], [3 * x[1] ** 2, 1 + 6 * x[0] * x[1]]])\n",
    "x0 = [3, 4]\n",
    "x, inc, niter = newtonsys(f, df, x0, 1e-8, 1000)\n",
    "# OUTPUT\n",
    "print(\"x= \" + str(x[-1]))\n",
    "print(\"number of iterations \" + str(niter))\n",
    "print(\"increments=\" + str(inc))"
   ]
  },
  {
   "cell_type": "code",
   "execution_count": null,
   "metadata": {},
   "outputs": [],
   "source": [
    "import numpy as np\n",
    "from functions import newtonsys\n",
    "\n",
    "f = lambda x: np.array([x[0] ** 2 + x[0] * x[1] - 10, x[1] + 3 * x[0] * x[1] ** 2 - 57])\n",
    "df = lambda x: np.array([[2 * x[0] + x[1], x[0]], [3 * x[1] ** 2, 1 + 6 * x[0] * x[1]]])\n",
    "x0 = [3, 4]\n",
    "x, inc, niter = newtonsys(f, df, x0, 1e-8, 1000)\n",
    "# OUTPUT\n",
    "print(\"x= \" + str(x[-1]))\n",
    "print(\"number of iterations \" + str(niter))\n",
    "print(\"increments=\" + str(inc))\n",
    "print(\"ratio with p=1\")\n",
    "print(inc[1:] / inc[:-1])\n",
    "# ratio with p=1\n",
    "print(\"ratio with p=2\")\n",
    "print(inc[1:] / inc[:-1] ** 2.0)\n",
    "# ratio with p=2\n",
    "print(\"ratio with p=3\")\n",
    "print(inc[1:] / inc[:-1] ** 3.0)"
   ]
  }
 ],
 "metadata": {
  "kernelspec": {
   "display_name": "Python 3 (ipykernel)",
   "language": "python",
   "name": "python3"
  },
  "language_info": {
   "codemirror_mode": {
    "name": "ipython",
    "version": 3
   },
   "file_extension": ".py",
   "mimetype": "text/x-python",
   "name": "python",
   "nbconvert_exporter": "python",
   "pygments_lexer": "ipython3",
   "version": "3.12.3"
  }
 },
 "nbformat": 4,
 "nbformat_minor": 4
}
