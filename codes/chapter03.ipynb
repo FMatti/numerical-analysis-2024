{
 "cells": [
  {
   "cell_type": "markdown",
   "id": "b22df8db",
   "metadata": {},
   "source": [
    "## Numerical Analysis - Fall semester 2024\n",
    "# Chapter 3 - Scripts"
   ]
  },
  {
   "cell_type": "markdown",
   "id": "21027fc9",
   "metadata": {},
   "source": [
    "`ch3_FD_roundoff.py`"
   ]
  },
  {
   "cell_type": "code",
   "execution_count": null,
   "id": "f864d3b3",
   "metadata": {},
   "outputs": [],
   "source": [
    "import numpy as np\n",
    "\n",
    "f = lambda x: np.log(x)\n",
    "for i in range(1, 16):\n",
    "    h = 10 ** (-i)\n",
    "    dhf = (f(1 + h) - f(1)) / h\n",
    "    print(\"h=%1.0e\" % h, \"   dhf=\", dhf)"
   ]
  },
  {
   "cell_type": "markdown",
   "id": "accc9540",
   "metadata": {},
   "source": [
    "`ch3_midpoint.py`"
   ]
  },
  {
   "cell_type": "code",
   "execution_count": null,
   "id": "0420d32c",
   "metadata": {},
   "outputs": [],
   "source": [
    "import numpy as np\n",
    "\n",
    "def midpoint(a, b, n, f):\n",
    "    # Composite midpoint formula\n",
    "    #  - a,b: boundaries of the integration interval\n",
    "    #  - n: number of sub-intervals\n",
    "    #  - f: function to integrate\n",
    "    h = (b - a) / n\n",
    "    xi = np.linspace(a + h / 2, b - h / 2, n)  # quadrature nodes\n",
    "    alphai = np.full(n, h)  # weights\n",
    "    Qh_mp = np.dot(alphai, f(xi))  # quadrature formula\n",
    "    return Qh_mp"
   ]
  },
  {
   "cell_type": "code",
   "execution_count": null,
   "id": "2a4b2e7f",
   "metadata": {},
   "outputs": [],
   "source": [
    "f = lambda x: x**2\n",
    "I = midpoint(0, 1, 1000, f)\n",
    "print(I)"
   ]
  },
  {
   "cell_type": "markdown",
   "id": "d68b5437",
   "metadata": {},
   "source": [
    "`ch3_trap.py`"
   ]
  },
  {
   "cell_type": "code",
   "execution_count": null,
   "id": "65a6f76f",
   "metadata": {},
   "outputs": [],
   "source": [
    "import numpy as np\n",
    "\n",
    "def trap(a, b, n, f):\n",
    "    # Composite trapezoidal formula\n",
    "    #  - a,b: boundaries of the integration interval\n",
    "    #  - n: number of sub-intervals\n",
    "    #  - f: function to integrate\n",
    "    h = (b - a) / n\n",
    "    xi = np.linspace(a, b, n + 1)  # quadrature nodes\n",
    "    alphai = np.hstack((h / 2, np.full(n - 1, h), h / 2))  # weights\n",
    "    Qh_trap = np.dot(alphai, f(xi))  # quadrature formula\n",
    "    return Qh_trap"
   ]
  },
  {
   "cell_type": "code",
   "execution_count": null,
   "id": "64084bbb",
   "metadata": {},
   "outputs": [],
   "source": [
    "f = lambda x: x**2\n",
    "I = trap(0, 1, 1000, f)\n",
    "print(I)"
   ]
  },
  {
   "cell_type": "markdown",
   "id": "1a8fbd80",
   "metadata": {},
   "source": [
    "`ch3_simpson.py`"
   ]
  },
  {
   "cell_type": "code",
   "execution_count": null,
   "id": "02e04083",
   "metadata": {},
   "outputs": [],
   "source": [
    "import numpy as np\n",
    "\n",
    "def simpson(a, b, n, f):\n",
    "    # Composite Simpson formula\n",
    "    #  - a,b: boundaries of the integration interval\n",
    "    #  - n: number of sub-intervals\n",
    "    #  - f: function to integrate\n",
    "    h = (b - a) / n\n",
    "    xi = np.linspace(a, b, n + 1)\n",
    "    # sub-interval boundaries\n",
    "    alphai = (h / 3) * np.hstack((0.5, np.ones(n - 1), 0.5))\n",
    "    # weights at x_i\n",
    "    ci = np.linspace(a + h / 2, b - h / 2, n)\n",
    "    # sub-interval mid-points\n",
    "    betai = (2 * h / 3) * np.ones(n)\n",
    "    # weights at c_i\n",
    "    Qh_simp = np.dot(alphai, f(xi)) + np.dot(betai, f(ci))\n",
    "    return Qh_simp"
   ]
  },
  {
   "cell_type": "code",
   "execution_count": null,
   "id": "4e8041ec",
   "metadata": {},
   "outputs": [],
   "source": [
    "f = lambda x: x\n",
    "I = simpson(0, 1, 1000, f)\n",
    "print(I)"
   ]
  },
  {
   "cell_type": "markdown",
   "id": "b362e527",
   "metadata": {},
   "source": [
    "`ch3_ex6_1.py`"
   ]
  },
  {
   "cell_type": "code",
   "execution_count": null,
   "id": "1996eb77",
   "metadata": {},
   "outputs": [],
   "source": [
    "import numpy as np\n",
    "\n",
    "f = lambda x: (np.sin(x) * np.cos(x) ** 3) / (4 - np.cos(2 * x) ** 2)\n",
    "a = 0\n",
    "b = np.pi / 2\n",
    "Iex = np.log(3) / 16\n",
    "print(\"Iex=\", Iex)\n",
    "Qhtrap = np.array([])\n",
    "errQhtrap = np.array([])\n",
    "N = np.array([2**i for i in range(1, 11)])\n",
    "h = (b - a) / N\n",
    "for n in N:\n",
    "    Q = trap(a, b, n, f)\n",
    "    print(\"n=%4d\" % n, \"  Qh=\", Q)\n",
    "    Qhtrap = np.append(Qhtrap, Q)"
   ]
  },
  {
   "cell_type": "markdown",
   "id": "28178100",
   "metadata": {},
   "source": [
    "`ch3_ex6_2.py`"
   ]
  },
  {
   "cell_type": "code",
   "execution_count": null,
   "id": "1f4276a1",
   "metadata": {},
   "outputs": [],
   "source": [
    "errQhtrap = abs(Iex - Qhtrap)\n",
    "for i in range(0, len(errQhtrap)):\n",
    "    print(\"n=%4d\" % N[i], \"  err=%2.16f\" % errQhtrap[i])"
   ]
  },
  {
   "cell_type": "markdown",
   "id": "fea220ff",
   "metadata": {},
   "source": [
    "`ch3_ex6_3.py`"
   ]
  },
  {
   "cell_type": "code",
   "execution_count": null,
   "id": "160c79bc",
   "metadata": {},
   "outputs": [],
   "source": [
    "import matplotlib.pyplot as plt\n",
    "\n",
    "plt.loglog(h, errQhtrap, \"b-\", linewidth=2)\n",
    "plt.loglog(h, h**2, \"k--\", linewidth=2)\n",
    "plt.loglog(h, h**4, \"k-.\", linewidth=2)\n",
    "plt.grid(True)\n",
    "plt.legend([\"error trapezoid\", \"order 2\", \"order 4\"])"
   ]
  }
 ],
 "metadata": {
  "kernelspec": {
   "display_name": "Python 3 (ipykernel)",
   "language": "python",
   "name": "python3"
  },
  "language_info": {
   "codemirror_mode": {
    "name": "ipython",
    "version": 3
   },
   "file_extension": ".py",
   "mimetype": "text/x-python",
   "name": "python",
   "nbconvert_exporter": "python",
   "pygments_lexer": "ipython3",
   "version": "3.9.6"
  }
 },
 "nbformat": 4,
 "nbformat_minor": 5
}
