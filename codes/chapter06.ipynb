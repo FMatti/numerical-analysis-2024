{
 "cells": [
  {
   "cell_type": "markdown",
   "id": "38ed996e",
   "metadata": {},
   "source": [
    "## Numerical Analysis - Fall semester 2024\n",
    "# Chapter 6 - Scripts"
   ]
  },
  {
   "cell_type": "markdown",
   "id": "028b6acb",
   "metadata": {},
   "source": [
    "`ch6_euler.py`"
   ]
  },
  {
   "cell_type": "code",
   "execution_count": null,
   "id": "9afe27bd",
   "metadata": {},
   "outputs": [],
   "source": [
    "import numpy as np\n",
    "\n",
    "def euler(f, I, u0, N):\n",
    "    #    Solves the Cauchy problem\n",
    "    #       u'=f(t,u), t in (t0,T], u(t0)=u0\n",
    "    #    using the forward Euler method with a time step dt=(T-t0)/N\n",
    "    #    Input:\n",
    "    #      f: function f(t, u)\n",
    "    #      I: the integration interval [t0,T]\n",
    "    #      u0: initiale condition\n",
    "    #      N: number of subintervals\n",
    "    #    Output:\n",
    "    #      t: vector of time instants tn\n",
    "    #      u: approximate solution un\n",
    "    #      dt: time step\n",
    "    dt = (I[1] - I[0]) / N\n",
    "    t = np.linspace(I[0], I[1], N + 1)\n",
    "    u = np.zeros(N + 1)\n",
    "    u[0] = u0\n",
    "    for n in range(N):\n",
    "        u[n + 1] = u[n] + dt * f(t[n], u[n])\n",
    "    return t, u, dt"
   ]
  },
  {
   "cell_type": "markdown",
   "id": "3f27b0af",
   "metadata": {},
   "source": [
    "`ch6_1.py`"
   ]
  },
  {
   "cell_type": "code",
   "execution_count": null,
   "id": "b4051836",
   "metadata": {},
   "outputs": [],
   "source": [
    "import numpy as np\n",
    "import matplotlib.pyplot as plt\n",
    "\n",
    "a = 0.5\n",
    "b = 3\n",
    "f = lambda t, u: -(a * u + b * t * np.exp(-t))\n",
    "u0 = 1\n",
    "Tf = 20\n",
    "I = [0, Tf]\n",
    "uex = (\n",
    "    lambda t: (u0 - b / (1 - a) ** 2) * np.exp(-a * t)\n",
    "    + b * (1 + (1 - a) * t) * np.exp(-t) / (1 - a) ** 2\n",
    ")\n",
    "t = np.linspace(0, Tf, 2001)\n",
    "plt.plot(t, uex(t), \"r\")\n",
    "N = 20\n",
    "tn, un, dt = euler(f, I, u0, N)\n",
    "plt.plot(tn, un, \"g*-\")"
   ]
  }
 ],
 "metadata": {
  "kernelspec": {
   "display_name": "Python 3 (ipykernel)",
   "language": "python",
   "name": "python3"
  },
  "language_info": {
   "codemirror_mode": {
    "name": "ipython",
    "version": 3
   },
   "file_extension": ".py",
   "mimetype": "text/x-python",
   "name": "python",
   "nbconvert_exporter": "python",
   "pygments_lexer": "ipython3",
   "version": "3.9.6"
  }
 },
 "nbformat": 4,
 "nbformat_minor": 5
}
