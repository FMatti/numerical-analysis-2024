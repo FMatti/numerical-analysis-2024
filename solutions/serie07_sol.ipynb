{
 "cells": [
  {
   "cell_type": "markdown",
   "id": "42408fa1-14bb-49ac-acd2-de2d019e0131",
   "metadata": {
    "nbgrader": {
     "grade": false,
     "grade_id": "cell-b3cca307f0cab7f7",
     "locked": true,
     "schema_version": 3,
     "solution": false,
     "task": false
    }
   },
   "source": [
    "## Numerical Analysis - Fall semester 2024\n",
    "\n",
    "# Serie 07 - Numerical differentiation and integration"
   ]
  },
  {
   "cell_type": "markdown",
   "id": "b1ab3406-82b4-431c-a279-035725176f99",
   "metadata": {
    "nbgrader": {
     "grade": false,
     "grade_id": "cell-f9ca2a20466d186c",
     "locked": true,
     "schema_version": 3,
     "solution": false,
     "task": false
    }
   },
   "source": [
    "Importing our favorite packages."
   ]
  },
  {
   "cell_type": "code",
   "execution_count": null,
   "id": "57ed866d-8304-4760-a98d-3ea6cd8d084e",
   "metadata": {
    "nbgrader": {
     "grade": false,
     "grade_id": "cell-03f4b2af2bdf5e07",
     "locked": true,
     "schema_version": 3,
     "solution": false,
     "task": false
    }
   },
   "outputs": [],
   "source": [
    "import matplotlib.pyplot as plt\n",
    "import numpy as np"
   ]
  },
  {
   "cell_type": "markdown",
   "id": "83c898fd-5b60-4f72-80f4-9101a45be142",
   "metadata": {
    "nbgrader": {
     "grade": false,
     "grade_id": "cell-f068fe1f39660605",
     "locked": true,
     "schema_version": 3,
     "solution": false,
     "task": false
    }
   },
   "source": [
    "<hr style=\"clear:both\">\n",
    "\n",
    "### Finite differences formula from Lagrange interpolant"
   ]
  },
  {
   "cell_type": "markdown",
   "id": "3ed24314-8bc0-45dd-b235-998e5be87401",
   "metadata": {
    "nbgrader": {
     "grade": false,
     "grade_id": "cell-076b85f60aadcf30",
     "locked": true,
     "schema_version": 3,
     "solution": false,
     "task": false
    }
   },
   "source": [
    "Let $f:\\mathbb{R}\\rightarrow \\mathbb{R}$ be a smooth function and consider the three points $x_1=\\bar{x}-2h$, $x_2= \\bar{x}-h$, $x_3=\\bar{x}$ as well as the evaluations $y_i = f(x_i), i=1, 2, 3$."
   ]
  },
  {
   "cell_type": "markdown",
   "id": "7be8ab3a-f557-4989-ae28-fb6bbd22563d",
   "metadata": {
    "nbgrader": {
     "grade": false,
     "grade_id": "cell-706988e31348851c",
     "locked": true,
     "points": 0,
     "schema_version": 3,
     "solution": false,
     "task": true
    }
   },
   "source": [
    "<div class=\"alert alert-success\">\n",
    "    \n",
    "**Exercise 1 (Theoretical):** Compute the degree 2 interpolating polynomial $p_2$ of the data points $(x_1,y_1), (x_2,y_2), (x_3,y_3)$.\n",
    "\n",
    "*Hint:* Use the formula from Proposition 2.1 in the lecture notes.\n",
    "</div>\n",
    "\n",
    "=== BEGIN MARK SCHEME ===\n",
    "\n",
    "We first compute the Lagrange polynomials using the formula\n",
    "\n",
    "$$\n",
    "\\phi_i(x)=\\prod_{\\substack{j=1 \\\\ j\\neq i}}^3 \\frac{x-x_j}{x_i-x_j}, \\quad \\quad i=1,2,3.\n",
    "$$\n",
    "\n",
    "By inserting the values $x_1, x_2$ and $x_3$, we get\n",
    "\\begin{align*}\n",
    "\\phi_1(x)&=\\frac{x-x_2}{x_1-x_2}\\cdot \\frac{x-x_3}{x_1-x_3}= \\frac{(x-\\bar{x}+h)(x-\\bar{x})}{2h^2} \\\\\n",
    "\\phi_2(x)&=\\frac{x-x_1}{x_2-x_1}\\cdot \\frac{x-x_3}{x_2-x_3}= \\frac{-(x-\\bar{x}+2h)(x-\\bar{x})}{h^2} \\\\\n",
    "\\phi_3(x)&=\\frac{x-x_1}{x_3-x_1}\\cdot \\frac{x-x_2}{x_3-x_2}= \\frac{(x-\\bar{x}+2h)(x-\\bar{x}+h)}{2h^2}.\n",
    "\\end{align*}\n",
    "\n",
    "The sought for polynomial is then\n",
    "\n",
    "$$\n",
    "p_2(x)= \\sum_{i=1}^{3} y_i \\phi_i(x).\n",
    "$$\n",
    "\n",
    "By inserting the values $y_1$, $y_2$, and $y_3$, and the polynomials $\\phi_1$, $\\phi_2$ and $\\phi_3$, we get\n",
    "\n",
    "\\begin{align*}\n",
    "p_2(x)&= \\frac{f(\\bar{x}-2h)(x-\\bar{x}+h)(x-\\bar{x})}{2h^2} \\\\\n",
    "&- \\frac{f(\\bar{x}-h)(x-\\bar{x}+2h)(x-\\bar{x})}{h^2} \\\\ \n",
    "&+ \\frac{f(\\bar{x})(x-\\bar{x}+2h)(x-\\bar{x}+h)}{2h^2}.\n",
    "\\end{align*}\n",
    "\n",
    "=== END MARK SCHEME ==="
   ]
  },
  {
   "cell_type": "markdown",
   "id": "616d7c9f-e9ac-4b2a-8d03-6b502fa1a924",
   "metadata": {
    "nbgrader": {
     "grade": false,
     "grade_id": "cell-bfb6c2790d5810df",
     "locked": true,
     "points": 0,
     "schema_version": 3,
     "solution": false,
     "task": true
    }
   },
   "source": [
    "<div class=\"alert alert-success\">\n",
    "    \n",
    "**Exercise 2 (Theoretical):** Using the polynomial $p_2$ you have found in the previous exercise, determine the finite differences formula\n",
    "$$\n",
    "D_hf(\\bar{x})=p_2'(\\bar{x})\n",
    "$$\n",
    "and determine the order with which this forumla approximates $f'(\\bar{x})$.\n",
    "\n",
    "*Hint:* Use Taylor expansion.\n",
    "</div>\n",
    "\n",
    "=== BEGIN MARK SCHEME ===\n",
    "\n",
    "We compute the derivative of $p_2$ with respect to $x$, which gives us\n",
    "\\begin{align*}\n",
    "p_2'(x) &= \\frac{f(\\bar{x}-2h)(x-\\bar{x}+x-\\bar{x}+h)}{2h^2} \\\\\n",
    "&-\\frac{f(\\bar{x}-h)(x-\\bar{x}+x-\\bar{x}+2h)}{h^2} \\\\\n",
    "&+ \\frac{f(\\bar{x})(x-\\bar{x}+h+x-\\bar{x}+2h)}{2h^2}.\n",
    "\\end{align*}\n",
    "\n",
    "The derivative of $p_2$ evaluated at the point $\\bar{x}$ is\n",
    "\\begin{align*}\n",
    "p_2'(\\bar{x})=& \\frac{3hf(\\bar{x})- 4h f(\\bar{x}-h)+ h f(\\bar{x}-2h)}{2h^2}\\\\ \\\\\n",
    "=& \\frac{3f(\\bar{x})-4f(\\bar{x}-h)+f(\\bar{x}-2h)}{2h}.\n",
    "\\end{align*}\n",
    "\n",
    "A Taylor expansion of the finite difference formula, truncated after the third order, gives us\n",
    "\n",
    "\\begin{align*}\n",
    "D_h f(\\bar{x}) &= \\frac{3}{2h} f(\\bar{x}) \\\\\n",
    "&- \\frac{2}{h} \\left[f(\\bar{x})-hf'(\\bar{x})+\\frac{h^2}{2}f''(\\bar{x})-\\frac{h^3}{6}f'''(\\bar{x})+\\mathcal{O}(h^4)\\right] \\\\\n",
    "&+ \\frac{1}{2h} \\left[f(\\bar{x})-2hf'(\\bar{x})+\\frac{4h^2}{2}f''(\\bar{x})-\\frac{8h^3}{6}f'''(\\bar{x})+\\mathcal{O}(h^4)\\right].\n",
    "\\end{align*}\n",
    "\n",
    "Regrouping the term then shows that\n",
    "\n",
    "\\begin{align*}\n",
    "D_h f(\\bar{x})= f'(\\bar{x}) - \\frac{h^2}{3}f'''(\\bar{x})+\\mathcal{O}(h^3),\n",
    "\\end{align*}\n",
    "\n",
    "i.e. the formula $D_hf(\\bar{x})$ approximates the derivative $f'(\\bar{x})$ with order $2$.\n",
    "\n",
    "=== END MARK SCHEME ==="
   ]
  },
  {
   "cell_type": "markdown",
   "id": "c359d779-b655-450d-be9f-5d4b69c9593a",
   "metadata": {
    "nbgrader": {
     "grade": false,
     "grade_id": "cell-f5b97135a9488f35",
     "locked": true,
     "schema_version": 3,
     "solution": false,
     "task": false
    }
   },
   "source": [
    "<hr style=\"clear:both\">\n",
    "\n",
    "### Composite quadrature formulas"
   ]
  },
  {
   "cell_type": "markdown",
   "id": "85074199-fb3f-4f38-a1cf-eb3b017a5985",
   "metadata": {
    "nbgrader": {
     "grade": false,
     "grade_id": "cell-47b7ebc90041be6d",
     "locked": true,
     "schema_version": 3,
     "solution": false,
     "task": false
    }
   },
   "source": [
    "We want to compute the integral\n",
    "\n",
    "$$\n",
    "I(f)=\\int_{a}^b f(x) \\, dx,\n",
    "$$\n",
    "\n",
    "for different functions $f$. Below, we provide you with the function implementations of three quadrature rules (`midpoint`, `trap`, and `simpson`) which all take the same arguments: `a` and `b` define the interval,`n` is the number of subintervals of the composite formula and `f` is the function to integrate. They are the same ones you can also find on Moodle."
   ]
  },
  {
   "cell_type": "code",
   "execution_count": null,
   "id": "52d96b9e-9850-4c6a-a809-05b0ae13328b",
   "metadata": {
    "nbgrader": {
     "grade": false,
     "grade_id": "cell-f46696cf93c5894f",
     "locked": true,
     "schema_version": 3,
     "solution": false,
     "task": false
    }
   },
   "outputs": [],
   "source": [
    "def midpoint(a, b, n, f):\n",
    "    # Composite midpoint formula\n",
    "    #  - a,b: boundaries of the integration interval\n",
    "    #  - n: number of sub-intervals\n",
    "    #  - f: function to integrate\n",
    "    h = (b - a) / n\n",
    "    xi = np.linspace(a + h / 2, b - h / 2, n)  # quadrature nodes\n",
    "    alphai = np.full(n, h)  # weights\n",
    "    Qh_mp = np.dot(alphai, f(xi))  # quadrature formula\n",
    "    return Qh_mp"
   ]
  },
  {
   "cell_type": "code",
   "execution_count": null,
   "id": "8080c1a2-a3d9-40e7-842a-d58e2daf1dea",
   "metadata": {
    "nbgrader": {
     "grade": false,
     "grade_id": "cell-0da9ae129de27946",
     "locked": true,
     "schema_version": 3,
     "solution": false,
     "task": false
    }
   },
   "outputs": [],
   "source": [
    "def trap(a, b, n, f):\n",
    "    # Composite trapezoidal formula\n",
    "    #  - a,b: boundaries of the integration interval\n",
    "    #  - n: number of sub-intervals\n",
    "    #  - f: function to integrate\n",
    "    h = (b - a) / n\n",
    "    xi = np.linspace(a, b, n + 1)  # quadrature nodes\n",
    "    alphai = np.hstack((h / 2, np.full(n - 1, h), h / 2))  # weights\n",
    "    Qh_trap = np.dot(alphai, f(xi))  # quadrature formula\n",
    "    return Qh_trap"
   ]
  },
  {
   "cell_type": "code",
   "execution_count": null,
   "id": "b1e11187-4a5d-4c1c-b154-90dfc853cc47",
   "metadata": {
    "nbgrader": {
     "grade": false,
     "grade_id": "cell-7ea713f03d4cf201",
     "locked": true,
     "schema_version": 3,
     "solution": false,
     "task": false
    }
   },
   "outputs": [],
   "source": [
    "def simpson(a, b, n, f):\n",
    "    # Composite Simpson formula\n",
    "    #  - a,b: boundaries of the integration interval\n",
    "    #  - n: number of sub-intervals\n",
    "    #  - f: function to integrate\n",
    "    h = (b - a) / n\n",
    "    xi = np.linspace(a, b, n + 1)\n",
    "    # sub-interval boundaries\n",
    "    alphai = (h / 3) * np.hstack((0.5, np.ones(n - 1), 0.5))\n",
    "    # weights at x_i\n",
    "    ci = np.linspace(a + h / 2, b - h / 2, n)\n",
    "    # sub-interval mid-points\n",
    "    betai = (2 * h / 3) * np.ones(n)\n",
    "    # weights at c_i\n",
    "    Qh_simp = np.dot(alphai, f(xi)) + np.dot(betai, f(ci))\n",
    "    return Qh_simp"
   ]
  },
  {
   "cell_type": "markdown",
   "id": "aee0618d-5009-4b47-ba43-696e73706c96",
   "metadata": {
    "nbgrader": {
     "grade": false,
     "grade_id": "cell-61667314b16bc0c7",
     "locked": true,
     "schema_version": 3,
     "solution": false,
     "task": false
    }
   },
   "source": [
    "<div class=\"alert alert-success\">\n",
    "    \n",
    "**Exercise 3:** Consider the function $f_1(x)=e^{-x}\\sin(x)$ on the interval $[a,b]=[0,2]$. For an increasing number of sub-intervals $n = 10^1, 10^2, \\dots, 10^5$, approximate the integral $I(f_1)$ with the composite midpoint, trapezoidal, and Simpson formulas (use the functions `midpoint`, `trap`, and `simpson`). For each $n$, compute the error $|I(f_1)-Q_h(f_1)|$ and plot it against $h = (b - a)/n$ on a logarithmic scale. What order of convergence do you observe?\n",
    "\n",
    "*Hint:* Use [WolframAlpha](https://www.wolframalpha.com/) to determine the exact value of $I(f_1)$.\n",
    "</div>"
   ]
  },
  {
   "cell_type": "code",
   "execution_count": null,
   "id": "6f38744c-9977-4933-94f5-a83932f30358",
   "metadata": {
    "nbgrader": {
     "grade": false,
     "grade_id": "cell-a47b7a912a8a2315",
     "locked": false,
     "schema_version": 3,
     "solution": true,
     "task": false
    }
   },
   "outputs": [],
   "source": [
    "### BEGIN SOLUTION\n",
    "def g_1(x):\n",
    "    return np.exp(-x) * np.sin(x)\n",
    "\n",
    "a = 0\n",
    "b = 2\n",
    "n_list = 10 ** np.arange(1, 6)\n",
    "h_list = (b - a) / n_list\n",
    "\n",
    "errors_midpoint = []\n",
    "errors_trap = []\n",
    "errors_simpson = []\n",
    "\n",
    "# From WolframAlpha with prompt: \"integrate exp(-x) * sin(x) from 0 to 2\"\n",
    "I_f_1 = 1 / 2 - (np.cos(2) + np.sin(2)) / (2 * np.exp(2))\n",
    "\n",
    "for n in n_list:\n",
    "       Q_h_midpoint = midpoint(a, b, n, g_1)\n",
    "       errors_midpoint.append(abs(I_f_1 - Q_h_midpoint))\n",
    "       Q_h_trap = trap(a, b, n, g_1)\n",
    "       errors_trap.append(abs(I_f_1 - Q_h_trap))\n",
    "       Q_h_simpson = simpson(a, b, n, g_1)\n",
    "       errors_simpson.append(abs(I_f_1 - Q_h_simpson))\n",
    "\n",
    "plt.loglog(h_list, errors_midpoint, label=\"midpoint\")\n",
    "plt.loglog(h_list, errors_trap, label=\"trap\")\n",
    "plt.loglog(h_list, errors_simpson, label=\"simpson\")\n",
    "plt.loglog(h_list, h_list ** 2, linestyle=\"--\", color=\"k\", label=r\"$(h, h^2)$\")\n",
    "plt.loglog(h_list, h_list ** 4, linestyle=\":\", color=\"k\", label=r\"$(h, h^4)$\")\n",
    "plt.grid(True, which=\"major\", linestyle=\"-\")\n",
    "plt.grid(True, which=\"minor\", linestyle=\"--\")\n",
    "plt.xlabel(\"$h$\")\n",
    "plt.ylabel(\"error\")\n",
    "plt.legend()\n",
    "plt.show()\n",
    "\n",
    "# The error of the midpoint and trapezoidal formula goes down with the same\n",
    "# slope as the graph (h, h²), i.e. every time the length of the\n",
    "# sub-intervals is divided by 10, the error is reduced by a factor 100.\n",
    "# These two methods are therefore of order 2.\n",
    "# We further notice that the error with the trapezoidal formula\n",
    "# is bigger (precisely twice as big) than the midpoint method.\n",
    "# Simpson's method converges with order 4 (until we reach the precision of the\n",
    "# machine 10⁻¹⁶).\n",
    "### END SOLUTION"
   ]
  },
  {
   "cell_type": "markdown",
   "id": "6e2ed215-4915-43c4-81cb-d99ef2fc0dd8",
   "metadata": {
    "nbgrader": {
     "grade": false,
     "grade_id": "cell-66a491c3bb918666",
     "locked": true,
     "schema_version": 3,
     "solution": false,
     "task": false
    }
   },
   "source": [
    "<div class=\"alert alert-success\">\n",
    "    \n",
    "**Exercise 4:** Repeat the previous exercise for the function $f_2(x) = \\sqrt{|x|^3}$ on the interval $[a, b] = [-2, 2]$. How do the orders of convergence compare to what you have found for the function $f_1$?\n",
    "</div>"
   ]
  },
  {
   "cell_type": "code",
   "execution_count": null,
   "id": "015f9784-c234-45a5-81ce-a2f3f814e5d2",
   "metadata": {
    "nbgrader": {
     "grade": false,
     "grade_id": "cell-0e38c4958fbdaafc",
     "locked": false,
     "schema_version": 3,
     "solution": true,
     "task": false
    }
   },
   "outputs": [],
   "source": [
    "### BEGIN SOLUTION\n",
    "def g_2(x):\n",
    "    return np.sqrt(np.abs(x) ** 3)\n",
    "\n",
    "a = -2\n",
    "b = 2\n",
    "n_list = 10 ** np.arange(1, 6)\n",
    "h_list = (b - a) / n_list\n",
    "\n",
    "errors_midpoint = []\n",
    "errors_trap = []\n",
    "errors_simpson = []\n",
    "\n",
    "# From WolframAlpha with prompt: \"integrate sqrt(|x|^3) from -2 to 2\"\n",
    "I_f_2 = 16 * np.sqrt(2) / 5 \n",
    "\n",
    "for n in n_list:\n",
    "       Q_h_midpoint = midpoint(a, b, n, g_2)\n",
    "       errors_midpoint.append(abs(I_f_2 - Q_h_midpoint))\n",
    "       Q_h_trap = trap(a, b, n, g_2)\n",
    "       errors_trap.append(abs(I_f_2 - Q_h_trap))\n",
    "       Q_h_simpson = simpson(a, b, n, g_2)\n",
    "       errors_simpson.append(abs(I_f_2 - Q_h_simpson))\n",
    "\n",
    "plt.loglog(h_list, errors_midpoint, label=\"midpoint\")\n",
    "plt.loglog(h_list, errors_trap, label=\"trap\")\n",
    "plt.loglog(h_list, errors_simpson, label=\"simpson\")\n",
    "plt.loglog(h_list, h_list ** 2, linestyle=\"--\", color=\"k\", label=r\"$(h, h^2)$\")\n",
    "plt.loglog(h_list, h_list ** 4, linestyle=\":\", color=\"k\", label=r\"$(h, h^4)$\")\n",
    "plt.grid(True, which=\"major\", linestyle=\"-\")\n",
    "plt.grid(True, which=\"minor\", linestyle=\"--\")\n",
    "plt.xlabel(\"$h$\")\n",
    "plt.ylabel(\"error\")\n",
    "plt.legend()\n",
    "plt.show()\n",
    "\n",
    "# We notice that the midpoint and the trapezoidal methods still converge \n",
    "# with order 2, whereas Simpson's method converges with an order smaller\n",
    "# than 4. This is due to the fact that the function √|x|³ is not regular\n",
    "# enough. It is in fact only C¹ and not C² as its second derivative approaches\n",
    "# infinity in x=0.\n",
    "### END SOLUTION"
   ]
  },
  {
   "cell_type": "markdown",
   "id": "bd4c4f4e-0b24-42b4-88c8-9c773bcc9727",
   "metadata": {
    "nbgrader": {
     "grade": false,
     "grade_id": "cell-70742cef19695e2b",
     "locked": true,
     "schema_version": 3,
     "solution": false,
     "task": false
    }
   },
   "source": [
    "<hr style=\"clear:both\">\n",
    "\n",
    "### Gaussian quadrature"
   ]
  },
  {
   "cell_type": "markdown",
   "id": "6d2831ef-da07-480e-ab8b-73413a7a9c48",
   "metadata": {
    "nbgrader": {
     "grade": false,
     "grade_id": "cell-ccd629c1b2daf0be",
     "locked": true,
     "schema_version": 3,
     "solution": false,
     "task": false
    }
   },
   "source": [
    "Most standard quadrature rules on the interval $[-1, 1]$ are compactly written as\n",
    "\n",
    "$$\n",
    "I(f) = \\int_{-1}^{1} f(x)~\\mathrm{d}x \\approx Q(f) = \\sum_{i=1}^d \\alpha_i f(x_i),\n",
    "$$\n",
    "\n",
    "where $\\alpha_1, \\alpha_2, \\dots, \\alpha_d \\in \\mathbb{R}$ are called *quadrature weights* and $x_1, x_2, \\dots, x_d \\in \\mathbb{R}$ *quadrature nodes*. One particularly useful quadrature is the Gaussian quadrature formula. For degree $d = 2$, its quadrature weights are $\\alpha_1 = 1$ and $\\alpha_2 = 1$, and its quadrature nodes are $x_1 = -\\frac{1}{\\sqrt{3}}$ and $x_2 = \\frac{1}{\\sqrt{3}}$."
   ]
  },
  {
   "cell_type": "markdown",
   "id": "b5fd1889-0adc-4e49-9203-09acaa354cea",
   "metadata": {
    "nbgrader": {
     "grade": false,
     "grade_id": "cell-52e76849a5800363",
     "locked": true,
     "points": 0,
     "schema_version": 3,
     "solution": false,
     "task": true
    }
   },
   "source": [
    "<div class=\"alert alert-success\">\n",
    "    \n",
    "**Exercise 5 (Theoretical):** For the degree $d = 2$ Gaussian quadrature formula, compute the degree of exactness by applying it to the integral\n",
    "\n",
    "$$\n",
    "\\int_{-1}^{1} x^r \\mathrm{d}x\n",
    "$$\n",
    "\n",
    "and examining up to which $r \\in \\mathbb{N}$ the formula gives the exact result.\n",
    "</div>\n",
    "\n",
    "=== BEGIN MARK SCHEME ===\n",
    "\n",
    "For $r=0$ we get the same:\n",
    "\n",
    "\\begin{align*}\n",
    "\\int_{-1}^{1} f(x) \\mathrm{d}x = \\int_{-1}^{1} 1 \\mathrm{d}x = 2 \\\\\n",
    "\\sum_{i=1}^2 \\alpha_i f(x_i) = \\sum_{i=1}^2 \\alpha_i 1 = 1 + 1 = 2.\n",
    "\\end{align*}\n",
    "\n",
    "For $r=1$ we get the same too: \n",
    "\n",
    "\\begin{align*}\n",
    "\\int_{-1}^{1} f(x) \\mathrm{d}x = \\int_{-1}^{1} x \\mathrm{d}x = 0 \\\\\n",
    "\\sum_{i=1}^2 \\alpha_i f(x_i) = \\sum_{i=1}^2 \\alpha_i x_i = -\\frac{1}{\\sqrt{3}} + \\frac{1}{\\sqrt{3}} = 0.\n",
    "\\end{align*}\n",
    "\n",
    "\n",
    "For $r=2$ we still get the same:\n",
    "\n",
    "\\begin{align*}\n",
    "\\int_{-1}^{1} f(x) \\mathrm{d}x = \\int_{-1}^{1} x^2 \\mathrm{d}x = \\frac{2}{3} \\\\\n",
    "\\sum_{i=1}^2 \\alpha_i f(x_i) = \\sum_{i=1}^2 \\alpha_i x_i^2 = \\frac{1}{3} + \\frac{1}{3} = \\frac{2}{3}.\n",
    "\\end{align*}\n",
    "\n",
    "For $r=3$ we still get the same:\n",
    "\n",
    "\\begin{align*}\n",
    "\\int_{-1}^{1} f(x) \\mathrm{d}x = \\int_{-1}^{1} x^3 \\mathrm{d}x = 0 \\\\\n",
    "\\sum_{i=1}^2 \\alpha_i f(x_i) = \\sum_{i=1}^2 \\alpha_i x_i^3 = -\\frac{1}{\\sqrt{3}^3} + \\frac{1}{\\sqrt{3}^3} = 0.\n",
    "\\end{align*}\n",
    "\n",
    "For $r=4$ we don't get the same result any longer:\n",
    "\n",
    "\\begin{align*}\n",
    "\\int_{-1}^{1} f(x) \\mathrm{d}x = \\int_{-1}^{1} x^4 \\mathrm{d}x = \\frac{2}{5} \\\\\n",
    "\\sum_{i=1}^2 \\alpha_i f(x_i) = \\sum_{i=1}^2 \\alpha_i x_i^4 = \\frac{1}{9} + \\frac{1}{9} = \\frac{2}{9}.\n",
    "\\end{align*}\n",
    "\n",
    "Therefore, the degree of exactness is $r = 3$.\n",
    "\n",
    "=== END MARK SCHEME ==="
   ]
  },
  {
   "cell_type": "markdown",
   "id": "d0354f33-668a-4b0f-a5bd-a173e7868745",
   "metadata": {
    "nbgrader": {
     "grade": false,
     "grade_id": "cell-00a1fcd66ddb47cd",
     "locked": true,
     "schema_version": 3,
     "solution": false,
     "task": false
    }
   },
   "source": [
    "<div class=\"alert alert-success\">\n",
    "    \n",
    "**Exercise 6:** Complete the below function `gaussian_2` which approximates the integral $\\int_{-1}^{1} f(x)~\\mathrm{d}x$ of any function $f$ using the Gaussian quadrature formula for degree $d = 2$.\n",
    "</div>"
   ]
  },
  {
   "cell_type": "code",
   "execution_count": null,
   "id": "81165425-c839-4d48-9352-18c79c207d88",
   "metadata": {
    "nbgrader": {
     "grade": false,
     "grade_id": "cell-29f17e8d808720cd",
     "locked": false,
     "schema_version": 3,
     "solution": true,
     "task": false
    }
   },
   "outputs": [],
   "source": [
    "def gaussian_2(f):\n",
    "    ### BEGIN SOLUTION\n",
    "    return f(- 1 / np.sqrt(3)) + f(1 / np.sqrt(3))\n",
    "    ### END SOLUTION"
   ]
  },
  {
   "cell_type": "markdown",
   "id": "92614e1f-5262-432d-812e-d0c2ac477b99",
   "metadata": {
    "nbgrader": {
     "grade": false,
     "grade_id": "cell-736edc0c0248dbdb",
     "locked": true,
     "schema_version": 3,
     "solution": false,
     "task": false
    }
   },
   "source": [
    "Let us quickly verify that your implementation works properly on a few simple integrals."
   ]
  },
  {
   "cell_type": "code",
   "execution_count": null,
   "id": "ff8c87f2-4c70-489f-a42f-f3da688230d3",
   "metadata": {
    "nbgrader": {
     "grade": false,
     "grade_id": "cell-29a72364be21b449",
     "locked": true,
     "schema_version": 3,
     "solution": false,
     "task": false
    }
   },
   "outputs": [],
   "source": [
    "assert not (gaussian_2(lambda x: x) is None), f\"your function 'gaussian_2' returned nothing, make sure to 'return' your result\";assert isinstance(G := gaussian_2(lambda x: x), float), f\"expected 'gaussian' to return a floating-point number, but got {type(G)}\";assert np.isclose(G := gaussian_2(lambda x: 1), 2), f\"'gaussian_2(f)' for 'f(x) = 1' should return 'I(f) = 2', but got {G}\";assert np.isclose(G := gaussian_2(lambda x: x), 0), f\"'gaussian_2(f)' for 'f(x) = x' should return 'I(f) = 0', but got {G}\";assert np.isclose(G := gaussian_2(lambda x: x**2), 2/3), f\"'gaussian_2(f)' for 'f(x) = x^2' should return 'I(f) = 2/3', but got {G}\";assert np.isclose(G := gaussian_2(lambda x: x**3), 0), f\"'gaussian_2(f)' for 'f(x) = x^3' should return 'I(f) = 0', but got {G}\";assert np.isclose(G := gaussian_2(lambda x: x**4), 2/9), f\"'gaussian_2(f)' for 'f(x) = x^4' should return 'I(f) = 2/9', but got {G}\";print(\"Nice! Your function correctly integrated our simple examples.\")"
   ]
  },
  {
   "cell_type": "markdown",
   "id": "2f648d82-9bc0-4d4d-aae3-fe840dba63f9",
   "metadata": {
    "nbgrader": {
     "grade": false,
     "grade_id": "cell-db2df4acbeb03035",
     "locked": true,
     "schema_version": 3,
     "solution": false,
     "task": false
    }
   },
   "source": [
    "Below, we provide you with a function which computes the composite Gaussian formula for degree $d = 2$ based on your implementation of the simple Gaussian formula from the previous exercise."
   ]
  },
  {
   "cell_type": "code",
   "execution_count": null,
   "id": "195128ce-1b39-45c4-8261-a8248b304522",
   "metadata": {},
   "outputs": [],
   "source": [
    "def gaussian_2_composite(n, f):\n",
    "    subinterval_borders = np.linspace(-1, 1, n + 1)\n",
    "    Q_f = 0\n",
    "    for i in range(n):\n",
    "        a = subinterval_borders[i]\n",
    "        b = subinterval_borders[i + 1]\n",
    "        f_transformed = lambda x: f((a + b) / 2 + (b - a) / 2 * x)\n",
    "        Q_f += gaussian_2(f_transformed) * (b - a) / 2\n",
    "    return Q_f"
   ]
  },
  {
   "cell_type": "markdown",
   "id": "d3774cd7-7e22-4fc3-ac5e-ed9a0ee76562",
   "metadata": {
    "nbgrader": {
     "grade": false,
     "grade_id": "cell-826834571814288b",
     "locked": true,
     "schema_version": 3,
     "solution": false,
     "task": false
    }
   },
   "source": [
    "<div class=\"alert alert-success\">\n",
    "    \n",
    "**Exercise 7:** Consider the function $f(x)= x^5 \\operatorname{sign}(x)$ where $\\operatorname{sign}(x) = 1$ if $x \\geq 0$ and $-1$ otherwise. For an increasing number of sub-intervals $n = 10^0, 10^1, \\dots, 10^3$, approximate the integral $I(f)$ with the composite Gaussian quadrature. For each $n$, compute the error $|I(f)-Q_h(f)|$ and plot it against $h = 2/n$ on a logarithmic scale. What order of convergence do you observe? Explain this order using your result from Exercise 5 and Theorem 3.3 from the lecture notes.\n",
    "</div>"
   ]
  },
  {
   "cell_type": "code",
   "execution_count": null,
   "id": "44e51ff8-7ed5-414e-b898-332b5171551a",
   "metadata": {
    "nbgrader": {
     "grade": false,
     "grade_id": "cell-aba5b5e2d521f90d",
     "locked": false,
     "schema_version": 3,
     "solution": true,
     "task": false
    }
   },
   "outputs": [],
   "source": [
    "def f(x):\n",
    "    return x ** 5 * (1 - 2 * (x < 0))\n",
    "\n",
    "### BEGIN SOLUTION\n",
    "n_list = 10 ** np.arange(0, 4)\n",
    "h_list = 2 / n_list\n",
    "\n",
    "errors = []\n",
    "\n",
    "# The integral is easy to compute by hand by separately considering the intervals \n",
    "# [-1, 0] and [0, 1]\n",
    "I_f = 1 / 3\n",
    "\n",
    "for n in n_list:\n",
    "       Q_h = gaussian_2_composite(n, f)\n",
    "       errors.append(abs(I_f - Q_h))\n",
    "\n",
    "plt.loglog(h_list, errors, label=\"gaussian_2_composite\")\n",
    "plt.loglog(h_list, h_list ** 4, linestyle=\"--\", color=\"k\", label=r\"$(h, h^4)$\")\n",
    "plt.grid(True, which=\"major\", linestyle=\"-\")\n",
    "plt.grid(True, which=\"minor\", linestyle=\"--\")\n",
    "plt.xlabel(\"$h$\")\n",
    "plt.ylabel(\"error\")\n",
    "plt.legend()\n",
    "plt.show()\n",
    "\n",
    "# We observe a convergence with order 4. Since the function f(x) = x⁵ sign(x)\n",
    "# is in C⁴ and the Gaussian quadrature has degree of exactness 3, Theorem 3.3 from the\n",
    "# lecture notes also guarantees a convergence of order 4.\n",
    "### END SOLUTION"
   ]
  },
  {
   "cell_type": "markdown",
   "id": "5412e70d-fa37-4f3c-be91-faa4cc507d68",
   "metadata": {
    "nbgrader": {
     "grade": false,
     "grade_id": "cell-0fa0cb98faf8646f",
     "locked": true,
     "schema_version": 3,
     "solution": false,
     "task": false
    }
   },
   "source": [
    "<div class=\"alert alert-success\">\n",
    "    \n",
    "**Exercise 8 (Bonus):** The quadrature weights and nodes to approximate $\\int_{-1}^{1} f(x)~\\mathrm{d}x$ can be obtained with the function `np.polynomial.legendre.leggauss` for any degree $d \\in \\mathbb{N}$. Use them to implement the function `gaussian`, which approximates the integral $\\int_{a}^{b} f(x)~\\mathrm{d}x$ with the Gaussian quadrature of arbitrary degrees $d$ and intervals $[a, b]$.\n",
    "\n",
    "*Hint:* Since the quadrature nodes $\\tilde{x}_1, \\tilde{x}_2, \\dots, \\tilde{x}_d$ and weights $\\tilde{\\alpha}_1, \\tilde{\\alpha}_2, \\dots, \\tilde{\\alpha}_d$ from `np.polynomial.legendre.leggauss` are only valid for integrals on the interval $[-1, 1]$, you will have to transform these weights to approximate integrals defined on the interval $[a, b]$. You can do this by transforming the quadrature nodes with\n",
    "\n",
    "$$\n",
    "x_i = \\frac{a + b}{2} + \\frac{b - a}{2} \\tilde{x}_i, i=1, 2, \\dots, d,\n",
    "$$\n",
    "\n",
    "and the quadrature weights with\n",
    "\n",
    "$$\n",
    "\\alpha_i = \\frac{b - a}{2} \\tilde{\\alpha}_i, i=1, 2, \\dots, d.\n",
    "$$\n",
    "\n",
    "</div>"
   ]
  },
  {
   "cell_type": "code",
   "execution_count": null,
   "id": "b1e79987-3de8-4d35-80a7-bfb6530ebaf3",
   "metadata": {
    "nbgrader": {
     "grade": false,
     "grade_id": "cell-646c0d5f55e9f7d7",
     "locked": false,
     "schema_version": 3,
     "solution": true,
     "task": false
    }
   },
   "outputs": [],
   "source": [
    "def gaussian(a, b, d, f):\n",
    "    nodes, weights = np.polynomial.legendre.leggauss(d)\n",
    "    ### BEGIN SOLUTION\n",
    "    nodes_transformed = (a + b) / 2 + (b - a) / 2 * nodes\n",
    "    weights_transformed = (b - a) / 2 * weights\n",
    "    return np.sum(weights_transformed * f(nodes_transformed))\n",
    "    ### END SOLUTION"
   ]
  },
  {
   "cell_type": "markdown",
   "id": "86021284-e033-4013-9b82-57a4ead63df8",
   "metadata": {
    "nbgrader": {
     "grade": false,
     "grade_id": "cell-df55ee99deaf9198",
     "locked": true,
     "schema_version": 3,
     "solution": false,
     "task": false
    }
   },
   "source": [
    "We now run some tests for you to see if your function does what it is supposed to do."
   ]
  },
  {
   "cell_type": "code",
   "execution_count": null,
   "id": "c34446f1-b7f3-4e47-968e-3c27422386a6",
   "metadata": {
    "nbgrader": {
     "grade": false,
     "grade_id": "cell-2acb93fed6bc8136",
     "locked": true,
     "schema_version": 3,
     "solution": false,
     "task": false
    }
   },
   "outputs": [],
   "source": [
    "assert not (gaussian(-1, 1, 2, lambda x: x) is None), f\"your function 'gaussian' returned nothing, make sure to 'return' your result\";assert isinstance(G := gaussian(-1, 1, 2, lambda x: x), float), f\"expected 'gaussian' to return a floating-point number, but got {type(G)}\";assert np.isclose(G := gaussian(-1, 1, 2, lambda x: 1), 2), f\"'gaussian(-1, 1, 2, f)' for 'f(x) = 1' should return 'I(f) = 2', but got {G}\";assert np.isclose(G := gaussian(-1, 1, 2, lambda x: x), 0), f\"'gaussian(-1, 1, 2, f)' for 'f(x) = x' should return 'I(f) = 0', but got {G}\";assert np.isclose(G := gaussian(-1, 1, 2, lambda x: x**2), 2/3), f\"'gaussian(-1, 1, 2, f)' for 'f(x) = x^2' should return 'I(f) = 2/3', but got {G}\";assert np.isclose(G := gaussian(-1, 1, 2, lambda x: x**3), 0), f\"'gaussian(-1, 1, 2, f)' for 'f(x) = x^3' should return 'I(f) = 0', but got {G}\";assert np.isclose(G := gaussian(-1, 1, 2, lambda x: x**4), 2/9), f\"'gaussian(-1, 1, 2, f)' for 'f(x) = x^4' should return 'I(f) = 2/9', but got {G}\";assert np.isclose(G := gaussian(0, 2, 2, lambda x: x**2), 8 / 3), f\"'gaussian(0, 2, 2, f)' for 'f(x) = x^2' should return 'I(f) = 8/3', but got {G}\";assert np.isclose(G := gaussian(-2, 3, 2, lambda x: x**2), 35 / 3), f\"'gaussian(-2, 3, 2, f)' for 'f(x) = x^2' should return 'I(f) = 35/3', but got {G}\";print(\"Wow! We are impressed you managed to solve this hard exercise. Let us know during the exercise session! :)\")"
   ]
  },
  {
   "cell_type": "markdown",
   "id": "57db90b4-8b77-4c9d-91ef-f14b4f34e736",
   "metadata": {
    "nbgrader": {
     "grade": false,
     "grade_id": "cell-e624747908b7836a",
     "locked": true,
     "schema_version": 3,
     "solution": false,
     "task": false
    }
   },
   "source": [
    "<hr style=\"clear:both\">\n",
    "\n",
    "### Rediscovering Simpson's formula"
   ]
  },
  {
   "cell_type": "markdown",
   "id": "0040d794-fabd-4722-9490-98a446b3211e",
   "metadata": {
    "nbgrader": {
     "grade": false,
     "grade_id": "cell-459547486008d615",
     "locked": true,
     "schema_version": 3,
     "solution": false,
     "task": false
    }
   },
   "source": [
    "Consider a continuous function $g$ defined on the interval $[-1,1]$. We choose three quadrature nodes $x_0 = -1$, $x_1 = \\beta$ and $x_2 = 1$, where $\\beta$ is a real number between $-1$ and $1$, and we consider the following quadrature formula to approximate the integral $I(g)=\\int_{-1}^{1} g(x) dx$:\n",
    "\n",
    "$$\n",
    "Q(g) = \\sum_{j=0}^2 \\alpha_j \\, g(x_j) = \\alpha_0 \\, g(-1) + \\alpha_1 \\, g(\\beta) + \\alpha_2 \\, g(1).\n",
    "$$"
   ]
  },
  {
   "cell_type": "markdown",
   "id": "dd6ea857-e531-4f4d-9432-9059ccc36b7c",
   "metadata": {
    "nbgrader": {
     "grade": false,
     "grade_id": "cell-24846ca4a0960028",
     "locked": true,
     "points": 0,
     "schema_version": 3,
     "solution": false,
     "task": true
    }
   },
   "source": [
    "<div class=\"alert alert-success\">\n",
    "    \n",
    "**Exercise 9 (Theoretical):** Find the weights $\\alpha_0$, $\\alpha_1$, and $\\alpha_2$ (in terms of $\\beta$) so that the quadrature formula has a degree of exactness equal to 2.\n",
    "</div>\n",
    "\n",
    "=== BEGIN MARK SCHEME ===\n",
    "\n",
    "To check that a quadrature formula has a degree of exactness $r$, we simply check that it integrates exactly monomials $x^s$ for all $0 \\leq s \\leq r$ (by linearity of the formula).\n",
    "    \n",
    "We impose that the integrals of the functions $f_0(x)=1$, $f_1(x)=x$ and\n",
    "$f_2(x)=x^2$ are computed exactly by the quadrature formula:\n",
    "\n",
    "\\begin{align*}\n",
    "  &Q(f_0) =  \\alpha_0 + \\alpha_1 + \\alpha_2 = \\int_{-1}^1 1\n",
    "  dx = 2,\\\\\n",
    "  &Q(f_1) = - \\alpha_0 + \\beta \\alpha_1 + \\alpha_2 = \\int_{-1}^1 x\n",
    "  dx = 0,\\\\\n",
    "  &Q(f_2) = \\alpha_0 + \\beta^2 \\alpha_1 + \\alpha_2 = \\int_{-1}^1 x^2\n",
    "  dx = \\frac{2}{3}.\n",
    "\\end{align*}\n",
    "\n",
    "These conditions give the following expressions for the weights:\n",
    "\n",
    "\\begin{align*}\n",
    "\\alpha_0 &= 1 - \\frac{2(1 - \\beta)}{3 ( 1 - \\beta^2)} = \\frac{1+3\\beta}{3(1+\\beta)} \\\\ \n",
    "\\alpha_1 &= \\frac{4}{3(1-\\beta^2)} \\\\ \n",
    "\\alpha_2 &= 1 - \\frac{2}{3 ( 1 - \\beta)}  = \\frac{1-3\\beta}{3(1-\\beta)}\n",
    "\\end{align*}\n",
    "\n",
    "=== END MARK SCHEME ==="
   ]
  },
  {
   "cell_type": "markdown",
   "id": "427d04f0-9527-4b37-8300-bc389e34b6ce",
   "metadata": {
    "nbgrader": {
     "grade": false,
     "grade_id": "cell-75b3ffa98dff1712",
     "locked": true,
     "points": 0,
     "schema_version": 3,
     "solution": false,
     "task": true
    }
   },
   "source": [
    "<div class=\"alert alert-success\">\n",
    "    \n",
    "**Exercise 10 (Theoretical):** Find $\\beta$ such that the quadrature formula has a degree of exactness equal to $3$, namely\n",
    "\n",
    "$$\n",
    "Q(p) = \\int_{-1}^1 p(x) dx\n",
    "$$\n",
    "\n",
    "for every polynomial $p$ of degree $\\leq 3$. Does the resulting formula look familiar?\n",
    "</div>\n",
    "\n",
    "=== BEGIN MARK SCHEME ===\n",
    "\n",
    "We want now the formula to integrate exactly also the monomial $p(x) = x^3$, namely\n",
    "\n",
    "$$\n",
    "  Q(x^3) = - \\alpha_0 + \\beta^3 \\alpha_1 + \\alpha_2 = \\int_{-1}^1 x^3\n",
    "  dx = 0 \\ .\n",
    "$$\n",
    "\n",
    "We obtain the equation\n",
    "\n",
    "$$\n",
    "  -(1+3\\beta)(1-\\beta) + 4\\beta^3 + (1-3\\beta)(1+\\beta) = 0 \\qquad\n",
    "  \\Longrightarrow \\qquad 4\\beta(\\beta^2 -1) = 0.\n",
    "$$\n",
    "\n",
    "The only solution in the interval $(-1,1)$ is $\\beta=0$ and the weights become in this case\n",
    "\n",
    "$$\n",
    "\\alpha_0 = \\alpha_2 = \\frac{1}{3}, \\qquad \\alpha_1 = \\frac{4}{3}\\ .\n",
    "$$\n",
    "\n",
    "Hence, we have just rederived Simpson's formula.\n",
    "\n",
    "=== END MARK SCHEME ==="
   ]
  },
  {
   "cell_type": "markdown",
   "id": "2f48b6fb-9b45-4230-9285-c76e49273c05",
   "metadata": {
    "nbgrader": {
     "grade": false,
     "grade_id": "cell-063128b48771ba36",
     "locked": true,
     "schema_version": 3,
     "solution": false,
     "task": false
    }
   },
   "source": [
    "<hr style=\"clear:both\">\n",
    "\n",
    "## The end\n",
    "\n",
    "Good job! You have reached the end of the seventh exercise notebook."
   ]
  }
 ],
 "metadata": {
  "kernelspec": {
   "display_name": "Python 3 (ipykernel)",
   "language": "python",
   "name": "python3"
  },
  "language_info": {
   "codemirror_mode": {
    "name": "ipython",
    "version": 3
   },
   "file_extension": ".py",
   "mimetype": "text/x-python",
   "name": "python",
   "nbconvert_exporter": "python",
   "pygments_lexer": "ipython3",
   "version": "3.12.3"
  }
 },
 "nbformat": 4,
 "nbformat_minor": 5
}
