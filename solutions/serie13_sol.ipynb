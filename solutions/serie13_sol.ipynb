{
 "cells": [
  {
   "cell_type": "markdown",
   "id": "861ed5d5-cca8-4d4f-8501-351d923b8259",
   "metadata": {
    "nbgrader": {
     "grade": false,
     "grade_id": "cell-3a4bf5d512f8b7b0",
     "locked": true,
     "schema_version": 3,
     "solution": false,
     "task": false
    }
   },
   "source": [
    "## Numerical Analysis - Fall semester 2024\n",
    "\n",
    "# Serie 13 - Adaptive ODE solver and boundary value problem"
   ]
  },
  {
   "cell_type": "markdown",
   "id": "75f1e849-3ebd-46cf-91e6-1a29be6e5259",
   "metadata": {
    "nbgrader": {
     "grade": false,
     "grade_id": "cell-b05fee8731888648",
     "locked": true,
     "schema_version": 3,
     "solution": false,
     "task": false
    }
   },
   "source": [
    "Package imports."
   ]
  },
  {
   "cell_type": "code",
   "execution_count": null,
   "id": "6ac0ccbd-f185-4ff5-bd97-3fabdcd22b24",
   "metadata": {
    "nbgrader": {
     "grade": false,
     "grade_id": "cell-84ca2d071b290012",
     "locked": true,
     "schema_version": 3,
     "solution": false,
     "task": false
    }
   },
   "outputs": [],
   "source": [
    "import matplotlib.pyplot as plt\n",
    "import matplotlib as mpl\n",
    "import numpy as np"
   ]
  },
  {
   "cell_type": "markdown",
   "id": "b6a56f3e-0a74-41ac-94c2-48117207f82e",
   "metadata": {
    "nbgrader": {
     "grade": false,
     "grade_id": "cell-6501d12d1bc36a94",
     "locked": true,
     "schema_version": 3,
     "solution": false,
     "task": false
    }
   },
   "source": [
    "<hr style=\"clear:both\">\n",
    "\n",
    "### ODE solver with adaptive step size"
   ]
  },
  {
   "cell_type": "markdown",
   "id": "603cfc9b-421b-4956-a612-a75f16cfde32",
   "metadata": {
    "nbgrader": {
     "grade": false,
     "grade_id": "cell-dfa13c398d2abd20",
     "locked": true,
     "schema_version": 3,
     "solution": false,
     "task": false
    }
   },
   "source": [
    "Let us consider the ordinary differential equation:\n",
    "\n",
    "$$\n",
    "\\begin{cases}\n",
    "\\displaystyle \\frac{\\mathrm{d}u(t)}{\\mathrm{d}t} = f(t,u(t)) \\quad t \\in (0,T], \\\\\n",
    "u(0)=u_0\n",
    "\\end{cases}\n",
    "$$\n",
    "\n",
    "The goal is to compute an approximation of the solution with a certain given tolerance $tol$ using an adaptive step size, meaning $\\Delta t_n$ can change in every step. One such approach combines the forward Euler and Heun methods. It uses the forward Euler method to compute the approximation\n",
    "\n",
    "$$\n",
    "u^{n+1} = u^n + \\Delta t_n f(t_n, u^n),\n",
    "$$\n",
    "\n",
    "and checks if the approximation error\n",
    "\n",
    "$$\n",
    "\\frac{|u(t_{n+1}) - u^{n+1}|}{\\Delta t_n}\n",
    "$$\n",
    "\n",
    "is compared with $tol / T$, and the step size decreased or increased accordingly (see lecture notes for details). However, since $u(t_{n+1})$ is not known, it is replaced with\n",
    "\n",
    "$$\n",
    "\\hat{u}^{n+1} = u^{n} + \\frac{\\Delta t_n}{2} f(t_n, u^n) + \\frac{\\Delta t_n}{2} f(t_n + \\Delta t_n, u^n + \\Delta t_n f(t_n, u^n));\n",
    "$$\n",
    "the more accurate approximation from Heun's method."
   ]
  },
  {
   "cell_type": "markdown",
   "id": "329afb84-d812-46ff-8e1e-3dc9376cf3e1",
   "metadata": {
    "nbgrader": {
     "grade": false,
     "grade_id": "cell-13a79b976ea6caea",
     "locked": true,
     "schema_version": 3,
     "solution": false,
     "task": false
    }
   },
   "source": [
    "<div class=\"alert alert-success\">\n",
    "    \n",
    "**Exercise 1:** Complete the implementation of the ODE solver with adaptive step size (Algorithm 6.1 in the lecture notes) in the function `adaptive` below.\n",
    "</div>"
   ]
  },
  {
   "cell_type": "markdown",
   "id": "426834aa-cf6b-4688-8e3f-f980650fbec7",
   "metadata": {
    "nbgrader": {
     "grade": false,
     "grade_id": "cell-770f96a80e40498b",
     "locked": true,
     "schema_version": 3,
     "solution": false,
     "task": false
    }
   },
   "source": [
    "<div class=\"alert alert-warning\">\n",
    "    \n",
    "**Warning:** The function `adaptive` returns the array `u_hat`, which contains the Heun's method approximations $[\\hat{u}^{0}, \\hat{u}^{1}, \\hat{u}^{2}, \\dots]$. An approximation $\\hat{u}^{n+1}$ is only added to this array, once a step size $\\Delta t_n$ has been found with which the Euler's method verifies the tolerance. Otherwise the approximation is discarded and the step size $\\Delta t_n$ is decreased for an anew computation of the forward Euler and Heun's method approximations.\n",
    "</div>"
   ]
  },
  {
   "cell_type": "code",
   "execution_count": null,
   "id": "dbbbce34-174a-487c-b46f-4d18b8bbbbcf",
   "metadata": {
    "nbgrader": {
     "grade": false,
     "grade_id": "cell-a6e36180b19ebf53",
     "locked": false,
     "schema_version": 3,
     "solution": true,
     "task": false
    }
   },
   "outputs": [],
   "source": [
    "def adaptive(f, u_0, T, dt_init, tol):\n",
    "    # Set initial parameters and arrays\n",
    "    n = 0\n",
    "    dt = min(T, dt_init)\n",
    "    t = [0]\n",
    "    u = [u_0]\n",
    "    u_hat = [u_0]\n",
    "    \n",
    "    while t[n] < T:\n",
    "        ### BEGIN SOLUTION\n",
    "        # Euler and Heun steps\n",
    "        u_next_euler = u[n] + dt * f(t[n], u[n])\n",
    "        u_next_heun = u[n] + dt / 2 * f(t[n], u[n]) + dt / 2 * f(t[n] + dt, u_next_euler)\n",
    "\n",
    "        # Error estimate\n",
    "        err_est = abs(u_next_heun - u_next_euler) / dt\n",
    "\n",
    "        # Change step size depending on error estimate and tolerance\n",
    "        if err_est > tol / T:\n",
    "            dt = dt / 2\n",
    "        else:\n",
    "            t.append(t[n] + dt)\n",
    "            if err_est < tol / (2 * T):\n",
    "                dt = min(2 * dt, T - t[n+1])\n",
    "            else:\n",
    "                dt = min(dt, T - t[n+1])\n",
    "            u.append(u_next_euler)\n",
    "            u_hat.append(u_next_heun)\n",
    "            n = n + 1\n",
    "        ### END SOLUTION\n",
    "    return np.array(t), np.array(u_hat)"
   ]
  },
  {
   "cell_type": "markdown",
   "id": "79ac7c64-a3ed-4ccd-86ca-352382b07370",
   "metadata": {
    "nbgrader": {
     "grade": false,
     "grade_id": "cell-bc759d8a75673cbd",
     "locked": true,
     "schema_version": 3,
     "solution": false,
     "task": false
    }
   },
   "source": [
    "<div class=\"alert alert-success\">\n",
    "    \n",
    "**Exercise 2:** Use your implementation of the adaptive ODE solver to approximate the ODE from above with the data\n",
    "\n",
    "$$\n",
    "f(t,u)=t(1-u)+(1-t)e^{-t}, \\quad u_0=1, \\quad T=10, \\quad \\Delta t_{\\text{init}} = 0.1, \\quad tol=10^{-1},\n",
    "$$\n",
    "\n",
    "whose exact solution is given by $u(t)=e^{-t^2/2}-e^{-t}+1$. Plot the obtained solution with `plt.scatter(t, u)` and compare it with the exact solution. When do you observe smaller step sizes and when larger ones?\n",
    "</div>"
   ]
  },
  {
   "cell_type": "code",
   "execution_count": null,
   "id": "d01c80d8-410b-4ef7-9d5d-85f0f47289f0",
   "metadata": {
    "nbgrader": {
     "grade": false,
     "grade_id": "cell-b4a038d24d9a7ec9",
     "locked": false,
     "schema_version": 3,
     "solution": true,
     "task": false
    }
   },
   "outputs": [],
   "source": [
    "### BEGIN SOLUTION\n",
    "def f(t, u):\n",
    "    return t * (1 - u) + (1 - t) * np.exp(-t)\n",
    "\n",
    "def u(t):\n",
    "    return np.exp(-t ** 2 / 2) - np.exp(-t) + 1\n",
    "\n",
    "# Parameters\n",
    "u_0 = 1\n",
    "T = 10\n",
    "dt_0 = 0.1\n",
    "tol = 1e-1\n",
    "\n",
    "# Approximate the ODE\n",
    "t, u_adaptive = adaptive(f, u_0, T, dt_0, tol) \n",
    "u_exact = u(t)\n",
    "\n",
    "# Visualize the results\n",
    "plt.scatter(t, u_adaptive, label=\"adaptive solver\")\n",
    "plt.plot(t, u_exact, color=\"black\", linestyle=\"--\", label=\"exact\")\n",
    "plt.ylabel(r\"$u(t)$\")\n",
    "plt.xlabel(r\"$t$\")\n",
    "plt.grid()\n",
    "plt.legend()\n",
    "plt.show()\n",
    "\n",
    "# We see that the density of the discretization nodes in the interval [0, T] is way larger\n",
    "# where the function changes strongly. There are in fact only a few nodes in the interval\n",
    "# [6, 10] where we notice that the function is almost a straight line. Indeed, the bigger\n",
    "# the curvature of the solution is, the smaller the time step needs to be for the estimator\n",
    "# to satisfy the requested tolerance. This is because the forward Euler method either\n",
    "# overshoots or undershoots the exact solution if the time step is big.\n",
    "\n",
    "### END SOLUTION"
   ]
  },
  {
   "cell_type": "markdown",
   "id": "baba6d8a-5eab-487b-ae21-6a6c8cc55584",
   "metadata": {
    "nbgrader": {
     "grade": false,
     "grade_id": "cell-8455843283a46a04",
     "locked": true,
     "schema_version": 3,
     "solution": false,
     "task": false
    }
   },
   "source": [
    "<div class=\"alert alert-success\">\n",
    "    \n",
    "**Exercise 3:** Repeat the previous exercise with\n",
    "\n",
    "$$\n",
    "f(t,u)=1+\\frac{e^{t/\\varepsilon}}{\\varepsilon(1-e^{1/\\varepsilon})}, \\quad u_0=0, \\quad T=1, \\quad \\Delta t_{\\text{init}} = 0.1, \\quad tol=10^{-3}\n",
    "$$\n",
    "whose exact solution is given by $u(t)=t-\\frac{1-e^{t/\\varepsilon}}{1-e^{1/\\varepsilon}}$, for $\\varepsilon=0.1,0.01$.\n",
    "</div>"
   ]
  },
  {
   "cell_type": "code",
   "execution_count": null,
   "id": "e23f714e-7da2-4609-ac99-c37ec6e014a2",
   "metadata": {
    "nbgrader": {
     "grade": false,
     "grade_id": "cell-0a930d8639e37c77",
     "locked": false,
     "schema_version": 3,
     "solution": true,
     "task": false
    }
   },
   "outputs": [],
   "source": [
    "### BEGIN SOLUTION\n",
    "def f(t, u, epsilon):\n",
    "    return 1 + np.exp(t / epsilon) / (epsilon * (1 - np.exp(1 / epsilon)))\n",
    "\n",
    "def u(t, epsilon):\n",
    "    return t - (1 - np.exp(t / epsilon)) / (1 - np.exp(1 / epsilon))\n",
    "\n",
    "# Parameters\n",
    "u_0 = 0\n",
    "T = 1\n",
    "dt_init = 0.1\n",
    "tol = 1e-3\n",
    "\n",
    "# Define function\n",
    "def f_epsilon_1(t, u):\n",
    "    return f(t, u, epsilon=0.1)\n",
    "    \n",
    "# Approximate the ODE\n",
    "t_1, u_adaptive_1 = adaptive(f_epsilon_1, u_0, T, dt_init, tol) \n",
    "u_exact_1 = u(t_1, epsilon=0.1)\n",
    "\n",
    "# Visualize the results\n",
    "plt.title(r\"$\\varepsilon = 0.1$\")\n",
    "plt.scatter(t_1, u_adaptive_1, label=\"adaptive solver\")\n",
    "plt.plot(t_1, u_exact_1, color=\"black\", linestyle=\"--\", label=\"exact\")\n",
    "plt.ylabel(r\"$u(t)$\")\n",
    "plt.xlabel(r\"$t$\")\n",
    "plt.grid()\n",
    "plt.legend()\n",
    "plt.show()\n",
    "\n",
    "# Define function\n",
    "def f_epsilon_2(t, u):\n",
    "    return f(t, u, epsilon=0.01)\n",
    "    \n",
    "# Approximate the ODE\n",
    "t_2, u_adaptive_2 = adaptive(f_epsilon_2, u_0, T, dt_init, tol) \n",
    "u_exact_2 = u(t_2, epsilon=0.01)\n",
    "\n",
    "# Visualize the results\n",
    "plt.title(r\"$\\varepsilon = 0.01$\")\n",
    "plt.scatter(t_2, u_adaptive_2, label=\"adaptive solver\")\n",
    "plt.plot(t_2, u_exact_2, color=\"black\", linestyle=\"--\", label=\"exact\")\n",
    "plt.ylabel(r\"$u(t)$\")\n",
    "plt.xlabel(r\"$t$\")\n",
    "plt.grid()\n",
    "plt.legend()\n",
    "plt.show()\n",
    "\n",
    "# In this case, the solution is linear except around t = T.\n",
    "# A few nodes are therefore necessary outside of this region,\n",
    "# as confirmed by the obtained results, shown on the two plots.\n",
    "\n",
    "### END SOLUTION"
   ]
  },
  {
   "cell_type": "markdown",
   "id": "a911df3e-5eeb-42fc-92a5-652cdc77f8c1",
   "metadata": {
    "nbgrader": {
     "grade": false,
     "grade_id": "cell-d2b019642edfe820",
     "locked": true,
     "schema_version": 3,
     "solution": false,
     "task": false
    }
   },
   "source": [
    "<hr style=\"clear:both\">\n",
    "\n",
    "### Dirichlet vs mixed boundary conditions"
   ]
  },
  {
   "cell_type": "markdown",
   "id": "6b7f95e5-0b59-43ee-a83b-da3622df9b16",
   "metadata": {
    "nbgrader": {
     "grade": false,
     "grade_id": "cell-d70b5cab203885a8",
     "locked": true,
     "schema_version": 3,
     "solution": false,
     "task": false
    }
   },
   "source": [
    "We consider the bonudary value problem\n",
    "\n",
    "$$\n",
    "\\begin{cases}\n",
    "- \\displaystyle \\frac{\\partial^2 u}{\\partial x^2}(x) = f(x), \\qquad x \\in (0, 1), \\\\\n",
    "u(0) = \\alpha,~u(1) = \\beta.\n",
    "\\end{cases}\n",
    "$$\n",
    "\n",
    "After replacing the derivative with a second order finite difference approximation at the $n + 2$ evenly spaced nodes $0 = x_0 < x_1 < \\cdots < x_{n + 1} = 1$, separated by $h > 0$, we get the discretized problem\n",
    "\n",
    "$$\n",
    "\\begin{cases}\n",
    "\\displaystyle \\frac{- u_{j-1} + 2 u_j - u_{j + 1}}{h^2} = f(x_j), \\qquad j = 1, 2, \\dots, n \\\\\n",
    "u_0 = \\alpha,~u_{n + 1} = \\beta\n",
    "\\end{cases}\n",
    "$$\n",
    "\n",
    "This can be compactly written as a system\n",
    "\n",
    "$$\n",
    "A \\mathbf{u} = \\mathbf{f}\n",
    "$$\n",
    "\n",
    "where $\\mathbf{u} = [u^{1}, u^{2}, \\dots, u^{n}]^{\\top}$ is the unknown solution, $\\mathbf{f} = [f(x_1) + \\alpha / h^2, f(x_2), \\dots, f(x_{n - 1}),  f(x_{n}) + \\beta / h^2]^{\\top}$, and\n",
    "\n",
    "$$\n",
    "A = \\frac{1}{h^2} \n",
    "\\begin{pmatrix} \n",
    "    2 & -1 & 0 & \\cdots & 0 \\\\\n",
    "    -1 & 2 & -1 &  & \\vdots \\\\\n",
    "    0 & -1 &  \\ddots & \\ddots & 0 \\\\\n",
    "    \\vdots & & \\ddots & 2 & -1 \\\\\n",
    "    0 & \\cdots & 0 & -1 & 2 \\\\\n",
    "\\end{pmatrix} \\in \\mathbb{R}^{n \\times n}.\n",
    "$$\n",
    "\n",
    "The function `solve_dirichlet` computes the finite difference approximation `u`, i.e. an array whose entries contain the approximations $u^{j} \\approx u(x_i), j= 0, 1, \\dots, n+1$ of the solution for some right-hand side $f$ and some values $\\alpha$ and $\\beta$."
   ]
  },
  {
   "cell_type": "code",
   "execution_count": null,
   "id": "801b6e10-e988-4574-968a-2f6c525340f2",
   "metadata": {
    "nbgrader": {
     "grade": false,
     "grade_id": "cell-248acd94da6fd038",
     "locked": true,
     "schema_version": 3,
     "solution": false,
     "task": false
    }
   },
   "outputs": [],
   "source": [
    "def solve_dirichlet(n, f, alpha, beta):\n",
    "    h = 1 / (n + 1)\n",
    "    \n",
    "    # Set up system matrix and right-hand side\n",
    "    A = 1 / h ** 2 * (- np.diag(np.ones(n - 1), -1) + np.diag(2 * np.ones(n)) - np.diag(np.ones(n - 1), 1))\n",
    "    x = np.linspace(h, 1 - h, n)\n",
    "    f_vec = f(x)\n",
    "    f_vec[0] = f_vec[0] + alpha / h ** 2\n",
    "    f_vec[-1] = f_vec[-1] + beta / h ** 2\n",
    "\n",
    "    # Compose solution\n",
    "    u = np.zeros(n + 2)\n",
    "    u[1:-1] = np.linalg.solve(A, f_vec)\n",
    "    u[0] = alpha\n",
    "    u[-1] = beta\n",
    "    return u"
   ]
  },
  {
   "cell_type": "markdown",
   "id": "3a5d44bc-e930-4dcc-b6b1-0f22023cc993",
   "metadata": {
    "nbgrader": {
     "grade": false,
     "grade_id": "cell-d87d6ad48988120f",
     "locked": true,
     "schema_version": 3,
     "solution": false,
     "task": false
    }
   },
   "source": [
    "<div class=\"alert alert-success\">\n",
    "    \n",
    "**Exercise 4:** For $n = 2^k, k=2, 3, \\dots, 10$, use the function `solve_dirichlet` to solve the Dirichlet boundary value problem. Take $f(x) = \\sin^2(\\frac{\\pi}{2}x)$, $\\alpha = 0$, and $\\beta = 1$, and compute the error $\\max_{j = 0, 1, \\dots, n+1} |u(x_j) - u^j|$ of the approximate solution $u^j$ to the exact solution $u(x) = (\\frac{5}{4}-\\frac{1}{\\pi^2}) x - \\frac{x^2}{4} + \\frac{1 - \\cos(\\pi x)}{2 \\pi^2}$. Plot the error in terms of $h$. Is this consistent with Theorem 7.2 in the lecture notes? \n",
    "</div>"
   ]
  },
  {
   "cell_type": "code",
   "execution_count": null,
   "id": "335909dd-e02d-4a34-89f8-22b64dc995a5",
   "metadata": {
    "nbgrader": {
     "grade": false,
     "grade_id": "cell-39d65d65471a58c9",
     "locked": false,
     "schema_version": 3,
     "solution": true,
     "task": false
    }
   },
   "outputs": [],
   "source": [
    "### BEIGN SOLUTION\n",
    "n_list = 2 ** np.arange(2, 11)\n",
    "err_list = []\n",
    "h_list = 1 / (n_list + 1)\n",
    "\n",
    "def f(x):\n",
    "    return np.sin(x * np.pi / 2) ** 2\n",
    "\n",
    "alpha = 0\n",
    "beta = 1\n",
    "for n in n_list:\n",
    "    h = 1 / (n + 1)\n",
    "    u = solve_dirichlet(n, f, alpha, beta)\n",
    "    t = np.linspace(0, 1, n + 2)\n",
    "    u_ex = (5 / 4 - 1 / np.pi ** 2) * t - t ** 2 / 4 + (1 - np.cos(np.pi * t)) / (2 * np.pi ** 2)\n",
    "    err_list.append(np.max(np.abs(u_ex - u)))\n",
    "\n",
    "plt.loglog(h_list, err_list, label=r\"approximation error\")\n",
    "plt.loglog(h_list, h_list ** 2, color=\"black\", linestyle=\"--\", label=r\"$h^2$\")\n",
    "plt.xlabel(r\"$h$\")\n",
    "plt.legend()\n",
    "plt.grid()\n",
    "plt.show()\n",
    "\n",
    "# Since the exact solution is four times continuously differentiable,\n",
    "# we have a second order convergence.\n",
    "\n",
    "### END SOLUTION"
   ]
  },
  {
   "cell_type": "markdown",
   "id": "cb96ffc8-a149-47c6-96a9-077b06c355a4",
   "metadata": {
    "nbgrader": {
     "grade": false,
     "grade_id": "cell-8eb59a821f31cb88",
     "locked": true,
     "schema_version": 3,
     "solution": false,
     "task": false
    }
   },
   "source": [
    "Now consider the new problem\n",
    "\n",
    "$$\n",
    "\\begin{cases}\n",
    "- \\displaystyle \\frac{\\partial^2 u}{\\partial x^2}(x) = f(x), \\qquad x \\in (0, 1), \\\\\n",
    "u(0) = \\alpha,~u(1) + u'(1) = \\beta,\n",
    "\\end{cases}\n",
    "$$\n",
    "\n",
    "where merely one of the boundary conditions changed to a mixed boundary condition in terms of the function value and its derivative.\n"
   ]
  },
  {
   "cell_type": "markdown",
   "id": "5584695b-2c8e-41db-9349-3f2b9c7aa9e9",
   "metadata": {
    "nbgrader": {
     "grade": false,
     "grade_id": "cell-6d4e3282e7a1cb4e",
     "locked": true,
     "points": 0,
     "schema_version": 3,
     "solution": false,
     "task": true
    }
   },
   "source": [
    "<div class=\"alert alert-success\">\n",
    "    \n",
    "**Exercise 5 (Theoretical):** Derive the linear system $A \\mathbf{u} = \\mathbf{f}$ whose solution is the finite difference approximation of the system.\n",
    "\n",
    "*Hint:* Replace the term $u'(1)$ by its backward finite differences approximation. \n",
    "</div>\n",
    "\n",
    "=== BEGIN MARK SCHEME ===\n",
    "\n",
    "We replace the derivatives by their finite difference approximation\n",
    "\n",
    "$$\n",
    "\\begin{cases}\n",
    "\\displaystyle \\frac{- u_{j-1} + 2 u_j - u_{j + 1}}{h^2} = f(x_j), \\qquad j = 1, 2, \\dots, n \\\\\n",
    "u_0 = \\alpha,~u_{n + 1} + \\frac{u_{n + 1} - u_n}{h} = \\beta.\n",
    "\\end{cases}\n",
    "$$\n",
    "\n",
    "This can again be compactly written as a system\n",
    "\n",
    "$$\n",
    "A \\mathbf{u} = \\mathbf{f}\n",
    "$$\n",
    "\n",
    "where $\\mathbf{u} = [u^{1}, u^{2}, \\dots, u^{n}, u^{n + 1}]^{\\top}$ is the unknown solution, $\\mathbf{f} = [f(x_1) + \\alpha / h^2, f(x_2), \\dots, f(x_{n - 1}),  f(x_{n}), \\beta / h]^{\\top}$, and\n",
    "\n",
    "$$\n",
    "A = \\frac{1}{h^2} \n",
    "\\begin{pmatrix} \n",
    "    2 & -1 & 0 & \\cdots & 0 \\\\\n",
    "    -1 & 2 & -1 &  & \\vdots \\\\\n",
    "    0 & -1 & \\ddots & \\ddots & 0 \\\\\n",
    "    \\vdots & & \\ddots & 2 & -1 \\\\\n",
    "    0 & \\cdots & 0 & -1 & 1 + h \\\\\n",
    "\\end{pmatrix} \\in \\mathbb{R}^{(n + 1) \\times (n + 1)}.\n",
    "$$\n",
    "\n",
    "=== END MARK SCHEME ==="
   ]
  },
  {
   "cell_type": "markdown",
   "id": "6feded22-d2c5-4040-994e-59c2d830c1a9",
   "metadata": {
    "nbgrader": {
     "grade": false,
     "grade_id": "cell-ea5954499eeadfa8",
     "locked": true,
     "schema_version": 3,
     "solution": false,
     "task": false
    }
   },
   "source": [
    "<div class=\"alert alert-success\">\n",
    "    \n",
    "**Exercise 6:** Implement the function `solve_mixed`, which assembles the matrix $A$ and the vector $\\mathbf{f}$, and uses them to compute the approximate finite differences solution.\n",
    "\n",
    "*Hint:* You can copy the code from the function `solve_dirichlet`, and will just have to adjust a few lines.\n",
    "</div>"
   ]
  },
  {
   "cell_type": "code",
   "execution_count": null,
   "id": "1f89a9fa-d912-4c47-808e-e6531b0d540c",
   "metadata": {
    "nbgrader": {
     "grade": false,
     "grade_id": "cell-de0e436077022003",
     "locked": false,
     "schema_version": 3,
     "solution": true,
     "task": false
    }
   },
   "outputs": [],
   "source": [
    "def solve_mixed(n, f, alpha, beta):\n",
    "    ### BEGIN SOLUTION\n",
    "    h = 1 / (n + 1)\n",
    "\n",
    "    # Set up system matrix and right-hand side\n",
    "    A = 1 / h ** 2 * (- np.diag(np.ones(n), -1) + np.diag(2 * np.ones(n + 1)) - np.diag(np.ones(n), 1))\n",
    "    A[-1, -1] = (h + 1) / h ** 2\n",
    "    x = np.linspace(h, 1 - h, n)\n",
    "    f_vec = f(x)\n",
    "    f_vec[0] = f_vec[0] + alpha / h ** 2\n",
    "    f_vec = np.append(f_vec, beta / h)\n",
    "\n",
    "    # Compose solution\n",
    "    u = np.zeros(n + 2)\n",
    "    u[1:] = np.linalg.solve(A, f_vec)\n",
    "    u[0] = alpha\n",
    "    ### END SOLUTION\n",
    "    return u"
   ]
  },
  {
   "cell_type": "markdown",
   "id": "dce59419-407e-426c-b120-7ad91b1769bc",
   "metadata": {
    "nbgrader": {
     "grade": false,
     "grade_id": "cell-3d3c64e09aaaefa8",
     "locked": true,
     "schema_version": 3,
     "solution": false,
     "task": false
    }
   },
   "source": [
    "<div class=\"alert alert-success\">\n",
    "    \n",
    "**Exercise 7:** For $n = 2^k, k=2, 3, \\dots, 10$, use the function `solve_mixed` you have implemented in the previous exercise to solve the boundary value problem. Take $f(x) = \\sin^2(\\frac{\\pi}{2} x)$, $\\alpha = 0$, and $\\beta = \\frac{7}{4} - \\frac{1}{\\pi^2}$, and compute the error $\\max_{j = 0, 1, \\dots, n+1} |u(x_j) - u^j|$ of the approximate solution $u^j$ to the exact solution, which is again $u(x) = (\\frac{5}{4}-\\frac{1}{\\pi^2}) x - \\frac{x^2}{4} + \\frac{1 - \\cos(\\pi x)}{2 \\pi^2}$. Plot the error in terms of $h$. What order of convergence do you observe?  Can you explain why?\n",
    "</div>"
   ]
  },
  {
   "cell_type": "code",
   "execution_count": null,
   "id": "e4d0acc1-223e-4bed-b7c7-221602af886a",
   "metadata": {
    "nbgrader": {
     "grade": false,
     "grade_id": "cell-ad3d376876938a9c",
     "locked": false,
     "schema_version": 3,
     "solution": true,
     "task": false
    }
   },
   "outputs": [],
   "source": [
    "### BEGIN SOLUTION\n",
    "n_list = 2 ** np.arange(2, 11)\n",
    "err_list = []\n",
    "h_list = 1 / (n_list + 1)\n",
    "\n",
    "def f(x):\n",
    "    return np.sin(x * np.pi / 2) ** 2\n",
    "\n",
    "alpha = 0\n",
    "beta =  (7 / 4 - 1 / np.pi ** 2)\n",
    "for n in n_list:\n",
    "    h = 1 / (n + 1)\n",
    "    u = solve_mixed(n, f, alpha, beta)\n",
    "    t = np.linspace(0, 1, n + 2)\n",
    "    u_ex = (5 / 4 - 1 / np.pi ** 2) * t - t ** 2 / 4 + (1 - np.cos(np.pi * t)) / (2 * np.pi ** 2)\n",
    "    err_list.append(np.max(np.abs(u_ex - u)))\n",
    "\n",
    "plt.loglog(h_list, err_list, label=r\"approximation error\")\n",
    "plt.loglog(h_list, h_list, color=\"black\", linestyle=\"--\", label=r\"$h$\")\n",
    "plt.xlabel(r\"$h$\")\n",
    "plt.legend()\n",
    "plt.grid()\n",
    "plt.show()\n",
    "\n",
    "# Even though only the boundary condition is different, the order of the\n",
    "# method has decreased from 2 to 1. This happened because the forward \n",
    "# finite difference approximation of u' is only of order 1.\n",
    "\n",
    "### END SOLUTION"
   ]
  },
  {
   "cell_type": "markdown",
   "id": "8f852c22-fc8b-4a37-893a-ec7f98d185f3",
   "metadata": {
    "nbgrader": {
     "grade": false,
     "grade_id": "cell-b08a4ed7f026676b",
     "locked": true,
     "schema_version": 3,
     "solution": false,
     "task": false
    }
   },
   "source": [
    "<hr style=\"clear:both\">\n",
    "\n",
    "### Modelling Earth's surface temperature"
   ]
  },
  {
   "cell_type": "markdown",
   "id": "23958d7b-c07f-437c-b7be-4bbc7a09b3dc",
   "metadata": {
    "nbgrader": {
     "grade": false,
     "grade_id": "cell-07b10f002cdca9d6",
     "locked": true,
     "schema_version": 3,
     "solution": false,
     "task": false
    }
   },
   "source": [
    "We want to simulate the temperature of the Earth's surface until a depth of $5$ meters during four days ($96$ hours). The temperature at a time $t$ (in hours) and a depth $x$ (in meters) is denoted with $T(t, x)$ (in degree Celsius). We assume that at a depth of $5$ m, the temperature is constant and equal to $T(t, x = 5~\\mathrm{m}) = 0~^{\\circ} \\mathrm{C}$. The top of the surface is periodically heated by the sun during the day and cools off during the night. This is modelled with $T(t, x = 0~\\mathrm{m}) = \\hat{T} \\cos(\\omega_0 t)$ where $\\omega_0 = \\pi / 12~\\mathrm{h}^{-1}$  and $\\hat{T} = 10~^{\\circ} \\mathrm{C}$. We assume that at the start of the simulation, the temperature at any depth is $0~^{\\circ} \\mathrm{C}$, i.e. $T(t = 0~\\mathrm{h}, x) = 0~^{\\circ} \\mathrm{C}$.\n",
    "\n",
    "The evolution of the temperature $T(t, x)$ can is modelled by the heat equation\n",
    "\n",
    "$$\n",
    "\\frac{\\partial T(t, x)}{\\partial t} = \\alpha \\frac{\\partial^2 T(t, x)}{\\partial x^2}.\n",
    "$$\n",
    "\n",
    "where $\\alpha = 0.03~\\mathrm{m}^2 / \\mathrm{s}$ is the diffusion coefficient of the Earth's surface.\n",
    "\n",
    "To approximate the solution to the heat equation, we discretize the time interval $[0, 96]$ into $n_t + 2$ time steps $t_j, j = 0, 1, 2, \\dots, n_t + 1$, separated by $\\Delta t$, and the depth interval $[0, 5]$ into $n_x + 2$ depth steps $x_i, i = 0, 1, 2, \\dots, n_x + 1$, separated by $\\Delta x$, and use the finite differences approximation to compute the temperature values $T(t_j, x_i)$ on the grid $\\{(t_j = j \\Delta t, x_i = i \\Delta x), j = 0, 1, 2, \\dots, n_t + 1, i = 0, 1, 2, \\dots, n_x + 1\\}$."
   ]
  },
  {
   "cell_type": "markdown",
   "id": "4bd6035d-36a8-4b3a-80e9-16cae58ad0a0",
   "metadata": {
    "nbgrader": {
     "grade": false,
     "grade_id": "cell-183a99e2d48a37a6",
     "locked": true,
     "points": 0,
     "schema_version": 3,
     "solution": false,
     "task": true
    }
   },
   "source": [
    "<div class=\"alert alert-success\">\n",
    "    \n",
    "**Exercise 8 (Theoretical):** Write down the discretized heat equation on the grid. That is, replace the derivative $\\frac{\\partial T(t_j, x_i)}{\\partial t}$ by its forward finite differences approximation and $\\frac{\\partial^2 T(t_j, x_i)}{\\partial x^2}$ by its standard finite differences approximations in terms of their adjacent grid points.\n",
    "</div>\n",
    "\n",
    "=== BEGIN MARK SCHEME ===\n",
    "\n",
    "The forward finite differences approximation is\n",
    "\n",
    "$$\n",
    "\\frac{\\partial T( t_j, x_i)}{\\partial t} \\approx \\frac{T(t_{j + 1}, x_i) - T( t_j, x_i)}{\\Delta t}.\n",
    "$$\n",
    "\n",
    "The finite differences approximation of the second order derivative is\n",
    "\n",
    "$$\n",
    "\\frac{\\partial^2 T( t_j, x_i)}{\\partial x^2} \\approx \\frac{T(t_j, x_{i - 1}) - 2 T( t_j, x_i) + T(t_j, x_{i + 1})}{\\Delta x^2}.\n",
    "$$\n",
    "\n",
    "Plugging these approximations into the heat equation, we get the discretized heat equation\n",
    "\n",
    "$$\n",
    "\\frac{T(t_{j+1}, x_i) - T( t_j, x_i)}{\\Delta t} = \\alpha \\frac{T(t_j, x_{i - 1}) - 2 T( t_j, x_i) + T(t_j, x_{i + 1})}{\\Delta x^2}.\n",
    "$$\n",
    "\n",
    "=== END MARK SCHEME ==="
   ]
  },
  {
   "cell_type": "markdown",
   "id": "9e9d54ae-7b66-4328-8d6d-5220e62ef6dd",
   "metadata": {
    "nbgrader": {
     "grade": false,
     "grade_id": "cell-53af878db3ce0912",
     "locked": true,
     "points": 0,
     "schema_version": 3,
     "solution": false,
     "task": true
    }
   },
   "source": [
    "<div class=\"alert alert-success\">\n",
    "    \n",
    "**Exercise 9 (Theoretical):** Rearrange the discretized heat equation from the previous exercise for $T(t_{j+1}, x_i)$, such that it reads\n",
    "\n",
    "$$\n",
    "T(t_{j+1}, x_i) = \\gamma T(t_j, x_{i - 1}) + (1 - 2 \\gamma) T( t_j, x_i) + \\gamma T(t_j, x_{i + 1})\n",
    "$$\n",
    "\n",
    "for some constant $\\gamma$, which you should express in terms of $\\alpha$, $\\Delta t$, and $\\Delta x$. \n",
    "</div>\n",
    "\n",
    "=== BEGIN MARK SCHEME ===\n",
    "\n",
    "The discretized heat equation is\n",
    "\n",
    "$$\n",
    "\\frac{T(t_{j+1}, x_i) - T( t_j, x_i)}{\\Delta t} = \\alpha \\frac{T(t_j, x_{i - 1}) - 2 T( t_j, x_i) + T(t_j, x_{i + 1})}{\\Delta x^2}.\n",
    "$$\n",
    "\n",
    "Rearranging the terms for $T(t_{j+1}, x_i)$ results in\n",
    "\n",
    "\\begin{align}\n",
    "T(t_{j+1}, x_i) \n",
    "&= T( t_j, x_i) + \\alpha \\Delta t \\frac{T(t_j, x_{i - 1}) - 2 T( t_j, x_i) + T(t_j, x_{i + 1})}{\\Delta x^2} \\\\\n",
    "&= \\frac{\\alpha \\Delta t}{\\Delta x^2} T(t_j, x_{i - 1}) + (1 - \\frac{2 \\alpha \\Delta t}{\\Delta x^2}) T( t_j, x_i) + \\frac{\\alpha \\Delta t}{\\Delta x^2} T(t_j, x_{i + 1}) \\\\\n",
    "&= \\gamma T(t_j, x_{i - 1}) + (1 - 2 \\gamma) T( t_j, x_i) + \\gamma T(t_j, x_{i + 1}) \\\\\n",
    "\\end{align}\n",
    "\n",
    "with $\\gamma = \\frac{\\alpha \\Delta t}{\\Delta x^2}$.\n",
    "\n",
    "=== END MARK SCHEME ==="
   ]
  },
  {
   "cell_type": "markdown",
   "id": "02e8df7b-a830-4692-8a15-91797144f3f7",
   "metadata": {
    "nbgrader": {
     "grade": false,
     "grade_id": "cell-54e6be6545cc6735",
     "locked": true,
     "schema_version": 3,
     "solution": false,
     "task": false
    }
   },
   "source": [
    "Thanks to the formula from Exercise 5, and thanks to the boundary conditions, we can now determine the temperature at all times and  depths on the grid. To do this, we start from $t_0$, and fill in the temperature values for the depths $x_i, i=1, 2, \\dots, n_x$ at $t_1$ using the formula from Exercise 5, and then proceed in the same manner for $t_2, t_3, \\dots$ Running the below cell will provide you with a schematic illustration of what this process looks like."
   ]
  },
  {
   "cell_type": "code",
   "execution_count": null,
   "id": "620c9261-9a53-4fcd-b649-9867043fef7a",
   "metadata": {
    "nbgrader": {
     "grade": false,
     "grade_id": "cell-eee085c24cbf979e",
     "locked": true,
     "schema_version": 3,
     "solution": false,
     "task": false
    }
   },
   "outputs": [],
   "source": [
    "fig, ax = plt.subplots(); ax.axis(\"off\"); t = np.linspace(-0.25, 0.75, 9); x = np.linspace(0, 1, 7); tv, xv = np.meshgrid(t, x); ax.scatter(tv, xv, s=16, color=\"black\", label=\"boundary values\"); t = np.linspace(0, 0.75, 7); x = np.linspace(0.168, 0.668, 4); tv, xv = np.meshgrid(t, x); ax.scatter(tv, xv, s=25, color=\"red\", label=\"unknown\"); plt.legend(); ax.add_patch(mpl.patches.Circle((0, 0.67), 0.03, fill=False, edgecolor=\"black\", linewidth=2)); ax.add_patch(mpl.patches.Circle((0, 0.5), 0.03, fill=False, edgecolor=\"black\", linewidth=2)); ax.add_patch(mpl.patches.Circle((0, 0.33), 0.03, fill=False, edgecolor=\"black\", linewidth=2)); ax.add_patch(mpl.patches.Circle((0.125, 0.5), 0.03, fill=False, edgecolor=\"black\", linewidth=2)); ax.add_patch(mpl.patches.Arrow(0, 0.67, 0.12, -0.12, color=\"black\", width=0.05)); ax.add_patch(mpl.patches.Arrow(0, 0.33, 0.12, 0.12, color=\"black\", width=0.05)); ax.add_patch(mpl.patches.Arrow(0, 0.5, 0.09, 0, color=\"black\", width=0.05)); ax.text(-0.04, 0.57, \"$T(t_j, x_i)$\", fontsize=12, horizontalalignment=\"center\", verticalalignment=\"center\"); ax.text(-0.06, 0.4, \"$T(t_j, x_{i+1})$\", fontsize=12, horizontalalignment=\"center\", verticalalignment=\"center\"); ax.text(-0.06, 0.74, \"$T(t_j, x_{i-1})$\", fontsize=12, horizontalalignment=\"center\", verticalalignment=\"center\"); ax.text(0.22, 0.56, \"$T(t_{j+1}, x_i)$\", fontsize=12, horizontalalignment=\"center\", verticalalignment=\"center\"); ax.add_patch(mpl.patches.Arrow(-0.25, 1, 0, -1.1, color=\"black\", width=0.1)); ax.add_patch(mpl.patches.Arrow(-0.25, 1, 1.1, 0, color=\"black\", width=0.1)); ax.text(0.8, 1.1, \"$t$\", fontsize=20, horizontalalignment=\"center\", verticalalignment=\"center\"); ax.text(-0.3, -0.1, \"$x$\", fontsize=20, horizontalalignment=\"center\", verticalalignment=\"center\"); "
   ]
  },
  {
   "cell_type": "markdown",
   "id": "489b7d8b-6323-48c0-82d8-11d98528d885",
   "metadata": {
    "nbgrader": {
     "grade": false,
     "grade_id": "cell-158cad4b94cbdb59",
     "locked": true,
     "schema_version": 3,
     "solution": false,
     "task": false
    }
   },
   "source": [
    "Below, we provide you with the function `plot_temperature_profile` which takes as an input the $(n_t + 2) \\times (n_x + 2)$ NumPy array $T$, whose entries are the temperatures $T[j, i] = T(t_j, x_i)$ on the grid, and visualizes this temperature evolution in a plot."
   ]
  },
  {
   "cell_type": "code",
   "execution_count": null,
   "id": "e3878810-866e-4926-b4ad-0bc542f0c805",
   "metadata": {
    "nbgrader": {
     "grade": false,
     "grade_id": "cell-aa90013834981cb0",
     "locked": true,
     "schema_version": 3,
     "solution": false,
     "task": false
    }
   },
   "outputs": [],
   "source": [
    "def plot_temperature_profile(T, t_max=96, x_max=5):\n",
    "    fig, ax = plt.subplots()\n",
    "\n",
    "    n_t = T.shape[0] - 2\n",
    "    n_x = T.shape[1] - 2\n",
    "    \n",
    "    im = plt.imshow(T.T, cmap=\"plasma\", interpolation=\"gaussian\")\n",
    "    plt.colorbar(im, label=r\"temperature $T$ ($^{\\circ}$C)\", orientation=\"horizontal\")\n",
    "    plt.xlabel(r\"time $t$ (h)\")\n",
    "    plt.ylabel(r\"depth $x$ (m)\")\n",
    "    plt.xticks(np.linspace(0, n_t + 1, 5).astype(int), np.linspace(0, t_max, 5).astype(int))\n",
    "    plt.yticks(np.linspace(0, n_x + 1, 5).astype(int), np.linspace(0, x_max, 5).astype(int))"
   ]
  },
  {
   "cell_type": "markdown",
   "id": "77ebc2c8-79cf-461c-99e9-25df0109bd35",
   "metadata": {
    "nbgrader": {
     "grade": false,
     "grade_id": "cell-e90a012d561719dd",
     "locked": true,
     "schema_version": 3,
     "solution": false,
     "task": false
    }
   },
   "source": [
    "<div class=\"alert alert-success\">\n",
    "    \n",
    "**Exercise 10:** Approximate the temperature $T(t_j, x_i)$ at the discrete times $t_j, j = 0, 1, 2, \\dots, n_t + 1$ and depths $x_i, i = 0, 1, 2, \\dots, n_x + 1$ with the procedure described above. Use $\\Delta t = 1~\\mathrm{h}$ and $\\Delta x = 0.25~\\mathrm{m}$. Visualize the approximation using the function `plot_temperature_profile`. Explain how the temperature changes throughout the day.\n",
    "\n",
    "*Hint:* By working with the $(n_t + 2) \\times (n_x + 2)$ NumPy array $T$, whose entries are $T[j, i] = T(t_j, x_i)$, the boundary condition at $t = 0~\\mathrm{h}$ can easily be imposed through $T[0, :] = 0$, and similarly the boundary conditions at $x = 0~\\mathrm{m}$ and $x = 5~\\mathrm{m}$. The unknown entries can be filled in by looping over the array entries and using the formula from Exercise 5.\n",
    "</div>"
   ]
  },
  {
   "cell_type": "code",
   "execution_count": null,
   "id": "5aeb6fe2-ee62-41be-ab83-8cd83c8856cf",
   "metadata": {
    "nbgrader": {
     "grade": false,
     "grade_id": "cell-2bd0a4002dd0ec34",
     "locked": false,
     "schema_version": 3,
     "solution": true,
     "task": false
    }
   },
   "outputs": [],
   "source": [
    "### BEGIN SOLUTION\n",
    "dt = 1\n",
    "t_max = 96\n",
    "n_t = int(t_max / dt) - 1\n",
    "\n",
    "dx = 0.25\n",
    "x_max = 5\n",
    "n_x = int(x_max / dx) - 1\n",
    "\n",
    "T = np.empty((n_t + 2, n_x + 2))\n",
    "\n",
    "# Constants\n",
    "T_hat = 10\n",
    "omega_0 = np.pi / 12\n",
    "alpha = 0.03\n",
    "gamma = alpha * dt / dx ** 2\n",
    "\n",
    "# Boundary conditions\n",
    "T[0, :] = 0  # T(0 h, x) = 0\n",
    "T[:, 0] = T_hat * np.cos(np.linspace(0, t_max, n_t + 2) * omega_0)  # T(t, 0 m) = T cos(ω₀t)\n",
    "T[:, -1] = 0  # T(t, 5 m) = 0\n",
    "\n",
    "# Filling in the array T\n",
    "for j in range(n_t + 1):\n",
    "    for i in range(1, n_x + 1):\n",
    "        T[j + 1, i] = gamma * T[j, i - 1] + (1 - 2 * gamma) * T[j, i]  + gamma * T[j, i + 1]\n",
    "\n",
    "# Visualizing the array\n",
    "plot_temperature_profile(T)\n",
    "\n",
    "### END SOLUTION"
   ]
  },
  {
   "cell_type": "markdown",
   "id": "cf312c0b-17c6-4909-962b-f5cd7b50f674",
   "metadata": {
    "nbgrader": {
     "grade": false,
     "grade_id": "cell-40a0e1972a884893",
     "locked": true,
     "schema_version": 3,
     "solution": false,
     "task": false
    }
   },
   "source": [
    "<hr style=\"clear:both\">\n",
    "\n",
    "## The end\n",
    "\n",
    "Congratulations! You have finished the last exercise notebook of the course."
   ]
  }
 ],
 "metadata": {
  "kernelspec": {
   "display_name": "Python 3 (ipykernel)",
   "language": "python",
   "name": "python3"
  },
  "language_info": {
   "codemirror_mode": {
    "name": "ipython",
    "version": 3
   },
   "file_extension": ".py",
   "mimetype": "text/x-python",
   "name": "python",
   "nbconvert_exporter": "python",
   "pygments_lexer": "ipython3",
   "version": "3.12.3"
  }
 },
 "nbformat": 4,
 "nbformat_minor": 5
}
