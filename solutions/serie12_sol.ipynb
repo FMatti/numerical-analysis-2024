{
 "cells": [
  {
   "cell_type": "markdown",
   "id": "e1a0bb71-700d-4e21-86a3-930eee0281cb",
   "metadata": {
    "nbgrader": {
     "grade": false,
     "grade_id": "cell-28441f8c23ab4432",
     "locked": true,
     "schema_version": 3,
     "solution": false,
     "task": false
    }
   },
   "source": [
    "## Numerical Analysis - Fall semester 2024\n",
    "\n",
    "# Serie 12 - ODEs and systems of ODEs"
   ]
  },
  {
   "cell_type": "markdown",
   "id": "e020f49f-bd6d-41a1-8674-87247f8eee2c",
   "metadata": {
    "nbgrader": {
     "grade": false,
     "grade_id": "cell-3388c118d81a6f26",
     "locked": true,
     "schema_version": 3,
     "solution": false,
     "task": false
    }
   },
   "source": [
    "First importing some packages."
   ]
  },
  {
   "cell_type": "code",
   "execution_count": null,
   "id": "efc34603-5697-4902-b667-986160860eda",
   "metadata": {
    "nbgrader": {
     "grade": false,
     "grade_id": "cell-d0f551aafe5546d2",
     "locked": true,
     "schema_version": 3,
     "solution": false,
     "task": false
    }
   },
   "outputs": [],
   "source": [
    "import matplotlib.pyplot as plt\n",
    "import matplotlib as mpl\n",
    "import numpy as np\n",
    "import scipy as sp"
   ]
  },
  {
   "cell_type": "markdown",
   "id": "e861b4af-8e7d-4fd3-9821-b4005db312c2",
   "metadata": {
    "nbgrader": {
     "grade": false,
     "grade_id": "cell-cb849792569fd4a5",
     "locked": true,
     "schema_version": 3,
     "solution": false,
     "task": false
    }
   },
   "source": [
    "<hr style=\"clear:both\">\n",
    "\n",
    "### Stability of system of ODEs"
   ]
  },
  {
   "cell_type": "markdown",
   "id": "07af31e0-b26b-4172-9a07-63675e91a4c8",
   "metadata": {
    "nbgrader": {
     "grade": false,
     "grade_id": "cell-ff90fd8a2761a8c1",
     "locked": true,
     "schema_version": 3,
     "solution": false,
     "task": false
    }
   },
   "source": [
    "We consider a system of ordinary differential equations of the form\n",
    "\n",
    "$$\n",
    "\\begin{cases}\n",
    "  \\frac{\\mathrm{d}\\mathbf{u}(t)}{\\mathrm{d}t} = \\mathbf{f}(t, \\mathbf{u}(t)), & t \\in (0, T],  \\\\\n",
    "  \\mathbf{u}(0)=\\mathbf{u}_0,\n",
    "\\end{cases}\n",
    "$$\n",
    "\n",
    "where $\\mathbf{u}(t) \\in \\mathbb{R}^m$ is a vector and $\\mathbf{f}: \\mathbb{R}^m \\to \\mathbb{R}^m$ a vector-valued function. We want to approximate $\\mathbf{u}(t_n)$ at the discrete time-steps $t_n = n\\Delta t$, $n = 0, 1, 2, \\ldots,N$, where $\\Delta t = T/N$ is the step size and $N$ the number of time-steps."
   ]
  },
  {
   "cell_type": "markdown",
   "id": "8b55bb49-6ed1-42f7-ba1c-b07a8535f796",
   "metadata": {
    "nbgrader": {
     "grade": false,
     "grade_id": "cell-762ceb3167a23709",
     "locked": true,
     "schema_version": 3,
     "solution": false,
     "task": false
    }
   },
   "source": [
    "<div class=\"alert alert-success\">\n",
    "    \n",
    "**Exercise 1:** Complete the function `forward_euler_sys` which implements the forward Euler method to compute the approximations $\\mathbf{u}^{n} \\approx \\mathbf{u}(t_n)$ for $n = 0, 1, 2, \\dots, N$.\n",
    "\n",
    "*Hint:* The implementation is almost identical to the function `forward_euler` which you have implemented in last week's notebook, except that now the approximations $\\mathbf{u}^{n}$ will be vector-valued, so the input `u_0` will be a NumPy array of size $m$ and the output `u` should be a NumPy array of size $N \\times m$.\n",
    "</div>"
   ]
  },
  {
   "cell_type": "code",
   "execution_count": null,
   "id": "ff7db5e3-d5b6-456b-9eb7-400e7dc20ec3",
   "metadata": {
    "nbgrader": {
     "grade": true,
     "grade_id": "cell-5181b36a411c0132",
     "locked": false,
     "points": 0,
     "schema_version": 3,
     "solution": true,
     "task": false
    }
   },
   "outputs": [],
   "source": [
    "def forward_euler_sys(f, u_0, T, N):\n",
    "    ### BEGIN SOLUTION\n",
    "    dt = T / N\n",
    "    u = np.zeros((N + 1, len(u_0)))\n",
    "    u[0] = u_0\n",
    "    for n in range(N):\n",
    "        u[n + 1] = u[n] + dt * f(n * dt, u[n])\n",
    "    ### END SOLUTION\n",
    "    return u"
   ]
  },
  {
   "cell_type": "markdown",
   "id": "7aacb107-4e6b-4277-a9b0-30d2b366a439",
   "metadata": {
    "nbgrader": {
     "grade": false,
     "grade_id": "cell-f2e8eaecc267fa24",
     "locked": true,
     "schema_version": 3,
     "solution": false,
     "task": false
    }
   },
   "source": [
    "We also provide you with the implementation of the backward Euler method for solving systems of ordinary differential equations. Also this implementation is almost identical to what you have encountered in last week's exercise notebook."
   ]
  },
  {
   "cell_type": "code",
   "execution_count": null,
   "id": "e05bb2c1-8786-4179-b89a-c68ab5483f44",
   "metadata": {
    "nbgrader": {
     "grade": false,
     "grade_id": "cell-8732a54c95ae46b1",
     "locked": true,
     "schema_version": 3,
     "solution": false,
     "task": false
    }
   },
   "outputs": [],
   "source": [
    "def backward_euler_sys(f, u_0, T, N):\n",
    "    dt = T / N\n",
    "    u = np.zeros((N + 1, len(u_0)))\n",
    "    u[0] = u_0\n",
    "    for n in range(N):\n",
    "        # Function for which we need to find a zero\n",
    "        def g(x):\n",
    "            return x - dt * f((n + 1) * dt, x) - u[n]\n",
    "        # Method which finds the zero of the function g\n",
    "        u[n + 1] = sp.optimize.root(g, u[n], method=\"hybr\").x\n",
    "    return u"
   ]
  },
  {
   "cell_type": "markdown",
   "id": "4ce9c0e8-8f4d-4f14-a46e-6a23d5bdb9af",
   "metadata": {
    "nbgrader": {
     "grade": false,
     "grade_id": "cell-4fd86941baed31c7",
     "locked": true,
     "schema_version": 3,
     "solution": false,
     "task": false
    }
   },
   "source": [
    "Given is the linear system of ordinary differential equations\n",
    "$$\n",
    "\\begin{cases}\n",
    "  \\frac{\\mathrm{d}\\mathbf{u}(t)}{\\mathrm{d}t} = A \\mathbf{u}(t) = \\mathbf{f}(t, \\mathbf{u}(t)), & t \\in (0, 20],  \\\\\n",
    "  \\mathbf{u}(0)=\\begin{pmatrix} 1 \\\\ 0 \\end{pmatrix},\n",
    "\\end{cases}\n",
    "$$\n",
    "\n",
    "with matrix $A \\in \\mathbb{R}^{2 \\times 2}$ defined as\n",
    "\n",
    "$$\n",
    "A = \\begin{pmatrix} 0 & 1 \\\\ -1 & 0 \\end{pmatrix}.\n",
    "$$\n",
    "\n",
    "The exact solution of this system is\n",
    "\n",
    "$$\n",
    "\\mathbf{u}(t) = \\begin{pmatrix} \\cos(t) \\\\ - \\sin(t) \\end{pmatrix}\n",
    "$$"
   ]
  },
  {
   "cell_type": "markdown",
   "id": "97df3237-16c9-4c6b-838c-5941daa93433",
   "metadata": {
    "nbgrader": {
     "grade": false,
     "grade_id": "cell-2fecdbf7092cce30",
     "locked": true,
     "schema_version": 3,
     "solution": false,
     "task": false
    }
   },
   "source": [
    "We provide you with the function `plot_solution`, which visualizes the approximate solutions $\\boldsymbol{u}^n$ at the time steps $t_n$ for $n=0, 1, 2, \\dots, N$. It takes as input the time steps $t_0, t_1, t_2, \\dots, t_N$ in a NumPy array `t` of size $N$, and the corresponding solutions $\\boldsymbol{u}^0, \\boldsymbol{u}^1, \\boldsymbol{u}^2, \\dots, \\boldsymbol{u}^N$ in a NumPy array `u` of size $(N + 1) \\times m$."
   ]
  },
  {
   "cell_type": "code",
   "execution_count": null,
   "id": "007e800d-21de-44fb-b7ca-719e6691b6b5",
   "metadata": {
    "nbgrader": {
     "grade": false,
     "grade_id": "cell-226919bf0ecfd5cd",
     "locked": true,
     "schema_version": 3,
     "solution": false,
     "task": false
    }
   },
   "outputs": [],
   "source": [
    "def plot_solution(t, u):\n",
    "    fig, ax = plt.subplots()\n",
    "\n",
    "    # Determine x- and y-values as well as midpoints\n",
    "    x = u[:, 0]\n",
    "    y = u[:, 1]\n",
    "    x_midpts = np.hstack((x[0], 0.5 * (x[1:] + x[:-1]), x[-1]))\n",
    "    y_midpts = np.hstack((y[0], 0.5 * (y[1:] + y[:-1]), y[-1]))\n",
    "\n",
    "    # Define line segments\n",
    "    coord_start = np.column_stack((x_midpts[:-1], y_midpts[:-1]))[:, np.newaxis, :]\n",
    "    coord_mid = np.column_stack((x, y))[:, np.newaxis, :]\n",
    "    coord_end = np.column_stack((x_midpts[1:], y_midpts[1:]))[:, np.newaxis, :]\n",
    "    segments = np.concatenate((coord_start, coord_mid, coord_end), axis=1)\n",
    "    linewidths = np.linspace(0, 6, len(t))[::-1]\n",
    "    lc = mpl.collections.LineCollection(segments, linewidths=linewidths, cmap=\"plasma\", capstyle=\"butt\")\n",
    "    lc.set_array(t)\n",
    "\n",
    "    # Plot the line segments\n",
    "    lines = ax.add_collection(lc)\n",
    "    fig.colorbar(lines, label=r\"parameter value $t$\")\n",
    "    ax.scatter(x[0], y[0], color=mpl.colormaps[\"plasma\"](0), s=70)\n",
    "    ax.annotate(r\"$u_0$\", (x[0], y[0]), xytext=(-17, 5), textcoords='offset points')\n",
    "    ax.margins(0.2, 0.2)\n",
    "    ax.add_patch(mpl.patches.Circle((0, 0), radius=1, fill=False, edgecolor=\"black\", linestyle=\"--\", linewidth=2))\n",
    "    plt.xlabel(r\"$u_1(t)$\")\n",
    "    plt.ylabel(r\"$u_2(t)$\")\n",
    "    plt.grid()\n",
    "    plt.show()"
   ]
  },
  {
   "cell_type": "markdown",
   "id": "63de1efe-33de-48a7-9cb4-08059c00c3d3",
   "metadata": {
    "nbgrader": {
     "grade": false,
     "grade_id": "cell-2167b1fa3c4822c3",
     "locked": true,
     "schema_version": 3,
     "solution": false,
     "task": false
    }
   },
   "source": [
    "Below, we visualize the exact solution for $N = 200$ time steps in $[0, 20]$, which we can obtain from the function `u`."
   ]
  },
  {
   "cell_type": "code",
   "execution_count": null,
   "id": "488d4a84-f548-46af-8ae8-2df740300aa5",
   "metadata": {
    "nbgrader": {
     "grade": false,
     "grade_id": "cell-38af7845654bf536",
     "locked": true,
     "schema_version": 3,
     "solution": false,
     "task": false
    }
   },
   "outputs": [],
   "source": [
    "# Function which returns the exact solutions at the values t\n",
    "def u(t, u_0):\n",
    "    return np.array([np.cos(t) * u_0[0] - np.sin(t) * u_0[1], - np.sin(t) * u_0[0] - np.cos(t) * u_0[1]]).T\n",
    "\n",
    "# Parameters\n",
    "T = 20\n",
    "u_0 = np.array([1, 0])\n",
    "N = 200\n",
    "t = np.linspace(0, T, N + 1)\n",
    "\n",
    "# Plots the exact solution\n",
    "u_exact = u(t, u_0)\n",
    "plot_solution(t, u_exact)"
   ]
  },
  {
   "cell_type": "markdown",
   "id": "13f79dc1-5eb5-4c6b-b186-f5dac10bb9ae",
   "metadata": {
    "nbgrader": {
     "grade": false,
     "grade_id": "cell-46a79c7c49f2da6c",
     "locked": true,
     "schema_version": 3,
     "solution": false,
     "task": false
    }
   },
   "source": [
    "<div class=\"alert alert-success\">\n",
    "    \n",
    "**Exercise 2:** Plot the approximate solutions of the system of ordinary differential equations from the forward and backward Euler methods for $N=200$ time steps. How well do the methods approximate the exact solution?\n",
    "</div>"
   ]
  },
  {
   "cell_type": "code",
   "execution_count": null,
   "id": "b3518594-da23-4743-916b-099fbc3d7799",
   "metadata": {
    "nbgrader": {
     "grade": false,
     "grade_id": "cell-38cdcd5fcc268677",
     "locked": false,
     "schema_version": 3,
     "solution": true,
     "task": false
    }
   },
   "outputs": [],
   "source": [
    "# Right-hand side of the ODE\n",
    "def f(t, u):\n",
    "    # Returns the value of the right-hand side of the ODE\n",
    "    ### BEGIN SOLUTION\n",
    "    return np.array([u[1], -u[0]])\n",
    "    ### END SOLUTION\n",
    "\n",
    "### BEGIN SOLUTION\n",
    "# Parameters\n",
    "T = 20\n",
    "u_0 = np.array([1, 0])\n",
    "N = 200\n",
    "\n",
    "# Solve ODEs with the two methods\n",
    "u_forward_euler = forward_euler_sys(f, u_0, T, N)\n",
    "u_backward_euler = backward_euler_sys(f, u_0, T, N)\n",
    "\n",
    "# Visualize the results\n",
    "plot_solution(t, u_forward_euler)\n",
    "plot_solution(t, u_backward_euler)\n",
    "\n",
    "# Both methods diverge from the exact solution:\n",
    "# The forward Euler method spirals outwards, while the Backward Euler\n",
    "# spirals inward from the unit circle, on which the exact solution lies.\n",
    "\n",
    "### END SOLUTION"
   ]
  },
  {
   "cell_type": "markdown",
   "id": "03f4c5d2-2e48-46ed-9dec-a9463528c90c",
   "metadata": {
    "nbgrader": {
     "grade": false,
     "grade_id": "cell-7e0e4d8a4ff56227",
     "locked": true,
     "schema_version": 3,
     "solution": false,
     "task": false
    }
   },
   "source": [
    "The Crank-Nicolson method is defined by the iterative formula\n",
    "\n",
    "$$\n",
    "\\mathbf{u}^{n+1} = \\mathbf{u}^{n} + \\frac{\\Delta t}{2} \\left( \\mathbf{f}(t_n, \\mathbf{u}^{n}) +  \\mathbf{f}(t_{n+1}, \\mathbf{u}^{n+1}) \\right), \\quad n=0, 1, 2, \\dots\n",
    "$$\n",
    "\n",
    "It is an implicit method. As you have seen in the lecture, we will have to find a zero $\\boldsymbol{\\alpha} \\in \\mathbb{R}^m$ of the function\n",
    "\n",
    "$$\n",
    "\\mathbf{g}_n(\\mathbf{x}) = \\mathbf{x} - \\frac{\\Delta t}{2} \\left( \\mathbf{f}(t_n, \\mathbf{u}^{n}) +  \\mathbf{f}(t_{n+1}, \\mathbf{x}) \\right) - \\mathbf{u}^{n}  = 0\n",
    "$$\n",
    "\n",
    "in every step $n$, and define the approximate solution at the next step as $\\mathbf{u}^{n+1} = \\boldsymbol{\\alpha}$."
   ]
  },
  {
   "cell_type": "markdown",
   "id": "a78953d7-e902-41e8-bdb1-6b3c65b64fbd",
   "metadata": {
    "nbgrader": {
     "grade": false,
     "grade_id": "cell-8cc76854f83abbce",
     "locked": true,
     "schema_version": 3,
     "solution": false,
     "task": false
    }
   },
   "source": [
    "<div class=\"alert alert-success\">\n",
    "    \n",
    "**Exercise 3:** Complete the function `crank_nicolson_sys` which implements the Crank-Nicolson method to compute the approximations $\\mathbf{u}^{n} \\approx \\mathbf{u}(t_n)$ for $n = 0, 1, 2, \\dots, N$.\n",
    "\n",
    "*Hint:* You can copy all the code of the `backward_euler_sys` function from above, and will just have to adapt the definition of the function `g`, which represents $\\mathbf{g}_n(\\mathbf{x})$, from the backward Euler to the Crank-Nicolson method.\n",
    "</div>"
   ]
  },
  {
   "cell_type": "code",
   "execution_count": null,
   "id": "0d6186f7-f01a-4ce9-a487-022b8bb6ade9",
   "metadata": {
    "nbgrader": {
     "grade": false,
     "grade_id": "cell-659c6747be1d07e7",
     "locked": false,
     "schema_version": 3,
     "solution": true,
     "task": false
    }
   },
   "outputs": [],
   "source": [
    "def crank_nicolson_sys(f, u_0, T, N):\n",
    "    ### BEGIN SOLUTION\n",
    "    dt = T / N\n",
    "    u = np.zeros((N + 1, len(u_0)))\n",
    "    u[0] = u_0\n",
    "    for n in range(N):\n",
    "        # Function for which we need to find a zero\n",
    "        def g(x):\n",
    "            return x - dt / 2 * (f(n * dt, u[n]) + f((n + 1) * dt, x)) - u[n]\n",
    "        # Method which finds the zero of the function g\n",
    "        u[n + 1] = sp.optimize.root(g, u[n], method=\"hybr\").x\n",
    "    ### END SOLUTION\n",
    "    return u"
   ]
  },
  {
   "cell_type": "markdown",
   "id": "c13f41ea-5658-4029-9fa8-e9470cc5249e",
   "metadata": {
    "nbgrader": {
     "grade": false,
     "grade_id": "cell-5f2d71cea5de2d3a",
     "locked": true,
     "schema_version": 3,
     "solution": false,
     "task": false
    }
   },
   "source": [
    "<div class=\"alert alert-success\">\n",
    "    \n",
    "**Exercise 4:** For the same system as in the previous exercises, plot the approximate solutions from the trapzoidal methods for $N=200$ time steps. How well do the methods approximate the exact solution?\n",
    "</div>"
   ]
  },
  {
   "cell_type": "code",
   "execution_count": null,
   "id": "34cc06d8-274d-43dc-87e6-dc5e473d3cb3",
   "metadata": {
    "nbgrader": {
     "grade": false,
     "grade_id": "cell-536bae331b3b7a4a",
     "locked": false,
     "schema_version": 3,
     "solution": true,
     "task": false
    }
   },
   "outputs": [],
   "source": [
    "### BEGIN SOLUTION\n",
    "u_crank_nicolson = crank_nicolson_sys(f, u_0, T, N)\n",
    "plot_solution(t, u_crank_nicolson)\n",
    "\n",
    "# The approximate solution with the Crank-Nicolson method approximately\n",
    "# coincides with the exact solution, as it stays on the unit circle.\n",
    "\n",
    "### END SOLUTION"
   ]
  },
  {
   "cell_type": "markdown",
   "id": "f9545060-127c-4659-9e06-230dd010db87",
   "metadata": {
    "nbgrader": {
     "grade": false,
     "grade_id": "cell-e4bdb77687ae74a9",
     "locked": true,
     "schema_version": 3,
     "solution": false,
     "task": false
    }
   },
   "source": [
    "<hr style=\"clear:both\">\n",
    "\n",
    "### Electrical circuit"
   ]
  },
  {
   "cell_type": "markdown",
   "id": "1b8c7618-e337-4066-9209-ce20e1e16bb1",
   "metadata": {
    "nbgrader": {
     "grade": false,
     "grade_id": "cell-9013e0e3b764c3f8",
     "locked": true,
     "schema_version": 3,
     "solution": false,
     "task": false
    }
   },
   "source": [
    "We want to study an electrical circuit, which you can visualize by running the cell below."
   ]
  },
  {
   "cell_type": "code",
   "execution_count": null,
   "id": "29ecceaf-48ea-4bcb-b322-593fb2f6cd14",
   "metadata": {
    "nbgrader": {
     "grade": false,
     "grade_id": "cell-e8223d2610a407c2",
     "locked": true,
     "schema_version": 3,
     "solution": false,
     "task": false
    }
   },
   "outputs": [],
   "source": [
    "fig, ax = plt.subplots(); ax.axis(\"equal\"); ax.axis(\"off\"); ax.plot([0.4, 1, 1], [-1, -1, -0.1], linewidth=4, color=\"black\"); ax.plot([1, 1, 0.4], [0.1, 1, 1], linewidth=4, color=\"black\"); ax.plot([-0.4, -1, -1], [1, 1, 0.1], linewidth=4, color=\"black\"); ax.plot([-1, -1, -0.4], [-0.1, -1, -1], linewidth=4, color=\"black\"); ax.plot([0.8, 1.2], [-0.1, -0.1], linewidth=4, color=\"black\"); ax.plot([0.8, 1.2], [0.1, 0.1], linewidth=4, color=\"black\"); ax.text(0.65, 0.25, \"$C$\", fontsize=30, horizontalalignment=\"center\", verticalalignment=\"center\"); ax.plot([-0.85, -1.15], [-0.1, -0.1], linewidth=4, color=\"black\"); ax.plot([-0.7, -1.3], [0.1, 0.1], linewidth=4, color=\"black\"); ax.text(-0.7, 0.3, \"$+$\", fontsize=30, horizontalalignment=\"center\", verticalalignment=\"center\"); ax.text(-0.7, -0.2, \"$-$\", fontsize=30, horizontalalignment=\"center\", verticalalignment=\"center\"); ax.add_patch(mpl.patches.Arc((-0.3, 1), 0.2, 0.4, theta1=0, theta2=180, linewidth=4)); ax.add_patch(mpl.patches.Arc((-0.1, 1), 0.2, 0.4, theta1=0, theta2=180, linewidth=4)); ax.add_patch(mpl.patches.Arc((0.1, 1), 0.2, 0.4, theta1=0, theta2=180, linewidth=4)); ax.add_patch(mpl.patches.Arc((0.3, 1), 0.2, 0.4, theta1=0, theta2=180, linewidth=4)); ax.text(0, 0.75, \"$L$\", fontsize=30, horizontalalignment=\"center\", verticalalignment=\"center\"); ax.plot([-0.4, -0.35, -0.25, -0.15, -0.05, 0.05, 0.15, 0.25, 0.35, 0.4], [-1, -0.85, -1.15, -0.85, -1.15, -0.85, -1.15, -0.85, -1.15, -1], linewidth=4, color=\"black\"); ax.text(0, -0.65, \"$R$\", fontsize=30, horizontalalignment=\"center\", verticalalignment=\"center\"); plt.show()"
   ]
  },
  {
   "cell_type": "markdown",
   "id": "6a46eac3-b93d-4db8-86df-47f38e2ae003",
   "metadata": {
    "nbgrader": {
     "grade": false,
     "grade_id": "cell-1d2e8df8d105092f",
     "locked": true,
     "schema_version": 3,
     "solution": false,
     "task": false
    }
   },
   "source": [
    "The circuit satisfies the following equation for the voltage $v$ around the capacitor:\n",
    "\n",
    "$$\n",
    "LC \\frac{\\mathrm{d}^2 v(t)}{\\mathrm{d}t^2} + RC \\frac{\\mathrm{d} v(t)}{\\mathrm{d}t} + v(t) = F\n",
    "$$\n",
    "\n",
    "where $L$ is the inductance of the coil, $C$ is the capacity of the capacitor, $R$ the resistance\n",
    "and $F$ the motor force of the generator, which we assume to be constant in time. To apply the methods from the course, we will need to transform this second order equation into a system of first order equations."
   ]
  },
  {
   "cell_type": "markdown",
   "id": "e86f1fe0-d663-4c36-aadc-18385a0aef0d",
   "metadata": {
    "nbgrader": {
     "grade": false,
     "grade_id": "cell-0309da2cf2703165",
     "locked": true,
     "points": 0,
     "schema_version": 3,
     "solution": false,
     "task": true
    }
   },
   "source": [
    "<div class=\"alert alert-success\">\n",
    "    \n",
    "**Exercise 5 (Theoretical):** Introduce a new unknown $w$ such as $w(t)=\\frac{\\mathrm{d} v(t)}{\\mathrm{d}t}$. Use this relation to rewrite the equation above as a linear system of first order equations\n",
    "\n",
    "$$\n",
    "\\frac{\\mathrm{d} \\mathbf{u}(t)}{\\mathrm{d}t} = A \\mathbf{u}(t) + \\mathbf{b}(t) = \\mathbf{f}(t, \\mathbf{u}(t))\n",
    "$$\n",
    "where $\\mathbf{u}(t) = ( w(t), v(t) )^\\top$ and $A$ is a $2 \\times 2$ matrix.\n",
    "</div>\n",
    "\n",
    "=== BEGIN MARK SCHEME ===\n",
    "\n",
    "Using the relation $w(t)=\\frac{\\mathrm{d} v(t)}{\\mathrm{d}t}$, we have $\\frac{\\mathrm{d} w(t)}{\\mathrm{d}t} = \\frac{\\mathrm{d}^2 v(t)}{\\mathrm{d}t^2}$ and therefore the second order ordinary differential equation can be written as\n",
    "\n",
    "$$\n",
    "LC \\frac{\\mathrm{d} w(t)}{\\mathrm{d}t} + RC w(t) + v(t) = F,\n",
    "$$\n",
    "\n",
    "which leads to the system of first order equations\n",
    "\n",
    "$$\n",
    "  \\begin{cases}\n",
    "    \\frac{\\mathrm{d} w(t)}{\\mathrm{d}t} = \\frac{1}{LC}\\,F - \\frac{R}{L}\\,w(t) - \\frac{1}{LC}\\,v(t),\\\\[8pt]\n",
    "    \\frac{\\mathrm{d} v(t)}{\\mathrm{d}t} = w(t)\n",
    "  \\end{cases}\n",
    "$$\n",
    "\n",
    "We can rewrite it in matrix form\n",
    "\n",
    "$$\n",
    "\\frac{\\mathrm{d}}{\\mathrm{d}t}\n",
    "\\begin{pmatrix}\n",
    "      w(t) \\\\ v(t)\n",
    "\\end{pmatrix}\n",
    "=\n",
    "\\begin{pmatrix}\n",
    "      % -\\frac{R}{L} & -\\frac{1}{LC} \\\\\n",
    "      -R/L & -1/(LC) \\\\\n",
    "      1 & 0 \n",
    "\\end{pmatrix}\n",
    "\\begin{pmatrix}\n",
    "      w(t) \\\\ v(t)\n",
    "\\end{pmatrix}\n",
    "+\n",
    "\\begin{pmatrix}\n",
    "      F/(LC) \\\\ 0\n",
    "\\end{pmatrix}\n",
    "$$\n",
    "\n",
    "=== END MARK SCHEME ==="
   ]
  },
  {
   "cell_type": "markdown",
   "id": "17075a6b-8287-43e9-ae3a-decce40254dc",
   "metadata": {
    "nbgrader": {
     "grade": false,
     "grade_id": "cell-ad0ae62c96f52c36",
     "locked": true,
     "points": 0,
     "schema_version": 3,
     "solution": false,
     "task": true
    }
   },
   "source": [
    "<div class=\"alert alert-success\">\n",
    "    \n",
    "**Exercise 6 (Theoretical):** We want to appoximate the solution of this system using the forward Euler method. Give the general stability criterion for the forward Euler method applied to linear systems. Then, compute the condition on $\\Delta t$ for the forward Euler method to be stable for the system at hand, for the values $L=0.01$, $C=10$ and $R=0.1$.\n",
    "\n",
    "*Hint:* Compute the eigenvalues of the matrix $A$ found in the previous exercise and apply Lemma 6.4 from the lecture notes. You can use Python for this.\n",
    "</div>\n",
    "\n",
    "=== BEGIN MARK SCHEME ===\n",
    "\n",
    "For the forward Euler method, Lemma 6.4 from the lecture notes gives us the following stability criterion:\n",
    "\n",
    "$$\n",
    "|1 + \\Delta t \\lambda_i(A) | < 1\n",
    "$$\n",
    "where $\\lambda_i(A)$, $i=1,2$ are the eigenvalues of the matrix $A$. We notice here that this\n",
    "criterion applies only if the eigenvalues of the matrix are real and negative.\n",
    "With the given values, we have\n",
    "\n",
    "$$\n",
    "A=\n",
    "\\left(\\begin{array}{cc}\n",
    "    -10 & -10 \\\\\n",
    "    1 & 0 \n",
    "  \\end{array} \\right),\n",
    "$$\n",
    "\n",
    "whose eigenvalues are $\\lambda_1(A) = -8.873$ and $\\lambda_2(A) = -1.127$, as can be computed with the following code:\n",
    "\n",
    "```python\n",
    "L = 0.01\n",
    "C = 10\n",
    "R = 0.1\n",
    "F = 1.0\n",
    "A = np.array([\n",
    "    [-R / L, -1 / (L * C)],\n",
    "    [1, 0]\n",
    "])\n",
    "\n",
    "eigenvalues = np.linalg.eigvals(A)\n",
    "print(\"Eigenvalues of A:\", eigenvalues)\n",
    "```\n",
    "\n",
    "The stability criterion is therefore satisfied when $\\Delta t > 0$ is chosen such that \n",
    "\n",
    "$$\n",
    "|1 - 8.873 \\Delta t | < 1 \\iff \\Delta t < 2 / 8.873 = 0.225.\n",
    "$$\n",
    "\n",
    "This can be computed with the following code snippet:\n",
    "\n",
    "```python\n",
    "lambda_max = max(abs(eigenvalues))\n",
    "print(\"Maximum magnitude of eigenvalues:\", lambda_max)\n",
    "\n",
    "dt_max = 2 / lambda_max\n",
    "print(\"Maximum stable time step Δt:\", dt_max)\n",
    "```\n",
    "\n",
    "=== END MARK SCHEME ==="
   ]
  },
  {
   "cell_type": "markdown",
   "id": "0c5cd43a-1d0e-490f-a841-c285d26c36c5",
   "metadata": {
    "nbgrader": {
     "grade": false,
     "grade_id": "cell-8c9605039bcf22b8",
     "locked": true,
     "schema_version": 3,
     "solution": false,
     "task": false
    }
   },
   "source": [
    "<div class=\"alert alert-success\">\n",
    "    \n",
    "**Exercise 7:** Consider the initial condition $\\mathbf{u}_0 = (0,1)^\\top$ and $F=0$. Using the forward Euler method (function `forward_euler_sys` which you have implemented above), compute an approximation of the solution of the system on the interval $[0,T]$ with $T=10$ and $N=43, 46,$ and $500$ sub-intervals, which corresponds to a time-step of $\\Delta t= 0.233, 0.217,$ and $0.02$, respectively. Visualise the obtained approximations for $v(t)$ and comment on the obtained results.\n",
    "</div>"
   ]
  },
  {
   "cell_type": "code",
   "execution_count": null,
   "id": "43ba24cb-8f4e-46bc-8b2c-e70e2af1d74d",
   "metadata": {
    "nbgrader": {
     "grade": false,
     "grade_id": "cell-c37258905c66ed30",
     "locked": false,
     "schema_version": 3,
     "solution": true,
     "task": false
    }
   },
   "outputs": [],
   "source": [
    "def f(t, u, R=0.1, L=0.01, C=10, F=0):\n",
    "    # Returns the value of the right-hand side of the ODE\n",
    "    ### BEGIN SOLUTION\n",
    "    A = np.array([[-R/L, -1/(L*C)], [1, 0]])\n",
    "    b = np.array([F/(L*C), 0])\n",
    "    return A @ u + b\n",
    "    ### END SOLUTION\n",
    "\n",
    "### BEGIN SOLUTION\n",
    "T = 10\n",
    "u_0 = np.array([0, 1])\n",
    "\n",
    "N_list = [43, 46, 500]\n",
    "for N in N_list:\n",
    "    u_forward_euler = forward_euler_sys(f, u_0, T, N)\n",
    "    t = np.linspace(0, T, N + 1)\n",
    "    plt.plot(t, u_forward_euler[:, 1], label=r\"$N = {:d}$\".format(N))\n",
    "\n",
    "plt.ylabel(r\"Forward Euler approximation $v^{n}$\")\n",
    "plt.xlabel(r\"time $t$\")\n",
    "plt.legend()\n",
    "plt.grid()\n",
    "plt.show()\n",
    "\n",
    "# We notice that the solution computed by the forward Euler method\n",
    "# oscillates and does not approach 0 if we take N = 43 for which Δt = 0.233\n",
    "# does not satisfy the stability condition. However, with N = 46, namely \n",
    "# Δt = 0.217 < 0.225, we get a numerical solution which approaches 0\n",
    "# (oscillating). Finally, if we take N = 500, namely Δt = 0.02 which is way\n",
    "# smaller than the minimum necessary value, we find a good approximation.\n",
    "    \n",
    "### END SOLUTION"
   ]
  },
  {
   "cell_type": "markdown",
   "id": "4ecfc6b1-e529-4495-bef3-e64244cca61c",
   "metadata": {
    "nbgrader": {
     "grade": false,
     "grade_id": "cell-defd00e2e566bc91",
     "locked": true,
     "schema_version": 3,
     "solution": false,
     "task": false
    }
   },
   "source": [
    "<div class=\"alert alert-success\">\n",
    "    \n",
    "**Exercise 8:** Repeat the previous exercise using the backward Euler method (function `backward_euler_sys` which you have implemented above). Comment on the obtained results.\n",
    "</div>"
   ]
  },
  {
   "cell_type": "code",
   "execution_count": null,
   "id": "b56831f3-c5ef-4395-b1c5-9777b5c7156b",
   "metadata": {
    "nbgrader": {
     "grade": false,
     "grade_id": "cell-7df38cdbb93e9961",
     "locked": false,
     "schema_version": 3,
     "solution": true,
     "task": false
    }
   },
   "outputs": [],
   "source": [
    "### BEGIN SOLUTION\n",
    "T = 10\n",
    "u_0 = np.array([0, 1])\n",
    "\n",
    "N_list = [43, 46, 500]\n",
    "for N in N_list:\n",
    "    u_backward_euler = backward_euler_sys(f, u_0, T, N)\n",
    "    t = np.linspace(0, T, N + 1)\n",
    "    plt.plot(t, u_backward_euler[:, 1], label=r\"$N = {:d}$\".format(N))\n",
    "\n",
    "plt.ylabel(r\"Backward Euler approximation $v^{n}$\")\n",
    "plt.xlabel(r\"time $t$\")\n",
    "plt.legend()\n",
    "plt.grid()\n",
    "plt.show()\n",
    "\n",
    "# Contrary to what was observed with the forward Euler method, we note that the\n",
    "# backward Euler method gives stable results for the three considered time-steps.\n",
    "\n",
    "### END SOLUTION"
   ]
  },
  {
   "cell_type": "markdown",
   "id": "9121a391-8f8f-4513-8198-5b420a508215",
   "metadata": {},
   "source": [
    "<hr style=\"clear:both\">\n",
    "\n",
    "## The end\n",
    "\n",
    "Impeccable! You have finished the twelth exercise notebook. But there is one more."
   ]
  }
 ],
 "metadata": {
  "kernelspec": {
   "display_name": "Python 3 (ipykernel)",
   "language": "python",
   "name": "python3"
  },
  "language_info": {
   "codemirror_mode": {
    "name": "ipython",
    "version": 3
   },
   "file_extension": ".py",
   "mimetype": "text/x-python",
   "name": "python",
   "nbconvert_exporter": "python",
   "pygments_lexer": "ipython3",
   "version": "3.12.3"
  }
 },
 "nbformat": 4,
 "nbformat_minor": 5
}
