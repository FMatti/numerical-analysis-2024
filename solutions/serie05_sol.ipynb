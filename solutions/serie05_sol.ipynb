{
 "cells": [
  {
   "cell_type": "markdown",
   "id": "607db280-5534-4ac2-b8f5-494115b7bb2d",
   "metadata": {
    "nbgrader": {
     "grade": false,
     "grade_id": "cell-3074ca9d587b261b",
     "locked": true,
     "schema_version": 3,
     "solution": false,
     "task": false
    }
   },
   "source": [
    "## Numerical Analysis - Fall semester 2024\n",
    "\n",
    "# Serie 05 - Interpolation, splines, and least squares fitting"
   ]
  },
  {
   "cell_type": "markdown",
   "id": "8dc36f9f-0db6-4661-87f7-ba417ef31b7b",
   "metadata": {
    "nbgrader": {
     "grade": false,
     "grade_id": "cell-d6f037ad7ba1046e",
     "locked": true,
     "schema_version": 3,
     "solution": false,
     "task": false
    }
   },
   "source": [
    "Import of the NumPy and matplotlib packages. This week, we will also need the SciPy package, an extension of the NumPy package for some more advanced scientific computations."
   ]
  },
  {
   "cell_type": "code",
   "execution_count": null,
   "id": "7c5059a7-4c17-4900-8cc6-9cad51a76567",
   "metadata": {
    "nbgrader": {
     "grade": false,
     "grade_id": "cell-6bbe893666203fcf",
     "locked": true,
     "schema_version": 3,
     "solution": false,
     "task": false
    }
   },
   "outputs": [],
   "source": [
    "import matplotlib.pyplot as plt\n",
    "import numpy as np\n",
    "import scipy as sp"
   ]
  },
  {
   "cell_type": "markdown",
   "id": "65f205b3-1f43-4ebb-9160-f7d8f91b1c83",
   "metadata": {
    "nbgrader": {
     "grade": false,
     "grade_id": "cell-e472d53ea302d3d2",
     "locked": true,
     "schema_version": 3,
     "solution": false,
     "task": false
    }
   },
   "source": [
    "<hr style=\"clear:both\">\n",
    "\n",
    "### Stability of interpolants"
   ]
  },
  {
   "cell_type": "markdown",
   "id": "f779e38c-9dd7-44fc-b7fa-f1953d5e75e8",
   "metadata": {
    "nbgrader": {
     "grade": false,
     "grade_id": "cell-2d5317eb3634ec5f",
     "locked": true,
     "schema_version": 3,
     "solution": false,
     "task": false
    }
   },
   "source": [
    "We are going to study the stability of the Lagrange's interpolation polynomial on equally distributed nodes, on Clenshaw-Curtis's nodes and the piecewise linear interpolation polynomial. We consider the function\n",
    "\n",
    "$$\n",
    "f(x) = \\sin(x) + x,\n",
    "$$\n",
    "\n",
    "which we interpolate in the interval $[0,10]$ at $n+1$ nodes $x_i$, $i=1,...,n+1$. We consider two sets of data $(x_i,y_i)$ where $y_i=f(x_i)$ and\n",
    "$(x_i,z_i)$ where and $z_i$ is a perturbation of $y_i$ given by $z_i=y_i+\\varepsilon_i$ with $\\varepsilon_i$ a uniform random variable in $(-0.1,0.1)$. Such a perturbation can, for example, be present due to measurement errors. Once the nodes $x$, the function $f$, and the degree $n$ are defined, you may use the below function to generate the data."
   ]
  },
  {
   "cell_type": "code",
   "execution_count": null,
   "id": "4de2c997-3aac-43a5-b160-8e7ddf8f6eea",
   "metadata": {
    "nbgrader": {
     "grade": false,
     "grade_id": "cell-855b20bbc9caac97",
     "locked": true,
     "schema_version": 3,
     "solution": false,
     "task": false
    }
   },
   "outputs": [],
   "source": [
    "def get_data(x, f, n, seed=None):\n",
    "    y = f(x)\n",
    "    np.random.seed(seed)\n",
    "    e = np.random.uniform(low=-0.1, high=0.1, size=n+1)\n",
    "    z = y + e\n",
    "    return y, z"
   ]
  },
  {
   "cell_type": "markdown",
   "id": "b00061ab-2017-41da-943a-10fd152c6d33",
   "metadata": {
    "nbgrader": {
     "grade": false,
     "grade_id": "cell-cbcd707b02819035",
     "locked": true,
     "schema_version": 3,
     "solution": false,
     "task": false
    }
   },
   "source": [
    "<div class=\"alert alert-warning\">\n",
    "    \n",
    "**Warning:** Due to the random perturbation, the data will change very time you call this function. To avoid this from happening, you fix set a seed (any integer of your choice, often `0`) by passing it as the last argument of the `get_data` function, e.g. `get_data(..., seed=0)`.\n",
    "</div>"
   ]
  },
  {
   "cell_type": "markdown",
   "id": "b04c0674-69db-495f-a9e7-cbdb11fd3218",
   "metadata": {
    "nbgrader": {
     "grade": false,
     "grade_id": "cell-99862b65877276ba",
     "locked": true,
     "schema_version": 3,
     "solution": false,
     "task": false
    }
   },
   "source": [
    "<div class=\"alert alert-success\">\n",
    "    \n",
    "**Exercise 1:** Use $n+1$ uniformly distributed nodes to compute the degree $n$ least-squares polynomial obtained for the two data sets. Plot the polynomials along with the function $f$ by evaluating each of them at $100$ uniformly spaced points on the interval $[0, 10]$. Do this once for $n=4$ and once for $n=15$. What can we observe?\n",
    "\n",
    "*Hint:* Make use the `np.polyfit` and `np.polyval` functions, as you have learned in last week's notebook.\n",
    "\n",
    "</div>"
   ]
  },
  {
   "cell_type": "code",
   "execution_count": null,
   "id": "655735bc-d1d1-4570-96b7-df00c1c480bd",
   "metadata": {
    "nbgrader": {
     "grade": false,
     "grade_id": "cell-a6b0b732755135b0",
     "locked": false,
     "schema_version": 3,
     "solution": true,
     "task": false
    }
   },
   "outputs": [],
   "source": [
    "### BEGIN SOLUTION\n",
    "\n",
    "def f(x):\n",
    "    return np.sin(x) + x\n",
    "\n",
    "x_lin = np.linspace(0, 10, 100)  # fine grid\n",
    "\n",
    "x_4_unif = np.linspace(0, 10, 4 + 1)\n",
    "y_4_unif, z_4_unif = get_data(x_4_unif, f, 4)\n",
    "p_4_y_unif = np.polyval(np.polyfit(x_4_unif, y_4_unif, 4), x_lin)\n",
    "p_4_z_unif = np.polyval(np.polyfit(x_4_unif, z_4_unif, 4), x_lin)\n",
    "\n",
    "plt.scatter(x_4_unif, y_4_unif, label=r\"$(x_i, y_i)$\")\n",
    "plt.plot(x_lin, p_4_y_unif, label=r\"interpolant $p_4(x)$ of $(x_i, y_i)$\")\n",
    "plt.scatter(x_4_unif, z_4_unif, label=r\"$(x_i, z_i)$\")\n",
    "plt.plot(x_lin, p_4_z_unif, label=r\"interpolant $p_4(x)$ of $(x_i, z_i)$\")\n",
    "plt.plot(x_lin, f(x_lin), label=r\"function $f(x)$\")\n",
    "plt.grid()\n",
    "plt.ylabel(r\"$y$\")\n",
    "plt.xlabel(r\"$x$\")\n",
    "plt.legend()\n",
    "plt.show()\n",
    "\n",
    "x_15_unif = np.linspace(0, 10, 15 + 1)\n",
    "y_15_unif, z_15_unif = get_data(x_15_unif, f, 15)\n",
    "p_15_y_unif = np.polyval(np.polyfit(x_15_unif, y_15_unif, 15), x_lin)\n",
    "p_15_z_unif = np.polyval(np.polyfit(x_15_unif, z_15_unif, 15), x_lin)\n",
    "\n",
    "plt.scatter(x_15_unif, y_15_unif, label=r\"$(x_i, y_i)$\")\n",
    "plt.plot(x_lin, p_15_y_unif, label=r\"interpolant $p_{15}(x)$ of $(x_i, y_i)$\")\n",
    "plt.scatter(x_15_unif, z_15_unif, label=r\"$(x_i, z_i)$\")\n",
    "plt.plot(x_lin, p_15_z_unif, label=r\"interpolant $p_{15}(x)$ of $(x_i, z_i)$\")\n",
    "plt.plot(x_lin, f(x_lin), label=r\"function $f(x)$\")\n",
    "plt.grid()\n",
    "plt.ylabel(r\"$y$\")\n",
    "plt.xlabel(r\"$x$\")\n",
    "plt.legend()\n",
    "plt.show()\n",
    "\n",
    "# Let us first remark that for this function $f$, the interpolating polynomial for the\n",
    "# unperturbed data converges to the function (better approximation in the case $n=15$\n",
    "# than in the case $n=4$). In the case $n=15$, the interpolating polynomial based on\n",
    "# the perturbed data clearly oscillates at the extremities of the interval. Small\n",
    "# perturbations on the data (less than $10$%) have in fact made a big difference between\n",
    "# the two interpolating polynomials at the ends of the interval. The interpolating polynomial\n",
    "# is therefore not stable. This is due to the fact that the Lebesgue's constant $L_n$ sharply\n",
    "# increases when $n$ increases. This phenomenon would be amplified if we increased the value of $n$.\n",
    "\n",
    "### END SOLUTION"
   ]
  },
  {
   "cell_type": "markdown",
   "id": "798fc647-a91a-4bac-abc4-d06d9d897e91",
   "metadata": {
    "nbgrader": {
     "grade": false,
     "grade_id": "cell-ae83e7bcd2fc4596",
     "locked": true,
     "schema_version": 3,
     "solution": false,
     "task": false
    }
   },
   "source": [
    "<div class=\"alert alert-success\">\n",
    "    \n",
    "**Exercise 2:** Repeat Exercise 1, but instead of uniformly spaced nodes, use the Clenshaw-Curtis nodes. What can you observe?\n",
    "\n",
    "*Hint:* You can copy all of your code from Exercise 1. The only thing you will need to change is the definition of the nodes.\n",
    "</div>"
   ]
  },
  {
   "cell_type": "code",
   "execution_count": null,
   "id": "6b631522-5c04-4f7b-98d9-bbf9490c5d4b",
   "metadata": {
    "nbgrader": {
     "grade": false,
     "grade_id": "cell-b97399de7c0f7bd7",
     "locked": false,
     "schema_version": 3,
     "solution": true,
     "task": false
    }
   },
   "outputs": [],
   "source": [
    "### BEGIN SOLUTION\n",
    "\n",
    "x_4_cc = (10 + 0) / 2 + (10 - 0) / 2 * np.cos(np.pi * np.arange(4 + 1) / 4) \n",
    "y_4_cc, z_4_cc = get_data(x_4_cc, f, 4)\n",
    "p_4_y_cc = np.polyval(np.polyfit(x_4_cc, y_4_cc, 4), x_lin)\n",
    "p_4_z_cc = np.polyval(np.polyfit(x_4_cc, z_4_cc, 4), x_lin)\n",
    "\n",
    "plt.scatter(x_4_cc, y_4_cc, label=r\"$(x_i, y_i)$\")\n",
    "plt.plot(x_lin, p_4_y_cc, label=r\"interpolant $p_4(x)$ of $(x_i, y_i)$\")\n",
    "plt.scatter(x_4_cc, z_4_cc, label=r\"$(x_i, z_i)$\")\n",
    "plt.plot(x_lin, p_4_z_cc, label=r\"interpolant $p_4(x)$ of $(x_i, z_i)$\")\n",
    "plt.plot(x_lin, f(x_lin), label=r\"function $f(x)$\")\n",
    "plt.grid()\n",
    "plt.ylabel(r\"$y$\")\n",
    "plt.xlabel(r\"$x$\")\n",
    "plt.legend()\n",
    "plt.show()\n",
    "\n",
    "x_15_cc = (10 + 0) / 2 + (10 - 0) / 2 * np.cos(np.pi * np.arange(15 + 1) / 15) \n",
    "y_15_cc, z_15_cc = get_data(x_15_cc, f, 15)\n",
    "p_15_y_cc = np.polyval(np.polyfit(x_15_cc, y_15_cc, 15), x_lin)\n",
    "p_15_z_cc = np.polyval(np.polyfit(x_15_cc, z_15_cc, 15), x_lin)\n",
    "\n",
    "plt.scatter(x_15_cc, y_15_cc, label=r\"$(x_i, y_i)$\")\n",
    "plt.plot(x_lin, p_15_y_cc, label=r\"interpolant $p_{15}(x)$ of $(x_i, y_i)$\")\n",
    "plt.scatter(x_15_cc, z_15_cc, label=r\"$(x_i, z_i)$\")\n",
    "plt.plot(x_lin, p_15_z_cc, label=r\"interpolant $p_{15}(x)$ of $(x_i, z_i)$\")\n",
    "plt.plot(x_lin, f(x_lin), label=r\"function $f(x)$\")\n",
    "plt.grid()\n",
    "plt.ylabel(r\"$y$\")\n",
    "plt.xlabel(r\"$x$\")\n",
    "plt.legend()\n",
    "plt.show()\n",
    "\n",
    "# In this case, the perturbations on the data have produced only small modifications on\n",
    "# the polynomial interpolation. We can explain this by using the fact that for the\n",
    "# Clenshaw-Curtis nodes, the Lebesgue constant grows slowler than for equidistant nodes.\n",
    "\n",
    "### END SOLUTION"
   ]
  },
  {
   "cell_type": "markdown",
   "id": "b6ce2f79-464d-42cf-ba03-799a9750a6bf",
   "metadata": {
    "nbgrader": {
     "grade": false,
     "grade_id": "cell-806a111ed1908155",
     "locked": true,
     "schema_version": 3,
     "solution": false,
     "task": false
    }
   },
   "source": [
    "<div class=\"alert alert-success\">\n",
    "    \n",
    "**Exercise 3:** Repeat Exercise 1, but instead of the least-squares use a piecewise linear interpolant. Comment on the result.\n",
    "\n",
    "*Hint:* You can reuse most of the code from Exercise 1. The function `np.interp(x_eval, x, y)` which takes as input a list `x_eval` of points and some data `x`,`y` evaluates the piecewise linear interpolant of the data in the points `x_eval`.\n",
    "</div>"
   ]
  },
  {
   "cell_type": "code",
   "execution_count": null,
   "id": "77576736-13fa-457d-80b9-7de161e62e9f",
   "metadata": {
    "nbgrader": {
     "grade": false,
     "grade_id": "cell-69d8a23c1300c5f5",
     "locked": false,
     "schema_version": 3,
     "solution": true,
     "task": false
    }
   },
   "outputs": [],
   "source": [
    "### BEGIN SOLUTION\n",
    "\n",
    "x_4_pw = np.linspace(0, 10, 4 + 1)\n",
    "y_4_pw, z_4_pw = get_data(x_4_pw, f, 4)\n",
    "p_4_y_pw = np.interp(x_lin, x_4_pw, y_4_pw)\n",
    "p_4_z_pw = np.interp(x_lin, x_4_pw, z_4_pw)\n",
    "\n",
    "plt.scatter(x_4_pw, y_4_pw, label=r\"$(x_i, y_i)$\")\n",
    "plt.plot(x_lin, p_4_y_pw, label=r\"interpolant $p_4(x)$ of $(x_i, y_i)$\")\n",
    "plt.scatter(x_4_pw, z_4_pw, label=r\"$(x_i, z_i)$\")\n",
    "plt.plot(x_lin, p_4_z_pw, label=r\"interpolant $p_4(x)$ of $(x_i, z_i)$\")\n",
    "plt.plot(x_lin, f(x_lin), label=r\"function $f(x)$\")\n",
    "plt.grid()\n",
    "plt.ylabel(r\"$y$\")\n",
    "plt.xlabel(r\"$x$\")\n",
    "plt.legend()\n",
    "plt.show()\n",
    "\n",
    "x_15_pw = np.linspace(0, 10, 15 + 1)\n",
    "y_15_pw, z_15_pw = get_data(x_15_pw, f, 15)\n",
    "p_15_y_pw = np.interp(x_lin, x_15_pw, y_15_pw)\n",
    "p_15_z_pw = np.interp(x_lin, x_15_pw, z_15_pw)\n",
    "\n",
    "plt.scatter(x_15_pw, y_15_pw, label=r\"$(x_i, y_i)$\")\n",
    "plt.plot(x_lin, p_15_y_pw, label=r\"interpolant $p_{15}(x)$ of $(x_i, y_i)$\")\n",
    "plt.scatter(x_15_pw, z_15_pw, label=r\"$(x_i, z_i)$\")\n",
    "plt.plot(x_lin, p_15_z_pw, label=r\"interpolant $p_{15}(x)$ of $(x_i, z_i)$\")\n",
    "plt.plot(x_lin, f(x_lin), label=r\"function $f(x)$\")\n",
    "plt.grid()\n",
    "plt.ylabel(r\"$y$\")\n",
    "plt.xlabel(r\"$x$\")\n",
    "plt.legend()\n",
    "plt.show()\n",
    "\n",
    "# The results are similar to the ones we obtained at the point b). We have a better\n",
    "# approximation when $n=15$ than when $n=4$, and the perturbations on the data have\n",
    "# very little effect on the piecewise interpolating polynomial.\n",
    "\n",
    "### END SOLUTION"
   ]
  },
  {
   "cell_type": "markdown",
   "id": "c1a0f1d7-a043-4803-8b15-578a9f700366",
   "metadata": {
    "nbgrader": {
     "grade": false,
     "grade_id": "cell-8cc7f4e29978a25b",
     "locked": true,
     "schema_version": 3,
     "solution": false,
     "task": false
    }
   },
   "source": [
    "<hr style=\"clear:both\">\n",
    "\n",
    "### Interpolation with cubic splines"
   ]
  },
  {
   "cell_type": "markdown",
   "id": "8f897c88-464c-4687-b967-7a03c4b0b9bb",
   "metadata": {
    "nbgrader": {
     "grade": false,
     "grade_id": "cell-09a88f08fb9c51f5",
     "locked": true,
     "schema_version": 3,
     "solution": false,
     "task": false
    }
   },
   "source": [
    "We consider the functions\n",
    "\n",
    "$$\n",
    "g_1(x) = \\sin(5 x)\n",
    "$$\n",
    "\n",
    "and \n",
    "\n",
    "$$\n",
    "g_2(x) = x |x|\n",
    "$$\n",
    "\n",
    "on the interval $[-1, 1]$."
   ]
  },
  {
   "cell_type": "markdown",
   "id": "5b8faa9c-cadc-4116-9b8b-b475f5a4271d",
   "metadata": {
    "nbgrader": {
     "grade": false,
     "grade_id": "cell-0f2cd23f39a9e29c",
     "locked": true,
     "points": 0,
     "schema_version": 3,
     "solution": false,
     "task": true
    }
   },
   "source": [
    "<div class=\"alert alert-success\">\n",
    "    \n",
    "**Exercise 4 (Theoretical):** Based on the results you have seen in the lecture, what order of convergence $p$ can we expect a cubic spline to have when interpolating the functions $g_1$ and $g_2$ on equidistant nodes?\n",
    "</div>\n",
    "\n",
    "=== BEGIN MARK SCHEME ===\n",
    "\n",
    "Since $g_1$ is an infinitely differentiable function (i.e. in class $C^{\\infty}$), we can directly apply Theorem 2.4 to see that the order of convergence is $p = 4$.\n",
    "\n",
    "On the other hand, $g_2'(x) = 2|x|$ is not differentiable at $x = 0$, and therefore only in class $C^1$. We cannot apply Theorem 2.4 to this case. \n",
    "\n",
    "=== END MARK SCHEME ==="
   ]
  },
  {
   "cell_type": "markdown",
   "id": "2f636cd2-65b8-44ca-b4da-d7c142ebb5a1",
   "metadata": {
    "nbgrader": {
     "grade": false,
     "grade_id": "cell-227a5ecccdbaacf4",
     "locked": true,
     "schema_version": 3,
     "solution": false,
     "task": false
    }
   },
   "source": [
    "<div class=\"alert alert-success\">\n",
    "    \n",
    "**Exercise 5:** Use cubic splines to interpolate the functions $g_1$ and $g_2$ at $n + 1$ equidistant nodes for $n = 2^k$ and $k = 4, 5, \\dots, 8$ in the interval $[-1, 1]$. For every $h = 2 / n$, approximate the maximum absolute error\n",
    "\n",
    "$$\n",
    "E_{3, h} = \\max_{x \\in [-1, 1]} |g(x) - s_{3, h}(x)|\n",
    "$$\n",
    "\n",
    "by evaluating the spline and the function in $100$ equally spaced points within the interval $[-1, 1]$ and computing the maximum absolute distance attained in these points. Plot $E_{3, h}$ against all $h$ for both functions in a log-log plot (use `plt.loglog` for this). Determine the order of convergence to each of the functions by adding the lines $(h, h^p)$ for some $p=1, 2, \\dots$ to your plot. Are your results in accordance with Exercise 4?\n",
    "\n",
    "*Hint:* The SciPy function `spline = sp.interpolate.CubicSpline(x, y)` interpolates some data `x` and `y` with a cubic spline, and returns a a function `spline`, which can be called to evaluate the spline at some points. \n",
    "</div>"
   ]
  },
  {
   "cell_type": "code",
   "execution_count": null,
   "id": "edbd25cc-aa39-4d33-9bf2-27d36eb9319a",
   "metadata": {
    "nbgrader": {
     "grade": false,
     "grade_id": "cell-16828d478bb8ef2c",
     "locked": false,
     "schema_version": 3,
     "solution": true,
     "task": false
    }
   },
   "outputs": [],
   "source": [
    "### BEGIN SOLUTION\n",
    "def g_1(x):\n",
    "    return np.sin(5 * x)\n",
    "\n",
    "def g_2(x):\n",
    "    return x * np.abs(x)\n",
    "\n",
    "x_lin = np.linspace(-1, 1, 100)  # fine grid\n",
    "errors_g_1 = []\n",
    "errors_g_2 = []\n",
    "n_list = 2 ** np.arange(4, 9)\n",
    "h_list = 2 / n_list\n",
    "for n in n_list:\n",
    "    x_interp = np.linspace(-1, 1, n + 1)  # interpolation nodes\n",
    "    y_g_1 = g_1(x_interp) \n",
    "    y_g_2 = g_2(x_interp)\n",
    "    s3h_g_1 = sp.interpolate.CubicSpline(x_interp, y_g_1)\n",
    "    s3h_g_2 = sp.interpolate.CubicSpline(x_interp, y_g_2)\n",
    "    errors_g_1.append(np.max(np.abs(g_1(x_lin) - s3h_g_1(x_lin))))\n",
    "    errors_g_2.append(np.max(np.abs(g_2(x_lin) - s3h_g_2(x_lin))))\n",
    "\n",
    "plt.loglog(h_list, errors_g_1, label=r\"error $E_{3, h}$ for $g_1$\")\n",
    "plt.loglog(h_list, np.array(h_list)**5, label=r\"$\\mathcal{O}(h^5)$\", linestyle=\"--\", color=\"tab:blue\")\n",
    "plt.loglog(h_list, errors_g_2, label=r\"error $E_{3, h}$ for $g_2$\")\n",
    "plt.loglog(h_list, np.array(h_list)**2, label=r\"$\\mathcal{O}(h^2)$\", linestyle=\"--\", color=\"tab:orange\")\n",
    "plt.xlabel(r\"$h$\")\n",
    "plt.grid()\n",
    "plt.legend()\n",
    "plt.show()\n",
    "\n",
    "# The maximum absolute interpolation error of the interpolating spline for $g_1$\n",
    "# goes down approximately as the line $h^5$. Therefore, we observe an even faster\n",
    "# convergence than what is guaranteed by Theorem 2.4. \n",
    "# For $g_2$ the error goes down with $h^2$. As expected, the bound from Theorem 2.4\n",
    "# does not hold in this case.\n",
    "\n",
    "### END SOLUTION"
   ]
  },
  {
   "cell_type": "markdown",
   "id": "1ae98b76-c116-41e6-ad5e-d95e7cf6d04e",
   "metadata": {
    "nbgrader": {
     "grade": false,
     "grade_id": "cell-30fc4f46fd194a6d",
     "locked": true,
     "schema_version": 3,
     "solution": false,
     "task": false
    }
   },
   "source": [
    "<hr style=\"clear:both\">\n",
    "\n",
    "### Least squares fitting"
   ]
  },
  {
   "cell_type": "markdown",
   "id": "3979adfe-892a-49cb-895c-0cd10792af41",
   "metadata": {
    "nbgrader": {
     "grade": false,
     "grade_id": "cell-469b041ade29a41c",
     "locked": true,
     "schema_version": 3,
     "solution": false,
     "task": false
    }
   },
   "source": [
    "Let us consider the function\n",
    "\n",
    "$$  h(x) = \\frac{1}{2+x}, \\quad x\\in [-1, 1], $$\n",
    "\n",
    "and the points $x_1=-1$, $x_2=0$ et $x_3 =1$. The polynomial $p(x) = a_0 + a_1 x$ which minimizes the function\n",
    "\n",
    "$$\n",
    "\\Phi(a_0, a_1) = \\sum_{i=1}^3 [h(x_i) - p(x_i)]^2= \\sum_{i=1}^3 [h(x_i) - a_0 - a_1 x_i]^2\n",
    "$$\n",
    "\n",
    "is the polynomial of least squares error of degree 1, also referred to as the regression line."
   ]
  },
  {
   "cell_type": "markdown",
   "id": "ed77b02c-dc31-4413-a701-47a9c594bae8",
   "metadata": {
    "nbgrader": {
     "grade": false,
     "grade_id": "cell-f460765126d18da7",
     "locked": true,
     "points": 0,
     "schema_version": 3,
     "solution": false,
     "task": true
    }
   },
   "source": [
    "<div class=\"alert alert-success\">\n",
    "    \n",
    "**Exercise 6 (Theoretical):** Write and solve the system of equations to compute the coefficients $a_0$ and $a_1$ of the least squares polynomial $p(x) = a_0 + a_1 x$ for the data points $(x_i,h(x_i))$, $i=1,2,3$.\n",
    "</div>\n",
    "\n",
    "=== BEGIN MARK SCHEME ===\n",
    "\n",
    "The system of equations is given by\n",
    "\n",
    "$$\n",
    "V^\\top V\\mathbf{a}=V^\\top\\mathbf{y}\n",
    "$$\n",
    "\n",
    "where $\\mathbf{a}=[a_0 \\,\\, a_1]^\\top$ is the unknowns vector, $\\mathbf{y}=[h(x_1) \\,\\, h(x_2) \\,\\,h(x_3) ]^\\top$ is the data vector and $V$\n",
    "is the Vandermonde's matrix\n",
    "\n",
    "$$\n",
    "V = \n",
    "\\begin{bmatrix}\n",
    "1 & x_1 \\\\ \n",
    "1 & x_2 \\\\\n",
    "1 & x_3\n",
    "\\end{bmatrix}\n",
    "=\n",
    "\\begin{bmatrix}\n",
    "1 & -1 \\\\ \n",
    "1 & 0 \\\\\n",
    "1 & 1\n",
    "\\end{bmatrix}.\n",
    "$$\n",
    "\n",
    "We have\n",
    "\n",
    "$$\n",
    "V^\\top V = \n",
    "\\begin{bmatrix} \n",
    "  1 & 1 & 1 \\\\ \n",
    "  -1 & 0 & 1\n",
    "\\end{bmatrix}\n",
    "\\begin{bmatrix} \n",
    "  1 & -1 \\\\ \n",
    "  1 & 0 \\\\ \n",
    "  1 & 1\n",
    "\\end{bmatrix}\n",
    "=\n",
    "\\begin{bmatrix} \n",
    "  3 & 0 \\\\ \n",
    "  0 & 2\n",
    "\\end{bmatrix}\n",
    "$$\n",
    "\n",
    "and\n",
    "\n",
    "$$\n",
    "V^\\top y=\n",
    "\\begin{bmatrix} \n",
    "  1 & 1 & 1 \\\\ \n",
    "  -1 & 0 & 1 \n",
    "\\end{bmatrix}\n",
    "\\begin{bmatrix} \n",
    "  1 \\\\ \n",
    "  1/2 \\\\ \n",
    "  1/3 \n",
    "\\end{bmatrix}\n",
    "=\n",
    "\\begin{bmatrix} \n",
    "  11/6 \\\\ \n",
    "  -2/3\n",
    "\\end{bmatrix}.\n",
    "$$\n",
    "\n",
    "The $2\\times 2$ system to solve is therefore\n",
    "\n",
    "$$\n",
    "\\begin{bmatrix} \n",
    "  3 & 0 \\\\ \n",
    "  0 & 2\n",
    "\\end{bmatrix}\n",
    "\\begin{bmatrix} \n",
    "  a_0 \\\\ \n",
    "  a_1\n",
    "\\end{bmatrix} =\n",
    "\\begin{bmatrix} \n",
    "  11/6 \\\\ \n",
    "  -2/3\n",
    "\\end{bmatrix},\n",
    "$$\n",
    "\n",
    "whose solution is\n",
    "\n",
    "$$\n",
    "a_0 = \\frac{11}{18}\\quad \\text{and} \\quad a_1 = -\\frac{1}{3}.\n",
    "$$\n",
    "\n",
    "\n",
    "=== END MARK SCHEME ==="
   ]
  },
  {
   "cell_type": "markdown",
   "id": "8627fddd-31de-4d70-8aa9-cd6d89d918dd",
   "metadata": {
    "nbgrader": {
     "grade": false,
     "grade_id": "cell-6abd888c1463b7e3",
     "locked": true,
     "schema_version": 3,
     "solution": false,
     "task": false
    }
   },
   "source": [
    "<div class=\"alert alert-success\">\n",
    "    \n",
    "**Exercise 7:** Visualize the function $h$ and the least squares polynomial $p$ you have found in Exercise 6 by plotting their values at $100$ uniformly spaced points on the interval $[-1, 1]$.\n",
    "</div>"
   ]
  },
  {
   "cell_type": "code",
   "execution_count": null,
   "id": "151ab738-e2f5-49cd-95cd-1cc567fed365",
   "metadata": {
    "nbgrader": {
     "grade": false,
     "grade_id": "cell-6cfcc832e82f1cdd",
     "locked": false,
     "schema_version": 3,
     "solution": true,
     "task": false
    }
   },
   "outputs": [],
   "source": [
    "### BEGIN SOLUTION\n",
    "\n",
    "def h(x):\n",
    "    return 1 / (2 + x)\n",
    "\n",
    "def p(x):\n",
    "    return 11 / 18 - 1 / 3 * x\n",
    "\n",
    "x_lin = np.linspace(-1, 1)\n",
    "plt.plot(x_lin, h(x_lin), label=r\"$h(x)$\")\n",
    "plt.plot(x_lin, p(x_lin), label=r\"$p(x)$\")\n",
    "plt.xlabel(r\"$x$\")\n",
    "plt.legend()\n",
    "plt.grid()\n",
    "plt.show()\n",
    "\n",
    "### END SOLUTION"
   ]
  },
  {
   "cell_type": "markdown",
   "id": "4b89eea9-ec64-4d32-8633-ecced602ab45",
   "metadata": {
    "nbgrader": {
     "grade": false,
     "grade_id": "cell-5b39b5b957674ceb",
     "locked": true,
     "schema_version": 3,
     "solution": false,
     "task": false
    }
   },
   "source": [
    "<hr style=\"clear:both\">\n",
    "\n",
    "## The end\n",
    "\n",
    "Splendid! You have reached the end of the fifth exercise notebook. Almost halfway :)"
   ]
  }
 ],
 "metadata": {
  "kernelspec": {
   "display_name": "Python 3 (ipykernel)",
   "language": "python",
   "name": "python3"
  },
  "language_info": {
   "codemirror_mode": {
    "name": "ipython",
    "version": 3
   },
   "file_extension": ".py",
   "mimetype": "text/x-python",
   "name": "python",
   "nbconvert_exporter": "python",
   "pygments_lexer": "ipython3",
   "version": "3.12.3"
  }
 },
 "nbformat": 4,
 "nbformat_minor": 5
}
