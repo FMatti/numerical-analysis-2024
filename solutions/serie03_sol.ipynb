{
 "cells": [
  {
   "cell_type": "markdown",
   "metadata": {
    "nbgrader": {
     "grade": false,
     "grade_id": "cell-8f1c4d1a6723e053",
     "locked": true,
     "schema_version": 3,
     "solution": false,
     "task": false
    }
   },
   "source": [
    "## Numerical Analysis - Fall semester 2024\n",
    "# Serie 03 - Newton's and fixed-point methods"
   ]
  },
  {
   "cell_type": "markdown",
   "metadata": {
    "nbgrader": {
     "grade": false,
     "grade_id": "cell-922e4937f542876b",
     "locked": true,
     "schema_version": 3,
     "solution": false,
     "task": false
    }
   },
   "source": [
    "As usual, we will import some useful packages for later reference. You will have to run this cell every time you restart your notebook."
   ]
  },
  {
   "cell_type": "code",
   "execution_count": null,
   "metadata": {
    "nbgrader": {
     "grade": false,
     "grade_id": "cell-2a46d0405673b9c3",
     "locked": true,
     "schema_version": 3,
     "solution": false,
     "task": false
    }
   },
   "outputs": [],
   "source": [
    "import numpy as np\n",
    "import matplotlib.pyplot as plt"
   ]
  },
  {
   "cell_type": "markdown",
   "metadata": {
    "nbgrader": {
     "grade": false,
     "grade_id": "cell-16f40886e18e5ba1",
     "locked": true,
     "schema_version": 3,
     "solution": false,
     "task": false
    }
   },
   "source": [
    "<hr style=\"clear:both\">\n",
    "\n",
    "### Newton's method"
   ]
  },
  {
   "cell_type": "markdown",
   "metadata": {
    "nbgrader": {
     "grade": false,
     "grade_id": "cell-60e01807e58cb523",
     "locked": true,
     "schema_version": 3,
     "solution": false,
     "task": false
    }
   },
   "source": [
    "<div class=\"alert alert-success\">\n",
    "    \n",
    "**Exercise 1:** Complete the following implementation of Newton's method (Algorithm 1.6 in the lecture notes), which additionally keeps track of all the iterates $x^{(0)}, x^{(1)}, \\dots$ and increments $r^{(0)}, r^{(1)}, \\dots$.\n",
    "\n",
    "*Hint:* You can access the last element in a Python list `l` by using `l[-1]`, the second to last with `l[-2]`, and so on...\n",
    "</div>\n"
   ]
  },
  {
   "cell_type": "code",
   "execution_count": null,
   "metadata": {
    "nbgrader": {
     "grade": false,
     "grade_id": "cell-d6d6fe61b87cb257",
     "locked": false,
     "schema_version": 3,
     "solution": true,
     "task": false
    }
   },
   "outputs": [],
   "source": [
    "def newton(f, df, x0, tol, nmax):\n",
    "    x = []  # list of iterates\n",
    "    x.append(x0)\n",
    "    r = []  # list of increments\n",
    "    r.append(tol + 1)\n",
    "    k = 0  # iteration counter\n",
    "    while r[-1] > tol and k < nmax:\n",
    "        ### BEGIN SOLUTION\n",
    "        x.append(x[-1] - f(x[-1]) / df(x[-1]))\n",
    "        r.append(abs(x[-1] - x[-2]))\n",
    "        k = k + 1\n",
    "        ### END SOLUTION\n",
    "    return x, r, k"
   ]
  },
  {
   "cell_type": "code",
   "execution_count": null,
   "metadata": {
    "nbgrader": {
     "grade": false,
     "grade_id": "cell-5d8f7079cbb7feb9",
     "locked": true,
     "schema_version": 3,
     "solution": false,
     "task": false
    }
   },
   "outputs": [],
   "source": [
    "assert np.isclose(N := newton(lambda x: x ** 2 - 2, lambda x: 2 * x, 1.1, 1e-10, 100)[0][-1], np.sqrt(2)), f\"'newton(f, df, 1.1, 1e-10, 100)' for 'f(x) = x^2 - 2' should approximately return 'alpha = 1.41421', but got {N}\"; print(\"Nice! Your function returned what was expected on our simple example.\")"
   ]
  },
  {
   "cell_type": "markdown",
   "metadata": {
    "nbgrader": {
     "grade": false,
     "grade_id": "cell-36bc4e2ba33168f8",
     "locked": true,
     "schema_version": 3,
     "solution": false,
     "task": false
    }
   },
   "source": [
    "We now consider the function\n",
    "\n",
    "$$\n",
    "f(x) = (x - e) (x - \\sqrt{17})^3\n",
    "$$"
   ]
  },
  {
   "cell_type": "markdown",
   "metadata": {
    "nbgrader": {
     "grade": false,
     "grade_id": "cell-c9a83e7fe6d82511",
     "locked": true,
     "schema_version": 3,
     "solution": false,
     "task": false
    }
   },
   "source": [
    "<div class=\"alert alert-success\">\n",
    "    \n",
    "**Exercise 2:** Implement this function and plot the graph of the function at $100$ uniformly spaced points in the interval $x \\in [5/2, 5]$.\n",
    "\n",
    "*Hint:* Euler's number $e$ is approximated by the NumPy constant `np.e`.\n",
    "</div>\n"
   ]
  },
  {
   "cell_type": "code",
   "execution_count": null,
   "metadata": {
    "nbgrader": {
     "grade": false,
     "grade_id": "cell-5cab970f8ed9c0ec",
     "locked": false,
     "schema_version": 3,
     "solution": true,
     "task": false
    }
   },
   "outputs": [],
   "source": [
    "def f(x):\n",
    "    ### BEGIN SOLUTION\n",
    "    return (x - np.e) * (x - np.sqrt(17)) ** 3\n",
    "    ### END SOLUTION\n",
    "\n",
    "### BEGIN SOLUTION\n",
    "x_lin = np.linspace(5/2, 5, 100)\n",
    "plt.plot(x_lin, f(x_lin))\n",
    "plt.xlabel(r\"$x$\")\n",
    "plt.ylabel(r\"$f(x)$\")\n",
    "plt.grid()\n",
    "### END SOLUTION"
   ]
  },
  {
   "cell_type": "markdown",
   "metadata": {
    "nbgrader": {
     "grade": false,
     "grade_id": "cell-7bc545b4951c5fb7",
     "locked": true,
     "points": 0,
     "schema_version": 3,
     "solution": false,
     "task": true
    }
   },
   "source": [
    "<div class=\"alert alert-success\">\n",
    "    \n",
    "**Exercise 3 (Theoretical):** For Newton's method applied to this function from some starting point $x^{(0)}$, write down explicitly $x^{(k+1)}$ in terms of $x^{(k)}$ for any $k$.\n",
    "</div>\n",
    "\n",
    "=== BEGIN MARK SCHEME ===\n",
    "\n",
    "The general expression of the Newton method is\n",
    "\n",
    "$$\n",
    "x^{(k+1)}=x^{(k)} - \\frac{f(x^{(k)})}{f'(x^{(k)})}.\n",
    "$$\n",
    "\n",
    "We have\n",
    "\n",
    "$$\n",
    "f^\\prime(x)= 3 (x-e)   \\left( x- \\sqrt{17} \\right)^2 + \\left( x- \\sqrt{17}  \\right)^3,\n",
    "$$\n",
    "\n",
    "therefore\n",
    "\n",
    "\\begin{align*}\n",
    "x^{(k+1)}& =x^{(k)} \n",
    "- \\frac{(x^{(k)}-e) \\left( x^{(k)}- \\sqrt{17} \\right)^3}{3 (x^{(k)}-e) \\left( x^{(k)} - \\sqrt{17} \\right)^2 + \\left( x^{(k)} - \\sqrt{17}  \\right)^3} \\,\\,.\n",
    "\\end{align*}\n",
    "\n",
    "=== END MARK SCHEME ==="
   ]
  },
  {
   "cell_type": "markdown",
   "metadata": {
    "nbgrader": {
     "grade": false,
     "grade_id": "cell-6b75bb5a4905e86f",
     "locked": true,
     "schema_version": 3,
     "solution": false,
     "task": false
    }
   },
   "source": [
    "<div class=\"alert alert-success\">\n",
    "    \n",
    "**Exercise 4:** Use your implementation of Newton's method from Exercise 1 to find the two roots $\\alpha$ and $\\beta$ of the function $f$, using the initial points $x_{\\alpha}^{(0)} = 5/2$ and $x_{\\beta}^{(0)} = 5$ respectively. Use a tolerance of `tol = 1e-10` and limit the iterations to `nmax = 100`.\n",
    "</div>"
   ]
  },
  {
   "cell_type": "code",
   "execution_count": null,
   "metadata": {
    "nbgrader": {
     "grade": false,
     "grade_id": "cell-14f7973c8a8474bd",
     "locked": false,
     "schema_version": 3,
     "solution": true,
     "task": false
    }
   },
   "outputs": [],
   "source": [
    "def df(x):\n",
    "    ### BEGIN SOLUTION\n",
    "    return (x - np.sqrt(17)) ** 3 + 3 * (x - np.e) * (x - np.sqrt(17)) ** 2\n",
    "    ### END SOLUTION\n",
    "\n",
    "### BEGIN SOLUTION\n",
    "tol = 1e-10\n",
    "nmax = 100\n",
    "x0_alpha = 5/2\n",
    "x_alpha, r_alpha, niter_alpha = newton(f, df, x0_alpha, tol, nmax)\n",
    "print(f\"first root of f(x): α = {x_alpha[-1]}\")\n",
    "x0_beta = 5\n",
    "x_beta, r_beta, niter_beta = newton(f, df, x0_beta, tol, nmax)\n",
    "print(f\"second root of f(x): β = {x_beta[-1]}\")\n",
    "### END SOLUTION"
   ]
  },
  {
   "cell_type": "markdown",
   "metadata": {
    "nbgrader": {
     "grade": false,
     "grade_id": "cell-4389555783b6f9dc",
     "locked": true,
     "schema_version": 3,
     "solution": false,
     "task": false
    }
   },
   "source": [
    "<div class=\"alert alert-success\">\n",
    "    \n",
    "**Exercise 5:** For the Newton iteration computed for $\\alpha$ and $\\beta$ from Exercise 4, plot the sequence\n",
    "\n",
    "$$\n",
    "|x^{(k + 1)} - x^{(k)}|, k=1, 2, \\dots\n",
    "$$\n",
    "\n",
    "with logarithmically scaled y-axis (use `plt.semilogy`) and comment on the result.\n",
    "</div>"
   ]
  },
  {
   "cell_type": "code",
   "execution_count": null,
   "metadata": {
    "nbgrader": {
     "grade": false,
     "grade_id": "cell-25da9ed7c20262d2",
     "locked": false,
     "schema_version": 3,
     "solution": true,
     "task": false
    }
   },
   "outputs": [],
   "source": [
    "### BEGIN SOLUTION\n",
    "plt.semilogy(range(niter_alpha + 1), np.array(r_alpha), marker=\"o\", label=r\"$\\alpha$\")\n",
    "plt.semilogy(range(niter_beta + 1), np.array(r_beta), marker=\"o\", label=r\"$\\beta$\")\n",
    "plt.ylabel(r\"increment $|x^{(k + 1)} - x^{(k)}|$\")\n",
    "plt.xlabel(r\"iteration $k$\")\n",
    "plt.legend()\n",
    "plt.grid()\n",
    "plt.show()\n",
    "\n",
    "# Comment on the result: Newton method converges much faster to α than to β\n",
    "\n",
    "### END SOLUTION"
   ]
  },
  {
   "cell_type": "markdown",
   "metadata": {
    "nbgrader": {
     "grade": false,
     "grade_id": "cell-c292c606bde14097",
     "locked": true,
     "schema_version": 3,
     "solution": false,
     "task": false
    }
   },
   "source": [
    "<div class=\"alert alert-success\">\n",
    "    \n",
    "**Exercise 6:** For the Newton iteration computed for $\\alpha$ and $\\beta$, plot the sequences\n",
    "\n",
    "$$\n",
    "\\frac{|x^{(k + 1)} - x^{(k)}|}{|x^{(k)} - x^{(k - 1)}|^{p}}, k=1, 2, \\dots\n",
    "$$\n",
    "\n",
    "for $p = 1$ and $p = 2$ on a separate plot for $\\alpha$ and $\\beta$. Which of the sequences converges to a constant? What can we conclude?\n",
    "</div>"
   ]
  },
  {
   "cell_type": "code",
   "execution_count": null,
   "metadata": {
    "nbgrader": {
     "grade": false,
     "grade_id": "cell-a6fd2d1c23e0ace1",
     "locked": false,
     "schema_version": 3,
     "solution": true,
     "task": false
    }
   },
   "outputs": [],
   "source": [
    "### BEGIN SOLUTION\n",
    "plt.semilogy(range(niter_alpha), np.array(r_alpha[1:]) / np.array(r_alpha[:-1]), marker=\"o\", label=r\"$p=1$\")\n",
    "plt.semilogy(range(niter_alpha), np.array(r_alpha[1:]) / np.array(r_alpha[:-1]) ** 2, marker=\"o\", label=r\"$p=2$\")\n",
    "plt.ylabel(r\"increment ratio $|x^{(k + 1)} - x^{(k)}| / |x^{(k)} - x^{(k - 1)}|^{p}$\")\n",
    "plt.xlabel(r\"iteration $k$\")\n",
    "plt.legend()\n",
    "plt.grid()\n",
    "plt.show()\n",
    "plt.semilogy(range(niter_beta), np.array(r_beta[1:]) / np.array(r_beta[:-1]), marker=\"o\", label=r\"$p=1$\")\n",
    "plt.semilogy(range(niter_beta), np.array(r_beta[1:]) / np.array(r_beta[:-1]) ** 2, marker=\"o\", label=r\"$p=2$\")\n",
    "plt.ylabel(r\"increment ratio $|x^{(k + 1)} - x^{(k)}| / |x^{(k)} - x^{(k - 1)}|^{p}$\")\n",
    "plt.xlabel(r\"iteration $k$\")\n",
    "plt.legend()\n",
    "plt.grid()\n",
    "plt.show()\n",
    "\n",
    "# Conclusion: Newton's method seems to converge with second order to α (because for p=2 the sequence converges to a constant)\n",
    "# and with first order to β (because for p=1 the sequence converges to a constant, but not for p=2).\n",
    "# WARNING: This is only a rough estimate of the order of convergence, as by Definition 1.1 (lecture notes), \n",
    "# we would have to look at the error from the true zero, and not the increments. \n",
    "\n",
    "### END SOLUTION"
   ]
  },
  {
   "cell_type": "markdown",
   "metadata": {
    "nbgrader": {
     "grade": false,
     "grade_id": "cell-c1664f15df34b5cf",
     "locked": true,
     "schema_version": 3,
     "solution": false,
     "task": false
    }
   },
   "source": [
    "<hr style=\"clear:both\">\n",
    "\n",
    "### Fixed-point method for finding roots"
   ]
  },
  {
   "cell_type": "markdown",
   "metadata": {
    "nbgrader": {
     "grade": false,
     "grade_id": "cell-a6af20c2df29e32b",
     "locked": true,
     "schema_version": 3,
     "solution": false,
     "task": false
    }
   },
   "source": [
    "We want to compute the root $\\alpha$ of the function $f(x) = x^3 -\n",
    "2$ using the following fixed-point method:\n",
    "$$\n",
    "   x^{(k+1)}=\\phi(x^{(k)}) = x^{(k)} \\left( 1 - \\frac{\\omega}{3} \\right) +\n",
    "  (x^{(k)})^3 (1-\\omega) + \\frac{2\\omega}{3(x^{(k)})^2} +\n",
    "  2(\\omega-1), \\quad k \\geq 0,\n",
    "$$\n",
    "$\\omega \\in \\mathbb{R}$ being a real parameter."
   ]
  },
  {
   "cell_type": "markdown",
   "metadata": {
    "nbgrader": {
     "grade": false,
     "grade_id": "cell-1fd3098c7ac6e449",
     "locked": true,
     "points": 0,
     "schema_version": 3,
     "solution": false,
     "task": true
    }
   },
   "source": [
    "<div class=\"alert alert-success\">\n",
    "    \n",
    "**Exercise 7 (Theoretical):** For which values of the parameter $\\omega$ is the root of the function $f$ a fixed-point of the proposed method? \n",
    "\n",
    "*Hint:* Prove, using elementary algebraic operations, that if $\\alpha^3-2=0$ then we also have $\\phi(\\alpha)=\\alpha$ for some values of $\\omega$.\n",
    "</div>\n",
    "\n",
    "=== BEGIN MARK SCHEME ===\n",
    "\n",
    "Let $\\alpha$ be the root of the function $f$. This means we have $\\alpha^3-2=0$.\n",
    "We check that $\\alpha$ is a fixed-point for the function\n",
    "$\\phi$:\n",
    "\\begin{align*}\n",
    "\\phi(\\alpha) &= \\alpha \\left( 1 - \\frac{\\omega}{3} \\right) +\n",
    "\\alpha^3(1-\\omega) + \\frac{2\\omega}{3\\alpha^2} + 2(\\omega-1)\\\\\n",
    "&= \\omega \\left(-\\frac{\\alpha}{3}-\\alpha^3+\\frac{2}{3\\alpha^2}+2\\right)+\\alpha +\\alpha^3-2 \\\\\n",
    "&= \\omega\\left(\\frac{2-\\alpha^3}{3\\alpha^2}+2-\\alpha^3\\right)+\\alpha \\\\\n",
    "&= \\alpha.\n",
    "\\end{align*}\n",
    "\n",
    "Therefore the root $\\alpha$ of the function $f$ is a fixed-point\n",
    "for all $\\omega\\in\\mathbb{R}$.\n",
    "\n",
    "=== END MARK SCHEME ==="
   ]
  },
  {
   "cell_type": "markdown",
   "metadata": {
    "nbgrader": {
     "grade": false,
     "grade_id": "cell-a38a6897affdff15",
     "locked": true,
     "points": 0,
     "schema_version": 3,
     "solution": false,
     "task": true
    }
   },
   "source": [
    "<div class=\"alert alert-success\">\n",
    "    \n",
    "**Exercise 8 (Theoretical):** For which values of $\\omega$ is the proposed method at least of second order?\n",
    "</div>\n",
    "\n",
    "=== BEGIN MARK SCHEME ===\n",
    "\n",
    "The method is at least of second order if $\\phi'(\\alpha)=0$. We have\n",
    "$$\n",
    "  \\phi'(x) = \\left(1-\\frac{\\omega}{3} \\right) + 3x^2 (1-\\omega)\n",
    "  -\\frac{4\\omega}{3x^3}.\n",
    "$$\n",
    "Using the fact that $\\alpha^3=2$, we get\n",
    "$$\n",
    "  \\phi'(\\alpha) = 1 - \\frac{\\omega}{3} + 3\\alpha^2 -\n",
    "  3\\omega\\alpha^2 -\\frac{2\\omega}{3} = 1 + 3\\alpha^2 - \\omega (1 + 3\\alpha^2)\n",
    "$$\n",
    "and therefore solving $\\phi'(\\alpha) = 0$ for $\\omega$ gives\n",
    "$$\n",
    "  \\omega = \\frac{1+3\\alpha^2}{1+3\\alpha^2} = 1 \\, .\n",
    "$$\n",
    "\n",
    "=== END MARK SCHEME ==="
   ]
  },
  {
   "cell_type": "markdown",
   "metadata": {
    "nbgrader": {
     "grade": false,
     "grade_id": "cell-b74e9e69dfa65692",
     "locked": true,
     "points": 0,
     "schema_version": 3,
     "solution": false,
     "task": true
    }
   },
   "source": [
    "<div class=\"alert alert-success\">\n",
    "    \n",
    "**Exercise 9 (Theoretical):** Does a value of $\\omega$ exist such that the order of the fixed-point method is larger than $2$?\n",
    "</div>\n",
    "\n",
    "=== BEGIN MARK SCHEME ===\n",
    "\n",
    "To have an order greater than 2, we additionally need $\\phi''(\\alpha)=0$. We have\n",
    "\n",
    "$$\n",
    "  \\phi''(x) = 6x (1-\\omega) + \\frac{4\\omega}{x^4}.\n",
    "$$\n",
    "\n",
    "As $\\alpha^3=2$, we find\n",
    "\n",
    "$$\n",
    "  \\phi''(\\alpha)=6\\alpha (1-\\omega) +\n",
    "  \\frac{2\\omega}{\\alpha} = 6\\alpha^2 + \\omega (2 - 6\\alpha^2)\n",
    "$$\n",
    "\n",
    "and therefore, solving $\\phi''(\\alpha) = 0$ for $\\omega$ gives\n",
    "\n",
    "$$\n",
    "  \\omega = \\frac{6\\alpha^2}{6\\alpha^2-2}.\n",
    "$$\n",
    "\n",
    "We observe that $6\\alpha^2 - 2 \\not = 0$. For the method\n",
    "to be of order greater than 2, we also need to have $\\phi'(\\alpha)=0$. Since the \n",
    "value of $\\omega$ found here is not equal to 1, we conclude\n",
    "that we cannot achieve an order greater than 2.\n",
    "\n",
    "=== END MARK SCHEME ==="
   ]
  },
  {
   "cell_type": "markdown",
   "metadata": {
    "nbgrader": {
     "grade": false,
     "grade_id": "cell-b06ea313c3b2d61c",
     "locked": true,
     "points": 0,
     "schema_version": 3,
     "solution": false,
     "task": true
    }
   },
   "source": [
    "<div class=\"alert alert-success\">\n",
    "    \n",
    "**Exercise 10 (Theoretical, Exam question in 2013):** Knowing that $f(x)=(x-1)^3+1-x$ has 3 roots $\\alpha_1=0$, $\\alpha_2=1$, $\\alpha_3=2$, point out which of the following statements about the fixed-point method $x^{(k+1)}=\\phi(x^{(k)}) = (x^{(k)}-1)^3+1$ correctly completes the sentence: For appropriately chosen starting points, ...\n",
    "\n",
    "1. ... the method does not converge neither to $\\alpha_1$ nor to $\\alpha_3$ but it converges to $\\alpha_2$ \n",
    "    with first order\n",
    "2. ... the method does not converge neither to $\\alpha_1$ nor to $\\alpha_3$ but it converges to $\\alpha_2$\n",
    "    with second order\n",
    "3. ... the method converges to $\\alpha_1$ and to $\\alpha_3$ with first order and to $\\alpha_2$\n",
    "    with second order\n",
    "4. ... the method converges to $\\alpha_2$ with third order\n",
    "5. ... the method converges to $\\alpha_1$ and $\\alpha_2$ but not to $\\alpha_3$.\n",
    "</div>\n",
    "\n",
    "=== BEGIN MARK SCHEME ===\n",
    "\n",
    "We have\n",
    "\\begin{align*}\n",
    "& \\phi(x) = (x-1)^3+1 \\\\\n",
    "& \\phi'(x) = 3(x-1)^2 \t \t\t\\quad \\Rightarrow \\quad \\phi'(\\alpha_1)=3, \\,\\, \\phi'(\\alpha_2)=0, \\,\\, \\phi'(\\alpha_3)=3 \\\\\n",
    "& \\phi^{\\prime \\prime} = 6(x-1)\t\\quad \\Rightarrow \\quad \\phi^{\\prime \\prime}(\\alpha_2)=0 \\\\\n",
    "& \\phi^{\\prime \\prime \\prime} = 6 \\quad \\Rightarrow \\quad\n",
    "\\phi^{\\prime \\prime \\prime}(\\alpha_2)=6.\n",
    "\\end{align*}\n",
    "\n",
    "Therefore the method does not converge neither to $\\alpha_1$ nor to $\\alpha_3$.\n",
    "However, it converges to $\\alpha_2$ with third order\n",
    "as $\\vert \\phi'(\\alpha_2)\\vert=0$, $\\vert\\phi^{\\prime \\prime}(\\alpha_2)\\vert=0$ but\n",
    "$\\vert\\phi^{\\prime \\prime \\prime}(\\alpha_2)\\vert\\neq 0$.  The right answer\n",
    "is therefore the fourth one.\n",
    "\n",
    "=== END MARK SCHEME ==="
   ]
  },
  {
   "cell_type": "markdown",
   "metadata": {
    "nbgrader": {
     "grade": false,
     "grade_id": "cell-92aba50307b9c962",
     "locked": true,
     "schema_version": 3,
     "solution": false,
     "task": false
    }
   },
   "source": [
    "<hr style=\"clear:both\">\n",
    "\n",
    "## The end\n",
    "\n",
    "Congratulations! You have reached the end of the third exercise notebook. "
   ]
  }
 ],
 "metadata": {
  "kernelspec": {
   "display_name": "Python 3 (ipykernel)",
   "language": "python",
   "name": "python3"
  },
  "language_info": {
   "codemirror_mode": {
    "name": "ipython",
    "version": 3
   },
   "file_extension": ".py",
   "mimetype": "text/x-python",
   "name": "python",
   "nbconvert_exporter": "python",
   "pygments_lexer": "ipython3",
   "version": "3.12.3"
  }
 },
 "nbformat": 4,
 "nbformat_minor": 4
}
