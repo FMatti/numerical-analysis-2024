{
 "cells": [
  {
   "cell_type": "markdown",
   "id": "b43c09d1-1463-4675-b872-feaeb600084b",
   "metadata": {
    "nbgrader": {
     "grade": false,
     "grade_id": "cell-44bbc968433fef1f",
     "locked": true,
     "schema_version": 3,
     "solution": false,
     "task": false
    }
   },
   "source": [
    "## Numerical Analysis - Fall semester 2024\n",
    "\n",
    "# Serie 11 - Ordinary differential equations"
   ]
  },
  {
   "cell_type": "markdown",
   "id": "4a1e64f4-9810-45c6-b14b-9e71c490c15e",
   "metadata": {
    "nbgrader": {
     "grade": false,
     "grade_id": "cell-768a321120138b9f",
     "locked": true,
     "schema_version": 3,
     "solution": false,
     "task": false
    }
   },
   "source": [
    "Package imports."
   ]
  },
  {
   "cell_type": "code",
   "execution_count": null,
   "id": "bec6153b-1e1f-43d6-a918-84e89c6b48b2",
   "metadata": {
    "nbgrader": {
     "grade": false,
     "grade_id": "cell-38ca9f1b366678f7",
     "locked": true,
     "schema_version": 3,
     "solution": false,
     "task": false
    }
   },
   "outputs": [],
   "source": [
    "import matplotlib.pyplot as plt\n",
    "import numpy as np\n",
    "import scipy as sp"
   ]
  },
  {
   "cell_type": "markdown",
   "id": "a9e567e9-c428-42fe-b394-58f201f45734",
   "metadata": {
    "nbgrader": {
     "grade": false,
     "grade_id": "cell-2f76ac45431af2b3",
     "locked": true,
     "schema_version": 3,
     "solution": false,
     "task": false
    }
   },
   "source": [
    "<hr style=\"clear:both\">\n",
    "\n",
    "### Explicit methods for population model"
   ]
  },
  {
   "cell_type": "markdown",
   "id": "fd243f35-f916-402d-82b1-c31bcd5bd095",
   "metadata": {
    "nbgrader": {
     "grade": false,
     "grade_id": "cell-c92451a8da9db056",
     "locked": true,
     "schema_version": 3,
     "solution": false,
     "task": false
    }
   },
   "source": [
    "Let us consider an ordinary differential equation of the form\n",
    "\n",
    "$$\n",
    "\\begin{cases}\n",
    "  \\frac{\\mathrm{d}u(t)}{\\mathrm{d}t} = f(t, u(t)), & t \\in (0, T],  \\\\\n",
    "  u(0)=u_0.\n",
    "\\end{cases}\n",
    "$$\n",
    "\n",
    "We want to approximate $u(t_n)$ at the discrete time-steps $t_n = n\\Delta t$, $n = 0, 1, 2, \\ldots,N$, where $\\Delta t = T/N$ is the step size and $N$ the number of time-steps."
   ]
  },
  {
   "cell_type": "markdown",
   "id": "1bf54c42-8fbb-413f-80e8-82eca5cc4891",
   "metadata": {
    "nbgrader": {
     "grade": false,
     "grade_id": "cell-c21721b11e77180b",
     "locked": true,
     "schema_version": 3,
     "solution": false,
     "task": false
    }
   },
   "source": [
    "<div class=\"alert alert-success\">\n",
    "    \n",
    "**Exercise 1:** Complete the function `forward_euler` which implements the forward Euler method to compute the approximations $u^{n} \\approx u(t_n)$ for $n = 0, 1, 2, \\dots, N$.\n",
    "</div>"
   ]
  },
  {
   "cell_type": "code",
   "execution_count": null,
   "id": "ba5172e2-092b-4100-88e7-4d4686619b8c",
   "metadata": {
    "nbgrader": {
     "grade": false,
     "grade_id": "cell-a41bad7f587b2cb7",
     "locked": false,
     "schema_version": 3,
     "solution": true,
     "task": false
    }
   },
   "outputs": [],
   "source": [
    "def forward_euler(f, u_0, T, N):\n",
    "    ### BEGIN SOLUTION\n",
    "    dt = T / N\n",
    "    u = np.zeros(N + 1)\n",
    "    u[0] = u_0\n",
    "    for n in range(N):\n",
    "        u[n + 1] = u[n] + dt * f(n * dt, u[n])\n",
    "    ### END SOLUTION\n",
    "    return u"
   ]
  },
  {
   "cell_type": "markdown",
   "id": "46134c5c-495c-49cf-8e4e-12813579af9b",
   "metadata": {
    "nbgrader": {
     "grade": false,
     "grade_id": "cell-a9a51259c1344ec6",
     "locked": true,
     "schema_version": 3,
     "solution": false,
     "task": false
    }
   },
   "source": [
    "<div class=\"alert alert-success\">\n",
    "    \n",
    "**Exercise 2:** Complete the function `heun` which implements the Heun method to compute the approximations $u^{n} \\approx u(t_n)$ for $n = 0, 1, 2, \\dots, N$.\n",
    "</div>"
   ]
  },
  {
   "cell_type": "code",
   "execution_count": null,
   "id": "f97e5de1-8e3e-4799-a7fb-1265cb1f9afd",
   "metadata": {
    "nbgrader": {
     "grade": false,
     "grade_id": "cell-3e22f0ffd534b765",
     "locked": false,
     "schema_version": 3,
     "solution": true,
     "task": false
    }
   },
   "outputs": [],
   "source": [
    "def heun(f, u_0, T, N):\n",
    "    ### BEGIN SOLUTION\n",
    "    dt = T / N\n",
    "    u = np.zeros(N + 1)\n",
    "    u[0] = u_0\n",
    "    for n in range(N):\n",
    "        u[n + 1] = u[n] + dt / 2 * f(n * dt, u[n]) + dt / 2 * f((n + 1) * dt, u[n] + dt * f(n * dt, u[n])) \n",
    "    ### END SOLUTION\n",
    "    return u"
   ]
  },
  {
   "cell_type": "markdown",
   "id": "4e7f1361-68af-4442-a705-cbc88d3d85ca",
   "metadata": {
    "nbgrader": {
     "grade": false,
     "grade_id": "cell-546d0e879a54168d",
     "locked": true,
     "schema_version": 3,
     "solution": false,
     "task": false
    }
   },
   "source": [
    "Let us consider a population of $u$ individuals in an environment\n",
    "where at most $u_{\\max}=1000$ individuals can coexist. We suppose that initially\n",
    "the number of individuals is $u_0 = 100$ and that the growth factor equals\n",
    "a constant $C=2/15$. The considered model for the evolution of the\n",
    "population is the following:\n",
    "\n",
    "$$\n",
    "\\left\\{\\begin{array}{ll}\n",
    "  \\frac{\\mathrm{d}u(t)}{\\mathrm{d}t}=Cu(t)\\left(1-\\frac{u(t)}{u_{\\max}}\\right), & t \\in (0,100],  \\\\\n",
    "  u(0)=u_0. & \n",
    "\\end{array}\n",
    "\\right.\n",
    "$$"
   ]
  },
  {
   "cell_type": "markdown",
   "id": "3aed2a93-4bde-45d6-b8d3-af9e0a77fe0f",
   "metadata": {
    "nbgrader": {
     "grade": false,
     "grade_id": "cell-be34d926e36a1dbd",
     "locked": true,
     "schema_version": 3,
     "solution": false,
     "task": false
    }
   },
   "source": [
    "<div class=\"alert alert-success\">\n",
    "    \n",
    "**Exercise 3:** Use the two functions you have implemented above to compute the approximate solution $u^n$, $n=0,1,...,N$ for $N=20$ time-steps and plot on the same graph the obtained numerical solutions in terms of time. Compare the obtained approximations for both forward Euler and Heun with the exact solution given by\n",
    "  $$\n",
    "  u(t) = \\left( \\frac{1-e^{-Ct}}{u_{\\max}} + \\frac{e^{-Ct}}{u^0} \\right)^{-1}.\n",
    "  $$\n",
    "  Which method gives a better approximation?\n",
    "</div>\n"
   ]
  },
  {
   "cell_type": "code",
   "execution_count": null,
   "id": "0376512e-b7d0-4d4a-8bd7-ab1e87c8183c",
   "metadata": {
    "nbgrader": {
     "grade": false,
     "grade_id": "cell-ee50b5b4981d323b",
     "locked": false,
     "schema_version": 3,
     "solution": true,
     "task": false
    }
   },
   "outputs": [],
   "source": [
    "### BEGIN SOLUTION\n",
    "\n",
    "# RHS of ODE\n",
    "def f(t, u, u_max=1000, C=2/15):\n",
    "    return C * u * (1 - u / u_max)\n",
    "\n",
    "# Exact solution\n",
    "def u(t, u0, u_max=1000, C=2/15):\n",
    "    return 1 / ((1 - np.exp(- C * t)) / u_max + np.exp(- C *  t) / u0)\n",
    "\n",
    "# Parameters\n",
    "T = 100\n",
    "u_0 = 100\n",
    "N = 20\n",
    "\n",
    "# Solve ODEs with the two methods\n",
    "u_forward_euler = forward_euler(f, u_0, T, N)\n",
    "u_heun = heun(f, u_0, T, N)\n",
    "\n",
    "# Determine exact solution\n",
    "t = np.linspace(0, T, N + 1)\n",
    "u_exact = u(t, u_0)\n",
    "\n",
    "# Visualize the results\n",
    "plt.plot(t, u_forward_euler, label=\"forward Euler\")\n",
    "plt.plot(t, u_heun, label=\"Heun\")\n",
    "plt.plot(t, u_exact, color=\"black\", linestyle=\"--\", label=\"exact\")\n",
    "plt.ylabel(r\"$u(t)$\")\n",
    "plt.xlabel(r\"$t$\")\n",
    "plt.grid()\n",
    "plt.legend()\n",
    "plt.show()\n",
    "\n",
    "# Comparing the obtained approximations with the exact solution, we notice that\n",
    "# Heun gives a better approximation of the true solution than forward Euler. \n",
    "# This is expected, because Heun's method is more accurate than forward Euler\n",
    "# as it uses a corrector step to refine the solution by averaging slopes and\n",
    "# the forward Euler method tends to under- or overshoot, especially for larger\n",
    "# time steps, due to its simple one-step approximation.\n",
    "\n",
    "### END SOLUTION"
   ]
  },
  {
   "cell_type": "markdown",
   "id": "e60f5bb1-a150-4e53-b01a-71f75a781682",
   "metadata": {
    "nbgrader": {
     "grade": false,
     "grade_id": "cell-e07241bfa6f26b16",
     "locked": true,
     "schema_version": 3,
     "solution": false,
     "task": false
    }
   },
   "source": [
    "<div class=\"alert alert-success\">\n",
    "    \n",
    "**Exercise 4:** Repeat the last exercise using $N=2000$ time-steps. Is the obtained approximation with $N=2000$ better than the one obtained with $N=20$?\n",
    "</div>\n",
    "\n"
   ]
  },
  {
   "cell_type": "code",
   "execution_count": null,
   "id": "62cca3be-75ce-4b98-b278-a460c05e8394",
   "metadata": {
    "nbgrader": {
     "grade": false,
     "grade_id": "cell-ecc3d186889f7cfa",
     "locked": false,
     "schema_version": 3,
     "solution": true,
     "task": false
    }
   },
   "outputs": [],
   "source": [
    "### BEGIN SOLUTION\n",
    "\n",
    "# Parameters\n",
    "T = 100\n",
    "u_0 = 100\n",
    "N = 2000\n",
    "\n",
    "# Solve ODEs with the two methods\n",
    "u_forward_euler = forward_euler(f, u_0, T, N)\n",
    "u_heun = heun(f, u_0, T, N)\n",
    "\n",
    "# Determine exact solution\n",
    "t = np.linspace(0, T, N + 1)\n",
    "u_exact = u(t, u_0)\n",
    "\n",
    "# Visualize the results\n",
    "plt.plot(t, u_forward_euler, label=\"forward Euler\")\n",
    "plt.plot(t, u_heun, label=\"Heun\")\n",
    "plt.plot(t, u_exact, color=\"black\", linestyle=\"--\", label=\"exact\")\n",
    "plt.ylabel(r\"$u(t)$\")\n",
    "plt.xlabel(r\"$t$\")\n",
    "plt.grid()\n",
    "plt.legend()\n",
    "plt.show()\n",
    "\n",
    "# The lines for the forward Euler, Heun's method, and the exact solution are almost\n",
    "# indistinguishable from each other. This suggests that the numerical methods with\n",
    "# a large number of time steps (N = 2000) closely approximate the exact solution.\n",
    "# The fact that the numerical solutions align so well with the exact solution\n",
    "# indicates that the step size (Δt = T/N) is sufficiently small to reduce numerical\n",
    "# error significantly.\n",
    "\n",
    "### END SOLUTION"
   ]
  },
  {
   "cell_type": "markdown",
   "id": "a88b04bf-6599-4276-97e3-5850e40ab106",
   "metadata": {
    "nbgrader": {
     "grade": false,
     "grade_id": "cell-1ee29b227cd9bc29",
     "locked": true,
     "schema_version": 3,
     "solution": false,
     "task": false
    }
   },
   "source": [
    "<hr style=\"clear:both\">\n",
    "\n",
    "### Order of convergence"
   ]
  },
  {
   "cell_type": "markdown",
   "id": "a94d8824-8cb2-4940-8ec8-4819f8d0a459",
   "metadata": {
    "nbgrader": {
     "grade": false,
     "grade_id": "cell-3ba99572996ff9fd",
     "locked": true,
     "schema_version": 3,
     "solution": false,
     "task": false
    }
   },
   "source": [
    "Let us consider the following differential equation\n",
    "\n",
    "$$\n",
    "\\begin{cases}\n",
    "\\frac{\\mathrm{d}u(t)}{\\mathrm{d}t} = \\sqrt{u(t)}\\frac{1}{1+t^2}, \\quad t \\in (0,20],\\\\[3mm]\n",
    "u(0)=1.\n",
    "\\end{cases}\n",
    "$$\n",
    "\n",
    "We again want to approximate $u(t_n)$ at the discrete time-steps $t_n = n\\Delta t$, $n = 0, 1, 2, \\ldots,N$, where $\\Delta t = T/N$ is the step size and $N$ the number of time-steps."
   ]
  },
  {
   "cell_type": "markdown",
   "id": "8b5005ee-4d7c-48a3-a4b9-b1554561fbe9",
   "metadata": {
    "nbgrader": {
     "grade": false,
     "grade_id": "cell-8df5e883237854b9",
     "locked": true,
     "schema_version": 3,
     "solution": false,
     "task": false
    }
   },
   "source": [
    "We provide you with the function `backward_euler` which implements the backward Euler method."
   ]
  },
  {
   "cell_type": "code",
   "execution_count": null,
   "id": "b4c90f66-576f-481a-a0d7-ba734d3f9c5e",
   "metadata": {
    "nbgrader": {
     "grade": false,
     "grade_id": "cell-d4d676d2c22f3e67",
     "locked": true,
     "schema_version": 3,
     "solution": false,
     "task": false
    }
   },
   "outputs": [],
   "source": [
    "def backward_euler(f, u_0, T, N):\n",
    "    dt = T / N\n",
    "    u = np.zeros(N + 1)\n",
    "    u[0] = u_0\n",
    "    for n in range(N):\n",
    "        def g(x):\n",
    "            return x - dt * f((n + 1) * dt, x) - u[n]\n",
    "        u[n + 1] = sp.optimize.root(g, u[n]).x.item()\n",
    "    return u"
   ]
  },
  {
   "cell_type": "markdown",
   "id": "703a5617-d2fc-4df3-add5-97b047d2ca15",
   "metadata": {
    "nbgrader": {
     "grade": false,
     "grade_id": "cell-6219ed0ed58c9254",
     "locked": true,
     "schema_version": 3,
     "solution": false,
     "task": false
    }
   },
   "source": [
    "<div class=\"alert alert-success\">\n",
    "    \n",
    "**Exercise 5:** Solve the equation using the `backward_euler` function which implements the backward Euler method for $N = 50, 100, 200, 400$ and visualize the obtained solution for each value of $N$. \n",
    "</div>"
   ]
  },
  {
   "cell_type": "code",
   "execution_count": null,
   "id": "c8e0c760-92f1-434c-81c2-a2a68950709c",
   "metadata": {
    "nbgrader": {
     "grade": false,
     "grade_id": "cell-3f42476ec9bcc82e",
     "locked": false,
     "schema_version": 3,
     "solution": true,
     "task": false
    }
   },
   "outputs": [],
   "source": [
    "### BEGIN SOLUTION \n",
    "\n",
    "# RHS of ODE\n",
    "def f(t, u):\n",
    "    return np.sqrt(u) / (1 + t ** 2)\n",
    "\n",
    "# Parameters\n",
    "T = 20\n",
    "u_0 = 1\n",
    "\n",
    "# Compute and plot solution for each N\n",
    "N_list = [50, 100, 200, 400]\n",
    "for N in N_list:\n",
    "    u_backward_euler = backward_euler(f, u_0, T, N)\n",
    "    t = np.linspace(0, T, N + 1)\n",
    "    plt.plot(t, u_backward_euler, label=r\"$N = {:d}$\".format(N))\n",
    "plt.ylabel(r\"$u(t)$\")\n",
    "plt.xlabel(r\"$t$\")\n",
    "plt.grid()\n",
    "plt.legend()\n",
    "plt.show()\n",
    "\n",
    "### END SOLUTION"
   ]
  },
  {
   "cell_type": "markdown",
   "id": "d4420f72-92fd-4498-8ca2-f0f48213a4b6",
   "metadata": {
    "nbgrader": {
     "grade": false,
     "grade_id": "cell-a553800c2764b1a0",
     "locked": true,
     "schema_version": 3,
     "solution": false,
     "task": false
    }
   },
   "source": [
    "<div class=\"alert alert-success\">\n",
    "    \n",
    "**Exercise 6:** The exact solution of the differential equation from the start of this section is\n",
    "$$ u(t) = ( 1 + 0.5 \\ {\\rm atan}(t) )^2. $$\n",
    "Compute the error\n",
    "$$E_{\\Delta t} = \\max_{0\\leq n\\leq N} |u(t_n) - u^n|$$ \n",
    "of the approximations $u^n$ for the backward Euler method for $N = 50, 100, 200, 400$. Check graphically that the order of convergence of the method is $1$ by plotting the errors $E_{\\Delta t}$ against the step-sizes $\\Delta t$ which are used for each $N$.\n",
    "</div>\n"
   ]
  },
  {
   "cell_type": "code",
   "execution_count": null,
   "id": "7fcab94e-fcc3-4401-82f1-c340ff4f4140",
   "metadata": {
    "nbgrader": {
     "grade": false,
     "grade_id": "cell-c2f071f4f24839e0",
     "locked": false,
     "schema_version": 3,
     "solution": true,
     "task": false
    }
   },
   "outputs": [],
   "source": [
    "### BEGIN SOLUTION \n",
    "\n",
    "def u(t):\n",
    "    return (1 + np.arctan(t) / 2) ** 2\n",
    "\n",
    "# Parameters\n",
    "T = 20\n",
    "u_0 = 1\n",
    "\n",
    "N_list = np.array([50, 100, 200, 400])\n",
    "dt_list = T / N_list\n",
    "error_list = []\n",
    "for N in N_list:\n",
    "    u_backward_euler = backward_euler(f, u_0, T, N)\n",
    "    t = np.linspace(0, T, N + 1)\n",
    "    u_exact = u(t)\n",
    "    error_list.append(np.max(np.abs(u_exact - u_backward_euler)))\n",
    "\n",
    "plt.loglog(dt_list, error_list, label=r\"$E_{\\Delta t}$\")\n",
    "plt.loglog(dt_list, dt_list, color=\"black\", linestyle=\"--\", label=r\"$\\Delta t$\")\n",
    "plt.xlabel(r\"$\\Delta t$\")\n",
    "plt.grid()\n",
    "plt.legend()\n",
    "plt.show()\n",
    "\n",
    "### END SOLUTION "
   ]
  },
  {
   "cell_type": "markdown",
   "id": "83d46f9d-30bd-43c2-a931-cd982c86c134",
   "metadata": {
    "nbgrader": {
     "grade": false,
     "grade_id": "cell-707c621c59d29dc7",
     "locked": true,
     "schema_version": 3,
     "solution": false,
     "task": false
    }
   },
   "source": [
    "<div class=\"alert alert-success\">\n",
    "    \n",
    "**Exercise 7:** Repeat the previous exercise for the forward Euler and Heun methods using the functions `forward_euler` and `heun` you have implented in the first section of this notebook. What order of convergence do you observe for the two methods?\n",
    "</div>"
   ]
  },
  {
   "cell_type": "code",
   "execution_count": null,
   "id": "0ca522c9-2430-4b0e-a541-2c35f3b56b4f",
   "metadata": {
    "nbgrader": {
     "grade": false,
     "grade_id": "cell-5183ee2a46939d10",
     "locked": false,
     "schema_version": 3,
     "solution": true,
     "task": false
    }
   },
   "outputs": [],
   "source": [
    "### BEGIN SOLUTION \n",
    "\n",
    "def u(t):\n",
    "    return (1 + np.arctan(t) / 2) ** 2\n",
    "\n",
    "# Parameters\n",
    "T = 20\n",
    "u_0 = 1\n",
    "\n",
    "N_list = np.array([50, 100, 200, 400])\n",
    "dt_list = T / N_list\n",
    "error_list_forward_euler = []\n",
    "error_list_heun = []\n",
    "for N in N_list:\n",
    "    u_forward_euler = forward_euler(f, u_0, T, N)\n",
    "    u_heun = heun(f, u_0, T, N)\n",
    "    t = np.linspace(0, T, N + 1)\n",
    "    u_exact = u(t)\n",
    "    error_list_forward_euler.append(np.max(np.abs(u_exact - u_forward_euler)))\n",
    "    error_list_heun.append(np.max(np.abs(u_exact - u_heun)))\n",
    "\n",
    "plt.loglog(dt_list, error_list_forward_euler, label=r\"$E_{\\Delta t}$ for forward Euler\")\n",
    "plt.loglog(dt_list, error_list_heun, label=r\"$E_{\\Delta t}$ for Heun\")\n",
    "plt.loglog(dt_list, dt_list, color=\"black\", linestyle=\"--\", label=r\"$\\Delta t$\")\n",
    "plt.loglog(dt_list, dt_list ** 2, color=\"black\", linestyle=\":\", label=r\"$\\Delta t^2$\")\n",
    "plt.xlabel(r\"$\\Delta t$\")\n",
    "plt.grid()\n",
    "plt.legend()\n",
    "plt.show()\n",
    "\n",
    "# The figure shows the behavior of the error E_Δt in terms of Δt for the three methods.\n",
    "# We see that the forward Euler is of first order, whereas Heun is of second order.\n",
    "\n",
    "### END SOLUTION "
   ]
  },
  {
   "cell_type": "markdown",
   "id": "a034fa0e-ab3b-4225-a924-b5f1da0153e2",
   "metadata": {
    "nbgrader": {
     "grade": false,
     "grade_id": "cell-62b834b55a487233",
     "locked": true,
     "schema_version": 3,
     "solution": false,
     "task": false
    }
   },
   "source": [
    "<hr style=\"clear:both\">\n",
    "\n",
    "## The end\n",
    "\n",
    "Perfect! This was the eleventh exercise notebook. Just two more to do."
   ]
  }
 ],
 "metadata": {
  "kernelspec": {
   "display_name": "Python 3 (ipykernel)",
   "language": "python",
   "name": "python3"
  },
  "language_info": {
   "codemirror_mode": {
    "name": "ipython",
    "version": 3
   },
   "file_extension": ".py",
   "mimetype": "text/x-python",
   "name": "python",
   "nbconvert_exporter": "python",
   "pygments_lexer": "ipython3",
   "version": "3.12.3"
  }
 },
 "nbformat": 4,
 "nbformat_minor": 5
}
