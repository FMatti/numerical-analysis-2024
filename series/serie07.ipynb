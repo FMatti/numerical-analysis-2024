{
 "cells": [
  {
   "cell_type": "markdown",
   "id": "42408fa1-14bb-49ac-acd2-de2d019e0131",
   "metadata": {
    "deletable": false,
    "editable": false,
    "nbgrader": {
     "cell_type": "markdown",
     "checksum": "d97e101d958dcafd318963ba25f25fa2",
     "grade": false,
     "grade_id": "cell-b3cca307f0cab7f7",
     "locked": true,
     "schema_version": 3,
     "solution": false,
     "task": false
    }
   },
   "source": [
    "## Numerical Analysis - Fall semester 2024\n",
    "\n",
    "# Serie 07 - Numerical differentiation and integration"
   ]
  },
  {
   "cell_type": "markdown",
   "id": "b1ab3406-82b4-431c-a279-035725176f99",
   "metadata": {
    "deletable": false,
    "editable": false,
    "nbgrader": {
     "cell_type": "markdown",
     "checksum": "fd4d0ea726f120041dc2df06e14d8e3f",
     "grade": false,
     "grade_id": "cell-f9ca2a20466d186c",
     "locked": true,
     "schema_version": 3,
     "solution": false,
     "task": false
    }
   },
   "source": [
    "Importing our favorite packages."
   ]
  },
  {
   "cell_type": "code",
   "execution_count": null,
   "id": "57ed866d-8304-4760-a98d-3ea6cd8d084e",
   "metadata": {
    "deletable": false,
    "editable": false,
    "nbgrader": {
     "cell_type": "code",
     "checksum": "781a0ac297aafeb5a1a57d6b59e68ac4",
     "grade": false,
     "grade_id": "cell-03f4b2af2bdf5e07",
     "locked": true,
     "schema_version": 3,
     "solution": false,
     "task": false
    }
   },
   "outputs": [],
   "source": [
    "import matplotlib.pyplot as plt\n",
    "import numpy as np"
   ]
  },
  {
   "cell_type": "markdown",
   "id": "83c898fd-5b60-4f72-80f4-9101a45be142",
   "metadata": {
    "deletable": false,
    "editable": false,
    "nbgrader": {
     "cell_type": "markdown",
     "checksum": "4d5e026913c3fe72da24167f15760f31",
     "grade": false,
     "grade_id": "cell-f068fe1f39660605",
     "locked": true,
     "schema_version": 3,
     "solution": false,
     "task": false
    }
   },
   "source": [
    "<hr style=\"clear:both\">\n",
    "\n",
    "### Finite differences formula from Lagrange interpolant"
   ]
  },
  {
   "cell_type": "markdown",
   "id": "3ed24314-8bc0-45dd-b235-998e5be87401",
   "metadata": {
    "deletable": false,
    "editable": false,
    "nbgrader": {
     "cell_type": "markdown",
     "checksum": "0a0d3667ad6e0e23667ae056a2a7814f",
     "grade": false,
     "grade_id": "cell-076b85f60aadcf30",
     "locked": true,
     "schema_version": 3,
     "solution": false,
     "task": false
    }
   },
   "source": [
    "Let $f:\\mathbb{R}\\rightarrow \\mathbb{R}$ be a smooth function and consider the three points $x_1=\\bar{x}-2h$, $x_2= \\bar{x}-h$, $x_3=\\bar{x}$ as well as the evaluations $y_i = f(x_i), i=1, 2, 3$."
   ]
  },
  {
   "cell_type": "markdown",
   "id": "7be8ab3a-f557-4989-ae28-fb6bbd22563d",
   "metadata": {
    "deletable": false,
    "editable": false,
    "nbgrader": {
     "cell_type": "markdown",
     "checksum": "2feec960027cefd475579ab005544f80",
     "grade": false,
     "grade_id": "cell-706988e31348851c",
     "locked": true,
     "points": 0,
     "schema_version": 3,
     "solution": false,
     "task": true
    }
   },
   "source": [
    "<div class=\"alert alert-success\">\n",
    "    \n",
    "**Exercise 1 (Theoretical):** Compute the degree 2 interpolating polynomial $p_2$ of the data points $(x_1,y_1), (x_2,y_2), (x_3,y_3)$.\n",
    "\n",
    "*Hint:* Use the formula from Proposition 2.1 in the lecture notes.\n",
    "</div>\n"
   ]
  },
  {
   "cell_type": "markdown",
   "id": "616d7c9f-e9ac-4b2a-8d03-6b502fa1a924",
   "metadata": {
    "deletable": false,
    "editable": false,
    "nbgrader": {
     "cell_type": "markdown",
     "checksum": "75ba19deab58b91d37eca50c1a8ef589",
     "grade": false,
     "grade_id": "cell-bfb6c2790d5810df",
     "locked": true,
     "points": 0,
     "schema_version": 3,
     "solution": false,
     "task": true
    }
   },
   "source": [
    "<div class=\"alert alert-success\">\n",
    "    \n",
    "**Exercise 2 (Theoretical):** Using the polynomial $p_2$ you have found in the previous exercise, determine the finite differences formula\n",
    "$$\n",
    "D_hf(\\bar{x})=p_2'(\\bar{x})\n",
    "$$\n",
    "and determine the order with which this forumla approximates $f'(\\bar{x})$.\n",
    "\n",
    "*Hint:* Use Taylor expansion.\n",
    "</div>\n"
   ]
  },
  {
   "cell_type": "markdown",
   "id": "c359d779-b655-450d-be9f-5d4b69c9593a",
   "metadata": {
    "deletable": false,
    "editable": false,
    "nbgrader": {
     "cell_type": "markdown",
     "checksum": "e7d28d49a7720971e0ba224b0cbe8319",
     "grade": false,
     "grade_id": "cell-f5b97135a9488f35",
     "locked": true,
     "schema_version": 3,
     "solution": false,
     "task": false
    }
   },
   "source": [
    "<hr style=\"clear:both\">\n",
    "\n",
    "### Composite quadrature formulas"
   ]
  },
  {
   "cell_type": "markdown",
   "id": "85074199-fb3f-4f38-a1cf-eb3b017a5985",
   "metadata": {
    "deletable": false,
    "editable": false,
    "nbgrader": {
     "cell_type": "markdown",
     "checksum": "34623c2c34ccc544f1966e073afa5ca4",
     "grade": false,
     "grade_id": "cell-47b7ebc90041be6d",
     "locked": true,
     "schema_version": 3,
     "solution": false,
     "task": false
    }
   },
   "source": [
    "We want to compute the integral\n",
    "\n",
    "$$\n",
    "I(f)=\\int_{a}^b f(x) \\, dx,\n",
    "$$\n",
    "\n",
    "for different functions $f$. Below, we provide you with the function implementations of three quadrature rules (`midpoint`, `trap`, and `simpson`) which all take the same arguments: `a` and `b` define the interval,`n` is the number of subintervals of the composite formula and `f` is the function to integrate. They are the same ones you can also find on Moodle."
   ]
  },
  {
   "cell_type": "code",
   "execution_count": null,
   "id": "52d96b9e-9850-4c6a-a809-05b0ae13328b",
   "metadata": {
    "deletable": false,
    "editable": false,
    "nbgrader": {
     "cell_type": "code",
     "checksum": "f5c2e1d09f14f4ab0039ba108a259017",
     "grade": false,
     "grade_id": "cell-f46696cf93c5894f",
     "locked": true,
     "schema_version": 3,
     "solution": false,
     "task": false
    }
   },
   "outputs": [],
   "source": [
    "def midpoint(a, b, n, f):\n",
    "    # Composite midpoint formula\n",
    "    #  - a,b: boundaries of the integration interval\n",
    "    #  - n: number of sub-intervals\n",
    "    #  - f: function to integrate\n",
    "    h = (b - a) / n\n",
    "    xi = np.linspace(a + h / 2, b - h / 2, n)  # quadrature nodes\n",
    "    alphai = np.full(n, h)  # weights\n",
    "    Qh_mp = np.dot(alphai, f(xi))  # quadrature formula\n",
    "    return Qh_mp"
   ]
  },
  {
   "cell_type": "code",
   "execution_count": null,
   "id": "8080c1a2-a3d9-40e7-842a-d58e2daf1dea",
   "metadata": {
    "deletable": false,
    "editable": false,
    "nbgrader": {
     "cell_type": "code",
     "checksum": "eff89d1b829af512d6f3c8f1d92a677b",
     "grade": false,
     "grade_id": "cell-0da9ae129de27946",
     "locked": true,
     "schema_version": 3,
     "solution": false,
     "task": false
    }
   },
   "outputs": [],
   "source": [
    "def trap(a, b, n, f):\n",
    "    # Composite trapezoidal formula\n",
    "    #  - a,b: boundaries of the integration interval\n",
    "    #  - n: number of sub-intervals\n",
    "    #  - f: function to integrate\n",
    "    h = (b - a) / n\n",
    "    xi = np.linspace(a, b, n + 1)  # quadrature nodes\n",
    "    alphai = np.hstack((h / 2, np.full(n - 1, h), h / 2))  # weights\n",
    "    Qh_trap = np.dot(alphai, f(xi))  # quadrature formula\n",
    "    return Qh_trap"
   ]
  },
  {
   "cell_type": "code",
   "execution_count": null,
   "id": "b1e11187-4a5d-4c1c-b154-90dfc853cc47",
   "metadata": {
    "deletable": false,
    "editable": false,
    "nbgrader": {
     "cell_type": "code",
     "checksum": "251bd95cbf46fcd886d1736864ced228",
     "grade": false,
     "grade_id": "cell-7ea713f03d4cf201",
     "locked": true,
     "schema_version": 3,
     "solution": false,
     "task": false
    }
   },
   "outputs": [],
   "source": [
    "def simpson(a, b, n, f):\n",
    "    # Composite Simpson formula\n",
    "    #  - a,b: boundaries of the integration interval\n",
    "    #  - n: number of sub-intervals\n",
    "    #  - f: function to integrate\n",
    "    h = (b - a) / n\n",
    "    xi = np.linspace(a, b, n + 1)\n",
    "    # sub-interval boundaries\n",
    "    alphai = (h / 3) * np.hstack((0.5, np.ones(n - 1), 0.5))\n",
    "    # weights at x_i\n",
    "    ci = np.linspace(a + h / 2, b - h / 2, n)\n",
    "    # sub-interval mid-points\n",
    "    betai = (2 * h / 3) * np.ones(n)\n",
    "    # weights at c_i\n",
    "    Qh_simp = np.dot(alphai, f(xi)) + np.dot(betai, f(ci))\n",
    "    return Qh_simp"
   ]
  },
  {
   "cell_type": "markdown",
   "id": "aee0618d-5009-4b47-ba43-696e73706c96",
   "metadata": {
    "deletable": false,
    "editable": false,
    "nbgrader": {
     "cell_type": "markdown",
     "checksum": "9769ce1fdda74e00eec39c720bacae4c",
     "grade": false,
     "grade_id": "cell-61667314b16bc0c7",
     "locked": true,
     "schema_version": 3,
     "solution": false,
     "task": false
    }
   },
   "source": [
    "<div class=\"alert alert-success\">\n",
    "    \n",
    "**Exercise 3:** Consider the function $f_1(x)=e^{-x}\\sin(x)$ on the interval $[a,b]=[0,2]$. For an increasing number of sub-intervals $n = 10^1, 10^2, \\dots, 10^5$, approximate the integral $I(f_1)$ with the composite midpoint, trapezoidal, and Simpson formulas (use the functions `midpoint`, `trap`, and `simpson`). For each $n$, compute the error $|I(f_1)-Q_h(f_1)|$ and plot it against $h = (b - a)/n$ on a logarithmic scale. What order of convergence do you observe?\n",
    "\n",
    "*Hint:* Use [WolframAlpha](https://www.wolframalpha.com/) to determine the exact value of $I(f_1)$.\n",
    "</div>"
   ]
  },
  {
   "cell_type": "code",
   "execution_count": null,
   "id": "6f38744c-9977-4933-94f5-a83932f30358",
   "metadata": {
    "deletable": false,
    "nbgrader": {
     "cell_type": "code",
     "checksum": "d3ae9e6407f2cb1d092d50371f5cba4b",
     "grade": false,
     "grade_id": "cell-a47b7a912a8a2315",
     "locked": false,
     "schema_version": 3,
     "solution": true,
     "task": false
    }
   },
   "outputs": [],
   "source": [
    "# YOUR CODE HERE\n",
    "raise NotImplementedError()"
   ]
  },
  {
   "cell_type": "markdown",
   "id": "6e2ed215-4915-43c4-81cb-d99ef2fc0dd8",
   "metadata": {
    "deletable": false,
    "editable": false,
    "nbgrader": {
     "cell_type": "markdown",
     "checksum": "fe8ccc8fada30a20c2609deb47315992",
     "grade": false,
     "grade_id": "cell-66a491c3bb918666",
     "locked": true,
     "schema_version": 3,
     "solution": false,
     "task": false
    }
   },
   "source": [
    "<div class=\"alert alert-success\">\n",
    "    \n",
    "**Exercise 4:** Repeat the previous exercise for the function $f_2(x) = \\sqrt{|x|^3}$ on the interval $[a, b] = [-2, 2]$. How do the orders of convergence compare to what you have found for the function $f_1$?\n",
    "</div>"
   ]
  },
  {
   "cell_type": "code",
   "execution_count": null,
   "id": "015f9784-c234-45a5-81ce-a2f3f814e5d2",
   "metadata": {
    "deletable": false,
    "nbgrader": {
     "cell_type": "code",
     "checksum": "5ec908e28e2fdfa9b098d01363235839",
     "grade": false,
     "grade_id": "cell-0e38c4958fbdaafc",
     "locked": false,
     "schema_version": 3,
     "solution": true,
     "task": false
    }
   },
   "outputs": [],
   "source": [
    "# YOUR CODE HERE\n",
    "raise NotImplementedError()"
   ]
  },
  {
   "cell_type": "markdown",
   "id": "bd4c4f4e-0b24-42b4-88c8-9c773bcc9727",
   "metadata": {
    "deletable": false,
    "editable": false,
    "nbgrader": {
     "cell_type": "markdown",
     "checksum": "469a0626f2f3050e419ac65cc6f81150",
     "grade": false,
     "grade_id": "cell-70742cef19695e2b",
     "locked": true,
     "schema_version": 3,
     "solution": false,
     "task": false
    }
   },
   "source": [
    "<hr style=\"clear:both\">\n",
    "\n",
    "### Gaussian quadrature"
   ]
  },
  {
   "cell_type": "markdown",
   "id": "6d2831ef-da07-480e-ab8b-73413a7a9c48",
   "metadata": {
    "deletable": false,
    "editable": false,
    "nbgrader": {
     "cell_type": "markdown",
     "checksum": "0ab413fe131fb52711689a0b4ed5ba83",
     "grade": false,
     "grade_id": "cell-ccd629c1b2daf0be",
     "locked": true,
     "schema_version": 3,
     "solution": false,
     "task": false
    }
   },
   "source": [
    "Most standard quadrature rules on the interval $[-1, 1]$ are compactly written as\n",
    "\n",
    "$$\n",
    "I(f) = \\int_{-1}^{1} f(x)~\\mathrm{d}x \\approx Q(f) = \\sum_{i=1}^d \\alpha_i f(x_i),\n",
    "$$\n",
    "\n",
    "where $\\alpha_1, \\alpha_2, \\dots, \\alpha_d \\in \\mathbb{R}$ are called *quadrature weights* and $x_1, x_2, \\dots, x_d \\in \\mathbb{R}$ *quadrature nodes*. One particularly useful quadrature is the Gaussian quadrature formula. For degree $d = 2$, its quadrature weights are $\\alpha_1 = 1$ and $\\alpha_2 = 1$, and its quadrature nodes are $x_1 = -\\frac{1}{\\sqrt{3}}$ and $x_2 = \\frac{1}{\\sqrt{3}}$."
   ]
  },
  {
   "cell_type": "markdown",
   "id": "b5fd1889-0adc-4e49-9203-09acaa354cea",
   "metadata": {
    "deletable": false,
    "editable": false,
    "nbgrader": {
     "cell_type": "markdown",
     "checksum": "851d73e297fc4854bebc9fd835ca44a8",
     "grade": false,
     "grade_id": "cell-52e76849a5800363",
     "locked": true,
     "points": 0,
     "schema_version": 3,
     "solution": false,
     "task": true
    }
   },
   "source": [
    "<div class=\"alert alert-success\">\n",
    "    \n",
    "**Exercise 5 (Theoretical):** For the degree $d = 2$ Gaussian quadrature formula, compute the degree of exactness by applying it to the integral\n",
    "\n",
    "$$\n",
    "\\int_{-1}^{1} x^r \\mathrm{d}x\n",
    "$$\n",
    "\n",
    "and examining up to which $r \\in \\mathbb{N}$ the formula gives the exact result.\n",
    "</div>\n"
   ]
  },
  {
   "cell_type": "markdown",
   "id": "d0354f33-668a-4b0f-a5bd-a173e7868745",
   "metadata": {
    "deletable": false,
    "editable": false,
    "nbgrader": {
     "cell_type": "markdown",
     "checksum": "a270e80bb61cde5a45cedfbaaca29c3c",
     "grade": false,
     "grade_id": "cell-00a1fcd66ddb47cd",
     "locked": true,
     "schema_version": 3,
     "solution": false,
     "task": false
    }
   },
   "source": [
    "<div class=\"alert alert-success\">\n",
    "    \n",
    "**Exercise 6:** Complete the below function `gaussian_2` which approximates the integral $\\int_{-1}^{1} f(x)~\\mathrm{d}x$ of any function $f$ using the Gaussian quadrature formula for degree $d = 2$.\n",
    "</div>"
   ]
  },
  {
   "cell_type": "code",
   "execution_count": null,
   "id": "81165425-c839-4d48-9352-18c79c207d88",
   "metadata": {
    "deletable": false,
    "nbgrader": {
     "cell_type": "code",
     "checksum": "4a5a5ea640c1b26026cf50b4518cb41e",
     "grade": false,
     "grade_id": "cell-29f17e8d808720cd",
     "locked": false,
     "schema_version": 3,
     "solution": true,
     "task": false
    }
   },
   "outputs": [],
   "source": [
    "def gaussian_2(f):\n",
    "    # YOUR CODE HERE\n",
    "    raise NotImplementedError()"
   ]
  },
  {
   "cell_type": "markdown",
   "id": "92614e1f-5262-432d-812e-d0c2ac477b99",
   "metadata": {
    "deletable": false,
    "editable": false,
    "nbgrader": {
     "cell_type": "markdown",
     "checksum": "cdcd9b42ea58c7c4af9223a666c27bb1",
     "grade": false,
     "grade_id": "cell-736edc0c0248dbdb",
     "locked": true,
     "schema_version": 3,
     "solution": false,
     "task": false
    }
   },
   "source": [
    "Let us quickly verify that your implementation works properly on a few simple integrals."
   ]
  },
  {
   "cell_type": "code",
   "execution_count": null,
   "id": "ff8c87f2-4c70-489f-a42f-f3da688230d3",
   "metadata": {
    "deletable": false,
    "editable": false,
    "nbgrader": {
     "cell_type": "code",
     "checksum": "8df2f895498e1617ac8c914e4586fc4c",
     "grade": false,
     "grade_id": "cell-29a72364be21b449",
     "locked": true,
     "schema_version": 3,
     "solution": false,
     "task": false
    }
   },
   "outputs": [],
   "source": [
    "assert not (gaussian_2(lambda x: x) is None), f\"your function 'gaussian_2' returned nothing, make sure to 'return' your result\";assert isinstance(G := gaussian_2(lambda x: x), float), f\"expected 'gaussian' to return a floating-point number, but got {type(G)}\";assert np.isclose(G := gaussian_2(lambda x: 1), 2), f\"'gaussian_2(f)' for 'f(x) = 1' should return 'I(f) = 2', but got {G}\";assert np.isclose(G := gaussian_2(lambda x: x), 0), f\"'gaussian_2(f)' for 'f(x) = x' should return 'I(f) = 0', but got {G}\";assert np.isclose(G := gaussian_2(lambda x: x**2), 2/3), f\"'gaussian_2(f)' for 'f(x) = x^2' should return 'I(f) = 2/3', but got {G}\";assert np.isclose(G := gaussian_2(lambda x: x**3), 0), f\"'gaussian_2(f)' for 'f(x) = x^3' should return 'I(f) = 0', but got {G}\";assert np.isclose(G := gaussian_2(lambda x: x**4), 2/9), f\"'gaussian_2(f)' for 'f(x) = x^4' should return 'I(f) = 2/9', but got {G}\";print(\"Nice! Your function correctly integrated our simple examples.\")"
   ]
  },
  {
   "cell_type": "markdown",
   "id": "2f648d82-9bc0-4d4d-aae3-fe840dba63f9",
   "metadata": {
    "deletable": false,
    "editable": false,
    "nbgrader": {
     "cell_type": "markdown",
     "checksum": "9bcbd7f45a6802de73bc709bfb12a43d",
     "grade": false,
     "grade_id": "cell-db2df4acbeb03035",
     "locked": true,
     "schema_version": 3,
     "solution": false,
     "task": false
    }
   },
   "source": [
    "Below, we provide you with a function which computes the composite Gaussian formula for degree $d = 2$ based on your implementation of the simple Gaussian formula from the previous exercise."
   ]
  },
  {
   "cell_type": "code",
   "execution_count": null,
   "id": "195128ce-1b39-45c4-8261-a8248b304522",
<<<<<<< HEAD
   "metadata": {},
   "outputs": [],
   "source": [
    "def gaussian_2_composite(n, f):\n",
    "    subinterval_borders = np.linspace(-1, 1, n + 1)\n",
    "    Q_f = 0\n",
    "    for i in range(n):\n",
    "        a = subinterval_borders[i]\n",
    "        b = subinterval_borders[i + 1]\n",
    "        f_transformed = lambda x: f((a + b) / 2 + (b - a) / 2 * x)\n",
    "        Q_f += gaussian_2(f_transformed) * (b - a) / 2\n",
    "    return Q_f"
=======
   "metadata": {
    "deletable": false,
    "nbgrader": {
     "cell_type": "code",
     "checksum": "19f0e11aaa41538f4750886f5edfce21",
     "grade": false,
     "grade_id": "cell-a9b61905eeb75456",
     "locked": false,
     "schema_version": 3,
     "solution": true,
     "task": false
    }
   },
   "outputs": [],
   "source": [
    "# YOUR CODE HERE\n",
    "raise NotImplementedError()"
>>>>>>> 7b32d04b467afbf424ec774b9b7e033bf534d0e6
   ]
  },
  {
   "cell_type": "markdown",
   "id": "d3774cd7-7e22-4fc3-ac5e-ed9a0ee76562",
   "metadata": {
    "deletable": false,
    "editable": false,
    "nbgrader": {
     "cell_type": "markdown",
     "checksum": "cf45bb1bc85d8919d32b7ba699a32fe1",
     "grade": false,
     "grade_id": "cell-826834571814288b",
     "locked": true,
     "schema_version": 3,
     "solution": false,
     "task": false
    }
   },
   "source": [
    "<div class=\"alert alert-success\">\n",
    "    \n",
    "**Exercise 7:** Consider the function $f(x)= x^5 \\operatorname{sign}(x)$ where $\\operatorname{sign}(x) = 1$ if $x \\geq 0$ and $-1$ otherwise. For an increasing number of sub-intervals $n = 10^0, 10^1, \\dots, 10^3$, approximate the integral $I(f)$ with the composite Gaussian quadrature. For each $n$, compute the error $|I(f)-Q_h(f)|$ and plot it against $h = 2/n$ on a logarithmic scale. What order of convergence do you observe? Explain this order using your result from Exercise 5 and Theorem 3.3 from the lecture notes.\n",
    "</div>"
   ]
  },
  {
   "cell_type": "code",
   "execution_count": null,
   "id": "44e51ff8-7ed5-414e-b898-332b5171551a",
   "metadata": {
    "deletable": false,
    "nbgrader": {
     "cell_type": "code",
     "checksum": "e61b96071d1d553c58a9ef194e069e2f",
     "grade": false,
     "grade_id": "cell-aba5b5e2d521f90d",
     "locked": false,
     "schema_version": 3,
     "solution": true,
     "task": false
    }
   },
   "outputs": [],
   "source": [
    "def f(x):\n",
    "    return x ** 5 * (1 - 2 * (x < 0))\n",
    "\n",
    "# YOUR CODE HERE\n",
    "raise NotImplementedError()"
   ]
  },
  {
   "cell_type": "markdown",
   "id": "5412e70d-fa37-4f3c-be91-faa4cc507d68",
   "metadata": {
    "deletable": false,
    "editable": false,
    "nbgrader": {
     "cell_type": "markdown",
     "checksum": "6fbce99333b61ff8b094289798244c54",
     "grade": false,
     "grade_id": "cell-0fa0cb98faf8646f",
     "locked": true,
     "schema_version": 3,
     "solution": false,
     "task": false
    }
   },
   "source": [
    "<div class=\"alert alert-success\">\n",
    "    \n",
    "**Exercise 8 (Bonus):** The quadrature weights and nodes to approximate $\\int_{-1}^{1} f(x)~\\mathrm{d}x$ can be obtained with the function `np.polynomial.legendre.leggauss` for any degree $d \\in \\mathbb{N}$. Use them to implement the function `gaussian`, which approximates the integral $\\int_{a}^{b} f(x)~\\mathrm{d}x$ with the Gaussian quadrature of arbitrary degrees $d$ and intervals $[a, b]$.\n",
    "\n",
    "*Hint:* Since the quadrature nodes $\\tilde{x}_1, \\tilde{x}_2, \\dots, \\tilde{x}_d$ and weights $\\tilde{\\alpha}_1, \\tilde{\\alpha}_2, \\dots, \\tilde{\\alpha}_d$ from `np.polynomial.legendre.leggauss` are only valid for integrals on the interval $[-1, 1]$, you will have to transform these weights to approximate integrals defined on the interval $[a, b]$. You can do this by transforming the quadrature nodes with\n",
    "\n",
    "$$\n",
    "x_i = \\frac{a + b}{2} + \\frac{b - a}{2} \\tilde{x}_i, i=1, 2, \\dots, d,\n",
    "$$\n",
    "\n",
    "and the quadrature weights with\n",
    "\n",
    "$$\n",
    "\\alpha_i = \\frac{b - a}{2} \\tilde{\\alpha}_i, i=1, 2, \\dots, d.\n",
    "$$\n",
    "\n",
    "</div>"
   ]
  },
  {
   "cell_type": "code",
   "execution_count": null,
   "id": "b1e79987-3de8-4d35-80a7-bfb6530ebaf3",
   "metadata": {
    "deletable": false,
    "nbgrader": {
     "cell_type": "code",
     "checksum": "1e0bd4b01061f1c5330378f2ffddb8de",
     "grade": false,
     "grade_id": "cell-646c0d5f55e9f7d7",
     "locked": false,
     "schema_version": 3,
     "solution": true,
     "task": false
    }
   },
   "outputs": [],
   "source": [
    "def gaussian(a, b, d, f):\n",
    "    nodes, weights = np.polynomial.legendre.leggauss(d)\n",
    "    # YOUR CODE HERE\n",
    "    raise NotImplementedError()"
   ]
  },
  {
   "cell_type": "markdown",
   "id": "86021284-e033-4013-9b82-57a4ead63df8",
   "metadata": {
    "deletable": false,
    "editable": false,
    "nbgrader": {
     "cell_type": "markdown",
     "checksum": "195d56ce8fdcca36ce2bd8c777a99707",
     "grade": false,
     "grade_id": "cell-df55ee99deaf9198",
     "locked": true,
     "schema_version": 3,
     "solution": false,
     "task": false
    }
   },
   "source": [
    "We now run some tests for you to see if your function does what it is supposed to do."
   ]
  },
  {
   "cell_type": "code",
   "execution_count": null,
   "id": "c34446f1-b7f3-4e47-968e-3c27422386a6",
   "metadata": {
    "deletable": false,
    "editable": false,
    "nbgrader": {
     "cell_type": "code",
     "checksum": "41ad7bbf65d3b76ee2e53d7dc8c97cbd",
     "grade": false,
     "grade_id": "cell-2acb93fed6bc8136",
     "locked": true,
     "schema_version": 3,
     "solution": false,
     "task": false
    }
   },
   "outputs": [],
   "source": [
    "assert not (gaussian(-1, 1, 2, lambda x: x) is None), f\"your function 'gaussian' returned nothing, make sure to 'return' your result\";assert isinstance(G := gaussian(-1, 1, 2, lambda x: x), float), f\"expected 'gaussian' to return a floating-point number, but got {type(G)}\";assert np.isclose(G := gaussian(-1, 1, 2, lambda x: 1), 2), f\"'gaussian(-1, 1, 2, f)' for 'f(x) = 1' should return 'I(f) = 2', but got {G}\";assert np.isclose(G := gaussian(-1, 1, 2, lambda x: x), 0), f\"'gaussian(-1, 1, 2, f)' for 'f(x) = x' should return 'I(f) = 0', but got {G}\";assert np.isclose(G := gaussian(-1, 1, 2, lambda x: x**2), 2/3), f\"'gaussian(-1, 1, 2, f)' for 'f(x) = x^2' should return 'I(f) = 2/3', but got {G}\";assert np.isclose(G := gaussian(-1, 1, 2, lambda x: x**3), 0), f\"'gaussian(-1, 1, 2, f)' for 'f(x) = x^3' should return 'I(f) = 0', but got {G}\";assert np.isclose(G := gaussian(-1, 1, 2, lambda x: x**4), 2/9), f\"'gaussian(-1, 1, 2, f)' for 'f(x) = x^4' should return 'I(f) = 2/9', but got {G}\";assert np.isclose(G := gaussian(0, 2, 2, lambda x: x**2), 8 / 3), f\"'gaussian(0, 2, 2, f)' for 'f(x) = x^2' should return 'I(f) = 8/3', but got {G}\";assert np.isclose(G := gaussian(-2, 3, 2, lambda x: x**2), 35 / 3), f\"'gaussian(-2, 3, 2, f)' for 'f(x) = x^2' should return 'I(f) = 35/3', but got {G}\";print(\"Wow! We are impressed you managed to solve this hard exercise. Let us know during the exercise session! :)\")"
   ]
  },
  {
   "cell_type": "markdown",
   "id": "57db90b4-8b77-4c9d-91ef-f14b4f34e736",
   "metadata": {
    "deletable": false,
    "editable": false,
    "nbgrader": {
     "cell_type": "markdown",
     "checksum": "e8f1380b4fa12822d303bfd9278511bc",
     "grade": false,
     "grade_id": "cell-e624747908b7836a",
     "locked": true,
     "schema_version": 3,
     "solution": false,
     "task": false
    }
   },
   "source": [
    "<hr style=\"clear:both\">\n",
    "\n",
    "### Rediscovering Simpson's formula"
   ]
  },
  {
   "cell_type": "markdown",
   "id": "0040d794-fabd-4722-9490-98a446b3211e",
   "metadata": {
    "deletable": false,
    "editable": false,
    "nbgrader": {
     "cell_type": "markdown",
     "checksum": "061b19e0ab6a5666fedcb34cd400125a",
     "grade": false,
     "grade_id": "cell-459547486008d615",
     "locked": true,
     "schema_version": 3,
     "solution": false,
     "task": false
    }
   },
   "source": [
    "Consider a continuous function $g$ defined on the interval $[-1,1]$. We choose three quadrature nodes $x_0 = -1$, $x_1 = \\beta$ and $x_2 = 1$, where $\\beta$ is a real number between $-1$ and $1$, and we consider the following quadrature formula to approximate the integral $I(g)=\\int_{-1}^{1} g(x) dx$:\n",
    "\n",
    "$$\n",
    "Q(g) = \\sum_{j=0}^2 \\alpha_j \\, g(x_j) = \\alpha_0 \\, g(-1) + \\alpha_1 \\, g(\\beta) + \\alpha_2 \\, g(1).\n",
    "$$"
   ]
  },
  {
   "cell_type": "markdown",
   "id": "dd6ea857-e531-4f4d-9432-9059ccc36b7c",
   "metadata": {
    "deletable": false,
    "editable": false,
    "nbgrader": {
     "cell_type": "markdown",
     "checksum": "2ec4557caef8d5f3fc49242cd5504292",
     "grade": false,
     "grade_id": "cell-24846ca4a0960028",
     "locked": true,
     "points": 0,
     "schema_version": 3,
     "solution": false,
     "task": true
    }
   },
   "source": [
    "<div class=\"alert alert-success\">\n",
    "    \n",
    "**Exercise 9 (Theoretical):** Find the weights $\\alpha_0$, $\\alpha_1$, and $\\alpha_2$ (in terms of $\\beta$) so that the quadrature formula has a degree of exactness equal to 2.\n",
    "</div>\n"
   ]
  },
  {
   "cell_type": "markdown",
   "id": "427d04f0-9527-4b37-8300-bc389e34b6ce",
   "metadata": {
    "deletable": false,
    "editable": false,
    "nbgrader": {
     "cell_type": "markdown",
     "checksum": "3e9148cb56eb73b859abf7bdf56f07d2",
     "grade": false,
     "grade_id": "cell-75b3ffa98dff1712",
     "locked": true,
     "points": 0,
     "schema_version": 3,
     "solution": false,
     "task": true
    }
   },
   "source": [
    "<div class=\"alert alert-success\">\n",
    "    \n",
    "**Exercise 10 (Theoretical):** Find $\\beta$ such that the quadrature formula has a degree of exactness equal to $3$, namely\n",
    "\n",
    "$$\n",
    "Q(p) = \\int_{-1}^1 p(x) dx\n",
    "$$\n",
    "\n",
    "for every polynomial $p$ of degree $\\leq 3$. Does the resulting formula look familiar?\n",
    "</div>\n"
   ]
  },
  {
   "cell_type": "markdown",
   "id": "2f48b6fb-9b45-4230-9285-c76e49273c05",
   "metadata": {
    "deletable": false,
    "editable": false,
    "nbgrader": {
     "cell_type": "markdown",
     "checksum": "3fe702163739a5b00431391b56cacfc6",
     "grade": false,
     "grade_id": "cell-063128b48771ba36",
     "locked": true,
     "schema_version": 3,
     "solution": false,
     "task": false
    }
   },
   "source": [
    "<hr style=\"clear:both\">\n",
    "\n",
    "## The end\n",
    "\n",
    "Good job! You have reached the end of the seventh exercise notebook."
   ]
  }
 ],
 "metadata": {
  "kernelspec": {
   "display_name": "Python 3 (ipykernel)",
   "language": "python",
   "name": "python3"
  },
  "language_info": {
   "codemirror_mode": {
    "name": "ipython",
    "version": 3
   },
   "file_extension": ".py",
   "mimetype": "text/x-python",
   "name": "python",
   "nbconvert_exporter": "python",
   "pygments_lexer": "ipython3",
   "version": "3.12.3"
  }
 },
 "nbformat": 4,
 "nbformat_minor": 5
}
