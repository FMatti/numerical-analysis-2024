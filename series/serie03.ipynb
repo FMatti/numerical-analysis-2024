{
 "cells": [
  {
   "cell_type": "markdown",
   "metadata": {
    "deletable": false,
    "editable": false,
    "nbgrader": {
     "cell_type": "markdown",
     "checksum": "926f35b3fd18981accf2162200335e30",
     "grade": false,
     "grade_id": "cell-8f1c4d1a6723e053",
     "locked": true,
     "schema_version": 3,
     "solution": false,
     "task": false
    }
   },
   "source": [
    "## Numerical Analysis - Fall semester 2024\n",
    "# Serie 03 - Newton's and fixed-point methods"
   ]
  },
  {
   "cell_type": "markdown",
   "metadata": {
    "deletable": false,
    "editable": false,
    "nbgrader": {
     "cell_type": "markdown",
     "checksum": "3c7a9a0a868274ec034a7eb5fa3cb5f8",
     "grade": false,
     "grade_id": "cell-922e4937f542876b",
     "locked": true,
     "schema_version": 3,
     "solution": false,
     "task": false
    }
   },
   "source": [
    "As usual, we will import some useful packages for later reference. You will have to run this cell every time you restart your notebook."
   ]
  },
  {
   "cell_type": "code",
   "execution_count": null,
   "metadata": {
    "deletable": false,
    "editable": false,
    "nbgrader": {
     "cell_type": "code",
     "checksum": "70bce079ac8595af17588c8a6d0abd7a",
     "grade": false,
     "grade_id": "cell-2a46d0405673b9c3",
     "locked": true,
     "schema_version": 3,
     "solution": false,
     "task": false
    }
   },
   "outputs": [],
   "source": [
    "import numpy as np\n",
    "import matplotlib.pyplot as plt"
   ]
  },
  {
   "cell_type": "markdown",
   "metadata": {
    "deletable": false,
    "editable": false,
    "nbgrader": {
     "cell_type": "markdown",
     "checksum": "acaddb3aa2be3986543c0bc83edc1b71",
     "grade": false,
     "grade_id": "cell-16f40886e18e5ba1",
     "locked": true,
     "schema_version": 3,
     "solution": false,
     "task": false
    }
   },
   "source": [
    "<hr style=\"clear:both\">\n",
    "\n",
    "### Newton's method"
   ]
  },
  {
   "cell_type": "markdown",
   "metadata": {
    "deletable": false,
    "editable": false,
    "nbgrader": {
     "cell_type": "markdown",
     "checksum": "989fb1a2b9d510bcfaafdb92ae5fe326",
     "grade": false,
     "grade_id": "cell-60e01807e58cb523",
     "locked": true,
     "schema_version": 3,
     "solution": false,
     "task": false
    }
   },
   "source": [
    "<div class=\"alert alert-success\">\n",
    "    \n",
    "**Exercise 1:** Complete the following implementation of Newton's method (Algorithm 1.6 in the lecture notes), which additionally keeps track of all the iterates $x^{(0)}, x^{(1)}, \\dots$ and increments $r^{(0)}, r^{(1)}, \\dots$.\n",
    "\n",
    "*Hint:* You can access the last element in a Python list `l` by using `l[-1]`, the second to last with `l[-2]`, and so on...\n",
    "</div>\n"
   ]
  },
  {
   "cell_type": "code",
   "execution_count": null,
   "metadata": {
    "deletable": false,
    "nbgrader": {
     "cell_type": "code",
     "checksum": "3a6baa004196c440893f5edd7405279f",
     "grade": false,
     "grade_id": "cell-d6d6fe61b87cb257",
     "locked": false,
     "schema_version": 3,
     "solution": true,
     "task": false
    }
   },
   "outputs": [],
   "source": [
    "def newton(f, df, x0, tol, nmax):\n",
    "    x = []  # list of iterates\n",
    "    x.append(x0)\n",
    "    r = []  # list of increments\n",
    "    r.append(tol + 1)\n",
    "    k = 0  # iteration counter\n",
    "    while r[-1] > tol and k < nmax:\n",
    "        # YOUR CODE HERE\n",
    "        raise NotImplementedError()\n",
    "    return x, r, k"
   ]
  },
  {
   "cell_type": "code",
   "execution_count": null,
   "metadata": {
    "deletable": false,
    "editable": false,
    "nbgrader": {
     "cell_type": "code",
     "checksum": "03ce424de83bc2c2f1669e9b685d8de1",
     "grade": false,
     "grade_id": "cell-5d8f7079cbb7feb9",
     "locked": true,
     "schema_version": 3,
     "solution": false,
     "task": false
    }
   },
   "outputs": [],
   "source": [
    "assert np.isclose(N := newton(lambda x: x ** 2 - 2, lambda x: 2 * x, 1.1, 1e-10, 100)[0][-1], np.sqrt(2)), f\"'newton(f, df, 1.1, 1e-10, 100)' for 'f(x) = x^2 - 2' should approximately return 'alpha = 1.41421', but got {N}\"; print(\"Nice! Your function returned what was expected on our simple example.\")"
   ]
  },
  {
   "cell_type": "markdown",
   "metadata": {
    "deletable": false,
    "editable": false,
    "nbgrader": {
     "cell_type": "markdown",
     "checksum": "96c848c2d9c378c1ec323b0752cd1023",
     "grade": false,
     "grade_id": "cell-36bc4e2ba33168f8",
     "locked": true,
     "schema_version": 3,
     "solution": false,
     "task": false
    }
   },
   "source": [
    "We now consider the function\n",
    "\n",
    "$$\n",
    "f(x) = (x - e) (x - \\sqrt{17})^3\n",
    "$$"
   ]
  },
  {
   "cell_type": "markdown",
   "metadata": {
    "deletable": false,
    "editable": false,
    "nbgrader": {
     "cell_type": "markdown",
     "checksum": "145d11af78362b1d3d8fe4087bb0142d",
     "grade": false,
     "grade_id": "cell-c9a83e7fe6d82511",
     "locked": true,
     "schema_version": 3,
     "solution": false,
     "task": false
    }
   },
   "source": [
    "<div class=\"alert alert-success\">\n",
    "    \n",
    "**Exercise 2:** Implement this function and plot the graph of the function at $100$ uniformly spaced points in the interval $x \\in [5/2, 5]$.\n",
    "\n",
    "*Hint:* Euler's number $e$ is approximated by the NumPy constant `np.e`.\n",
    "</div>\n"
   ]
  },
  {
   "cell_type": "code",
   "execution_count": null,
   "metadata": {
    "deletable": false,
    "nbgrader": {
     "cell_type": "code",
     "checksum": "92743591588a2115f2183f3168b2c9b1",
     "grade": false,
     "grade_id": "cell-5cab970f8ed9c0ec",
     "locked": false,
     "schema_version": 3,
     "solution": true,
     "task": false
    }
   },
   "outputs": [],
   "source": [
    "def f(x):\n",
    "    # YOUR CODE HERE\n",
    "    raise NotImplementedError()\n",
    "\n",
    "# YOUR CODE HERE\n",
    "raise NotImplementedError()"
   ]
  },
  {
   "cell_type": "markdown",
   "metadata": {
    "deletable": false,
    "editable": false,
    "nbgrader": {
     "cell_type": "markdown",
     "checksum": "c9b4e4f183c4f04a4b0ac5d5c5ac60fe",
     "grade": false,
     "grade_id": "cell-7bc545b4951c5fb7",
     "locked": true,
     "points": 0,
     "schema_version": 3,
     "solution": false,
     "task": true
    }
   },
   "source": [
    "<div class=\"alert alert-success\">\n",
    "    \n",
    "**Exercise 3 (Theoretical):** For Newton's method applied to this function from some starting point $x^{(0)}$, write down explicitly $x^{(k+1)}$ in terms of $x^{(k)}$ for any $k$.\n",
    "</div>\n"
   ]
  },
  {
   "cell_type": "markdown",
   "metadata": {
    "deletable": false,
    "editable": false,
    "nbgrader": {
     "cell_type": "markdown",
     "checksum": "278279c111f5eaeb08cdcbdf7ad19118",
     "grade": false,
     "grade_id": "cell-6b75bb5a4905e86f",
     "locked": true,
     "schema_version": 3,
     "solution": false,
     "task": false
    }
   },
   "source": [
    "<div class=\"alert alert-success\">\n",
    "    \n",
    "**Exercise 4:** Use your implementation of Newton's method from Exercise 1 to find the two roots $\\alpha$ and $\\beta$ of the function $f$, using the initial points $x_{\\alpha}^{(0)} = 5/2$ and $x_{\\beta}^{(0)} = 5$ respectively. Use a tolerance of `tol = 1e-10` and limit the iterations to `nmax = 100`.\n",
    "</div>"
   ]
  },
  {
   "cell_type": "code",
   "execution_count": null,
   "metadata": {
    "deletable": false,
    "nbgrader": {
     "cell_type": "code",
     "checksum": "abaf75de9d6e340e97c565b4a6ab189f",
     "grade": false,
     "grade_id": "cell-14f7973c8a8474bd",
     "locked": false,
     "schema_version": 3,
     "solution": true,
     "task": false
    }
   },
   "outputs": [],
   "source": [
    "def df(x):\n",
    "    # YOUR CODE HERE\n",
    "    raise NotImplementedError()\n",
    "\n",
    "# YOUR CODE HERE\n",
    "raise NotImplementedError()"
   ]
  },
  {
   "cell_type": "markdown",
   "metadata": {
    "deletable": false,
    "editable": false,
    "nbgrader": {
     "cell_type": "markdown",
     "checksum": "d4ef873fdd63b4377b8cad32bc244a31",
     "grade": false,
     "grade_id": "cell-4389555783b6f9dc",
     "locked": true,
     "schema_version": 3,
     "solution": false,
     "task": false
    }
   },
   "source": [
    "<div class=\"alert alert-success\">\n",
    "    \n",
    "**Exercise 5:** For the Newton iteration computed for $\\alpha$ and $\\beta$ from Exercise 4, plot the sequence\n",
    "\n",
    "$$\n",
    "|x^{(k + 1)} - x^{(k)}|, k=1, 2, \\dots\n",
    "$$\n",
    "\n",
    "with logarithmically scaled y-axis (use `plt.semilogy`) and comment on the result.\n",
    "</div>"
   ]
  },
  {
   "cell_type": "code",
   "execution_count": null,
   "metadata": {
    "deletable": false,
    "nbgrader": {
     "cell_type": "code",
     "checksum": "551808a3bdeed827617e256d7bd078b8",
     "grade": false,
     "grade_id": "cell-25da9ed7c20262d2",
     "locked": false,
     "schema_version": 3,
     "solution": true,
     "task": false
    }
   },
   "outputs": [],
   "source": [
    "# YOUR CODE HERE\n",
    "raise NotImplementedError()"
   ]
  },
  {
   "cell_type": "markdown",
   "metadata": {
    "deletable": false,
    "editable": false,
    "nbgrader": {
     "cell_type": "markdown",
     "checksum": "f64bcd5bed8194e89cdaba2b092c73a5",
     "grade": false,
     "grade_id": "cell-c292c606bde14097",
     "locked": true,
     "schema_version": 3,
     "solution": false,
     "task": false
    }
   },
   "source": [
    "<div class=\"alert alert-success\">\n",
    "    \n",
    "**Exercise 6:** For the Newton iteration computed for $\\alpha$ and $\\beta$, plot the sequences\n",
    "\n",
    "$$\n",
    "\\frac{|x^{(k + 1)} - x^{(k)}|}{|x^{(k)} - x^{(k - 1)}|^{p}}, k=1, 2, \\dots\n",
    "$$\n",
    "\n",
    "for $p = 1$ and $p = 2$ on a separate plot for $\\alpha$ and $\\beta$. Which of the sequences converges to a constant? What can we conclude?\n",
    "</div>"
   ]
  },
  {
   "cell_type": "code",
   "execution_count": null,
   "metadata": {
    "deletable": false,
    "nbgrader": {
     "cell_type": "code",
     "checksum": "569d347b4e6ef032535292f1ba1956b8",
     "grade": false,
     "grade_id": "cell-a6fd2d1c23e0ace1",
     "locked": false,
     "schema_version": 3,
     "solution": true,
     "task": false
    }
   },
   "outputs": [],
   "source": [
    "# YOUR CODE HERE\n",
    "raise NotImplementedError()"
   ]
  },
  {
   "cell_type": "markdown",
   "metadata": {
    "deletable": false,
    "editable": false,
    "nbgrader": {
     "cell_type": "markdown",
     "checksum": "2e1429ee1d1c708ecf79c082e3d10096",
     "grade": false,
     "grade_id": "cell-c1664f15df34b5cf",
     "locked": true,
     "schema_version": 3,
     "solution": false,
     "task": false
    }
   },
   "source": [
    "<hr style=\"clear:both\">\n",
    "\n",
    "### Fixed-point method for finding roots"
   ]
  },
  {
   "cell_type": "markdown",
   "metadata": {
    "deletable": false,
    "editable": false,
    "nbgrader": {
     "cell_type": "markdown",
     "checksum": "864babd1c24c0b852640c7d9dbaf2ad3",
     "grade": false,
     "grade_id": "cell-a6af20c2df29e32b",
     "locked": true,
     "schema_version": 3,
     "solution": false,
     "task": false
    }
   },
   "source": [
    "We want to compute the root $\\alpha$ of the function $f(x) = x^3 -\n",
    "2$ using the following fixed-point method:\n",
    "$$\n",
    "   x^{(k+1)}=\\phi(x^{(k)}) = x^{(k)} \\left( 1 - \\frac{\\omega}{3} \\right) +\n",
    "  (x^{(k)})^3 (1-\\omega) + \\frac{2\\omega}{3(x^{(k)})^2} +\n",
    "  2(\\omega-1), \\quad k \\geq 0,\n",
    "$$\n",
    "$\\omega \\in \\mathbb{R}$ being a real parameter."
   ]
  },
  {
   "cell_type": "markdown",
   "metadata": {
    "deletable": false,
    "editable": false,
    "nbgrader": {
     "cell_type": "markdown",
     "checksum": "4836aaef53c100be04478b023d4cad65",
     "grade": false,
     "grade_id": "cell-1fd3098c7ac6e449",
     "locked": true,
     "points": 0,
     "schema_version": 3,
     "solution": false,
     "task": true
    }
   },
   "source": [
    "<div class=\"alert alert-success\">\n",
    "    \n",
    "**Exercise 7 (Theoretical):** For which values of the parameter $\\omega$ is the root of the function $f$ a fixed-point of the proposed method? \n",
    "\n",
    "*Hint:* Prove, using elementary algebraic operations, that if $\\alpha^3-2=0$ then we also have $\\phi(\\alpha)=\\alpha$ for some values of $\\omega$.\n",
    "</div>\n"
   ]
  },
  {
   "cell_type": "markdown",
   "metadata": {
    "deletable": false,
    "editable": false,
    "nbgrader": {
     "cell_type": "markdown",
     "checksum": "48eb9d67efd6f734bd4c1bff9c0eac9f",
     "grade": false,
     "grade_id": "cell-a38a6897affdff15",
     "locked": true,
     "points": 0,
     "schema_version": 3,
     "solution": false,
     "task": true
    }
   },
   "source": [
    "<div class=\"alert alert-success\">\n",
    "    \n",
    "**Exercise 8 (Theoretical):** For which values of $\\omega$ is the proposed method at least of second order?\n",
    "</div>\n"
   ]
  },
  {
   "cell_type": "markdown",
   "metadata": {
    "deletable": false,
    "editable": false,
    "nbgrader": {
     "cell_type": "markdown",
     "checksum": "92974aa3609bd942b043feea4c29e0ba",
     "grade": false,
     "grade_id": "cell-b74e9e69dfa65692",
     "locked": true,
     "points": 0,
     "schema_version": 3,
     "solution": false,
     "task": true
    }
   },
   "source": [
    "<div class=\"alert alert-success\">\n",
    "    \n",
    "**Exercise 9 (Theoretical):** Does a value of $\\omega$ exist such that the order of the fixed-point method is larger than $2$?\n",
    "</div>\n"
   ]
  },
  {
   "cell_type": "markdown",
   "metadata": {
    "deletable": false,
    "editable": false,
    "nbgrader": {
     "cell_type": "markdown",
     "checksum": "f3db0e4498eeec341c0e9db6fadc51c9",
     "grade": false,
     "grade_id": "cell-b06ea313c3b2d61c",
     "locked": true,
     "points": 0,
     "schema_version": 3,
     "solution": false,
     "task": true
    }
   },
   "source": [
    "<div class=\"alert alert-success\">\n",
    "    \n",
    "**Exercise 10 (Theoretical, Exam question in 2013):** Knowing that $f(x)=(x-1)^3+1-x$ has 3 roots $\\alpha_1=0$, $\\alpha_2=1$, $\\alpha_3=2$, point out which of the following statements about the fixed-point method $x^{(k+1)}=\\phi(x^{(k)}) = (x^{(k)}-1)^3+1$ correctly completes the sentence: For appropriately chosen starting points, ...\n",
    "\n",
    "1. ... the method does not converge neither to $\\alpha_1$ nor to $\\alpha_3$ but it converges to $\\alpha_2$ \n",
    "    with first order\n",
    "2. ... the method does not converge neither to $\\alpha_1$ nor to $\\alpha_3$ but it converges to $\\alpha_2$\n",
    "    with second order\n",
    "3. ... the method converges to $\\alpha_1$ and to $\\alpha_3$ with first order and to $\\alpha_2$\n",
    "    with second order\n",
    "4. ... the method converges to $\\alpha_2$ with third order\n",
    "5. ... the method converges to $\\alpha_1$ and $\\alpha_2$ but not to $\\alpha_3$.\n",
    "</div>\n"
   ]
  },
  {
   "cell_type": "markdown",
   "metadata": {
    "deletable": false,
    "editable": false,
    "nbgrader": {
     "cell_type": "markdown",
     "checksum": "50d37f4ddd167f450f6f9862871fe323",
     "grade": false,
     "grade_id": "cell-92aba50307b9c962",
     "locked": true,
     "schema_version": 3,
     "solution": false,
     "task": false
    }
   },
   "source": [
    "<hr style=\"clear:both\">\n",
    "\n",
    "## The end\n",
    "\n",
    "Congratulations! You have reached the end of the third exercise notebook. "
   ]
  }
 ],
 "metadata": {
  "kernelspec": {
   "display_name": "Python 3 (ipykernel)",
   "language": "python",
   "name": "python3"
  },
  "language_info": {
   "codemirror_mode": {
    "name": "ipython",
    "version": 3
   },
   "file_extension": ".py",
   "mimetype": "text/x-python",
   "name": "python",
   "nbconvert_exporter": "python",
   "pygments_lexer": "ipython3",
   "version": "3.12.3"
  }
 },
 "nbformat": 4,
 "nbformat_minor": 4
}
