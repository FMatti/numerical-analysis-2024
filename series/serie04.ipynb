{
 "cells": [
  {
   "cell_type": "markdown",
   "id": "278078d9-126a-4344-b036-504006b85980",
   "metadata": {
    "deletable": false,
    "editable": false,
    "nbgrader": {
     "cell_type": "markdown",
     "checksum": "87617fd09e5e9b0e7fe9fe2edf5f5dff",
     "grade": false,
     "grade_id": "cell-7210cc7c6d0b974e",
     "locked": true,
     "schema_version": 3,
     "solution": false,
     "task": false
    }
   },
   "source": [
    "## Numerical Analysis - Fall semester 2024\n",
    "# Serie 04 - Variants of Newton's method and Polynomial Interpolation"
   ]
  },
  {
   "cell_type": "markdown",
   "id": "3fa6a5cf-cf1f-4283-8afe-2c5acf1d4a2c",
   "metadata": {
    "deletable": false,
    "editable": false,
    "nbgrader": {
     "cell_type": "markdown",
     "checksum": "a68a951a0572d2e31a040a594155e004",
     "grade": false,
     "grade_id": "cell-0a827a51c9b09174",
     "locked": true,
     "schema_version": 3,
     "solution": false,
     "task": false
    }
   },
   "source": [
    "As usual, we will import some useful packages for later reference. You will have to run this cell every time you restart your notebook."
   ]
  },
  {
   "cell_type": "code",
   "execution_count": null,
   "id": "ec17eeeb-695f-473c-b0c2-92d8e29eba2f",
   "metadata": {
    "deletable": false,
    "editable": false,
    "nbgrader": {
     "cell_type": "code",
     "checksum": "bdb6ce9b7ebc7134d98b307d0594f0aa",
     "grade": false,
     "grade_id": "cell-33431db1e46851bc",
     "locked": true,
     "schema_version": 3,
     "solution": false,
     "task": false
    }
   },
   "outputs": [],
   "source": [
    "import matplotlib.pyplot as plt\n",
    "import numpy as np"
   ]
  },
  {
   "cell_type": "markdown",
   "id": "1d290cce-aa79-4b3d-b9f7-68cbf28a32c5",
   "metadata": {
    "deletable": false,
    "editable": false,
    "nbgrader": {
     "cell_type": "markdown",
     "checksum": "fe1a4f0fd6b629b402f27114f66eef5a",
     "grade": false,
     "grade_id": "cell-abfcc407541f339f",
     "locked": true,
     "schema_version": 3,
     "solution": false,
     "task": false
    }
   },
   "source": [
    "<hr style=\"clear:both\">\n",
    "\n",
    "### Newton's method for systems of equations"
   ]
  },
  {
   "cell_type": "markdown",
   "id": "bbb600ec-c09b-4f3a-8cba-a6018a33d96c",
   "metadata": {
    "deletable": false,
    "editable": false,
    "nbgrader": {
     "cell_type": "markdown",
     "checksum": "390088117bf138e48290bdbb62c7fbbc",
     "grade": false,
     "grade_id": "cell-cae03da525c3bcaa",
     "locked": true,
     "schema_version": 3,
     "solution": false,
     "task": false
    }
   },
   "source": [
    "<div class=\"alert alert-success\">\n",
    "    \n",
    "**Exercise 1:** Complete the following implementation of Newton's method for systems of equations (Algorithm 1.7 in the lecture notes).\n",
    "\n",
    "*Hint:* To solve an equation of the form $Ax = b$ for $x$, where $A \\in \\mathbb{R}^{n \\times n}$, $b \\in \\mathbb{R}^{n}$, and $x \\in \\mathbb{R}^{n}$, use `x = np.linalg.solve(A, b)`. To compute the norm $\\lVert x \\rVert$ of a vector $x$, use `np.linalg.norm(x)`.\n",
    "</div>\n"
   ]
  },
  {
   "cell_type": "code",
   "execution_count": null,
   "id": "a4055d9c-5484-4177-8f6c-2a0e49068b95",
   "metadata": {
    "deletable": false,
    "nbgrader": {
     "cell_type": "code",
     "checksum": "2dee3d375b0e4c0d9b8427710d817e6e",
     "grade": false,
     "grade_id": "cell-a226ef1dfd4e3222",
     "locked": false,
     "schema_version": 3,
     "solution": true,
     "task": false
    }
   },
   "outputs": [],
   "source": [
    "def newtonsys(F, JF, x0, tol, nmax):\n",
    "    x = []  # list of iterates\n",
    "    x.append(x0)\n",
    "    r = []  # list of increments\n",
    "    r.append(tol + 1)\n",
    "    k = 0  # iteration counter\n",
    "    while r[-1] > tol and k < nmax:\n",
    "        # YOUR CODE HERE\n",
    "        raise NotImplementedError()\n",
    "    return x, r, k"
   ]
  },
  {
   "cell_type": "markdown",
   "id": "eb363d16-84af-4b7c-a510-4f246d761bbe",
   "metadata": {
    "deletable": false,
    "editable": false,
    "nbgrader": {
     "cell_type": "markdown",
     "checksum": "b36739fbb70ff06a2589e857b0c5656d",
     "grade": false,
     "grade_id": "cell-ffb52f9122775c6a",
     "locked": true,
     "schema_version": 3,
     "solution": false,
     "task": false
    }
   },
   "source": [
    "Let us consider the nonlinear system $\\mathbf{F}({\\bf x})=\\mathbf{0}$ with\n",
    "\n",
    "$$\n",
    "\\mathbf{F}({\\bf x})\n",
    "%F(x_1,x_2)\n",
    "=\\left[\n",
    "\\begin{array}{lcl}\n",
    "e^{x_1^2+x_2^2}-\\alpha \\\\\n",
    "e^{x_1^2-x_2^2}-1\n",
    "\\end{array}\n",
    "\\right],\n",
    "$$\n",
    "where the parameter $\\alpha$ takes the values $1$ or $e$."
   ]
  },
  {
   "cell_type": "markdown",
   "id": "12147212-0dea-486f-a32b-94ea938553ae",
   "metadata": {
    "deletable": false,
    "editable": false,
    "nbgrader": {
     "cell_type": "markdown",
     "checksum": "27c0f8214d9b64472f8c691a88b873c0",
     "grade": false,
     "grade_id": "cell-b8fdc0909564f89f",
     "locked": true,
     "points": 0,
     "schema_version": 3,
     "solution": false,
     "task": true
    }
   },
   "source": [
    "<div class=\"alert alert-success\">\n",
    "    \n",
    "**Exercise 2 (Theoretical):** Compute the Jacobian matrix $J_\\mathbf{F}$ associated to the nonlinear system and the first Newton iteration in the case $\\alpha=e$ with ${\\bf x}^{(0)}=(1,1)^\\top$ as initial point.\n",
    "</div>\n"
   ]
  },
  {
   "cell_type": "markdown",
   "id": "db16f64f-309a-4ae1-b219-db304678f2ee",
   "metadata": {
    "deletable": false,
    "editable": false,
    "nbgrader": {
     "cell_type": "markdown",
     "checksum": "ef8b47e436adb3bd6f370eae0c4147ed",
     "grade": false,
     "grade_id": "cell-196f6af8f39ef6f7",
     "locked": true,
     "schema_version": 3,
     "solution": false,
     "task": false
    }
   },
   "source": [
    "<div class=\"alert alert-success\">\n",
    "\n",
    "**Exercise 3:** Fix a tolerance of `tol = 1e-8` and a maximal number of iterations `nmax=1000`. Apply the vector Newton method for both cases $\\alpha=1$ and $\\alpha=e$, using as initial value ${\\bf x}_1^{(0)}=(1/10,1/10)^\\top$ and ${\\bf x}_e^{(0)}=(1,1)^\\top$, respectively. How do the result and the number of iterations change? What is the order of convergence of the method in each case?\n",
    "\n",
    "*Hint:* Try to work as much with NumPy arrays as possible, since you can do mathematical operations with them (`+`, `-`, ...), which are not possible between lists. To convert a Python list `l = [1, 2, 3]` to a NumPy array, use `np.array(l)`.\n",
    "</div>"
   ]
  },
  {
   "cell_type": "markdown",
   "id": "67187a2d-37ef-4e9a-b2a7-c24da24c41f8",
   "metadata": {},
   "source": [
    "<div class=\"alert alert-info\">\n",
    "\n",
    "**Note:** Choosing the initial point can strongly influence if, and to which zero, Newton's method converges. In general, the closer to the zero the initial point is chosen, the better the method will converge to that zero. For one-dimentional functions with one input, we can often visually determine a good starting point. Once we move to two or more  inputs, we may need to use a few iterations of another method (bisection, ...) to find a suitable stating point.\n",
    "</div>"
   ]
  },
  {
   "cell_type": "code",
   "execution_count": null,
   "id": "a7c7559d-d94f-45ac-8bf8-dc08b53b6b03",
   "metadata": {
    "deletable": false,
    "nbgrader": {
     "cell_type": "code",
     "checksum": "4ab2ddb48d777c684f1de03057182b2c",
     "grade": false,
     "grade_id": "cell-0c27b83ac14a5ea4",
     "locked": false,
     "schema_version": 3,
     "solution": true,
     "task": false
    }
   },
   "outputs": [],
   "source": [
    "def F(x, alpha):\n",
    "    # YOUR CODE HERE\n",
    "    raise NotImplementedError()\n",
    "\n",
    "def JF(x):\n",
    "    # YOUR CODE HERE\n",
    "    raise NotImplementedError()\n",
    "\n",
    "# the function F when α = 1\n",
    "def F_1(x):\n",
    "    return F(x, alpha=1)\n",
    "\n",
    "# the function F when α = e\n",
    "def F_e(x):\n",
    "    return F(x, alpha=np.e)\n",
    "\n",
    "# YOUR CODE HERE\n",
    "raise NotImplementedError()"
   ]
  },
  {
   "cell_type": "markdown",
   "id": "bf2de447-f193-491e-a897-01979c2a9d98",
   "metadata": {
    "deletable": false,
    "editable": false,
    "nbgrader": {
     "cell_type": "markdown",
     "checksum": "367e7a857abdbe84fe6bc6ecfc263ff3",
     "grade": false,
     "grade_id": "cell-b13248f82404de1d",
     "locked": true,
     "schema_version": 3,
     "solution": false,
     "task": false
    }
   },
   "source": [
    "<hr style=\"clear:both\">\n",
    "\n",
    "### Damped Newton's method"
   ]
  },
  {
   "cell_type": "markdown",
   "id": "716f804b-7718-431d-9c70-a4cce20d0352",
   "metadata": {
    "deletable": false,
    "editable": false,
    "nbgrader": {
     "cell_type": "markdown",
     "checksum": "55c97c9f51f2cc5eeff901dec0626bac",
     "grade": false,
     "grade_id": "cell-6b4963af79f1e42f",
     "locked": true,
     "schema_version": 3,
     "solution": false,
     "task": false
    }
   },
   "source": [
    "We provide you with the implementation of Newton's method to find the zero of a function $g$ which you've completed in last week's notebook. However, there is one slight modification: we introduce a damping factor $0 < \\gamma \\leq 1$ in the iteration\n",
    "\n",
    "\\begin{equation*}\n",
    "     x^{(k + 1)} = x^{(k)} - \\gamma \\frac{f(x^{(k)})}{f'(x^{(k)})}.\n",
    "\\end{equation*}\n",
    "\n",
    "For $\\gamma = 1$ we end up with the standard Newton's method.\n",
    "\n",
    "<div class=\"alert alert-info\">\n",
    "\n",
    "**Note:** Damping is a technique that reduces the size of the Newton step to ensure more stable behavior, especially in cases where the method without damping might oscillate too much or fail to converge. Instead of taking the full Newton step, the damped method takes only a portion of the step, usually scaled by a factor $\\gamma_k$, where $0 < \\gamma_k \\leq 1$, which changes in every iteration $k$. The advantage is that it's more stable in cases where derivatives exhibit large oscillations or when the system is poorly conditioned. For simplicity, we only consider a fixed damping $\\gamma_k = \\gamma$ for all iterations $k$ in our implementation.\n",
    "</div>"
   ]
  },
  {
   "cell_type": "code",
   "execution_count": null,
   "id": "4c9f5957-9e82-46a9-8c7b-e65a0fe0088a",
   "metadata": {
    "deletable": false,
    "editable": false,
    "nbgrader": {
     "cell_type": "code",
     "checksum": "942ebd93cc17a6483d84ef6398e1fcbe",
     "grade": false,
     "grade_id": "cell-1ba225666f25a1b6",
     "locked": true,
     "schema_version": 3,
     "solution": false,
     "task": false
    }
   },
   "outputs": [],
   "source": [
    "def newton_damped(f, df, x0, tol, nmax, gamma):\n",
    "    x = []  # list of iterates\n",
    "    x.append(x0)\n",
    "    r = []  # list of increments\n",
    "    r.append(tol + 1)\n",
    "    k = 0  # iteration counter\n",
    "    while r[-1] > tol and k < nmax:\n",
    "        x.append(x[-1] - gamma * f(x[-1]) / df(x[-1]))\n",
    "        r.append(abs(x[-1] - x[-2]))\n",
    "        k = k + 1\n",
    "    return x, r, k"
   ]
  },
  {
   "cell_type": "markdown",
   "id": "5a7e83f6-a8f1-4751-90ef-240e47d2a2d4",
   "metadata": {
    "deletable": false,
    "editable": false,
    "nbgrader": {
     "cell_type": "markdown",
     "checksum": "454db610d2ed4c9662085730efced278",
     "grade": false,
     "grade_id": "cell-72eb17f4b1e31f3c",
     "locked": true,
     "schema_version": 3,
     "solution": false,
     "task": false
    }
   },
   "source": [
    "Further, we provide you with a Python function which, given the function $f$ on which the Newton iteration $x = [x^{(0)}, x^{(1)}, \\dots, x^{(k)}]$ has been computed, visualizes the iteration in a plot."
   ]
  },
  {
   "cell_type": "code",
   "execution_count": null,
   "id": "c69d522f-a5d0-49ce-acf3-84c654bb9628",
   "metadata": {
    "deletable": false,
    "editable": false,
    "nbgrader": {
     "cell_type": "code",
     "checksum": "b41df34531878c10fa0a4063df840d5f",
     "grade": false,
     "grade_id": "cell-1bc5eccac237e226",
     "locked": true,
     "schema_version": 3,
     "solution": false,
     "task": false
    }
   },
   "outputs": [],
   "source": [
    "def plot_iteration(f, x):\n",
    "    x = np.asarray(x)\n",
    "    a = np.min(x) - 1\n",
    "    b = np.max(x) + 1\n",
    "    x_lin = np.linspace(a, b, 100)\n",
    "    plt.plot(x_lin, f(x_lin), label=\"$f(x)$\")\n",
    "    plt.plot(x, f(x), marker=\"o\", label=\"iteration\")\n",
    "    plt.xlabel(r\"$x$\")\n",
    "    plt.legend()\n",
    "    plt.grid()\n",
    "    plt.show()"
   ]
  },
  {
   "cell_type": "markdown",
   "id": "d5940c47-8e8e-492d-b41f-902828468a53",
   "metadata": {
    "deletable": false,
    "editable": false,
    "nbgrader": {
     "cell_type": "markdown",
     "checksum": "c69c032865c62abf19e57e98e6c758ca",
     "grade": false,
     "grade_id": "cell-f234ba6ea321b52d",
     "locked": true,
     "schema_version": 3,
     "solution": false,
     "task": false
    }
   },
   "source": [
    "The plot shows the function $f$, as well as the iterates represented with the points $(x^{(k)}, f(x^{(k)})), k=0, 1, \\dots$ along the function $f$. These points are additionally connected with a line, to emphasize the order in which they were obtained by the algorithm."
   ]
  },
  {
   "cell_type": "markdown",
   "id": "2a4c2621-d9db-4830-8afe-64d47d8ae1df",
   "metadata": {
    "deletable": false,
    "editable": false,
    "nbgrader": {
     "cell_type": "markdown",
     "checksum": "8492e89c65c74cf7821d1bd224f79a99",
     "grade": false,
     "grade_id": "cell-7a0431dc2cc621b2",
     "locked": true,
     "schema_version": 3,
     "solution": false,
     "task": false
    }
   },
   "source": [
    "<div class=\"alert alert-success\">\n",
    "\n",
    "**Exercise 4:** For the function $f(x) = 1 - e^{-x^2}$, run the damped Newton's method from the starting point $x_0 = 1.5$ on a tolerance of $10^{-5}$ for at most $1000$ iterations. Play around with the values of the damping parameter $0 < \\gamma \\leq 1$, and observe what effect it has on the convergence. Can you find a damping $\\gamma$, for which the method converges in less iterations than the standard method ($\\gamma = 1$)?\n",
    "</div>"
   ]
  },
  {
   "cell_type": "code",
   "execution_count": null,
   "id": "7db171e2-3210-43cf-a205-c130a2719d8c",
   "metadata": {
    "deletable": false,
    "nbgrader": {
     "cell_type": "code",
     "checksum": "d13497c083f0b23fc51add90fd8e99ca",
     "grade": false,
     "grade_id": "cell-fd470f158b486d3f",
     "locked": false,
     "schema_version": 3,
     "solution": true,
     "task": false
    }
   },
   "outputs": [],
   "source": [
    "# YOUR CODE HERE\n",
    "raise NotImplementedError()"
   ]
  },
  {
   "cell_type": "markdown",
   "id": "522d4e6b-ec82-480a-9ab9-a0bab9a30b10",
   "metadata": {
    "deletable": false,
    "editable": false,
    "nbgrader": {
     "cell_type": "markdown",
     "checksum": "397b88dc3d00e445fda7c42125519752",
     "grade": false,
     "grade_id": "cell-21702acd622409d7",
     "locked": true,
     "schema_version": 3,
     "solution": false,
     "task": false
    }
   },
   "source": [
    "<hr style=\"clear:both\">\n",
    "\n",
    "### Simple polynomial interpolation"
   ]
  },
  {
   "cell_type": "markdown",
   "id": "2dc5174d-6514-4274-ae6c-36e2ce86f000",
   "metadata": {
    "deletable": false,
    "editable": false,
    "nbgrader": {
     "cell_type": "markdown",
     "checksum": "d17669d77db1eae286b16b2b120a8dc7",
     "grade": false,
     "grade_id": "cell-4cb2537f66cd892a",
     "locked": true,
     "schema_version": 3,
     "solution": false,
     "task": false
    }
   },
   "source": [
    "We have the following data\n",
    "\n",
    "\\begin{align*}\n",
    "x_1=0 \\quad  & y_1=12, \\\\\n",
    "x_2=1 \\quad  & y_2=18, \\\\\n",
    "x_3=2 \\quad  & y_3=6.\n",
    "\\end{align*}"
   ]
  },
  {
   "cell_type": "markdown",
   "id": "6687ccc7-f4f6-4595-a346-cc232f139ec0",
   "metadata": {
    "deletable": false,
    "editable": false,
    "nbgrader": {
     "cell_type": "markdown",
     "checksum": "da07180bfac1c059478be5f7fa53b427",
     "grade": false,
     "grade_id": "cell-eae9b3444545bcc0",
     "locked": true,
     "schema_version": 3,
     "solution": false,
     "task": false
    }
   },
   "source": [
    "<div class=\"alert alert-success\">\n",
    "\n",
    "**Exercise 5:** Find the second order polynomial interpolating the data by setting up and solving the linear system with the Vandermonde matrix.\n",
    "</div>"
   ]
  },
  {
   "cell_type": "code",
   "execution_count": null,
   "id": "5a279338-80cc-43df-8142-ce1966a9fdc1",
   "metadata": {
    "deletable": false,
    "nbgrader": {
     "cell_type": "code",
     "checksum": "12574dc41920017a8113ac108f322abd",
     "grade": false,
     "grade_id": "cell-9d483aa33a68eb6d",
     "locked": false,
     "schema_version": 3,
     "solution": true,
     "task": false
    }
   },
   "outputs": [],
   "source": [
    "# YOUR CODE HERE\n",
    "raise NotImplementedError()"
   ]
  },
  {
   "cell_type": "markdown",
   "id": "f122b4c7-4a5f-4238-be7d-d99b2fc31bcc",
   "metadata": {
    "deletable": false,
    "editable": false,
    "nbgrader": {
     "cell_type": "markdown",
     "checksum": "00e45cf44323f37591727696746b33bc",
     "grade": false,
     "grade_id": "cell-7e65398ebdd6886a",
     "locked": true,
     "schema_version": 3,
     "solution": false,
     "task": false
    }
   },
   "source": [
    "<div class=\"alert alert-success\">\n",
    "\n",
    "**Exercise 6:** Find the second order polynomial interpolating the data by using `np.polyfit`, evaluate the resulting polynomial at $100$ evenly spaced points in the interval $[-1, 3]$ by using `np.polyval`, and use them to visualize the polynomial on the same plot with the data.\n",
    "\n",
    "*Hint:* To plot individual data points, use `plt.scatter`. To find out more about a function's inputs and outputs, use `help(function_name)`.\n",
    "</div>"
   ]
  },
  {
   "cell_type": "code",
   "execution_count": null,
   "id": "f7d88dcf-b520-4edf-ae20-680ffb1a217c",
   "metadata": {
    "deletable": false,
    "nbgrader": {
     "cell_type": "code",
     "checksum": "7fdd5598d280efd9fb2facf7cf56ffe9",
     "grade": false,
     "grade_id": "cell-9b9bb5f23dec69e1",
     "locked": false,
     "schema_version": 3,
     "solution": true,
     "task": false
    }
   },
   "outputs": [],
   "source": [
    "# YOUR CODE HERE\n",
    "raise NotImplementedError()"
   ]
  },
  {
   "cell_type": "markdown",
   "id": "a0cc0a3a-54bc-41be-abf0-5f1276a610f0",
   "metadata": {
    "deletable": false,
    "editable": false,
    "nbgrader": {
     "cell_type": "markdown",
     "checksum": "c36d76a595392034ad5d7874f3ffd150",
     "grade": false,
     "grade_id": "cell-c76fe18176498d71",
     "locked": true,
     "points": 0,
     "schema_version": 3,
     "solution": false,
     "task": true
    }
   },
   "source": [
    "<div class=\"alert alert-success\">\n",
    "\n",
    "**Exercise 7 (Theoretical):** Find the three polynomials of the Lagrangian basis corresponding to the points $x_1=0, x_2=1$ and $x_3=2$.\n",
    "\n",
    "*Hint:* Use the formula given in Definition 2.2 of the lecture notes.\n",
    "</div>\n"
   ]
  },
  {
   "cell_type": "markdown",
   "id": "3786c850-1996-4a99-a81e-5b05ade12fdb",
   "metadata": {
    "deletable": false,
    "editable": false,
    "nbgrader": {
     "cell_type": "markdown",
     "checksum": "82e2ade895b2ee0053bce7bc00467a9c",
     "grade": false,
     "grade_id": "cell-947dc5151412a6ab",
     "locked": true,
     "points": 0,
     "schema_version": 3,
     "solution": false,
     "task": true
    }
   },
   "source": [
    "<div class=\"alert alert-success\">\n",
    "\n",
    "**Exercise 8 (Theoretical):** Using your result from Exercise 7, find the second order polynomial interpolating the data. Compare the resulting polynomial to what you've found in Exercise 5.\n",
    "</div>\n"
   ]
  },
  {
   "cell_type": "markdown",
   "id": "c0aa02af-bce4-4058-98b8-27eecf831322",
   "metadata": {
    "deletable": false,
    "editable": false,
    "nbgrader": {
     "cell_type": "markdown",
     "checksum": "df8248ef848a1226e6d2ca28f02a40ca",
     "grade": false,
     "grade_id": "cell-231501d536ca7f10",
     "locked": true,
     "schema_version": 3,
     "solution": false,
     "task": false
    }
   },
   "source": [
    "<hr style=\"clear:both\">\n",
    "\n",
    "### Interpolating functions at uniform and non-uniform nodes"
   ]
  },
  {
   "cell_type": "markdown",
   "id": "ef1c7316-e98c-4c06-9230-698768590eae",
   "metadata": {
    "deletable": false,
    "editable": false,
    "nbgrader": {
     "cell_type": "markdown",
     "checksum": "b8660dce48cbb04d738484f7fcde80be",
     "grade": false,
     "grade_id": "cell-cf07ec01b52c57c1",
     "locked": true,
     "schema_version": 3,
     "solution": false,
     "task": false
    }
   },
   "source": [
    "We are given the data $(x_i,y_i)$, $i=1,\\ldots,n+1$, where the $x_i$ are $n+1$ nodes in the interval $[a,b]=[-5,5]$ and\n",
    "the values $y_i$ come from evaluation of the function\n",
    "$$\n",
    "  g(x)= \\frac{1}{1+\\exp(4x)}\n",
    "$$\n",
    "without any measurement error, namely $y_i = g(x_i)$.  We want\n",
    "to apply polynomial interpolation to the function $g$ from the data $(x_i,y_i)$."
   ]
  },
  {
   "cell_type": "markdown",
   "id": "da944583-d2ca-4c35-bc13-326ce4bae710",
   "metadata": {
    "deletable": false,
    "editable": false,
    "nbgrader": {
     "cell_type": "markdown",
     "checksum": "bc72bad2224986de8f038c5103f34fe6",
     "grade": false,
     "grade_id": "cell-3713f2f8c72dc60b",
     "locked": true,
     "schema_version": 3,
     "solution": false,
     "task": false
    }
   },
   "source": [
    "<div class=\"alert alert-success\">\n",
    "\n",
    "**Exercise 9:** For degrees $n=6$ and $n=14$, compute the polynomial $p_n$ interpolating the data $(x_i,y_i)$, $i=1,...,n+1$ with uniformly spaced nodes\n",
    "\n",
    "\\begin{equation*}\n",
    "    x_i = a + \\frac{i - 1}{n} (b - a), ~i=1,...,n+1.\n",
    "\\end{equation*}\n",
    "\n",
    "Visualize the function and the interpolating polynomial at $100$ evenly spaced points in the interval $[-5, 5]$.\n",
    "</div>"
   ]
  },
  {
   "cell_type": "code",
   "execution_count": null,
   "id": "11cef6c7-70d1-43b0-b1eb-557df6d46705",
   "metadata": {
    "deletable": false,
    "nbgrader": {
     "cell_type": "code",
     "checksum": "747c91c587db41b2b15bdc02cc0444b6",
     "grade": false,
     "grade_id": "cell-7ef3e42056d8af80",
     "locked": false,
     "schema_version": 3,
     "solution": true,
     "task": false
    }
   },
   "outputs": [],
   "source": [
    "# YOUR CODE HERE\n",
    "raise NotImplementedError()"
   ]
  },
  {
   "cell_type": "markdown",
   "id": "1b9919e8-49cb-4d38-9363-616cc7fb311c",
   "metadata": {
    "deletable": false,
    "editable": false,
    "nbgrader": {
     "cell_type": "markdown",
     "checksum": "6e5ce74bb50773f73eadd524764d221f",
     "grade": false,
     "grade_id": "cell-cea090203d5bd4f8",
     "locked": true,
     "schema_version": 3,
     "solution": false,
     "task": false
    }
   },
   "source": [
    "<div class=\"alert alert-success\">\n",
    "\n",
    "**Exercise 10:** Repeat Exercise 9 for Clenshaw-Curtis nodes, i.e. nodes which are given by\n",
    "\n",
    "\\begin{equation*}\n",
    "    x_i = \\frac{a + b}{2} - \\frac{b - a}{2} \\cos\\left( \\frac{\\pi(i - 1)}{n} \\right),  ~i=1,...,n+1.\n",
    "\\end{equation*}\n",
    "\n",
    "Compare the result to Exercise 10. Explain the difference using what you've learned in the lecture.\n",
    "\n",
    "</div>"
   ]
  },
  {
   "cell_type": "code",
   "execution_count": null,
   "id": "93e937f9-10d8-4a34-b8c5-93f5e31c2ef7",
   "metadata": {
    "deletable": false,
    "nbgrader": {
     "cell_type": "code",
     "checksum": "20749bd64c358b0ac9df63d07495aed8",
     "grade": false,
     "grade_id": "cell-72d8d1630a517dcb",
     "locked": false,
     "schema_version": 3,
     "solution": true,
     "task": false
    }
   },
   "outputs": [],
   "source": [
    "# YOUR CODE HERE\n",
    "raise NotImplementedError()"
   ]
  },
  {
   "cell_type": "markdown",
   "id": "7957cbe9-a44e-460f-8b49-338b088138fb",
   "metadata": {
    "deletable": false,
    "editable": false,
    "nbgrader": {
     "cell_type": "markdown",
     "checksum": "7334e88234e71a4882d0973bd12e19f8",
     "grade": false,
     "grade_id": "cell-0daf4c474bf8a9b1",
     "locked": true,
     "schema_version": 3,
     "solution": false,
     "task": false
    }
   },
   "source": [
    "<hr style=\"clear:both\">\n",
    "\n",
    "## The end\n",
    "\n",
    "Amazing! You have reached the end of the fourth exercise notebook. "
   ]
  }
 ],
 "metadata": {
  "kernelspec": {
   "display_name": "Python 3 (ipykernel)",
   "language": "python",
   "name": "python3"
  },
  "language_info": {
   "codemirror_mode": {
    "name": "ipython",
    "version": 3
   },
   "file_extension": ".py",
   "mimetype": "text/x-python",
   "name": "python",
   "nbconvert_exporter": "python",
   "pygments_lexer": "ipython3",
   "version": "3.12.3"
  }
 },
 "nbformat": 4,
 "nbformat_minor": 5
}
