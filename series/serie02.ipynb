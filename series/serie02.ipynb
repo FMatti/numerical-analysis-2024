{
 "cells": [
  {
   "cell_type": "markdown",
   "id": "56889fcd-f08a-4475-9928-af817748f5c8",
   "metadata": {
    "deletable": false,
    "editable": false,
    "nbgrader": {
     "cell_type": "markdown",
     "checksum": "eb1362ca0784c2e337ab5e086049b888",
     "grade": false,
     "grade_id": "cell-5e2b58ff19f0997c",
     "locked": true,
     "schema_version": 3,
     "solution": false,
     "task": false
    }
   },
   "source": [
    "## Numerical Analysis - Fall semester 2024\n",
    "# Serie 02 - Introduction to non-linear equations"
   ]
  },
  {
   "cell_type": "markdown",
   "id": "e59533b3-b808-4126-b177-3390877b24ad",
   "metadata": {
    "deletable": false,
    "editable": false,
    "nbgrader": {
     "cell_type": "markdown",
     "checksum": "10edd7f8d5f42ef44d458651f4e462e8",
     "grade": false,
     "grade_id": "cell-e56f5ef08590e711",
     "locked": true,
     "schema_version": 3,
     "solution": false,
     "task": false
    }
   },
   "source": [
    "First, we will need to import some of the usual packages. You will have to run this cell every time you restart your notebook."
   ]
  },
  {
   "cell_type": "code",
   "execution_count": null,
   "id": "5afb622e-c357-4a77-9356-e75ad0400743",
   "metadata": {
    "deletable": false,
    "editable": false,
    "nbgrader": {
     "cell_type": "code",
     "checksum": "7126e1e1f52974565916527c367bddb9",
     "grade": false,
     "grade_id": "cell-44ae0a875bc8bfaa",
     "locked": true,
     "schema_version": 3,
     "solution": false,
     "task": false
    }
   },
   "outputs": [],
   "source": [
    "import numpy as np\n",
    "import matplotlib.pyplot as plt\n",
    "import matplotlib"
   ]
  },
  {
   "cell_type": "markdown",
   "id": "b99d4b77-d885-4f3f-bb25-9869b8b547cd",
   "metadata": {
    "deletable": false,
    "editable": false,
    "nbgrader": {
     "cell_type": "markdown",
     "checksum": "bc1b4351642790530b8f9f0109e093cb",
     "grade": false,
     "grade_id": "cell-b106366fbd018302",
     "locked": true,
     "schema_version": 3,
     "solution": false,
     "task": false
    }
   },
   "source": [
    "<hr style=\"clear:both\">\n",
    "\n",
    "### Bisection method for a problem in statics"
   ]
  },
  {
   "cell_type": "markdown",
   "id": "bf93b82c-7aa8-4371-970d-f30f8e66abdd",
   "metadata": {
    "deletable": false,
    "editable": false,
    "nbgrader": {
     "cell_type": "markdown",
     "checksum": "0d570b193f5c62330bcf15ea61531b95",
     "grade": false,
     "grade_id": "cell-5085771c0d7d0f54",
     "locked": true,
     "schema_version": 3,
     "solution": false,
     "task": false
    }
   },
   "source": [
    "A certain planar mechanical system consists of four rigid rods of length $a_1$, $a_2$, $a_3$, and $a_4$ linked together. The configuration in which this rods are in with respect to each other is uniquely determined by the angles between the first and second rod, denoted with $\\theta$, and the first and fourth rod, denoted with $\\omega$. We provide you with a function which visualizes such a configuration. Run the below two cells to see the result."
   ]
  },
  {
   "cell_type": "code",
   "execution_count": null,
   "id": "eddc6a97-93ef-407c-b9ad-1897f5fc437a",
   "metadata": {
    "deletable": false,
    "editable": false,
    "nbgrader": {
     "cell_type": "code",
     "checksum": "0cbbc2d7c02e3eac709c34cac4895324",
     "grade": false,
     "grade_id": "cell-c936918b2618e06a",
     "locked": true,
     "schema_version": 3,
     "solution": false,
     "task": false
    }
   },
   "outputs": [],
   "source": [
    "def plot_configuration(theta, omega, a1, a2, a3, a4):\n",
    "    fig, ax = plt.subplots()\n",
    "    ax.axis(\"equal\")\n",
    "    ax.axis(\"off\")\n",
    "    ax.plot([- a1 / 3, 4 * a1 / 3], [0, 0], linewidth=4, linestyle=\"--\", color=\"black\")\n",
    "    ax.plot([0, np.cos(theta) * a2, a1 + np.cos(omega) * a3, a1, 0], [0, np.sin(theta) * a2, np.sin(omega) * a3, 0, 0], linewidth=7, marker=\"o\", markersize=15, color=\"black\")\n",
    "    ax.text(a1 / 2, 0, \"$a_1$\", fontsize=20, horizontalalignment=\"center\", verticalalignment=\"center\", bbox=dict(facecolor='white', edgecolor='white', boxstyle='round,pad=0.1'))\n",
    "    ax.text(np.cos(theta) * a2 / 2, np.sin(theta) * a2 / 2, \"$a_2$\", fontsize=20, horizontalalignment=\"center\", verticalalignment=\"center\", bbox=dict(facecolor='white', edgecolor='white', boxstyle='round,pad=0.1'))\n",
    "    ax.text(a1 + np.cos(omega) * a3 / 2, np.sin(omega) * a3 / 2, \"$a_3$\", fontsize=20, horizontalalignment=\"center\", verticalalignment=\"center\", bbox=dict(facecolor='white', edgecolor='white', boxstyle='round,pad=0.1'))\n",
    "    ax.text((np.cos(theta) * a2 + a1 + np.cos(omega) * a3) / 2, (np.sin(theta) * a2 + np.sin(omega) * a3) / 2, \"$a_4$\", fontsize=20, horizontalalignment=\"center\", verticalalignment=\"center\", bbox=dict(facecolor='white', edgecolor='white', boxstyle='round,pad=0.1'))\n",
    "    ax.add_patch(matplotlib.patches.Arc((a1, 0), a1 / 3, a1 / 3, theta1=0, theta2=omega * 180 / np.pi, linewidth=4))\n",
    "    ax.text(6 * a1 / 5, 0, r\"$\\omega$\", fontsize=20, horizontalalignment=\"left\", verticalalignment=\"bottom\")\n",
    "    ax.add_patch(matplotlib.patches.Arc((0, 0), a1 / 3, a1 / 3, theta1=0, theta2=theta * 180 / np.pi, linewidth=4))\n",
    "    ax.text(a1 / 5, 0, r\"$\\theta$\", fontsize=20, horizontalalignment=\"left\", verticalalignment=\"bottom\")\n",
    "    plt.show()"
   ]
  },
  {
   "cell_type": "code",
   "execution_count": null,
   "id": "94795009-4bc0-46c0-8928-22931183a205",
   "metadata": {},
   "outputs": [],
   "source": [
    "theta = np.pi / 4\n",
    "omega = np.pi / 2\n",
    "a1 = 1\n",
    "a2 = 1\n",
    "a3 = 1 / np.sqrt(2)\n",
    "a4 = 1 - 1 / np.sqrt(2)\n",
    "plot_configuration(theta, omega, a1, a2, a3, a4)"
   ]
  },
  {
   "cell_type": "markdown",
   "id": "0ed7a75c-9699-40ef-9335-526ca0f14c37",
   "metadata": {
    "deletable": false,
    "editable": false,
    "nbgrader": {
     "cell_type": "markdown",
     "checksum": "ed5fa77a83fe5a057932d62f6e809e5f",
     "grade": false,
     "grade_id": "cell-91918afab664d118",
     "locked": true,
     "schema_version": 3,
     "solution": false,
     "task": false
    }
   },
   "source": [
    "Given the lengths of the rods $a_1$, $a_2$, $a_3$, $a_4$, and the angle $\\omega$, we would like to find out what value the angle $\\theta$ takes. In the lecture you have seen that every valid configuration satisfies the non-linear equation: \n",
    "\n",
    "$$\n",
    "\\frac{a_1}{a_2} \\cos(\\omega) - \\frac{a_1}{a_4} \\cos(\\theta) - \\cos(\\omega - \\theta) + \\frac{a_1^2 + a_2^2 - a_3^2 + a_4^2}{2 a_2 a_4} = 0\n",
    "$$"
   ]
  },
  {
   "cell_type": "markdown",
   "id": "12e6945b-10cf-444a-8e3b-3368ad2da950",
   "metadata": {
    "deletable": false,
    "editable": false,
    "nbgrader": {
     "cell_type": "markdown",
     "checksum": "02304b92fbc22c76cbac1517791868a2",
     "grade": false,
     "grade_id": "cell-72cca06cba72ce38",
     "locked": true,
     "schema_version": 3,
     "solution": false,
     "task": false
    }
   },
   "source": [
    "<div class=\"alert alert-success\">\n",
    "    \n",
    "**Exercise 1:** Complete the function `constraint`, which returns the value of the left-hand side of the above equation for given $\\theta$, $\\omega$, $a_1$, $a_2$, $a_3$, and $a_4$.\n",
    "\n",
    "*Hint*: You can use `np.cos` to compute the cosine of a number.\n",
    "</div>\n"
   ]
  },
  {
   "cell_type": "code",
   "execution_count": null,
   "id": "85f9ee3c-d682-4de5-8717-92f76fc5d2b4",
   "metadata": {
    "deletable": false,
    "nbgrader": {
     "cell_type": "code",
     "checksum": "2fc261105c65d532865b9d9d069c0b84",
     "grade": false,
     "grade_id": "cell-a1549b554aabd0df",
     "locked": false,
     "schema_version": 3,
     "solution": true,
     "task": false
    }
   },
   "outputs": [],
   "source": [
    "def constraint(theta, omega, a1, a2, a3, a4):\n",
    "    \"\"\" constraint function \"\"\"\n",
    "\n",
    "    # YOUR CODE HERE\n",
    "    raise NotImplementedError()"
   ]
  },
  {
   "cell_type": "code",
   "execution_count": null,
   "id": "3dad473f-9e35-49c0-ad7b-838da9d1005d",
   "metadata": {
    "deletable": false,
    "editable": false,
    "nbgrader": {
     "cell_type": "code",
     "checksum": "68793232d9d3dcc7957e7a82546a0a90",
     "grade": false,
     "grade_id": "cell-3b0338d318d428aa",
     "locked": true,
     "schema_version": 3,
     "solution": false,
     "task": false
    }
   },
   "outputs": [],
   "source": [
    "assert not (constraint(np.pi / 2, np.pi / 2, 1, 1, 1, 1) is None), f\"the function 'constraint' returned nothing, make sure to 'return' your result\"; assert (C := constraint(np.pi / 2, np.pi / 2, 1, 1, 1, 1)) == 0.0, f\"'constraint(np.pi / 2, np.pi / 2, 1, 1, 1, 1)' should return 0 but got {C}\"; assert (C := constraint(np.pi / 2, np.pi / 2, 1, 1, 1, 1)) == 0.0, f\"'constraint(np.pi / 4, np.pi / 4, 1, 1, 1, 1)' should return 0 but got {C}\"; assert (C := constraint(np.pi / 2, 0, 2, 1, 1, 1)) == 4.5, f\"'constraint(np.pi / 2, 0, 1, 1, 1, 1)' should return 4.5 but got {C}\"; print(\"Great job! Your implementation passes our checks.\")"
   ]
  },
  {
   "cell_type": "markdown",
   "id": "f4ae4eaa-8c25-4640-9382-63d94fbfdcc7",
   "metadata": {
    "deletable": false,
    "editable": false,
    "nbgrader": {
     "cell_type": "markdown",
     "checksum": "7a5be7bb60d2ae710033221813a99b34",
     "grade": false,
     "grade_id": "cell-d66bbc1091619ca0",
     "locked": true,
     "schema_version": 3,
     "solution": false,
     "task": false
    }
   },
   "source": [
    "As you have seen during the lecture, this non-linear equation cannot be solved analytically. Hence, we will need to solve this nonlinear equation analytically."
   ]
  },
  {
   "cell_type": "markdown",
   "id": "50651ef3-55db-40d3-8eb3-f8c9bb5c6e1f",
   "metadata": {
    "deletable": false,
    "editable": false,
    "nbgrader": {
     "cell_type": "markdown",
     "checksum": "d49d18750484bf2714fd89bfdad40594",
     "grade": false,
     "grade_id": "cell-be8dabbf96f6a8e4",
     "locked": true,
     "schema_version": 3,
     "solution": false,
     "task": false
    }
   },
   "source": [
    "<div class=\"alert alert-success\">\n",
    "    \n",
    "**Exercise 2:** In the below cell, complete the `bisection` function which takes as input a function $f:\\mathbb{R} \\to \\mathbb{R}$, the startpoint `a` and endpoint `b` of the search-interval $[a, b]$, and a tolerance `tol`, and uses the bisection method (Algorithm 1.2 in the lecture notes) to output the location of a zero `alpha` and the number of iterations `niter`.\n",
    "\n",
    "*Hint*: Additionally to Algorithm 1.2, our implementation also checks in every iteration if any of $f(a)$, $f(b)$, or $f(x^{(k)})$ are zero, in which case the root has already been found!\n",
    "</div>\n"
   ]
  },
  {
   "cell_type": "code",
   "execution_count": null,
   "id": "7bfdfed4-01be-490c-8b46-f0d4e6cb523d",
   "metadata": {
    "deletable": false,
    "nbgrader": {
     "cell_type": "code",
     "checksum": "a39d22a76ccf5225818e285729f088df",
     "grade": false,
     "grade_id": "cell-8c4f56d698407194",
     "locked": false,
     "schema_version": 3,
     "solution": true,
     "task": false
    }
   },
   "outputs": [],
   "source": [
    "def bisection(f, a, b, tol):\n",
    "    \"\"\" bisection method with stopping criterion \"\"\"\n",
    "\n",
    "    alpha = a  # approximate root\n",
    "    k_min = int(np.ceil(np.log2((b - a) / tol) - 1))  # compute number of iterations needed\n",
    "    x_k = (a + b) / 2\n",
    "    for k in range(k_min):\n",
    "        if f(x_k) == 0:\n",
    "            return x_k, k\n",
    "        elif f(a) == 0:\n",
    "            return a, k\n",
    "        elif f(b) == 0:\n",
    "            return b, k\n",
    "        \n",
    "        # YOUR CODE HERE\n",
    "        raise NotImplementedError()\n",
    "\n",
    "    alpha = x_k\n",
    "    niter = k + 1\n",
    "    \n",
    "    return alpha, niter"
   ]
  },
  {
   "cell_type": "code",
   "execution_count": null,
   "id": "0f00b6bc-9b8c-4cc2-9567-7019acc00a27",
   "metadata": {
    "deletable": false,
    "editable": false,
    "nbgrader": {
     "cell_type": "code",
     "checksum": "850ba6738546b263a179a661a872997e",
     "grade": false,
     "grade_id": "cell-ff847361f31cadb6",
     "locked": true,
     "schema_version": 3,
     "solution": false,
     "task": false
    }
   },
   "outputs": [],
   "source": [
    "assert not (bisection(lambda x: x, -np.pi, 1, 0.1) is None), f\"the function 'bisection' returned nothing, make sure to 'return' your result\"; assert isinstance(bisection(lambda x: x, -np.pi, 1, 1e-10), tuple), f\"'bisection' should return 2 items, but only got 1\"; assert np.isclose(B := bisection(lambda x: x, -1e-10, 1, 1e-10)[0], 0), f\"'bisection(f, -1e-10, 1, 1e-10)' for 'f(x) = x' should return 'alpha = 0', but got {B}\"; assert np.isclose(B := bisection(lambda x: x, -1, 1e-10, 1e-10)[0], 0), f\"'bisection(f, -1, 1e-10, 1e-10)' for 'f(x) = x' should return 'alpha = 0', but got {B}\"; assert (B := bisection(lambda x: x, -1e-10, 1, 0.5)[1]) == 1, f\"'bisection(f, -1e-10, 1, 0.5)' for 'f(x) = x' should return 'niter = 1', but got {B}\"; print(\"Great job! It seems like your function works correctly.\")"
   ]
  },
  {
   "cell_type": "markdown",
   "id": "d427ed2c-ee23-4622-9b5b-d5f021e2072e",
   "metadata": {
    "deletable": false,
    "editable": false,
    "nbgrader": {
     "cell_type": "markdown",
     "checksum": "1b6c857de9e88812caa6a21db4e601fd",
     "grade": false,
     "grade_id": "cell-2de6bc98f5eeca46",
     "locked": true,
     "schema_version": 3,
     "solution": false,
     "task": false
    }
   },
   "source": [
    "Now, we would like to see how our method works in practice. We take a simple configuration where all rods are of length $1$ and $\\omega = \\pi / 4$. We will use the bisection method to look for a valid $\\theta \\in [0, \\pi]$ and plot the result below."
   ]
  },
  {
   "cell_type": "code",
   "execution_count": null,
   "id": "92cf7d3a-e128-476a-beb1-1f9c9c3202a3",
   "metadata": {
    "deletable": false,
    "editable": false,
    "nbgrader": {
     "cell_type": "code",
     "checksum": "c77d8ed80cac498361aac6f0ee53044a",
     "grade": false,
     "grade_id": "cell-0fa083ff54b68cc5",
     "locked": true,
     "schema_version": 3,
     "solution": false,
     "task": false
    }
   },
   "outputs": [],
   "source": [
    "a1 = 1\n",
    "a2 = 1\n",
    "a3 = 1\n",
    "a4 = 1\n",
    "omega = np.pi / 4\n",
    "\n",
    "target = lambda theta: constraint(theta, omega, a1, a2, a3, a4)\n",
    "theta, _ = bisection(target, 0, np.pi, 1e-10)\n",
    "print(f\"found valid configuration with angle theta = {theta}\")\n",
    "plot_configuration(theta, omega, a1, a2, a3, a4)"
   ]
  },
  {
   "cell_type": "markdown",
   "id": "f7a40107-9476-47a1-9693-52129af3a01d",
   "metadata": {
    "deletable": false,
    "editable": false,
    "nbgrader": {
     "cell_type": "markdown",
     "checksum": "723d70c91cd8338af7c7a989f46227ed",
     "grade": false,
     "grade_id": "cell-2dc462c53842052a",
     "locked": true,
     "schema_version": 3,
     "solution": false,
     "task": false
    }
   },
   "source": [
    "Of course $\\theta = 0$ is a valid configuration, where the first and second, and the third and fourth rod overlap. However, if we suppose the rods cannot overlap, then we will need to exclude $\\theta = 0$ from our search interval. We will do this by slightly shrinking the interval to $[10^{-10}, \\pi]$."
   ]
  },
  {
   "cell_type": "code",
   "execution_count": null,
   "id": "98f5ba7f-27b5-487c-935c-5c1300b7fa6d",
   "metadata": {
    "deletable": false,
    "editable": false,
    "nbgrader": {
     "cell_type": "code",
     "checksum": "bb4671d2187d80d5617c11206509076c",
     "grade": false,
     "grade_id": "cell-ba0f56fcdce721e5",
     "locked": true,
     "schema_version": 3,
     "solution": false,
     "task": false
    }
   },
   "outputs": [],
   "source": [
    "a1 = 1\n",
    "a2 = 1\n",
    "a3 = 1\n",
    "a4 = 1\n",
    "omega = np.pi / 4\n",
    "\n",
    "target = lambda theta: constraint(theta, omega, a1, a2, a3, a4)\n",
    "theta, _ = bisection(target, 1e-10, np.pi, 1e-10)\n",
    "print(f\"found valid configuration with angle theta = {theta}\")\n",
    "plot_configuration(theta, omega, a1, a2, a3, a4)"
   ]
  },
  {
   "cell_type": "markdown",
   "id": "02cbe3c7-5263-41f7-8618-e9992345f31f",
   "metadata": {},
   "source": [
    "And now a bit more interesting configuration. The angle $\\omega$ is now larger than $\\pi / 2$, while all rods are of length $1$, except for the first one which is half that lenght. Feel free to play around with the parameters a bit with this example. Be aware, that many combinations of parameters will be invalid, in which case often $\\theta = \\pi$ is returned."
   ]
  },
  {
   "cell_type": "code",
   "execution_count": null,
   "id": "4ee7afe3-a70b-485a-82a8-1e2929c8267d",
   "metadata": {},
   "outputs": [],
   "source": [
    "a1 = 0.5\n",
    "a2 = 1\n",
    "a3 = 1\n",
    "a4 = 1\n",
    "omega = 0.75 * np.pi\n",
    "\n",
    "target = lambda theta: constraint(theta, omega, a1, a2, a3, a4)\n",
    "theta, _ = bisection(target, 0, np.pi, 1e-10)\n",
    "print(f\"found valid configuration with angle theta = {theta}\")\n",
    "plot_configuration(theta, omega, a1, a2, a3, a4)"
   ]
  },
  {
   "cell_type": "markdown",
   "id": "45e0d957-7833-45fd-81c2-0b13608ec0eb",
   "metadata": {
    "deletable": false,
    "editable": false,
    "nbgrader": {
     "cell_type": "markdown",
     "checksum": "5cd1397a963f380fb0daeb4a01e5e060",
     "grade": false,
     "grade_id": "cell-59a71f058e303216",
     "locked": true,
     "schema_version": 3,
     "solution": false,
     "task": false
    }
   },
   "source": [
    "Only few configurations of parametrs are valid. For example, when the length of one rod is larger than the sum of the lengths of the other rods. Then we can see that the `constraint` function will never be zero. We can already see this by plotting it as a function of $\\theta$."
   ]
  },
  {
   "cell_type": "code",
   "execution_count": null,
   "id": "bb02cdbf-c3fc-411e-81cd-e2b275ee63d8",
   "metadata": {
    "deletable": false,
    "editable": false,
    "nbgrader": {
     "cell_type": "code",
     "checksum": "797d1a0d7da6046e575d5211ad1be239",
     "grade": false,
     "grade_id": "cell-988f67240ece3380",
     "locked": true,
     "schema_version": 3,
     "solution": false,
     "task": false
    }
   },
   "outputs": [],
   "source": [
    "a1 = 1\n",
    "a2 = 1\n",
    "a3 = 1\n",
    "a4 = 4\n",
    "omega = np.pi / 4\n",
    "x_lin = np.linspace(0, np.pi)\n",
    "target = lambda theta: constraint(theta, omega, a1, a2, a3, a4)\n",
    "plt.plot(x_lin, target(x_lin))\n",
    "plt.xlabel(r\"$\\theta$\")\n",
    "plt.ylabel(\"constraint function\")\n",
    "plt.grid()\n",
    "plt.show()"
   ]
  },
  {
   "cell_type": "markdown",
   "id": "9b3efe3b-9a7b-4f48-aa42-e30368dd888f",
   "metadata": {
    "deletable": false,
    "editable": false,
    "nbgrader": {
     "cell_type": "markdown",
     "checksum": "fc6dad8f669e3caec5950160d758b84b",
     "grade": false,
     "grade_id": "cell-adfac4827e98458b",
     "locked": true,
     "schema_version": 3,
     "solution": false,
     "task": false
    }
   },
   "source": [
    "<hr style=\"clear:both\">\n",
    "\n",
    "### Behavior of bisection method"
   ]
  },
  {
   "cell_type": "markdown",
   "id": "eb1e2306-412f-40dd-b16f-dfc806ec2f04",
   "metadata": {
    "deletable": false,
    "editable": false,
    "nbgrader": {
     "cell_type": "markdown",
     "checksum": "83e034a9f34df48c2831ecfa1754db57",
     "grade": false,
     "grade_id": "cell-07d49fd48a3fae6d",
     "locked": true,
     "schema_version": 3,
     "solution": false,
     "task": false
    }
   },
   "source": [
    "We are interested in the roots of the function\n",
    "\n",
    "$$f(x) = \\frac{x}{2} - \\sin(x) + \\frac{\\pi}{6} - \\frac{\\sqrt{3}}{2}.$$\n"
   ]
  },
  {
   "cell_type": "markdown",
   "id": "a0c363bb-137f-4074-b8f4-391270375880",
   "metadata": {
    "deletable": false,
    "editable": false,
    "nbgrader": {
     "cell_type": "markdown",
     "checksum": "e0f38f831e2b8b7d7b2c0214aaea814b",
     "grade": false,
     "grade_id": "cell-f7b201a564cb398d",
     "locked": true,
     "schema_version": 3,
     "solution": false,
     "task": false
    }
   },
   "source": [
    "<div class=\"alert alert-success\">\n",
    "    \n",
    "**Exercise 3:** Define a Python function `f` which returns $f(x)$ for a given real number $x$ and use it to plot the graph of the function $f(x)$ at $100$ uniformly spaced points in the interval $[-\\pi/2,\\pi]$. \n",
    "</div>\n"
   ]
  },
  {
   "cell_type": "code",
   "execution_count": null,
   "id": "da845ffb-7b31-4475-8a15-b19bbd1cc0a7",
   "metadata": {
    "deletable": false,
    "nbgrader": {
     "cell_type": "code",
     "checksum": "1d33d1b85ffec94112efd3c53cd7695f",
     "grade": false,
     "grade_id": "cell-73d936e60a178d4b",
     "locked": false,
     "schema_version": 3,
     "solution": true,
     "task": false
    }
   },
   "outputs": [],
   "source": [
    "def f(x):\n",
    "    # YOUR CODE HERE\n",
    "    raise NotImplementedError()\n",
    "    \n",
    "# YOUR CODE HERE\n",
    "raise NotImplementedError()"
   ]
  },
  {
   "cell_type": "markdown",
   "id": "45cbc9bf-d3a9-4583-8a8a-4d260f55ca0d",
   "metadata": {
    "deletable": false,
    "editable": false,
    "nbgrader": {
     "cell_type": "markdown",
     "checksum": "15884a09411cc9fa9fb3cd2f02f3d758",
     "grade": false,
     "grade_id": "cell-03b08a8e04a09c21",
     "locked": true,
     "points": 0,
     "schema_version": 3,
     "solution": false,
     "task": true
    }
   },
   "source": [
    "<div class=\"alert alert-success\">\n",
    "\n",
    "**Exercise 4:** How many roots does the function $f$ have? For which roots can we apply the bisection method? Why?\n",
    "</div>\n"
   ]
  },
  {
   "cell_type": "markdown",
   "id": "00caaa5e-e4df-44bf-b6cf-1f798d7c6825",
   "metadata": {
    "deletable": false,
    "editable": false,
    "nbgrader": {
     "cell_type": "markdown",
     "checksum": "9fa50a625145a849004277eddd70d1cc",
     "grade": false,
     "grade_id": "cell-8eb0ccc01de72fee",
     "locked": true,
     "points": 0,
     "schema_version": 3,
     "solution": false,
     "task": true
    }
   },
   "source": [
    "<div class=\"alert alert-success\">\n",
    "    \n",
    "**Exercise 5:** Estimate the minimal number of iterations the bisection method needs to compute the root within the interval $[\\pi/2, \\pi]$ with a tolerance of $10^{-10}$.\n",
    "</div>\n"
   ]
  },
  {
   "cell_type": "markdown",
   "id": "9008eb8f-fb48-40a9-b571-3761c7187d70",
   "metadata": {
    "deletable": false,
    "editable": false,
    "nbgrader": {
     "cell_type": "markdown",
     "checksum": "361ad6f35a01994a8f4bc8bbcac14d45",
     "grade": false,
     "grade_id": "cell-a600e45d689867a8",
     "locked": true,
     "schema_version": 3,
     "solution": false,
     "task": false
    }
   },
   "source": [
    "<div class=\"alert alert-success\">\n",
    "    \n",
    "**Exercise 6:** Check your answer to Exercise 5 by using your implementation of the function `bisection` from Exercise 2 and verify that the found solution satisfies the tolerance $10^{-10}$. \n",
    "    \n",
    "*Hint:* You may use that $x_{\\mathrm{true}}=2.246005589297974$ is a good approximation to the true root.\n",
    "</div>\n"
   ]
  },
  {
   "cell_type": "code",
   "execution_count": null,
   "id": "dce54d6e-00ba-45e5-a57c-5d3a786fb68e",
   "metadata": {
    "deletable": false,
    "nbgrader": {
     "cell_type": "code",
     "checksum": "20661569096b6688b8f7893f2ec4bb22",
     "grade": false,
     "grade_id": "cell-44ae6aac7f8b0c75",
     "locked": false,
     "schema_version": 3,
     "solution": true,
     "task": false
    }
   },
   "outputs": [],
   "source": [
    "x_true = 2.246005589297974\n",
    "\n",
    "# YOUR CODE HERE\n",
    "raise NotImplementedError()"
   ]
  },
  {
   "cell_type": "markdown",
   "id": "0aa75505-a770-4131-98a1-809c659e521b",
   "metadata": {
    "deletable": false,
    "editable": false,
    "nbgrader": {
     "cell_type": "markdown",
     "checksum": "20871369e34903ca238e60207d2c19c9",
     "grade": false,
     "grade_id": "cell-02fc1f88d5beaba2",
     "locked": true,
     "schema_version": 3,
     "solution": false,
     "task": false
    }
   },
   "source": [
    "<hr style=\"clear:both\">\n",
    "\n",
    "### Convergence of bisection method\n",
    "\n",
    "Let us consider the function represented in the figure which appears when you run the cell below."
   ]
  },
  {
   "cell_type": "code",
   "execution_count": null,
   "id": "42e6facc-4928-4b2c-bc11-f0238f6b9200",
   "metadata": {
    "deletable": false,
    "editable": false,
    "nbgrader": {
     "cell_type": "code",
     "checksum": "b4a36921354fd0ced2972e010f4f6573",
     "grade": false,
     "grade_id": "cell-830c563a25d5bbad",
     "locked": true,
     "schema_version": 3,
     "solution": false,
     "task": false
    }
   },
   "outputs": [],
   "source": [
    "x_lin = np.linspace(-2, 2, 100)\n",
    "f = lambda x: 1/3 - x/3 - x**2/3 + x**3/3\n",
    "plt.plot(x_lin, f(x_lin))\n",
    "plt.scatter([-1, 1], [0, 0], s=50, color=\"black\")\n",
    "plt.text(-1, 0, r\"$\\alpha$\", fontsize=20, horizontalalignment=\"right\", verticalalignment=\"bottom\")\n",
    "plt.text(1, 0, r\"$\\beta$\", fontsize=20, horizontalalignment=\"left\", verticalalignment=\"top\")\n",
    "plt.grid()\n",
    "plt.show()"
   ]
  },
  {
   "cell_type": "markdown",
   "id": "4ca5380a-9145-43f5-b68a-7af5640959dd",
   "metadata": {
    "deletable": false,
    "editable": false,
    "nbgrader": {
     "cell_type": "markdown",
     "checksum": "d5cc67bdcda2d9bb1aea7b317bb112fc",
     "grade": false,
     "grade_id": "cell-840787d820d0fc38",
     "locked": true,
     "points": 0,
     "schema_version": 3,
     "solution": false,
     "task": true
    }
   },
   "source": [
    "<div class=\"alert alert-success\">\n",
    "    \n",
    "**Exercise 7:** If we use the bisection method to find one of the roots of the function using $[-2, 2]$ as the initial interval and $10^{-5}$ as the tolerance, to which root does the method converge and in how many iterations? [Choose one answer]\n",
    "\n",
    "1. The method converges to $\\alpha$ in at most $18$ iterations.\n",
    "2. The method converges to $\\beta$ in at most $18$ iterations.\n",
    "3. The method converges to $\\alpha$ in at most $10$ iterations. \n",
    "4. The method converges to $\\beta$ in at most $10$ iterations. \n",
    "5. It is not possible to tell to which root the method will converge, but we will need at most $18$ iterations.\n",
    "</div>\n"
   ]
  },
  {
   "cell_type": "markdown",
   "id": "76fa299b-8e86-447b-ab29-a30f37789e11",
   "metadata": {
    "deletable": false,
    "editable": false,
    "nbgrader": {
     "cell_type": "markdown",
     "checksum": "dd516e2947021794e604d79003073988",
     "grade": false,
     "grade_id": "cell-f74ee3a42e711e8b",
     "locked": true,
     "schema_version": 3,
     "solution": false,
     "task": false
    }
   },
   "source": [
    "<hr style=\"clear:both\">\n",
    "\n",
    "### Analysis of population growth with fixed point method"
   ]
  },
  {
   "cell_type": "markdown",
   "id": "2a4daed1-cc91-4a40-bf0d-7d6863587cba",
   "metadata": {
    "deletable": false,
    "editable": false,
    "nbgrader": {
     "cell_type": "markdown",
     "checksum": "b85ba2c3ad51cba1cc5bf4be7f4430c4",
     "grade": false,
     "grade_id": "cell-27726e2075218803",
     "locked": true,
     "schema_version": 3,
     "solution": false,
     "task": false
    }
   },
   "source": [
    "We consider a population of size $x^{(k)}$ over mulltiple generations $k = 1, 2, \\dots$. The growth of this population is modelled by a function $\\phi : \\mathbb{N} \\to \\mathbb{N}$, which, for the $k$-th generation's population size $x^{(k)}$, predicts the $(k+1)$-th population size $x^{(k+1)}$. We consider three models for this\n",
    "\n",
    "- Malthus: $\\phi_1(x) = 2x$\n",
    "- Verhulst: $\\phi_2(x) = 2x / (1 + x)$\n",
    "- Prey-predator: $\\phi_3(x) = 2x^2 / (1 + x^2)$"
   ]
  },
  {
   "cell_type": "markdown",
   "id": "6a6de1d2-e071-42dd-8d17-1db02e5b4e8c",
   "metadata": {
    "deletable": false,
    "editable": false,
    "nbgrader": {
     "cell_type": "markdown",
     "checksum": "fb5738738e49d44495448155f06431de",
     "grade": false,
     "grade_id": "cell-f70548b95c5cc172",
     "locked": true,
     "schema_version": 3,
     "solution": false,
     "task": false
    }
   },
   "source": [
    "<div class=\"alert alert-success\">\n",
    "    \n",
    "**Exercise 8:** Define Python functions corresponding to each of the above population growth models.\n",
    "</div>\n"
   ]
  },
  {
   "cell_type": "code",
   "execution_count": null,
   "id": "620fc165-7be7-4400-9d71-5c1209ff4a1e",
   "metadata": {
    "deletable": false,
    "nbgrader": {
     "cell_type": "code",
     "checksum": "5ae7d88577d87eb9fea275f7d088c11d",
     "grade": false,
     "grade_id": "cell-5ea5dc4affa4be05",
     "locked": false,
     "schema_version": 3,
     "solution": true,
     "task": false
    }
   },
   "outputs": [],
   "source": [
    "def phi_1(x):\n",
    "    \"\"\" Malthus population growth model \"\"\"\n",
    "\n",
    "    # YOUR CODE HERE\n",
    "    raise NotImplementedError()\n",
    "\n",
    "def phi_2(x):\n",
    "    \"\"\" Verhulst population growth model \"\"\"\n",
    "\n",
    "    # YOUR CODE HERE\n",
    "    raise NotImplementedError()\n",
    "\n",
    "def phi_3(x):\n",
    "    \"\"\" Prey-predator population growth model \"\"\"\n",
    "\n",
    "    # YOUR CODE HERE\n",
    "    raise NotImplementedError()"
   ]
  },
  {
   "cell_type": "markdown",
   "id": "974dbe51-5985-4b18-9a1f-93d570d50baf",
   "metadata": {
    "deletable": false,
    "editable": false,
    "nbgrader": {
     "cell_type": "markdown",
     "checksum": "a3bb9ed85ab1e45dffb016dae6e7ab57",
     "grade": false,
     "grade_id": "cell-f43ca07b2fc808dd",
     "locked": true,
     "schema_version": 3,
     "solution": false,
     "task": false
    }
   },
   "source": [
    "<div class=\"alert alert-success\">\n",
    "    \n",
    "**Exercise 9:** Visualize each of these models by plotting the function on 100 uniformly spaced points in the interval $I=[0, 2]$, and try to identify visually the fixed-points $\\alpha = \\phi(\\alpha)$ of these models by adding the line $y = x$ to them.\n",
    "</div>\n"
   ]
  },
  {
   "cell_type": "code",
   "execution_count": null,
   "id": "ca1e2dcf-0821-4050-a007-3bacb3c07791",
   "metadata": {
    "deletable": false,
    "nbgrader": {
     "cell_type": "code",
     "checksum": "04fcc4e92f01ee48ad325eec90f0f78f",
     "grade": false,
     "grade_id": "cell-7bc80c52add97856",
     "locked": false,
     "schema_version": 3,
     "solution": true,
     "task": false
    }
   },
   "outputs": [],
   "source": [
    "# YOUR CODE HERE\n",
    "raise NotImplementedError()"
   ]
  },
  {
   "cell_type": "markdown",
   "id": "05156cb5-3367-48c0-8eb8-c95ec79f7277",
   "metadata": {
    "deletable": false,
    "editable": false,
    "nbgrader": {
     "cell_type": "markdown",
     "checksum": "a41ee13ec71a83444f7fda297538edcf",
     "grade": false,
     "grade_id": "cell-e356e3b65bd591ae",
     "locked": true,
     "schema_version": 3,
     "solution": false,
     "task": false
    }
   },
   "source": [
    "Below, we provide you with an implementation of the fixed-point method (Algorithm 1.4 in the lecture notes)."
   ]
  },
  {
   "cell_type": "code",
   "execution_count": null,
   "id": "9d1d51ce-f70f-4811-a06f-2f053df55a4c",
   "metadata": {
    "deletable": false,
    "editable": false,
    "nbgrader": {
     "cell_type": "code",
     "checksum": "ada9cdba0366ce64dd4552981167064b",
     "grade": false,
     "grade_id": "cell-825744a8ac47ce13",
     "locked": true,
     "schema_version": 3,
     "solution": false,
     "task": false
    }
   },
   "outputs": [],
   "source": [
    "def fixed_point(phi, x0, tol, nmax):\n",
    "    \"\"\"\n",
    "    Fixed point iterations.\n",
    "\n",
    "    Parameters\n",
    "    ----------\n",
    "    phi : callable\n",
    "        The function representing the fixed point iteration.\n",
    "    x0 : float\n",
    "        The initial guess for the fixed point.\n",
    "    tol : float\n",
    "        The desired tolerance for the fixed point.\n",
    "    nmax : int\n",
    "        The maximum number of iterations.\n",
    "\n",
    "    Returns\n",
    "    -------\n",
    "    x_seq : array-like\n",
    "        The successive values of the fixed point iterations.\n",
    "    res : array-like\n",
    "        The value of the residual at each iteration.\n",
    "    niter : int\n",
    "        The number of iterations performed.\n",
    "    \"\"\"\n",
    "\n",
    "    niter = 0\n",
    "    x_seq = []\n",
    "    x_seq.append(x0)\n",
    "\n",
    "    xt = phi(x0)\n",
    "    res = []\n",
    "    res.append(x0 - xt)  # this measures ``how much x0 is far from the fixed point''\n",
    "\n",
    "    while (abs(res[-1]) > tol) and (niter < nmax):\n",
    "        niter = niter + 1\n",
    "        x_seq.append(xt)\n",
    "        x0 = xt\n",
    "        xt = phi(xt)\n",
    "        res.append(abs(x0 - xt))\n",
    "\n",
    "    if niter >= nmax:\n",
    "        print(\n",
    "            [\n",
    "                \"fixedPoint stopped without converging to the desired\\n \"\n",
    "                \"tolerance because the maximum number of iterations was reached\\n\"\n",
    "            ]\n",
    "        )\n",
    "\n",
    "    # convert from list to array\n",
    "    x_seq = np.array(x_seq)\n",
    "    res = np.array(res)\n",
    "\n",
    "    return x_seq, res, niter"
   ]
  },
  {
   "cell_type": "markdown",
   "id": "cabba29d-f844-4ad8-a472-b36704ec8703",
   "metadata": {
    "deletable": false,
    "editable": false,
    "nbgrader": {
     "cell_type": "markdown",
     "checksum": "1fd93f484d3bbc4a8942fea324b09f6a",
     "grade": false,
     "grade_id": "cell-b122cdc60c7cdefc",
     "locked": true,
     "schema_version": 3,
     "solution": false,
     "task": false
    }
   },
   "source": [
    "<div class=\"alert alert-success\">\n",
    "    \n",
    "**Exercise 10:** Let us write as $e^{(k)}=\\vert x^{(k)}-\\alpha \\vert$ the error at the $k^{\\text{th}}$ iteration and $r^{(k)}=\\vert x^{(k)}-\\phi_i(x^{(k)})\\vert$ the residual. For the models $\\phi_2$ and $\\phi_3$, plot $e^{(k)}$ and $r^{(k)}$ in terms of $k$ for the fixed-point $\\alpha=1$ in a semi-logarithmic graph (use the command `plt.semilogy`). Use the function `fixed_point` with an initial value $x^{(0)} = 2$, a tolerance of $10^{-6}$, and at most $2000$ iterations.\n",
    "</div>\n"
   ]
  },
  {
   "cell_type": "code",
   "execution_count": null,
   "id": "46141d28-75f5-4018-9f35-aff8bb48f23d",
   "metadata": {
    "deletable": false,
    "nbgrader": {
     "cell_type": "code",
     "checksum": "b5a01bee8d26342b5e8cb7ad0a00cf40",
     "grade": false,
     "grade_id": "cell-ffa091f6169c39a0",
     "locked": false,
     "schema_version": 3,
     "solution": true,
     "task": false
    }
   },
   "outputs": [],
   "source": [
    "# YOUR CODE HERE\n",
    "raise NotImplementedError()"
   ]
  },
  {
   "cell_type": "markdown",
   "id": "ce049880-1aa8-4745-9f0e-8a5e1b618d5f",
   "metadata": {
    "deletable": false,
    "editable": false,
    "nbgrader": {
     "cell_type": "markdown",
     "checksum": "ef26c4e1806be174498466381fd1368f",
     "grade": false,
     "grade_id": "cell-ebf688c39e4eb98d",
     "locked": true,
     "points": 0,
     "schema_version": 3,
     "solution": false,
     "task": true
    }
   },
   "source": [
    "<div class=\"alert alert-success\">\n",
    "    \n",
    "**Exercise 11:** Compute the derivative $\\phi_2'$ of $\\phi_2$ and evaluate it at $1$. Use your result to justify the progression of the error in your plot from Exercise 10.\n",
    "\n",
    "*Hint:* Make use of Theorem 1.1 from the lecture notes.\n",
    "</div>\n"
   ]
  },
  {
   "cell_type": "markdown",
   "id": "2443aa45-0fca-4113-995c-70e9adc40d89",
   "metadata": {
    "deletable": false,
    "editable": false,
    "nbgrader": {
     "cell_type": "markdown",
     "checksum": "2e425cfa3984543087415153e5d55508",
     "grade": false,
     "grade_id": "cell-a26fae9678ff662c",
     "locked": true,
     "schema_version": 3,
     "solution": false,
     "task": false
    }
   },
   "source": [
    "<hr style=\"clear:both\">\n",
    "\n",
    "## The end\n",
    "\n",
    "Congratulations! You have made it to the end of the second exercise notebook. "
   ]
  }
 ],
 "metadata": {
  "kernelspec": {
   "display_name": "Python 3 (ipykernel)",
   "language": "python",
   "name": "python3"
  },
  "language_info": {
   "codemirror_mode": {
    "name": "ipython",
    "version": 3
   },
   "file_extension": ".py",
   "mimetype": "text/x-python",
   "name": "python",
   "nbconvert_exporter": "python",
   "pygments_lexer": "ipython3",
   "version": "3.12.3"
  }
 },
 "nbformat": 4,
 "nbformat_minor": 5
}
