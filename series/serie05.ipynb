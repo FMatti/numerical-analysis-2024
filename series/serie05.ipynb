{
 "cells": [
  {
   "cell_type": "markdown",
   "id": "607db280-5534-4ac2-b8f5-494115b7bb2d",
   "metadata": {
    "deletable": false,
    "editable": false,
    "nbgrader": {
     "cell_type": "markdown",
     "checksum": "63e83440c251523cf997ebbc40daca7d",
     "grade": false,
     "grade_id": "cell-3074ca9d587b261b",
     "locked": true,
     "schema_version": 3,
     "solution": false,
     "task": false
    }
   },
   "source": [
    "## Numerical Analysis - Fall semester 2024\n",
    "\n",
    "# Serie 05 - Interpolation, splines, and least squares fitting"
   ]
  },
  {
   "cell_type": "markdown",
   "id": "8dc36f9f-0db6-4661-87f7-ba417ef31b7b",
   "metadata": {
    "deletable": false,
    "editable": false,
    "nbgrader": {
     "cell_type": "markdown",
     "checksum": "2544b6e246d75df6c9708a6a6884803b",
     "grade": false,
     "grade_id": "cell-d6f037ad7ba1046e",
     "locked": true,
     "schema_version": 3,
     "solution": false,
     "task": false
    }
   },
   "source": [
    "Import of the NumPy and matplotlib packages. This week, we will also need the SciPy package, an extension of the NumPy package for some more advanced scientific computations."
   ]
  },
  {
   "cell_type": "code",
   "execution_count": null,
   "id": "7c5059a7-4c17-4900-8cc6-9cad51a76567",
   "metadata": {
    "deletable": false,
    "editable": false,
    "nbgrader": {
     "cell_type": "code",
     "checksum": "c421cd6444adfd593791bcaa50c264d3",
     "grade": false,
     "grade_id": "cell-6bbe893666203fcf",
     "locked": true,
     "schema_version": 3,
     "solution": false,
     "task": false
    }
   },
   "outputs": [],
   "source": [
    "import matplotlib.pyplot as plt\n",
    "import numpy as np\n",
    "import scipy as sp"
   ]
  },
  {
   "cell_type": "markdown",
   "id": "65f205b3-1f43-4ebb-9160-f7d8f91b1c83",
   "metadata": {
    "deletable": false,
    "editable": false,
    "nbgrader": {
     "cell_type": "markdown",
     "checksum": "a13314ca03598ce3e3e2f910bc1fa4c9",
     "grade": false,
     "grade_id": "cell-e472d53ea302d3d2",
     "locked": true,
     "schema_version": 3,
     "solution": false,
     "task": false
    }
   },
   "source": [
    "<hr style=\"clear:both\">\n",
    "\n",
    "### Stability of interpolants"
   ]
  },
  {
   "cell_type": "markdown",
   "id": "f779e38c-9dd7-44fc-b7fa-f1953d5e75e8",
   "metadata": {
    "deletable": false,
    "editable": false,
    "nbgrader": {
     "cell_type": "markdown",
     "checksum": "cc47d1e63c88eb553dac8710a2dd2c59",
     "grade": false,
     "grade_id": "cell-2d5317eb3634ec5f",
     "locked": true,
     "schema_version": 3,
     "solution": false,
     "task": false
    }
   },
   "source": [
    "We are going to study the stability of the Lagrange's interpolation polynomial on equally distributed nodes, on Clenshaw-Curtis's nodes and the piecewise linear interpolation polynomial. We consider the function\n",
    "\n",
    "$$\n",
    "f(x) = \\sin(x) + x,\n",
    "$$\n",
    "\n",
    "which we interpolate in the interval $[0,10]$ at $n+1$ nodes $x_i$, $i=1,...,n+1$. We consider two sets of data $(x_i,y_i)$ where $y_i=f(x_i)$ and\n",
    "$(x_i,z_i)$ where and $z_i$ is a perturbation of $y_i$ given by $z_i=y_i+\\varepsilon_i$ with $\\varepsilon_i$ a uniform random variable in $(-0.1,0.1)$. Such a perturbation can, for example, be present due to measurement errors. Once the nodes $x$, the function $f$, and the degree $n$ are defined, you may use the below function to generate the data."
   ]
  },
  {
   "cell_type": "code",
   "execution_count": null,
   "id": "4de2c997-3aac-43a5-b160-8e7ddf8f6eea",
   "metadata": {
    "deletable": false,
    "editable": false,
    "nbgrader": {
     "cell_type": "code",
     "checksum": "d4248d1f132dcd60f576b9e184f559b1",
     "grade": false,
     "grade_id": "cell-855b20bbc9caac97",
     "locked": true,
     "schema_version": 3,
     "solution": false,
     "task": false
    }
   },
   "outputs": [],
   "source": [
    "def get_data(x, f, n, seed=None):\n",
    "    y = f(x)\n",
    "    np.random.seed(seed)\n",
    "    e = np.random.uniform(low=-0.1, high=0.1, size=n+1)\n",
    "    z = y + e\n",
    "    return y, z"
   ]
  },
  {
   "cell_type": "markdown",
   "id": "b00061ab-2017-41da-943a-10fd152c6d33",
   "metadata": {
    "deletable": false,
    "editable": false,
    "nbgrader": {
     "cell_type": "markdown",
     "checksum": "ce43348f026902488204ec058b81b134",
     "grade": false,
     "grade_id": "cell-cbcd707b02819035",
     "locked": true,
     "schema_version": 3,
     "solution": false,
     "task": false
    }
   },
   "source": [
    "<div class=\"alert alert-warning\">\n",
    "    \n",
    "**Warning:** Due to the random perturbation, the data will change very time you call this function. To avoid this from happening, you fix set a seed (any integer of your choice, often `0`) by passing it as the last argument of the `get_data` function, e.g. `get_data(..., seed=0)`.\n",
    "</div>"
   ]
  },
  {
   "cell_type": "markdown",
   "id": "b04c0674-69db-495f-a9e7-cbdb11fd3218",
   "metadata": {
    "deletable": false,
    "editable": false,
    "nbgrader": {
     "cell_type": "markdown",
     "checksum": "3ff08da08a752524f0b4d0ea8562344a",
     "grade": false,
     "grade_id": "cell-99862b65877276ba",
     "locked": true,
     "schema_version": 3,
     "solution": false,
     "task": false
    }
   },
   "source": [
    "<div class=\"alert alert-success\">\n",
    "    \n",
    "**Exercise 1:** Use $n+1$ uniformly distributed nodes to compute the degree $n$ least-squares polynomial obtained for the two data sets. Plot the polynomials along with the function $f$ by evaluating each of them at $100$ uniformly spaced points on the interval $[0, 10]$. Do this once for $n=4$ and once for $n=15$. What can we observe?\n",
    "\n",
    "*Hint:* Make use the `np.polyfit` and `np.polyval` functions, as you have learned in last week's notebook.\n",
    "\n",
    "</div>"
   ]
  },
  {
   "cell_type": "code",
   "execution_count": null,
   "id": "655735bc-d1d1-4570-96b7-df00c1c480bd",
   "metadata": {
    "deletable": false,
    "nbgrader": {
     "cell_type": "code",
     "checksum": "9aaeb7ab7ee5eb4ffb6868ef504092b3",
     "grade": false,
     "grade_id": "cell-a6b0b732755135b0",
     "locked": false,
     "schema_version": 3,
     "solution": true,
     "task": false
    }
   },
   "outputs": [],
   "source": [
    "# YOUR CODE HERE\n",
    "raise NotImplementedError()"
   ]
  },
  {
   "cell_type": "markdown",
   "id": "798fc647-a91a-4bac-abc4-d06d9d897e91",
   "metadata": {
    "deletable": false,
    "editable": false,
    "nbgrader": {
     "cell_type": "markdown",
     "checksum": "01082103456b41eea326d282030a1fc6",
     "grade": false,
     "grade_id": "cell-ae83e7bcd2fc4596",
     "locked": true,
     "schema_version": 3,
     "solution": false,
     "task": false
    }
   },
   "source": [
    "<div class=\"alert alert-success\">\n",
    "    \n",
    "**Exercise 2:** Repeat Exercise 1, but instead of uniformly spaced nodes, use the Clenshaw-Curtis nodes. What can you observe?\n",
    "\n",
    "*Hint:* You can copy all of your code from Exercise 1. The only thing you will need to change is the definition of the nodes.\n",
    "</div>"
   ]
  },
  {
   "cell_type": "code",
   "execution_count": null,
   "id": "6b631522-5c04-4f7b-98d9-bbf9490c5d4b",
   "metadata": {
    "deletable": false,
    "nbgrader": {
     "cell_type": "code",
     "checksum": "905ed7af8860bef39aa9102d6ce8c756",
     "grade": false,
     "grade_id": "cell-b97399de7c0f7bd7",
     "locked": false,
     "schema_version": 3,
     "solution": true,
     "task": false
    }
   },
   "outputs": [],
   "source": [
    "# YOUR CODE HERE\n",
    "raise NotImplementedError()"
   ]
  },
  {
   "cell_type": "markdown",
   "id": "b6ce2f79-464d-42cf-ba03-799a9750a6bf",
   "metadata": {
    "deletable": false,
    "editable": false,
    "nbgrader": {
     "cell_type": "markdown",
     "checksum": "348ab9989309d1e30dfcb73ca165959e",
     "grade": false,
     "grade_id": "cell-806a111ed1908155",
     "locked": true,
     "schema_version": 3,
     "solution": false,
     "task": false
    }
   },
   "source": [
    "<div class=\"alert alert-success\">\n",
    "    \n",
    "**Exercise 3:** Repeat Exercise 1, but instead of the least-squares use a piecewise linear interpolant. Comment on the result.\n",
    "\n",
    "*Hint:* You can reuse most of the code from Exercise 1. The function `np.interp(x_eval, x, y)` which takes as input a list `x_eval` of points and some data `x`,`y` evaluates the piecewise linear interpolant of the data in the points `x_eval`.\n",
    "</div>"
   ]
  },
  {
   "cell_type": "code",
   "execution_count": null,
   "id": "77576736-13fa-457d-80b9-7de161e62e9f",
   "metadata": {
    "deletable": false,
    "nbgrader": {
     "cell_type": "code",
     "checksum": "5ce963a2b790da51480ff789038c34d9",
     "grade": false,
     "grade_id": "cell-69d8a23c1300c5f5",
     "locked": false,
     "schema_version": 3,
     "solution": true,
     "task": false
    }
   },
   "outputs": [],
   "source": [
    "# YOUR CODE HERE\n",
    "raise NotImplementedError()"
   ]
  },
  {
   "cell_type": "markdown",
   "id": "c1a0f1d7-a043-4803-8b15-578a9f700366",
   "metadata": {
    "deletable": false,
    "editable": false,
    "nbgrader": {
     "cell_type": "markdown",
     "checksum": "3e6e7d48fdcb481d9f4f63288d5b079d",
     "grade": false,
     "grade_id": "cell-8cc7f4e29978a25b",
     "locked": true,
     "schema_version": 3,
     "solution": false,
     "task": false
    }
   },
   "source": [
    "<hr style=\"clear:both\">\n",
    "\n",
    "### Interpolation with cubic splines"
   ]
  },
  {
   "cell_type": "markdown",
   "id": "8f897c88-464c-4687-b967-7a03c4b0b9bb",
   "metadata": {
    "deletable": false,
    "editable": false,
    "nbgrader": {
     "cell_type": "markdown",
     "checksum": "45d3e9b850df42e37d7ae9271c9a135c",
     "grade": false,
     "grade_id": "cell-09a88f08fb9c51f5",
     "locked": true,
     "schema_version": 3,
     "solution": false,
     "task": false
    }
   },
   "source": [
    "We consider the functions\n",
    "\n",
    "$$\n",
    "g_1(x) = \\sin(5 x)\n",
    "$$\n",
    "\n",
    "and \n",
    "\n",
    "$$\n",
    "g_2(x) = x |x|\n",
    "$$\n",
    "\n",
    "on the interval $[-1, 1]$."
   ]
  },
  {
   "cell_type": "markdown",
   "id": "5b8faa9c-cadc-4116-9b8b-b475f5a4271d",
   "metadata": {
    "deletable": false,
    "editable": false,
    "nbgrader": {
     "cell_type": "markdown",
     "checksum": "8547e18c3589f79f1f8266a2e8d69f9c",
     "grade": false,
     "grade_id": "cell-0f2cd23f39a9e29c",
     "locked": true,
     "points": 0,
     "schema_version": 3,
     "solution": false,
     "task": true
    }
   },
   "source": [
    "<div class=\"alert alert-success\">\n",
    "    \n",
    "**Exercise 4 (Theoretical):** Based on the results you have seen in the lecture, what order of convergence $p$ can we expect a cubic spline to have when interpolating the functions $g_1$ and $g_2$ on equidistant nodes?\n",
    "</div>\n"
   ]
  },
  {
   "cell_type": "markdown",
   "id": "2f636cd2-65b8-44ca-b4da-d7c142ebb5a1",
   "metadata": {
    "deletable": false,
    "editable": false,
    "nbgrader": {
     "cell_type": "markdown",
     "checksum": "82642a0018f8b44acbab2399bdbe1580",
     "grade": false,
     "grade_id": "cell-227a5ecccdbaacf4",
     "locked": true,
     "schema_version": 3,
     "solution": false,
     "task": false
    }
   },
   "source": [
    "<div class=\"alert alert-success\">\n",
    "    \n",
    "**Exercise 5:** Use cubic splines to interpolate the functions $g_1$ and $g_2$ at $n + 1$ equidistant nodes for $n = 2^k$ and $k = 4, 5, \\dots, 8$ in the interval $[-1, 1]$. For every $h = 2 / n$, approximate the maximum absolute error\n",
    "\n",
    "$$\n",
    "E_{3, h} = \\max_{x \\in [-1, 1]} |g(x) - s_{3, h}(x)|\n",
    "$$\n",
    "\n",
    "by evaluating the spline and the function in $100$ equally spaced points within the interval $[-1, 1]$ and computing the maximum absolute distance attained in these points. Plot $E_{3, h}$ against all $h$ for both functions in a log-log plot (use `plt.loglog` for this). Determine the order of convergence to each of the functions by adding the lines $(h, h^p)$ for some $p=1, 2, \\dots$ to your plot. Are your results in accordance with Exercise 4?\n",
    "\n",
    "*Hint:* The SciPy function `spline = sp.interpolate.CubicSpline(x, y)` interpolates some data `x` and `y` with a cubic spline, and returns a a function `spline`, which can be called to evaluate the spline at some points. \n",
    "</div>"
   ]
  },
  {
   "cell_type": "code",
   "execution_count": null,
   "id": "edbd25cc-aa39-4d33-9bf2-27d36eb9319a",
   "metadata": {
    "deletable": false,
    "nbgrader": {
     "cell_type": "code",
     "checksum": "22bd9a5b1931c4557dbc0d912d8e2d8f",
     "grade": false,
     "grade_id": "cell-16828d478bb8ef2c",
     "locked": false,
     "schema_version": 3,
     "solution": true,
     "task": false
    }
   },
   "outputs": [],
   "source": [
    "# YOUR CODE HERE\n",
    "raise NotImplementedError()"
   ]
  },
  {
   "cell_type": "markdown",
   "id": "1ae98b76-c116-41e6-ad5e-d95e7cf6d04e",
   "metadata": {
    "deletable": false,
    "editable": false,
    "nbgrader": {
     "cell_type": "markdown",
     "checksum": "b4385622810b4b10e3d9cdf58c4186cf",
     "grade": false,
     "grade_id": "cell-30fc4f46fd194a6d",
     "locked": true,
     "schema_version": 3,
     "solution": false,
     "task": false
    }
   },
   "source": [
    "<hr style=\"clear:both\">\n",
    "\n",
    "### Least squares fitting"
   ]
  },
  {
   "cell_type": "markdown",
   "id": "3979adfe-892a-49cb-895c-0cd10792af41",
   "metadata": {
    "deletable": false,
    "editable": false,
    "nbgrader": {
     "cell_type": "markdown",
     "checksum": "3a80923ea049dff8cdd974c330876455",
     "grade": false,
     "grade_id": "cell-469b041ade29a41c",
     "locked": true,
     "schema_version": 3,
     "solution": false,
     "task": false
    }
   },
   "source": [
    "Let us consider the function\n",
    "\n",
    "$$  h(x) = \\frac{1}{2+x}, \\quad x\\in [-1, 1], $$\n",
    "\n",
    "and the points $x_1=-1$, $x_2=0$ et $x_3 =1$. The polynomial $p(x) = a_0 + a_1 x$ which minimizes the function\n",
    "\n",
    "$$\n",
    "\\Phi(a_0, a_1) = \\sum_{i=1}^3 [h(x_i) - p(x_i)]^2= \\sum_{i=1}^3 [h(x_i) - a_0 - a_1 x_i]^2\n",
    "$$\n",
    "\n",
    "is the polynomial of least squares error of degree 1, also referred to as the regression line."
   ]
  },
  {
   "cell_type": "markdown",
   "id": "ed77b02c-dc31-4413-a701-47a9c594bae8",
   "metadata": {
    "deletable": false,
    "editable": false,
    "nbgrader": {
     "cell_type": "markdown",
     "checksum": "8a614a717af9ba7f113a7ea4e7d857eb",
     "grade": false,
     "grade_id": "cell-f460765126d18da7",
     "locked": true,
     "points": 0,
     "schema_version": 3,
     "solution": false,
     "task": true
    }
   },
   "source": [
    "<div class=\"alert alert-success\">\n",
    "    \n",
    "**Exercise 6 (Theoretical):** Write and solve the system of equations to compute the coefficients $a_0$ and $a_1$ of the least squares polynomial $p(x) = a_0 + a_1 x$ for the data points $(x_i,h(x_i))$, $i=1,2,3$.\n",
    "</div>\n"
   ]
  },
  {
   "cell_type": "markdown",
   "id": "8627fddd-31de-4d70-8aa9-cd6d89d918dd",
   "metadata": {
    "deletable": false,
    "editable": false,
    "nbgrader": {
     "cell_type": "markdown",
     "checksum": "8792b76a596a39c535d86a1831bbcf14",
     "grade": false,
     "grade_id": "cell-6abd888c1463b7e3",
     "locked": true,
     "schema_version": 3,
     "solution": false,
     "task": false
    }
   },
   "source": [
    "<div class=\"alert alert-success\">\n",
    "    \n",
    "**Exercise 7:** Visualize the function $h$ and the least squares polynomial $p$ you have found in Exercise 6 by plotting their values at $100$ uniformly spaced points on the interval $[-1, 1]$.\n",
    "</div>"
   ]
  },
  {
   "cell_type": "code",
   "execution_count": null,
   "id": "151ab738-e2f5-49cd-95cd-1cc567fed365",
   "metadata": {
    "deletable": false,
    "nbgrader": {
     "cell_type": "code",
     "checksum": "e684fc9a01af66cc02be2a137f0baccd",
     "grade": false,
     "grade_id": "cell-6cfcc832e82f1cdd",
     "locked": false,
     "schema_version": 3,
     "solution": true,
     "task": false
    }
   },
   "outputs": [],
   "source": [
    "# YOUR CODE HERE\n",
    "raise NotImplementedError()"
   ]
  },
  {
   "cell_type": "markdown",
   "id": "4b89eea9-ec64-4d32-8633-ecced602ab45",
   "metadata": {
    "deletable": false,
    "editable": false,
    "nbgrader": {
     "cell_type": "markdown",
     "checksum": "c03bf99ddd56993494d561275e14fadc",
     "grade": false,
     "grade_id": "cell-5b39b5b957674ceb",
     "locked": true,
     "schema_version": 3,
     "solution": false,
     "task": false
    }
   },
   "source": [
    "<hr style=\"clear:both\">\n",
    "\n",
    "## The end\n",
    "\n",
    "Splendid! You have reached the end of the fifth exercise notebook. Almost halfway :)"
   ]
  }
 ],
 "metadata": {
  "kernelspec": {
   "display_name": "Python 3 (ipykernel)",
   "language": "python",
   "name": "python3"
  },
  "language_info": {
   "codemirror_mode": {
    "name": "ipython",
    "version": 3
   },
   "file_extension": ".py",
   "mimetype": "text/x-python",
   "name": "python",
   "nbconvert_exporter": "python",
   "pygments_lexer": "ipython3",
   "version": "3.12.3"
  }
 },
 "nbformat": 4,
 "nbformat_minor": 5
}
