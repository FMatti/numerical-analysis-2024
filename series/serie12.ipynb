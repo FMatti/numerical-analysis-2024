{
 "cells": [
  {
   "cell_type": "markdown",
   "id": "e1a0bb71-700d-4e21-86a3-930eee0281cb",
   "metadata": {
    "deletable": false,
    "editable": false,
    "nbgrader": {
     "cell_type": "markdown",
     "checksum": "2dcd74786418f8c2fb0e07d3213e14b3",
     "grade": false,
     "grade_id": "cell-28441f8c23ab4432",
     "locked": true,
     "schema_version": 3,
     "solution": false,
     "task": false
    }
   },
   "source": [
    "## Numerical Analysis - Fall semester 2024\n",
    "\n",
    "# Serie 12 - ODEs and systems of ODEs"
   ]
  },
  {
   "cell_type": "markdown",
   "id": "e020f49f-bd6d-41a1-8674-87247f8eee2c",
   "metadata": {
    "deletable": false,
    "editable": false,
    "nbgrader": {
     "cell_type": "markdown",
     "checksum": "df1c6c0fc16aec28f518aaf9a8e9e6af",
     "grade": false,
     "grade_id": "cell-3388c118d81a6f26",
     "locked": true,
     "schema_version": 3,
     "solution": false,
     "task": false
    }
   },
   "source": [
    "First importing some packages."
   ]
  },
  {
   "cell_type": "code",
   "execution_count": null,
   "id": "efc34603-5697-4902-b667-986160860eda",
   "metadata": {
    "deletable": false,
    "editable": false,
    "nbgrader": {
     "cell_type": "code",
     "checksum": "1dd78a8e73e76be61a72af9b55a4522f",
     "grade": false,
     "grade_id": "cell-d0f551aafe5546d2",
     "locked": true,
     "schema_version": 3,
     "solution": false,
     "task": false
    }
   },
   "outputs": [],
   "source": [
    "import matplotlib.pyplot as plt\n",
    "import matplotlib as mpl\n",
    "import numpy as np\n",
    "import scipy as sp"
   ]
  },
  {
   "cell_type": "markdown",
   "id": "e861b4af-8e7d-4fd3-9821-b4005db312c2",
   "metadata": {
    "deletable": false,
    "editable": false,
    "nbgrader": {
     "cell_type": "markdown",
     "checksum": "a94f8ae020ed1e98b3e95b03d15d2913",
     "grade": false,
     "grade_id": "cell-cb849792569fd4a5",
     "locked": true,
     "schema_version": 3,
     "solution": false,
     "task": false
    }
   },
   "source": [
    "<hr style=\"clear:both\">\n",
    "\n",
    "### Stability of system of ODEs"
   ]
  },
  {
   "cell_type": "markdown",
   "id": "07af31e0-b26b-4172-9a07-63675e91a4c8",
   "metadata": {
    "deletable": false,
    "editable": false,
    "nbgrader": {
     "cell_type": "markdown",
     "checksum": "a5541175ede54774941d3c09d9746a6b",
     "grade": false,
     "grade_id": "cell-ff90fd8a2761a8c1",
     "locked": true,
     "schema_version": 3,
     "solution": false,
     "task": false
    }
   },
   "source": [
    "We consider a system of ordinary differential equations of the form\n",
    "\n",
    "$$\n",
    "\\begin{cases}\n",
    "  \\frac{\\mathrm{d}\\mathbf{u}(t)}{\\mathrm{d}t} = \\mathbf{f}(t, \\mathbf{u}(t)), & t \\in (0, T],  \\\\\n",
    "  \\mathbf{u}(0)=\\mathbf{u}_0,\n",
    "\\end{cases}\n",
    "$$\n",
    "\n",
    "where $\\mathbf{u}(t) \\in \\mathbb{R}^m$ is a vector and $\\mathbf{f}: \\mathbb{R}^m \\to \\mathbb{R}^m$ a vector-valued function. We want to approximate $\\mathbf{u}(t_n)$ at the discrete time-steps $t_n = n\\Delta t$, $n = 0, 1, 2, \\ldots,N$, where $\\Delta t = T/N$ is the step size and $N$ the number of time-steps."
   ]
  },
  {
   "cell_type": "markdown",
   "id": "8b55bb49-6ed1-42f7-ba1c-b07a8535f796",
   "metadata": {
    "deletable": false,
    "editable": false,
    "nbgrader": {
     "cell_type": "markdown",
     "checksum": "c18355ae0cb6e487e910523e689dddb3",
     "grade": false,
     "grade_id": "cell-762ceb3167a23709",
     "locked": true,
     "schema_version": 3,
     "solution": false,
     "task": false
    }
   },
   "source": [
    "<div class=\"alert alert-success\">\n",
    "    \n",
    "**Exercise 1:** Complete the function `forward_euler_sys` which implements the forward Euler method to compute the approximations $\\mathbf{u}^{n} \\approx \\mathbf{u}(t_n)$ for $n = 0, 1, 2, \\dots, N$.\n",
    "\n",
    "*Hint:* The implementation is almost identical to the function `forward_euler` which you have implemented in last week's notebook, except that now the approximations $\\mathbf{u}^{n}$ will be vector-valued, so the input `u_0` will be a NumPy array of size $m$ and the output `u` should be a NumPy array of size $N \\times m$.\n",
    "</div>"
   ]
  },
  {
   "cell_type": "code",
   "execution_count": null,
   "id": "ff7db5e3-d5b6-456b-9eb7-400e7dc20ec3",
   "metadata": {
    "deletable": false,
    "nbgrader": {
     "cell_type": "code",
     "checksum": "908ea7b3c6275a8bb1e8d2b3304e1c06",
     "grade": true,
     "grade_id": "cell-5181b36a411c0132",
     "locked": false,
     "points": 0,
     "schema_version": 3,
     "solution": true,
     "task": false
    }
   },
   "outputs": [],
   "source": [
    "def forward_euler_sys(f, u_0, T, N):\n",
    "    # YOUR CODE HERE\n",
    "    raise NotImplementedError()\n",
    "    return u"
   ]
  },
  {
   "cell_type": "markdown",
   "id": "7aacb107-4e6b-4277-a9b0-30d2b366a439",
   "metadata": {
    "deletable": false,
    "editable": false,
    "nbgrader": {
     "cell_type": "markdown",
     "checksum": "94a6d57c1109fc7f85f89a4c566ac603",
     "grade": false,
     "grade_id": "cell-f2e8eaecc267fa24",
     "locked": true,
     "schema_version": 3,
     "solution": false,
     "task": false
    }
   },
   "source": [
    "We also provide you with the implementation of the backward Euler method for solving systems of ordinary differential equations. Also this implementation is almost identical to what you have encountered in last week's exercise notebook."
   ]
  },
  {
   "cell_type": "code",
   "execution_count": null,
   "id": "e05bb2c1-8786-4179-b89a-c68ab5483f44",
   "metadata": {
    "deletable": false,
    "editable": false,
    "nbgrader": {
     "cell_type": "code",
     "checksum": "54221b2d805d4bbff90ba746173c3246",
     "grade": false,
     "grade_id": "cell-8732a54c95ae46b1",
     "locked": true,
     "schema_version": 3,
     "solution": false,
     "task": false
    }
   },
   "outputs": [],
   "source": [
    "def backward_euler_sys(f, u_0, T, N):\n",
    "    dt = T / N\n",
    "    u = np.zeros((N + 1, len(u_0)))\n",
    "    u[0] = u_0\n",
    "    for n in range(N):\n",
    "        # Function for which we need to find a zero\n",
    "        def g(x):\n",
    "            return x - dt * f((n + 1) * dt, x) - u[n]\n",
    "        # Method which finds the zero of the function g\n",
    "        u[n + 1] = sp.optimize.root(g, u[n], method=\"hybr\").x\n",
    "    return u"
   ]
  },
  {
   "cell_type": "markdown",
   "id": "4ce9c0e8-8f4d-4f14-a46e-6a23d5bdb9af",
   "metadata": {
    "deletable": false,
    "editable": false,
    "nbgrader": {
     "cell_type": "markdown",
     "checksum": "916d0af24542b5322f0f88a78f6d2a24",
     "grade": false,
     "grade_id": "cell-4fd86941baed31c7",
     "locked": true,
     "schema_version": 3,
     "solution": false,
     "task": false
    }
   },
   "source": [
    "Given is the linear system of ordinary differential equations\n",
    "$$\n",
    "\\begin{cases}\n",
    "  \\frac{\\mathrm{d}\\mathbf{u}(t)}{\\mathrm{d}t} = \\mathbf{f}(t, \\mathbf{u}(t)) = A \\mathbf{u}(t), & t \\in (0, 20],  \\\\\n",
    "  \\mathbf{u}(0)=\\begin{pmatrix} 1 \\\\ 0 \\end{pmatrix},\n",
    "\\end{cases}\n",
    "$$\n",
    "\n",
    "with matrix $A \\in \\mathbb{R}^{2 \\times 2}$ defined as\n",
    "\n",
    "$$\n",
    "A = \\begin{pmatrix} 0 & 1 \\\\ -1 & 0 \\end{pmatrix}.\n",
    "$$\n",
    "\n",
    "The exact solution of this system is\n",
    "\n",
    "$$\n",
    "\\mathbf{u}(t) = \\begin{pmatrix} \\cos(t) \\\\ - \\sin(t) \\end{pmatrix}\n",
    "$$"
   ]
  },
  {
   "cell_type": "markdown",
   "id": "97df3237-16c9-4c6b-838c-5941daa93433",
   "metadata": {
    "deletable": false,
    "editable": false,
    "nbgrader": {
     "cell_type": "markdown",
     "checksum": "a3ac4b9d8db60f04a4e629180ae65986",
     "grade": false,
     "grade_id": "cell-2fecdbf7092cce30",
     "locked": true,
     "schema_version": 3,
     "solution": false,
     "task": false
    }
   },
   "source": [
    "We provide you with the function `plot_solution`, which visualizes the approximate solutions $\\boldsymbol{u}^n$ at the time steps $t_n$ for $n=0, 1, 2, \\dots, N$. It takes as input the time steps $t_0, t_1, t_2, \\dots, t_N$ in a NumPy array `t` of size $N$, and the corresponding solutions $\\boldsymbol{u}^0, \\boldsymbol{u}^1, \\boldsymbol{u}^2, \\dots, \\boldsymbol{u}^N$ in a NumPy array `u` of size $N \\times m$."
   ]
  },
  {
   "cell_type": "code",
   "execution_count": null,
   "id": "007e800d-21de-44fb-b7ca-719e6691b6b5",
   "metadata": {
    "deletable": false,
    "editable": false,
    "nbgrader": {
     "cell_type": "code",
     "checksum": "4028da0ad21cecd6e01e7eed419f86f9",
     "grade": false,
     "grade_id": "cell-226919bf0ecfd5cd",
     "locked": true,
     "schema_version": 3,
     "solution": false,
     "task": false
    }
   },
   "outputs": [],
   "source": [
    "def plot_solution(t, u):\n",
    "    fig, ax = plt.subplots()\n",
    "\n",
    "    # Determine x- and y-values as well as midpoints\n",
    "    x = u[:, 0]\n",
    "    y = u[:, 1]\n",
    "    x_midpts = np.hstack((x[0], 0.5 * (x[1:] + x[:-1]), x[-1]))\n",
    "    y_midpts = np.hstack((y[0], 0.5 * (y[1:] + y[:-1]), y[-1]))\n",
    "\n",
    "    # Define line segments\n",
    "    coord_start = np.column_stack((x_midpts[:-1], y_midpts[:-1]))[:, np.newaxis, :]\n",
    "    coord_mid = np.column_stack((x, y))[:, np.newaxis, :]\n",
    "    coord_end = np.column_stack((x_midpts[1:], y_midpts[1:]))[:, np.newaxis, :]\n",
    "    segments = np.concatenate((coord_start, coord_mid, coord_end), axis=1)\n",
    "    linewidths = np.linspace(0, 6, len(t))[::-1]\n",
    "    lc = mpl.collections.LineCollection(segments, linewidths=linewidths, cmap=\"plasma\", capstyle=\"butt\")\n",
    "    lc.set_array(t)\n",
    "\n",
    "    # Plot the line segments\n",
    "    lines = ax.add_collection(lc)\n",
    "    fig.colorbar(lines, label=r\"parameter value $t$\")\n",
    "    ax.scatter(x[0], y[0], color=mpl.colormaps[\"plasma\"](0), s=70)\n",
    "    ax.annotate(r\"$u_0$\", (x[0], y[0]), xytext=(-17, 5), textcoords='offset points')\n",
    "    ax.margins(0.2, 0.2)\n",
    "    ax.add_patch(mpl.patches.Circle((0, 0), radius=1, fill=False, edgecolor=\"black\", linestyle=\"--\", linewidth=2))\n",
    "    plt.xlabel(r\"$u_1(t)$\")\n",
    "    plt.ylabel(r\"$u_2(t)$\")\n",
    "    plt.grid()\n",
    "    plt.show()"
   ]
  },
  {
   "cell_type": "markdown",
   "id": "63de1efe-33de-48a7-9cb4-08059c00c3d3",
   "metadata": {
    "deletable": false,
    "editable": false,
    "nbgrader": {
     "cell_type": "markdown",
     "checksum": "63eb469ac21f1583938b3802a559cf42",
     "grade": false,
     "grade_id": "cell-2167b1fa3c4822c3",
     "locked": true,
     "schema_version": 3,
     "solution": false,
     "task": false
    }
   },
   "source": [
    "Below, we visualize the exact solution for $N = 200$ time steps in $[0, 20]$, which we can obtain from the function `u`."
   ]
  },
  {
   "cell_type": "code",
   "execution_count": null,
   "id": "488d4a84-f548-46af-8ae8-2df740300aa5",
   "metadata": {
    "deletable": false,
    "editable": false,
    "nbgrader": {
     "cell_type": "code",
     "checksum": "5096c14691fd1d50e7a63b680b17ce03",
     "grade": false,
     "grade_id": "cell-38af7845654bf536",
     "locked": true,
     "schema_version": 3,
     "solution": false,
     "task": false
    }
   },
   "outputs": [],
   "source": [
    "# Function which returns the exact solutions at the values t\n",
    "def u(t, u_0):\n",
    "    return np.array([np.cos(t) * u_0[0] - np.sin(t) * u_0[1], - np.sin(t) * u_0[0] - np.cos(t) * u_0[1]]).T\n",
    "\n",
    "# Parameters\n",
    "T = 20\n",
    "u_0 = np.array([1, 0])\n",
    "N = 200\n",
    "t = np.linspace(0, T, N + 1)\n",
    "\n",
    "# Plots the exact solution\n",
    "u_exact = u(t, u_0)\n",
    "plot_solution(t, u_exact)"
   ]
  },
  {
   "cell_type": "markdown",
   "id": "13f79dc1-5eb5-4c6b-b186-f5dac10bb9ae",
   "metadata": {
    "deletable": false,
    "editable": false,
    "nbgrader": {
     "cell_type": "markdown",
     "checksum": "7941db6311714af52ec1463a5b0d0948",
     "grade": false,
     "grade_id": "cell-46a79c7c49f2da6c",
     "locked": true,
     "schema_version": 3,
     "solution": false,
     "task": false
    }
   },
   "source": [
    "<div class=\"alert alert-success\">\n",
    "    \n",
    "**Exercise 2:** Plot the approximate solutions of the system of ordinary differential equations from the forward and backward Euler methods for $N=200$ time steps. How well do the methods approximate the exact solution?\n",
    "</div>"
   ]
  },
  {
   "cell_type": "code",
   "execution_count": null,
   "id": "b3518594-da23-4743-916b-099fbc3d7799",
   "metadata": {
    "deletable": false,
    "nbgrader": {
     "cell_type": "code",
     "checksum": "d8590910bacbb0a8305acfa048a6554e",
     "grade": false,
     "grade_id": "cell-38cdcd5fcc268677",
     "locked": false,
     "schema_version": 3,
     "solution": true,
     "task": false
    }
   },
   "outputs": [],
   "source": [
    "# Right-hand side of the ODE\n",
    "def f(t, u):\n",
    "    # YOUR CODE HERE\n",
    "    raise NotImplementedError()\n",
    "\n",
    "# YOUR CODE HERE\n",
    "raise NotImplementedError()"
   ]
  },
  {
   "cell_type": "markdown",
   "id": "03f4c5d2-2e48-46ed-9dec-a9463528c90c",
   "metadata": {
    "deletable": false,
    "editable": false,
    "nbgrader": {
     "cell_type": "markdown",
     "checksum": "eab873222fb3f524508a086857f98752",
     "grade": false,
     "grade_id": "cell-7e0e4d8a4ff56227",
     "locked": true,
     "schema_version": 3,
     "solution": false,
     "task": false
    }
   },
   "source": [
    "The Crank-Nicolson method is defined by the iterative formula\n",
    "\n",
    "$$\n",
    "\\mathbf{u}^{n+1} = \\mathbf{u}^{n} + \\frac{\\Delta t}{2} \\left( \\mathbf{f}(t_n, \\mathbf{u}^{n}) +  \\mathbf{f}(t_{n+1}, \\mathbf{u}^{n+1}) \\right), \\quad n=0, 1, 2, \\dots\n",
    "$$\n",
    "\n",
    "It is an implicit method. As you have seen in the lecture, we will have to find a zero $\\boldsymbol{\\alpha} \\in \\mathbb{R}^m$ of the function\n",
    "\n",
    "$$\n",
    "\\mathbf{g}_n(\\mathbf{x}) = \\mathbf{x} - \\frac{\\Delta t}{2} \\left( \\mathbf{f}(t_n, \\mathbf{u}^{n}) +  \\mathbf{f}(t_{n+1}, \\mathbf{x}) \\right) - \\mathbf{u}^{n}  = 0\n",
    "$$\n",
    "\n",
    "in every step $n$, and define the approximate solution at the next step as $\\mathbf{u}^{n+1} = \\boldsymbol{\\alpha}$."
   ]
  },
  {
   "cell_type": "markdown",
   "id": "a78953d7-e902-41e8-bdb1-6b3c65b64fbd",
   "metadata": {
    "deletable": false,
    "editable": false,
    "nbgrader": {
     "cell_type": "markdown",
     "checksum": "9a9e51c9960e530032cb842c7bceba35",
     "grade": false,
     "grade_id": "cell-8cc76854f83abbce",
     "locked": true,
     "schema_version": 3,
     "solution": false,
     "task": false
    }
   },
   "source": [
    "<div class=\"alert alert-success\">\n",
    "    \n",
    "**Exercise 3:** Complete the function `crank_nicolson_sys` which implements the Crank-Nicolson method to compute the approximations $\\mathbf{u}^{n} \\approx \\mathbf{u}(t_n)$ for $n = 0, 1, 2, \\dots, N$.\n",
    "\n",
    "*Hint:* You can copy all the code of the `backward_euler_sys` function from above, and will just have to adapt the definition of the function `g`, which represents $\\mathbf{g}_n(\\mathbf{x})$, from the backward Euler to the Crank-Nicolson method.\n",
    "</div>"
   ]
  },
  {
   "cell_type": "code",
   "execution_count": null,
   "id": "0d6186f7-f01a-4ce9-a487-022b8bb6ade9",
   "metadata": {
    "deletable": false,
    "nbgrader": {
     "cell_type": "code",
     "checksum": "2a7bc29e4d3a6bfbffabd6b60088b169",
     "grade": false,
     "grade_id": "cell-659c6747be1d07e7",
     "locked": false,
     "schema_version": 3,
     "solution": true,
     "task": false
    }
   },
   "outputs": [],
   "source": [
    "def crank_nicolson_sys(f, u_0, T, N):\n",
    "    # YOUR CODE HERE\n",
    "    raise NotImplementedError()\n",
    "    return u"
   ]
  },
  {
   "cell_type": "markdown",
   "id": "c13f41ea-5658-4029-9fa8-e9470cc5249e",
   "metadata": {
    "deletable": false,
    "editable": false,
    "nbgrader": {
     "cell_type": "markdown",
     "checksum": "f164c776d80c25ae8642cdef77acc009",
     "grade": false,
     "grade_id": "cell-5f2d71cea5de2d3a",
     "locked": true,
     "schema_version": 3,
     "solution": false,
     "task": false
    }
   },
   "source": [
    "<div class=\"alert alert-success\">\n",
    "    \n",
    "**Exercise 4:** For the same system as in the previous exercises, plot the approximate solutions from the trapzoidal methods for $N=200$ time steps. How well do the methods approximate the exact solution?\n",
    "</div>"
   ]
  },
  {
   "cell_type": "code",
   "execution_count": null,
   "id": "34cc06d8-274d-43dc-87e6-dc5e473d3cb3",
   "metadata": {
    "deletable": false,
    "nbgrader": {
     "cell_type": "code",
     "checksum": "9c00e9eb66af6821d9da06aa49fc3bd2",
     "grade": false,
     "grade_id": "cell-536bae331b3b7a4a",
     "locked": false,
     "schema_version": 3,
     "solution": true,
     "task": false
    }
   },
   "outputs": [],
   "source": [
    "# YOUR CODE HERE\n",
    "raise NotImplementedError()"
   ]
  },
  {
   "cell_type": "markdown",
   "id": "f9545060-127c-4659-9e06-230dd010db87",
   "metadata": {
    "deletable": false,
    "editable": false,
    "nbgrader": {
     "cell_type": "markdown",
     "checksum": "abcdb24e537620448e1b0b73196e3621",
     "grade": false,
     "grade_id": "cell-e4bdb77687ae74a9",
     "locked": true,
     "schema_version": 3,
     "solution": false,
     "task": false
    }
   },
   "source": [
    "<hr style=\"clear:both\">\n",
    "\n",
    "### Electrical circuit"
   ]
  },
  {
   "cell_type": "markdown",
   "id": "1b8c7618-e337-4066-9209-ce20e1e16bb1",
   "metadata": {
    "deletable": false,
    "editable": false,
    "nbgrader": {
     "cell_type": "markdown",
     "checksum": "4c25c75d7af47b335b998c1f8649bdd1",
     "grade": false,
     "grade_id": "cell-9013e0e3b764c3f8",
     "locked": true,
     "schema_version": 3,
     "solution": false,
     "task": false
    }
   },
   "source": [
    "We want to study an electrical circuit, which you can visualize by running the cell below."
   ]
  },
  {
   "cell_type": "code",
   "execution_count": null,
   "id": "29ecceaf-48ea-4bcb-b322-593fb2f6cd14",
   "metadata": {
    "deletable": false,
    "editable": false,
    "nbgrader": {
     "cell_type": "code",
     "checksum": "3ec85c6c0deff6bf80405d15df1f8721",
     "grade": false,
     "grade_id": "cell-e8223d2610a407c2",
     "locked": true,
     "schema_version": 3,
     "solution": false,
     "task": false
    }
   },
   "outputs": [],
   "source": [
    "fig, ax = plt.subplots(); ax.axis(\"equal\"); ax.axis(\"off\"); ax.plot([0.4, 1, 1], [-1, -1, -0.1], linewidth=4, color=\"black\"); ax.plot([1, 1, 0.4], [0.1, 1, 1], linewidth=4, color=\"black\"); ax.plot([-0.4, -1, -1], [1, 1, 0.1], linewidth=4, color=\"black\"); ax.plot([-1, -1, -0.4], [-0.1, -1, -1], linewidth=4, color=\"black\"); ax.plot([0.8, 1.2], [-0.1, -0.1], linewidth=4, color=\"black\"); ax.plot([0.8, 1.2], [0.1, 0.1], linewidth=4, color=\"black\"); ax.text(0.65, 0.25, \"$C$\", fontsize=30, horizontalalignment=\"center\", verticalalignment=\"center\"); ax.plot([-0.85, -1.15], [-0.1, -0.1], linewidth=4, color=\"black\"); ax.plot([-0.7, -1.3], [0.1, 0.1], linewidth=4, color=\"black\"); ax.text(-0.7, 0.3, \"$+$\", fontsize=30, horizontalalignment=\"center\", verticalalignment=\"center\"); ax.text(-0.7, -0.2, \"$-$\", fontsize=30, horizontalalignment=\"center\", verticalalignment=\"center\"); ax.add_patch(mpl.patches.Arc((-0.3, 1), 0.2, 0.4, theta1=0, theta2=180, linewidth=4)); ax.add_patch(mpl.patches.Arc((-0.1, 1), 0.2, 0.4, theta1=0, theta2=180, linewidth=4)); ax.add_patch(mpl.patches.Arc((0.1, 1), 0.2, 0.4, theta1=0, theta2=180, linewidth=4)); ax.add_patch(mpl.patches.Arc((0.3, 1), 0.2, 0.4, theta1=0, theta2=180, linewidth=4)); ax.text(0, 0.75, \"$L$\", fontsize=30, horizontalalignment=\"center\", verticalalignment=\"center\"); ax.plot([-0.4, -0.35, -0.25, -0.15, -0.05, 0.05, 0.15, 0.25, 0.35, 0.4], [-1, -0.85, -1.15, -0.85, -1.15, -0.85, -1.15, -0.85, -1.15, -1], linewidth=4, color=\"black\"); ax.text(0, -0.65, \"$R$\", fontsize=30, horizontalalignment=\"center\", verticalalignment=\"center\"); plt.show()"
   ]
  },
  {
   "cell_type": "markdown",
   "id": "6a46eac3-b93d-4db8-86df-47f38e2ae003",
   "metadata": {
    "deletable": false,
    "editable": false,
    "nbgrader": {
     "cell_type": "markdown",
     "checksum": "d79836d1db47b539650887fa797c4331",
     "grade": false,
     "grade_id": "cell-1d2e8df8d105092f",
     "locked": true,
     "schema_version": 3,
     "solution": false,
     "task": false
    }
   },
   "source": [
    "The circuit satisfies the following equation for the voltage $v$ around the capacitor:\n",
    "\n",
    "$$\n",
    "LC \\frac{\\mathrm{d}^2 v(t)}{\\mathrm{d}t^2} + RC \\frac{\\mathrm{d} v(t)}{\\mathrm{d}t} + v(t) = F\n",
    "$$\n",
    "\n",
    "where $L$ is the inductance of the coil, $C$ is the capacity of the capacitor, $R$ the resistance\n",
    "and $F$ the motor force of the generator, which we assume to be constant in time. To apply the methods from the course, we will need to transform this second order equation into a system of first order equations."
   ]
  },
  {
   "cell_type": "markdown",
   "id": "e86f1fe0-d663-4c36-aadc-18385a0aef0d",
   "metadata": {
    "deletable": false,
    "editable": false,
    "nbgrader": {
     "cell_type": "markdown",
     "checksum": "2ee135cd960d541380cbfa15bd83d5a7",
     "grade": false,
     "grade_id": "cell-0309da2cf2703165",
     "locked": true,
     "points": 0,
     "schema_version": 3,
     "solution": false,
     "task": true
    }
   },
   "source": [
    "<div class=\"alert alert-success\">\n",
    "    \n",
    "**Exercise 5 (Theoretical):** Introduce a new unknown $w$ such as $w(t)=\\frac{\\mathrm{d} v(t)}{\\mathrm{d}t}$. Use this relation to rewrite the equation above as a linear system of first order equations\n",
    "\n",
    "$$\n",
    "\\frac{\\mathrm{d} \\mathbf{u}(t)}{\\mathrm{d}t} = A \\mathbf{u}(t) + \\mathbf{b}(t)\n",
    "$$\n",
    "where $\\mathbf{u}(t) = ( w(t), v(t) )^\\top$ and $A$ is a $2 \\times 2$ matrix.\n",
    "</div>\n"
   ]
  },
  {
   "cell_type": "markdown",
   "id": "17075a6b-8287-43e9-ae3a-decce40254dc",
   "metadata": {
    "deletable": false,
    "editable": false,
    "nbgrader": {
     "cell_type": "markdown",
     "checksum": "cf574fcd776a2dd6833bad495f838eb6",
     "grade": false,
     "grade_id": "cell-ad0ae62c96f52c36",
     "locked": true,
     "points": 0,
     "schema_version": 3,
     "solution": false,
     "task": true
    }
   },
   "source": [
    "<div class=\"alert alert-success\">\n",
    "    \n",
    "**Exercise 6 (Theoretical):** We want to appoximate the solution of this system using the forward Euler method. Give the general stability criterion for the forward Euler method applied to linear systems. Then, compute the condition on $\\Delta t$ for the forward Euler method to be stable for the system at hand, for the values $L=0.01$, $C=10$ and $R=0.1$.\n",
    "\n",
    "*Hint:* Compute the eigenvalues of the matrix $A$ found in the previous exercise and apply Lemma 6.4 from the lecture notes. You can use Python for this.\n",
    "</div>\n"
   ]
  },
  {
   "cell_type": "markdown",
   "id": "0c5cd43a-1d0e-490f-a841-c285d26c36c5",
   "metadata": {
    "deletable": false,
    "editable": false,
    "nbgrader": {
     "cell_type": "markdown",
     "checksum": "845f1da4332e9df14ca5bdc146256a08",
     "grade": false,
     "grade_id": "cell-8c9605039bcf22b8",
     "locked": true,
     "schema_version": 3,
     "solution": false,
     "task": false
    }
   },
   "source": [
    "<div class=\"alert alert-success\">\n",
    "    \n",
    "**Exercise 7:** Consider the initial condition $\\mathbf{u}_0 = (0,1)^\\top$ and $F=0$. Using the forward Euler method (function `forward_euler_sys` which you have implemented above), compute an approximation of the solution of the system on the interval $[0,T]$ with $T=10$ and $N=43, 46,$ and $500$ sub-intervals, which corresponds to a time-step of $\\Delta t= 0.233, 0.217,$ and $0.02$, respectively. Visualise the obtained approximations for $v(t)$ and comment the obtained results.\n",
    "</div>"
   ]
  },
  {
   "cell_type": "code",
   "execution_count": null,
   "id": "43ba24cb-8f4e-46bc-8b2c-e70e2af1d74d",
   "metadata": {
    "deletable": false,
    "nbgrader": {
     "cell_type": "code",
     "checksum": "b685002cf3889d1790ffebf57cb47a43",
     "grade": false,
     "grade_id": "cell-c37258905c66ed30",
     "locked": false,
     "schema_version": 3,
     "solution": true,
     "task": false
    }
   },
   "outputs": [],
   "source": [
    "def f(t, u, R=0.1, L=0.01, C=10, F=0):\n",
    "    # YOUR CODE HERE\n",
    "    raise NotImplementedError()\n",
    "\n",
    "# YOUR CODE HERE\n",
    "raise NotImplementedError()"
   ]
  },
  {
   "cell_type": "markdown",
   "id": "4ecfc6b1-e529-4495-bef3-e64244cca61c",
   "metadata": {
    "deletable": false,
    "editable": false,
    "nbgrader": {
     "cell_type": "markdown",
     "checksum": "2a67a7339e5ff2501de756da83db8fdb",
     "grade": false,
     "grade_id": "cell-defd00e2e566bc91",
     "locked": true,
     "schema_version": 3,
     "solution": false,
     "task": false
    }
   },
   "source": [
    "<div class=\"alert alert-success\">\n",
    "    \n",
    "**Exercise 8:** Repeat the previous exercise using the backward Euler method (function `backward_euler_sys` which you have implemented above). Comment on the obtained results.\n",
    "</div>"
   ]
  },
  {
   "cell_type": "code",
   "execution_count": null,
   "id": "b56831f3-c5ef-4395-b1c5-9777b5c7156b",
   "metadata": {
    "deletable": false,
    "nbgrader": {
     "cell_type": "code",
     "checksum": "5e341d6d513089aac4d0d0ecab2e2caa",
     "grade": false,
     "grade_id": "cell-7df38cdbb93e9961",
     "locked": false,
     "schema_version": 3,
     "solution": true,
     "task": false
    }
   },
   "outputs": [],
   "source": [
    "# YOUR CODE HERE\n",
    "raise NotImplementedError()"
   ]
  },
  {
   "cell_type": "markdown",
   "id": "9121a391-8f8f-4513-8198-5b420a508215",
   "metadata": {},
   "source": [
    "<hr style=\"clear:both\">\n",
    "\n",
    "## The end\n",
    "\n",
    "Impeccable! You have finished the twelth exercise notebook. But there is one more."
   ]
  }
 ],
 "metadata": {
  "kernelspec": {
   "display_name": "Python 3 (ipykernel)",
   "language": "python",
   "name": "python3"
  },
  "language_info": {
   "codemirror_mode": {
    "name": "ipython",
    "version": 3
   },
   "file_extension": ".py",
   "mimetype": "text/x-python",
   "name": "python",
   "nbconvert_exporter": "python",
   "pygments_lexer": "ipython3",
   "version": "3.12.3"
  }
 },
 "nbformat": 4,
 "nbformat_minor": 5
}
