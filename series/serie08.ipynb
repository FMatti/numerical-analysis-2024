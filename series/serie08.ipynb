{
 "cells": [
  {
   "cell_type": "markdown",
   "id": "9b547a74-4f95-4388-b31c-079ab1b709a1",
   "metadata": {
    "deletable": false,
    "editable": false,
    "nbgrader": {
     "cell_type": "markdown",
     "checksum": "3729948986306d0a3312213d359dadb0",
     "grade": false,
     "grade_id": "cell-db858800eb710b02",
     "locked": true,
     "schema_version": 3,
     "solution": false,
     "task": false
    }
   },
   "source": [
    "## Numerical Analysis - Fall semester 2024\n",
    "\n",
    "# Serie 08 - Numerical integration and linear systems"
   ]
  },
  {
   "cell_type": "markdown",
   "id": "17e077cb-7948-4145-933d-98d756758e5c",
   "metadata": {
    "deletable": false,
    "editable": false,
    "nbgrader": {
     "cell_type": "markdown",
     "checksum": "d25f9edbfe304e37e4c4634562a6df89",
     "grade": false,
     "grade_id": "cell-e40f6a59adb8fb4c",
     "locked": true,
     "schema_version": 3,
     "solution": false,
     "task": false
    }
   },
   "source": [
    "Importing some useful packages."
   ]
  },
  {
   "cell_type": "code",
   "execution_count": null,
   "id": "615fe016-244e-4bd7-b001-ae94c19dab25",
   "metadata": {
    "deletable": false,
    "editable": false,
    "nbgrader": {
     "cell_type": "code",
     "checksum": "946409cda218905e2c190c9b8a4679f4",
     "grade": false,
     "grade_id": "cell-119945a608740819",
     "locked": true,
     "schema_version": 3,
     "solution": false,
     "task": false
    }
   },
   "outputs": [],
   "source": [
    "import matplotlib.pyplot as plt\n",
    "import numpy as np\n",
    "import scipy as sp\n",
    "import timeit"
   ]
  },
  {
   "cell_type": "markdown",
   "id": "8160e7c5-fa0b-4c3d-865f-f0e7f771b8b6",
   "metadata": {
    "deletable": false,
    "editable": false,
    "nbgrader": {
     "cell_type": "markdown",
     "checksum": "6e09512fa10aecb2988e3470b5a76a5d",
     "grade": false,
     "grade_id": "cell-c8e6bcd55abaccad",
     "locked": true,
     "schema_version": 3,
     "solution": false,
     "task": false
    }
   },
   "source": [
    "<hr style=\"clear:both\">\n",
    "\n",
    "### Adaptive quadrature"
   ]
  },
  {
   "cell_type": "markdown",
   "id": "de5fd14a-8f00-4d84-be07-cdf995804ccc",
   "metadata": {
    "deletable": false,
    "editable": false,
    "nbgrader": {
     "cell_type": "markdown",
     "checksum": "61b56c959df045df6e8822d03428259f",
     "grade": false,
     "grade_id": "cell-c92651b389d22fd4",
     "locked": true,
     "schema_version": 3,
     "solution": false,
     "task": false
    }
   },
   "source": [
    "\n",
    "We would like to approximate the integral $I(f)=\\int_a^bf(x)~\\mathrm{d}x$\n",
    "within a given tolerance $tol$. That is, we want to determine $h$ such as \n",
    "\n",
    "$$\n",
    "|I(f)-Q_h(f)|\\le tol,\n",
    "$$\n",
    "where $Q_h$ is a quadrature formula of order $p$. As the exact integral $I(f)$ is, in general, unknown, we have to introduce a suitable error estimator. A possible estimator of the error for $Q_{h}(f)$ is\n",
    "\n",
    "$$\n",
    "\\eta:=\\frac{|Q_{h}(f)-Q_{2h}(f)|}{2^p-1},\n",
    "$$\n",
    "\n",
    "which uses Richardson's extrapolation. It is based on the fact that\n",
    "\n",
    "$$\n",
    "\\tilde{Q}_{h}:=\\frac{2^pQ_{h}(f)-Q_{2h}(f)}{2^p-1}\n",
    "$$\n",
    "\n",
    "is an approximation of $I(f)$ of order (at least) $p+1$, as long as $f$ is regular enough, and therefore\n",
    "\n",
    "$$\n",
    "\\underbrace{|I(f)-Q_{h}(f)|}_{\\mathcal{O}(h^p)}\\leq \\underbrace{|I(f)-\\tilde{Q}_{h}(f)|}_{\\mathcal{O}(h^{p+1})}+\\underbrace{|\\tilde{Q}_{h}(f)-Q_{h}(f)|}_{\\mathcal{O}(h^p)}\\approx |\\tilde{Q}_{h}(f)-Q_{h}(f)|=\\eta.\n",
    "$$"
   ]
  },
  {
   "cell_type": "markdown",
   "id": "2749e2ec-d8aa-4e05-8643-d069d51d180c",
   "metadata": {
    "deletable": false,
    "editable": false,
    "nbgrader": {
     "cell_type": "markdown",
     "checksum": "dbc3e308bd6c348e929697a98b2f4d34",
     "grade": false,
     "grade_id": "cell-7c7ecbd0960c0215",
     "locked": true,
     "schema_version": 3,
     "solution": false,
     "task": false
    }
   },
   "source": [
    "To solve the following exercises, we provide you with the implementation of the midpoint quadrature, which you've already used to solve last week's notebook. Run the below cell to use it later on."
   ]
  },
  {
   "cell_type": "code",
   "execution_count": null,
   "id": "57b9da42-a535-4213-a7d5-0100cd71e59b",
   "metadata": {
    "deletable": false,
    "editable": false,
    "nbgrader": {
     "cell_type": "code",
     "checksum": "35da8d3642bccd1af74c4d06acd70c08",
     "grade": false,
     "grade_id": "cell-69dfd19940e2c286",
     "locked": true,
     "schema_version": 3,
     "solution": false,
     "task": false
    }
   },
   "outputs": [],
   "source": [
    "def midpoint(a, b, n, f):\n",
    "    # Composite midpoint formula\n",
    "    #  - a,b: boundaries of the integration interval\n",
    "    #  - n: number of sub-intervals\n",
    "    #  - f: function to integrate\n",
    "    h = (b - a) / n\n",
    "    xi = np.linspace(a + h / 2, b - h / 2, n)  # quadrature nodes\n",
    "    alphai = np.full(n, h)  # weights\n",
    "    Qh_mp = np.dot(alphai, f(xi))  # quadrature formula\n",
    "    return Qh_mp"
   ]
  },
  {
   "cell_type": "markdown",
   "id": "0d38a42e-fd21-41b9-98e0-9635a69d7b05",
   "metadata": {
    "deletable": false,
    "editable": false,
    "nbgrader": {
     "cell_type": "markdown",
     "checksum": "1754c8b5ab4055e0c8a47f62c40157e1",
     "grade": false,
     "grade_id": "cell-ed37ee4bf8968834",
     "locked": true,
     "schema_version": 3,
     "solution": false,
     "task": false
    }
   },
   "source": [
    "<div class=\"alert alert-success\">\n",
    "    \n",
    "**Exercise 1:** Implement the function `adaptive_quadrature`, which adaptively approximates the integral $I(f)=\\int_a^b f(x)~\\mathrm{d}x$ using the midpoint quadrature implemented in the `midpoint` function above. That is, it iteratively doubles the number of sub-intervals `n` of the composite midpoint quadrature, computes the corresponding midpoint quadrature, and computes the error estimate $\\eta$, until the error estimate $\\eta$ lies below the tolerance.\n",
    "</div>"
   ]
  },
  {
   "cell_type": "code",
   "execution_count": null,
   "id": "d9be360c-10a9-4d9a-aa48-7c7d6913b6a0",
   "metadata": {
    "deletable": false,
    "nbgrader": {
     "cell_type": "code",
     "checksum": "29275cb23abfc2e994c33f8e326afaba",
     "grade": false,
     "grade_id": "cell-db36943d4a9613bf",
     "locked": false,
     "schema_version": 3,
     "solution": true,
     "task": false
    }
   },
   "outputs": [],
   "source": [
    "def adaptive_quadrature(a, b, f, tol):\n",
    "    n = 1  # current number of sub-intervals\n",
    "    p = 2  # order of midpoint formula\n",
    "\n",
    "    # lists which should be filled in at every iteration\n",
    "    Qh_list = [midpoint(a, b, n, f)]  # quadrature approximation for each number of sub-intervals\n",
    "    h_list = [(b - a) / n]  # h for each number of sub-intervals\n",
    "    eta = tol + 1  # set the first error estimate to not already meet tolerance\n",
    "\n",
    "    while eta > tol:\n",
    "        # YOUR CODE HERE\n",
    "        raise NotImplementedError()\n",
    "\n",
    "    # convert lists to numpy arrays for easier manipulations\n",
    "    return np.array(Qh_list), np.array(h_list)"
   ]
  },
  {
   "cell_type": "markdown",
   "id": "9f619a48-98f3-4ff1-92ac-c638d8b6f76d",
   "metadata": {
    "deletable": false,
    "editable": false,
    "nbgrader": {
     "cell_type": "markdown",
     "checksum": "70de1c2bf3a40860cc642abef4828561",
     "grade": false,
     "grade_id": "cell-6e327f434dea2317",
     "locked": true,
     "schema_version": 3,
     "solution": false,
     "task": false
    }
   },
   "source": [
    "<div class=\"alert alert-success\">\n",
    "    \n",
    "**Exercise 2:** \n",
    "Consider the function $f(x)=\\frac{\\sin(x)\\cos^3(x)}{4-\\cos^2(2x)}$, on the interval $[a,b]=[0,\\pi/2]$. Using the adaptive quadrature you have just implemented based on the error estimate $\\eta$, determine (numerically) the number $n=(b-a)/h$ of sub-intervals necessary to obtain an approximation of the integral with an estimated error lower than $10^{-5}$.\n",
    "</div>\n"
   ]
  },
  {
   "cell_type": "code",
   "execution_count": null,
   "id": "75b6f9a7-c190-49c1-9354-7d1f45d9d912",
   "metadata": {
    "deletable": false,
    "nbgrader": {
     "cell_type": "code",
     "checksum": "18ca54a4147e2ba6dba6e24909ad7c1a",
     "grade": false,
     "grade_id": "cell-60e5ccaf0c5f8b16",
     "locked": false,
     "schema_version": 3,
     "solution": true,
     "task": false
    }
   },
   "outputs": [],
   "source": [
    "def f(x):\n",
    "    # YOUR CODE HERE\n",
    "    raise NotImplementedError()\n",
    "\n",
    "# YOUR CODE HERE\n",
    "raise NotImplementedError()"
   ]
  },
  {
   "cell_type": "markdown",
   "id": "aa1a111f-4647-4058-b859-7bb429dcd469",
   "metadata": {
    "deletable": false,
    "editable": false,
    "nbgrader": {
     "cell_type": "markdown",
     "checksum": "21f9ef0e80e4eb12ddf589f2d84e96bb",
     "grade": false,
     "grade_id": "cell-cd0f529baf7fe06f",
     "locked": true,
     "schema_version": 3,
     "solution": false,
     "task": false
    }
   },
   "source": [
    "<div class=\"alert alert-success\">\n",
    "    \n",
    "**Exercise 3:** \n",
    "Knowing that the exact value of the integral is $I(f)=\\log(3)/16$, plot the graph of the estimator and of the \"true\" error in terms of $h$ in logarithmic scale (command `plt.loglog`). What can you say about the order of convergence and the quality of the error estimator?\n",
    "</div>\n"
   ]
  },
  {
   "cell_type": "code",
   "execution_count": null,
   "id": "e5dd0251-9e0d-4637-abef-8f250401e19a",
   "metadata": {
    "deletable": false,
    "nbgrader": {
     "cell_type": "code",
     "checksum": "0f65195e971a1e28321ad630cc74b219",
     "grade": false,
     "grade_id": "cell-278a0858023ddaa7",
     "locked": false,
     "schema_version": 3,
     "solution": true,
     "task": false
    }
   },
   "outputs": [],
   "source": [
    "I_f = np.log(3) / 16\n",
    "\n",
    "# YOUR CODE HERE\n",
    "raise NotImplementedError()"
   ]
  },
  {
   "cell_type": "markdown",
   "id": "2d71f93c-cd52-4f45-9d00-d39ad3d8a70f",
   "metadata": {
    "deletable": false,
    "editable": false,
    "nbgrader": {
     "cell_type": "markdown",
     "checksum": "221e27e46a51dc671ffdb7043295cb3b",
     "grade": false,
     "grade_id": "cell-e8b93e68ba074e3a",
     "locked": true,
     "schema_version": 3,
     "solution": false,
     "task": false
    }
   },
   "source": [
    "<div class=\"alert alert-success\">\n",
    "    \n",
    "**Exercise 4:** \n",
    "On the same graph as in Exercise 3, plot the error $|I(f) - \\tilde{Q}_h|$ in terms of $h$, where $\\tilde{Q}_h$ is the Richardson's extrapolation based on $Q_h$ and $Q_{2h}$. What order of convergence do you observe in this case?\n",
    "</div>\n"
   ]
  },
  {
   "cell_type": "code",
   "execution_count": null,
   "id": "f238e142-0b6d-48db-80fc-5d309865adef",
   "metadata": {
    "deletable": false,
    "nbgrader": {
     "cell_type": "code",
     "checksum": "738bc09308073689dae67d700704845e",
     "grade": false,
     "grade_id": "cell-2332e41d2455cf34",
     "locked": false,
     "schema_version": 3,
     "solution": true,
     "task": false
    }
   },
   "outputs": [],
   "source": [
    "# YOUR CODE HERE\n",
    "raise NotImplementedError()"
   ]
  },
  {
   "cell_type": "markdown",
   "id": "03a25296-9353-45b5-94d5-77f8afb83c3c",
   "metadata": {
    "deletable": false,
    "editable": false,
    "nbgrader": {
     "cell_type": "markdown",
     "checksum": "e4b4d6277f4ffb58457ed639017769a9",
     "grade": false,
     "grade_id": "cell-260dc6b75c043f0c",
     "locked": true,
     "schema_version": 3,
     "solution": false,
     "task": false
    }
   },
   "source": [
    "<div class=\"alert alert-success\">\n",
    "    \n",
    "**Exercise 5:** \n",
    "Repeat all the previous exercises in this section for $f(x)=\\sqrt{|x|^3}$ and $[a,b]=[-2,2]$, the exact value of the integral being in this case $I(f)=16\\sqrt{2}/5$. Comment the obtained results.\n",
    "</div>\n"
   ]
  },
  {
   "cell_type": "code",
   "execution_count": null,
   "id": "56946085-bdfb-4215-8367-3c91a423ba02",
   "metadata": {
    "deletable": false,
    "nbgrader": {
     "cell_type": "code",
     "checksum": "7e8f3b01afc10fea2eb46c9bfb15d97f",
     "grade": false,
     "grade_id": "cell-4ae4d3ecdd734bd1",
     "locked": false,
     "schema_version": 3,
     "solution": true,
     "task": false
    }
   },
   "outputs": [],
   "source": [
    "I_f = 16 * np.sqrt(2) / 5\n",
    "\n",
    "# YOUR CODE HERE\n",
    "raise NotImplementedError()"
   ]
  },
  {
   "cell_type": "markdown",
   "id": "2d195ab8-df09-47fd-964a-f758225be78f",
   "metadata": {
    "deletable": false,
    "editable": false,
    "nbgrader": {
     "cell_type": "markdown",
     "checksum": "8c8ba924395ce271d914000945727c45",
     "grade": false,
     "grade_id": "cell-2765b920de1d516c",
     "locked": true,
     "schema_version": 3,
     "solution": false,
     "task": false
    }
   },
   "source": [
    "<div class=\"alert alert-success\">\n",
    "    \n",
    "**Exercise 6:** \n",
    "Repeat all the previous exercises in this section for $f(x)=\\log(x)$ and $[a,b]=[0,1]$, the exact value of the integral being in this case $I(f)=-1$. Comment the obtained results.\n",
    "</div>"
   ]
  },
  {
   "cell_type": "code",
   "execution_count": null,
   "id": "bc958247-9998-4d37-bdf9-60068a395a1f",
   "metadata": {
    "deletable": false,
    "nbgrader": {
     "cell_type": "code",
     "checksum": "1e2f84198aa4f95a10ad51e9432b8843",
     "grade": false,
     "grade_id": "cell-66a93b3818d23088",
     "locked": false,
     "schema_version": 3,
     "solution": true,
     "task": false
    }
   },
   "outputs": [],
   "source": [
    "I_f = -1\n",
    "\n",
    "# YOUR CODE HERE\n",
    "raise NotImplementedError()"
   ]
  },
  {
   "cell_type": "markdown",
   "id": "9570b82a-0627-4fa8-8a5f-a2d916d3b8b3",
   "metadata": {
    "deletable": false,
    "editable": false,
    "nbgrader": {
     "cell_type": "markdown",
     "checksum": "7111540313e1e5031fddb3d83d346a4d",
     "grade": false,
     "grade_id": "cell-8dd6436372d2524c",
     "locked": true,
     "schema_version": 3,
     "solution": false,
     "task": false
    }
   },
   "source": [
    "<hr style=\"clear:both\">\n",
    "\n",
    "### Simple linear systems"
   ]
  },
  {
   "cell_type": "markdown",
   "id": "657ad343-b638-439e-b60f-5aaf4ec4c751",
   "metadata": {
    "deletable": false,
    "editable": false,
    "nbgrader": {
     "cell_type": "markdown",
     "checksum": "e08065e30bfed7753b3fbaa4a9906bac",
     "grade": false,
     "grade_id": "cell-f9b1603e57818fd9",
     "locked": true,
     "schema_version": 3,
     "solution": false,
     "task": false
    }
   },
   "source": [
    "Consider the following two linear systems:\n",
    "\n",
    "$$\n",
    "  A\\mathbf{x} = \\mathbf{b}_1, \\qquad \\text{and} \\qquad\n",
    "  A= \\begin{pmatrix}\n",
    "          2 & 4 & 8 \\\\\n",
    "          1 & 1 & 4 \\\\\n",
    "          3 & 6 & 7\n",
    "        \\end{pmatrix}, \\quad\n",
    "  \\mathbf{b}_1 = \\begin{pmatrix} 6 \\\\ 5 \\\\ 4 \\end{pmatrix},\n",
    "$$\n",
    "\n",
    "and\n",
    "\n",
    "$$\n",
    "  B\\mathbf{x} = \\mathbf{b}_2, \\qquad \\text{and} \\qquad\n",
    "  B = \\begin{pmatrix}\n",
    "          1 & 1 & 1 & 1 \\\\\n",
    "          2 & 2 & 5 & 3 \\\\\n",
    "          4 & 6 & 8 & 0 \\\\\n",
    "          3 & 3 & 9 & 8\n",
    "        \\end{pmatrix}, \\quad\n",
    "  \\mathbf{b}_2 = \\begin{pmatrix} 1 \\\\ 2 \\\\ 5 \\\\ 0 \\end{pmatrix}.\n",
    "$$"
   ]
  },
  {
   "cell_type": "markdown",
   "id": "00075d0c-d473-4ed4-9720-363e88237938",
   "metadata": {
    "deletable": false,
    "editable": false,
    "nbgrader": {
     "cell_type": "markdown",
     "checksum": "08a2aa1ea11750ff47138e3164e9731d",
     "grade": false,
     "grade_id": "cell-154dc2b4d86a36a2",
     "locked": true,
     "points": 0,
     "schema_version": 3,
     "solution": false,
     "task": true
    }
   },
   "source": [
    "<div class=\"alert alert-success\">\n",
    "    \n",
    "**Exercise 7 (Theoretical):** Compute the LU factorization of the matrix $A$ by hand.\n",
    "</div>\n"
   ]
  },
  {
   "cell_type": "markdown",
   "id": "7e268c1c-dae5-4d39-9c23-941c8a33c63b",
   "metadata": {
    "deletable": false,
    "editable": false,
    "nbgrader": {
     "cell_type": "markdown",
     "checksum": "53053456d78bd20c253df8074dc089e4",
     "grade": false,
     "grade_id": "cell-1476ce4bb885e501",
     "locked": true,
     "points": 0,
     "schema_version": 3,
     "solution": false,
     "task": true
    }
   },
   "source": [
    "<div class=\"alert alert-success\">\n",
    "    \n",
    "**Exercise 8 (Theoretical):** Solve the linear system $A \\mathbf{x} = \\mathbf{b}_1$ using the factorization found in the previous exercise.\n",
    "</div>\n"
   ]
  },
  {
   "cell_type": "markdown",
   "id": "5ce2f924-046c-489c-99b5-ded8695724e0",
   "metadata": {
    "deletable": false,
    "editable": false,
    "nbgrader": {
     "cell_type": "markdown",
     "checksum": "dd4ee25bd0dd915ae7524de4860ed81f",
     "grade": false,
     "grade_id": "cell-36779657d8405cb4",
     "locked": true,
     "points": 0,
     "schema_version": 3,
     "solution": false,
     "task": true
    }
   },
   "source": [
    "<div class=\"alert alert-success\">\n",
    "    \n",
    "**Exercise 9 (Theoretical):** Check that the algorithm of the LU factorization without pivoting for the matrix $B$ cannot be executed until the end.\n",
    "</div>\n",
    "\n"
   ]
  },
  {
   "cell_type": "markdown",
   "id": "df7d1bd3-86a9-4453-a9fa-20398b1ef612",
   "metadata": {
    "deletable": false,
    "editable": false,
    "nbgrader": {
     "cell_type": "markdown",
     "checksum": "52071fdc7e375fb3d77e8a2b5b3f6f6c",
     "grade": false,
     "grade_id": "cell-2873ba12e2e9e403",
     "locked": true,
     "points": 0,
     "schema_version": 3,
     "solution": false,
     "task": true
    }
   },
   "source": [
    "<div class=\"alert alert-success\">\n",
    "    \n",
    "**Exercise 10 (Theoretical):** Find a permutation matrix $P$ by rows such as $PB$ is factorisable, then calculate the LU factorization of $PB$.\n",
    "</div>\n",
    "\n"
   ]
  },
  {
   "cell_type": "markdown",
   "id": "74dad69b-94b2-4518-b152-2283b956db73",
   "metadata": {
    "deletable": false,
    "editable": false,
    "nbgrader": {
     "cell_type": "markdown",
     "checksum": "383b976867d72471f47994fcee492225",
     "grade": false,
     "grade_id": "cell-ed373bec4bb36d20",
     "locked": true,
     "points": 0,
     "schema_version": 3,
     "solution": false,
     "task": true
    }
   },
   "source": [
    "<div class=\"alert alert-success\">\n",
    "    \n",
    "**Exercise 11 (Theoretical):** Solve the linear system $B\\mathbf{x} = \\mathbf{b}_2$ using the factorization previously found.\n",
    "</div>\n"
   ]
  },
  {
   "cell_type": "markdown",
   "id": "1dcf98ab-db0c-4aea-90eb-45e1442a7e44",
   "metadata": {
    "deletable": false,
    "editable": false,
    "nbgrader": {
     "cell_type": "markdown",
     "checksum": "df6af59f0197ce7533858f4b071df333",
     "grade": false,
     "grade_id": "cell-218f10fd8ec74a7d",
     "locked": true,
     "points": 0,
     "schema_version": 3,
     "solution": false,
     "task": true
    }
   },
   "source": [
    "<div class=\"alert alert-success\">\n",
    "    \n",
    "**Exercise 12 (Theoretical):** Compute the determinant of the matrix $B$ using its LU factorization.\n",
    "\n",
    "*Hint:* We know that\n",
    "$$\n",
    "\\text{det}(B)=\\text{det}(P^{-1}LU)=\\displaystyle\\frac{\\text{det}(L) \\text{det}(U)}{\\text{det}(P)}.\n",
    "$$\n",
    "</div>\n"
   ]
  },
  {
   "cell_type": "markdown",
   "id": "8b939575-e26d-4830-b7bb-5fb125133371",
   "metadata": {
    "deletable": false,
    "editable": false,
    "nbgrader": {
     "cell_type": "markdown",
     "checksum": "05462597aa89b9dc9beffb7d6f0e8543",
     "grade": false,
     "grade_id": "cell-b9890a011292fd00",
     "locked": true,
     "schema_version": 3,
     "solution": false,
     "task": false
    }
   },
   "source": [
    "<hr style=\"clear:both\">\n",
    "\n",
    "### LU factorization for dense and sparse matrix "
   ]
  },
  {
   "cell_type": "markdown",
   "id": "39968a62-6e48-4573-8dd5-c51407c85a61",
   "metadata": {
    "deletable": false,
    "editable": false,
    "nbgrader": {
     "cell_type": "markdown",
     "checksum": "7a25bca7b1072e897f46ecc76e6587bb",
     "grade": false,
     "grade_id": "cell-ac16c788bf6da4d7",
     "locked": true,
     "schema_version": 3,
     "solution": false,
     "task": false
    }
   },
   "source": [
    "<div class=\"alert alert-success\">\n",
    "    \n",
    "**Exercise 13:** Complete the function `binomial_matrix` which creates a matrix $A \\in \\mathbb{R}^{m \\times m}$ whose entries $a_{ij}$ for $i,j = 1, 2, \\dots, m$ independently follow a binomial distribution with $n \\in \\mathbb{N}$ trials and a success probability of $p \\in [0, 1]$. Use your implementation to create the $(n=10, p=0.5)$-binomial matrix $A \\in \\mathbb{R}^{400 \\times 400}$. Visualize its non-zero entries using the function `plt.spy(A)`, which plots the non-zero entries of a matrix in black.\n",
    "\n",
    "*Hint:* The NumPy function `np.random.binomial(n, p, (m, m))` outputs an $m \\times m$ NumPy array whose entries are independently $(n, p)$-binomial distributed. The seed of NumPy's random number generator is fixed to `seed=0`, such that you will always get the same random matrix for the same parameters.\n",
    "</div>"
   ]
  },
  {
   "cell_type": "code",
   "execution_count": null,
   "id": "df5313d5-8e0d-440e-9ae3-a6d9cd8df1ae",
   "metadata": {
    "deletable": false,
    "nbgrader": {
     "cell_type": "code",
     "checksum": "5062ca36f86d5ff2adc26abd3f48aaec",
     "grade": false,
     "grade_id": "cell-69ad0d0c4384592d",
     "locked": false,
     "schema_version": 3,
     "solution": true,
     "task": false
    }
   },
   "outputs": [],
   "source": [
    "def binomial_matrix(m, n, p, seed=0):\n",
    "    np.random.seed(seed)\n",
    "    # YOUR CODE HERE\n",
    "    raise NotImplementedError()\n",
    "\n",
    "# YOUR CODE HERE\n",
    "raise NotImplementedError()"
   ]
  },
  {
   "cell_type": "markdown",
   "id": "763123bf-a257-40ee-b8ae-2f13b75a4dfc",
   "metadata": {
    "deletable": false,
    "editable": false,
    "nbgrader": {
     "cell_type": "markdown",
     "checksum": "a5ff7b8b2d9b2cc4f0be76721ed2ddb3",
     "grade": false,
     "grade_id": "cell-bce9533bc6dcdf29",
     "locked": true,
     "schema_version": 3,
     "solution": false,
     "task": false
    }
   },
   "source": [
    "<div class=\"alert alert-success\">\n",
    "    \n",
    "**Exercise 14:** Compute the LU factorization using the function `sp.linalg.lu`, which takes as an input a matrix $A$ and returns the three matrices $P$, $L$, and $U$ which characterize the LU factorization of $A$. Visualize the non-zero entries of $L$, $U$, and $P$ (again use `plt.spy`). Have row-permutations been performed? How do the number of non-zero elements in $L$ and $U$ compare with what we saw for $A$?\n",
    "</div>"
   ]
  },
  {
   "cell_type": "code",
   "execution_count": null,
   "id": "6a6553fe-6ebf-4bea-834d-82153c6b9b19",
   "metadata": {
    "deletable": false,
    "nbgrader": {
     "cell_type": "code",
     "checksum": "890609cf10e8c128caa9e00acdfa5122",
     "grade": false,
     "grade_id": "cell-467b7459d7bcdec0",
     "locked": false,
     "schema_version": 3,
     "solution": true,
     "task": false
    }
   },
   "outputs": [],
   "source": [
    "# YOUR CODE HERE\n",
    "raise NotImplementedError()"
   ]
  },
  {
   "cell_type": "markdown",
   "id": "922dfed6-6dce-4380-a5a1-17fc6abe22bf",
   "metadata": {
    "deletable": false,
    "editable": false,
    "nbgrader": {
     "cell_type": "markdown",
     "checksum": "a01e0450474f9a26621dd8a277aff2c7",
     "grade": false,
     "grade_id": "cell-c63d4ea99b0a801a",
     "locked": true,
     "schema_version": 3,
     "solution": false,
     "task": false
    }
   },
   "source": [
    "<div class=\"alert alert-success\">\n",
    "    \n",
    "**Exercise 15:** For the binomial matrix $A$ with dimensions $m=20^2, 21^2,\\ldots,35^2$, compute the number of non-zero entries $\\text{nnz}(A)$ in $A$ and compare it to the number of non-zero elements $\\text{nnz}(L) + \\text{nnz}(U)$ in its LU factors. Plot the results in a logarithmic plot, and add the number of entries $m^2$ of the full matrix for comparison.\n",
    "\n",
    "*Hint:* Use `np.count_nonzero` to count the number of non-zero entries in a NumPy array.\n",
    "</div>"
   ]
  },
  {
   "cell_type": "code",
   "execution_count": null,
   "id": "4940ddac-5a90-406f-af83-cc4838e3c21a",
   "metadata": {
    "deletable": false,
    "nbgrader": {
     "cell_type": "code",
     "checksum": "163e959f5d0589a5b94d6619d136bfd1",
     "grade": false,
     "grade_id": "cell-b98a075242a67026",
     "locked": false,
     "schema_version": 3,
     "solution": true,
     "task": false
    }
   },
   "outputs": [],
   "source": [
    "# YOUR CODE HERE\n",
    "raise NotImplementedError()"
   ]
  },
  {
   "cell_type": "markdown",
   "id": "e0ca0489-205d-42c3-8d69-e611983d4418",
   "metadata": {
    "deletable": false,
    "editable": false,
    "nbgrader": {
     "cell_type": "markdown",
     "checksum": "146d7f2b97ffbdc3e8c53dacc0526077",
     "grade": false,
     "grade_id": "cell-f7e107d62b3543c1",
     "locked": true,
     "schema_version": 3,
     "solution": false,
     "task": false
    }
   },
   "source": [
    "Below, we provide you with a function which computes the runtime of the LU factorization algorithm `sp.linalg.lu` for any matrix `A` by executing the function on the matrix multiple times, and averaging the individual runtimes. The number of repetitions of the function execution can be controlled with the argument `repeats`."
   ]
  },
  {
   "cell_type": "code",
   "execution_count": null,
   "id": "8e63d461-0f18-4ba9-8364-c618381e4497",
   "metadata": {
    "deletable": false,
    "editable": false,
    "nbgrader": {
     "cell_type": "code",
     "checksum": "b6adcb85fecb2ff5c4ede3788b77861f",
     "grade": false,
     "grade_id": "cell-55565969b2825125",
     "locked": true,
     "schema_version": 3,
     "solution": false,
     "task": false
    }
   },
   "outputs": [],
   "source": [
    "def lu_runtime(A, repeats):\n",
    "    t = timeit.timeit(lambda: sp.linalg.lu(A), number=repeats) / repeats\n",
    "    return t"
   ]
  },
  {
   "cell_type": "markdown",
   "id": "573e7b48-6cf8-419f-b0f8-caab7b621375",
   "metadata": {
    "deletable": false,
    "editable": false,
    "nbgrader": {
     "cell_type": "markdown",
     "checksum": "3ea44b258a9911e243f07772f89be1a8",
     "grade": false,
     "grade_id": "cell-79c88eb1fc0ecc84",
     "locked": true,
     "schema_version": 3,
     "solution": false,
     "task": false
    }
   },
   "source": [
    "<div class=\"alert alert-success\">\n",
    "    \n",
    "**Exercise 16:** Measure the approximate runtime for computing the LU factorization of the binomial matrix $A$ of dimensions $m=20^2, 21^2,\\ldots,35^2$. Set `repeats=50` to average over $50$ executions of the algorithm to get a more stable estimate of the true run-time.\n",
    "</div>"
   ]
  },
  {
   "cell_type": "markdown",
   "id": "52d8c27f-fc90-40ac-8011-81db375e5d87",
   "metadata": {
    "deletable": false,
    "editable": false,
    "nbgrader": {
     "cell_type": "markdown",
     "checksum": "6200e673dc416a679dc3e7734ba6dc51",
     "grade": false,
     "grade_id": "cell-4de1828a62d21c86",
     "locked": true,
     "schema_version": 3,
     "solution": false,
     "task": false
    }
   },
   "source": [
    "<div class=\"alert alert-info\">\n",
    "\n",
    "**Note:** It may happen that the runtime of the first $m$ is significantly higher. This is due to the caching which Python performes in the background. If it bothers you, you may simply ignore the first $m$.\n",
    "</div>"
   ]
  },
  {
   "cell_type": "code",
   "execution_count": null,
   "id": "a2a3613a-ed38-43cc-9c6f-8e4c44dae5ff",
   "metadata": {
    "deletable": false,
    "nbgrader": {
     "cell_type": "code",
     "checksum": "05ecb3869e034e3c6df0c1c8d490320d",
     "grade": false,
     "grade_id": "cell-af07e1ccd799913c",
     "locked": false,
     "schema_version": 3,
     "solution": true,
     "task": false
    }
   },
   "outputs": [],
   "source": [
    "# YOUR CODE HERE\n",
    "raise NotImplementedError()"
   ]
  },
  {
   "cell_type": "markdown",
   "id": "e15ac6d0-d7bc-4f27-aa92-040f7ebf385d",
   "metadata": {
    "deletable": false,
    "editable": false,
    "nbgrader": {
     "cell_type": "markdown",
     "checksum": "6b4fd87ae6e5b4ef6b2efa5ef73c35a2",
     "grade": false,
     "grade_id": "cell-c06bf4068c06f6f7",
     "locked": true,
     "schema_version": 3,
     "solution": false,
     "task": false
    }
   },
   "source": [
    "The following function `laplacian_matrix` generates a Laplacian matrix $B \\in \\mathbb{R}^{m \\times m}$."
   ]
  },
  {
   "cell_type": "code",
   "execution_count": null,
   "id": "70c3dde2-faaf-4997-a8f9-d71ef4053112",
   "metadata": {
    "deletable": false,
    "editable": false,
    "nbgrader": {
     "cell_type": "code",
     "checksum": "b56b72c98840f0e673bbadfdf5ff64fd",
     "grade": false,
     "grade_id": "cell-768b7fce1ea61dab",
     "locked": true,
     "schema_version": 3,
     "solution": false,
     "task": false
    }
   },
   "outputs": [],
   "source": [
    "def laplacian_matrix(m):\n",
    "    n = int(np.sqrt(m))\n",
    "    d = np.ones(n ** 2)\n",
    "    mat = sp.sparse.spdiags([d, -2 * d, d], [-1, 0, 1], n, n)\n",
    "    I = sp.sparse.eye(n)\n",
    "    A = sp.sparse.kron(I, mat) + sp.sparse.kron(mat, I) \n",
    "    return A.todense()"
   ]
  },
  {
   "cell_type": "markdown",
   "id": "6fbe5b13-2588-42e5-8d5b-65ed3ea8c1e6",
   "metadata": {
    "deletable": false,
    "editable": false,
    "nbgrader": {
     "cell_type": "markdown",
     "checksum": "ef459f0c3479903f54dc411436cf133b",
     "grade": false,
     "grade_id": "cell-0a38a19bf51d0502",
     "locked": true,
     "schema_version": 3,
     "solution": false,
     "task": false
    }
   },
   "source": [
    "<div class=\"alert alert-success\">\n",
    "    \n",
    "**Exercise 17:** Repeat all of the above exercises in this section for the Laplacian matrix $B$ with the same dimensions. Compare to the results you've obtained for the binomial matrix $A$.\n",
    "</div>"
   ]
  },
  {
   "cell_type": "code",
   "execution_count": null,
   "id": "b0d60b28-9b75-472c-88ab-d191214fbaec",
   "metadata": {
    "deletable": false,
    "nbgrader": {
     "cell_type": "code",
     "checksum": "847f6bcef112b161489dace5ac88448d",
     "grade": false,
     "grade_id": "cell-84676c464c1bde58",
     "locked": false,
     "schema_version": 3,
     "solution": true,
     "task": false
    }
   },
   "outputs": [],
   "source": [
    "# YOUR CODE HERE\n",
    "raise NotImplementedError()"
   ]
  },
  {
   "cell_type": "markdown",
   "id": "873f944d-058e-4558-bf92-322812ac853b",
   "metadata": {
    "deletable": false,
    "editable": false,
    "nbgrader": {
     "cell_type": "markdown",
     "checksum": "12affb9d58ddadf9409dcf667660d190",
     "grade": false,
     "grade_id": "cell-fb1f373518edeb28",
     "locked": true,
     "schema_version": 3,
     "solution": false,
     "task": false
    }
   },
   "source": [
    "<hr style=\"clear:both\">\n",
    "\n",
    "## The end\n",
    "\n",
    "Congratulations! This is the end of the eighth exercise notebook."
   ]
  }
 ],
 "metadata": {
  "kernelspec": {
   "display_name": "Python 3 (ipykernel)",
   "language": "python",
   "name": "python3"
  },
  "language_info": {
   "codemirror_mode": {
    "name": "ipython",
    "version": 3
   },
   "file_extension": ".py",
   "mimetype": "text/x-python",
   "name": "python",
   "nbconvert_exporter": "python",
   "pygments_lexer": "ipython3",
   "version": "3.12.3"
  }
 },
 "nbformat": 4,
 "nbformat_minor": 5
}
